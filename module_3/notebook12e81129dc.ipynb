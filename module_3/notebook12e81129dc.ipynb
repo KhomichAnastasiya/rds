{
 "cells": [
  {
   "cell_type": "markdown",
   "metadata": {
    "papermill": {
     "duration": 0.123967,
     "end_time": "2020-10-03T02:47:23.479224",
     "exception": false,
     "start_time": "2020-10-03T02:47:23.355257",
     "status": "completed"
    },
    "tags": []
   },
   "source": [
    "![](https://www.pata.org/wp-content/uploads/2014/09/TripAdvisor_Logo-300x119.png)\n",
    "# Predict TripAdvisor Rating\n",
    "## В этом соревновании нам предстоит предсказать рейтинг ресторана в TripAdvisor\n",
    "**По ходу задачи:**\n",
    "* Прокачаем работу с pandas\n",
    "* Научимся работать с Kaggle Notebooks\n",
    "* Поймем как делать предобработку различных данных\n",
    "* Научимся работать с пропущенными данными (Nan)\n",
    "* Познакомимся с различными видами кодирования признаков\n",
    "* Немного попробуем [Feature Engineering](https://ru.wikipedia.org/wiki/Конструирование_признаков) (генерировать новые признаки)\n",
    "* И совсем немного затронем ML\n",
    "* И многое другое...   \n",
    "\n"
   ]
  },
  {
   "cell_type": "markdown",
   "metadata": {
    "papermill": {
     "duration": 0.12002,
     "end_time": "2020-10-03T02:47:23.720638",
     "exception": false,
     "start_time": "2020-10-03T02:47:23.600618",
     "status": "completed"
    },
    "tags": []
   },
   "source": [
    "# import"
   ]
  },
  {
   "cell_type": "code",
   "execution_count": 1,
   "metadata": {
    "_cell_guid": "b1076dfc-b9ad-4769-8c92-a6c4dae69d19",
    "_uuid": "8f2839f25d086af736a60e9eeb907d3b93b6e0e5",
    "execution": {
     "iopub.execute_input": "2020-10-03T02:47:23.975878Z",
     "iopub.status.busy": "2020-10-03T02:47:23.975079Z",
     "iopub.status.idle": "2020-10-03T02:47:25.259685Z",
     "shell.execute_reply": "2020-10-03T02:47:25.258787Z"
    },
    "papermill": {
     "duration": 1.418963,
     "end_time": "2020-10-03T02:47:25.259845",
     "exception": false,
     "start_time": "2020-10-03T02:47:23.840882",
     "status": "completed"
    },
    "tags": []
   },
   "outputs": [
    {
     "name": "stdout",
     "output_type": "stream",
     "text": [
      "/kaggle/input/sf-dst-restaurant-rating/main_task.csv\n",
      "/kaggle/input/sf-dst-restaurant-rating/kaggle_task.csv\n",
      "/kaggle/input/sf-dst-restaurant-rating/sample_submission.csv\n"
     ]
    }
   ],
   "source": [
    "# This Python 3 environment comes with many helpful analytics libraries installed\n",
    "# It is defined by the kaggle/python docker image: https://github.com/kaggle/docker-python\n",
    "# For example, here's several helpful packages to load in \n",
    "\n",
    "import numpy as np # linear algebra\n",
    "import pandas as pd # data processing, CSV file I/O (e.g. pd.read_csv)\n",
    "import datetime as dt\n",
    "import re\n",
    "\n",
    "import matplotlib.pyplot as plt\n",
    "import seaborn as sns \n",
    "%matplotlib inline\n",
    "\n",
    "# Загружаем специальный удобный инструмент для разделения датасета:\n",
    "from sklearn.model_selection import train_test_split\n",
    "\n",
    "# Input data files are available in the \"../input/\" directory.\n",
    "# For example, running this (by clicking run or pressing Shift+Enter) will list all files under the input directory\n",
    "\n",
    "import os\n",
    "for dirname, _, filenames in os.walk('/kaggle/input'):\n",
    "    for filename in filenames:\n",
    "        print(os.path.join(dirname, filename))\n",
    "\n",
    "# Any results you write to the current directory are saved as output."
   ]
  },
  {
   "cell_type": "code",
   "execution_count": 2,
   "metadata": {
    "execution": {
     "iopub.execute_input": "2020-10-03T02:47:25.511293Z",
     "iopub.status.busy": "2020-10-03T02:47:25.510475Z",
     "iopub.status.idle": "2020-10-03T02:47:25.514208Z",
     "shell.execute_reply": "2020-10-03T02:47:25.513611Z"
    },
    "papermill": {
     "duration": 0.13029,
     "end_time": "2020-10-03T02:47:25.514328",
     "exception": false,
     "start_time": "2020-10-03T02:47:25.384038",
     "status": "completed"
    },
    "tags": []
   },
   "outputs": [],
   "source": [
    "# всегда фиксируйте RANDOM_SEED, чтобы ваши эксперименты были воспроизводимы!\n",
    "RANDOM_SEED = 42"
   ]
  },
  {
   "cell_type": "code",
   "execution_count": 3,
   "metadata": {
    "execution": {
     "iopub.execute_input": "2020-10-03T02:47:25.764426Z",
     "iopub.status.busy": "2020-10-03T02:47:25.763593Z",
     "iopub.status.idle": "2020-10-03T02:47:28.696140Z",
     "shell.execute_reply": "2020-10-03T02:47:28.695247Z"
    },
    "papermill": {
     "duration": 3.059582,
     "end_time": "2020-10-03T02:47:28.696278",
     "exception": false,
     "start_time": "2020-10-03T02:47:25.636696",
     "status": "completed"
    },
    "tags": []
   },
   "outputs": [],
   "source": [
    "# зафиксируем версию пакетов, чтобы эксперименты были воспроизводимы:\n",
    "!pip freeze > requirements.txt"
   ]
  },
  {
   "cell_type": "markdown",
   "metadata": {
    "papermill": {
     "duration": 0.131062,
     "end_time": "2020-10-03T02:47:28.955735",
     "exception": false,
     "start_time": "2020-10-03T02:47:28.824673",
     "status": "completed"
    },
    "tags": []
   },
   "source": [
    "# DATA"
   ]
  },
  {
   "cell_type": "code",
   "execution_count": 4,
   "metadata": {
    "_cell_guid": "79c7e3d0-c299-4dcb-8224-4455121ee9b0",
    "_uuid": "d629ff2d2480ee46fbb7e2d37f6b5fab8052498a",
    "execution": {
     "iopub.execute_input": "2020-10-03T02:47:29.221633Z",
     "iopub.status.busy": "2020-10-03T02:47:29.220821Z",
     "iopub.status.idle": "2020-10-03T02:47:29.530307Z",
     "shell.execute_reply": "2020-10-03T02:47:29.529469Z"
    },
    "papermill": {
     "duration": 0.448437,
     "end_time": "2020-10-03T02:47:29.530444",
     "exception": false,
     "start_time": "2020-10-03T02:47:29.082007",
     "status": "completed"
    },
    "tags": []
   },
   "outputs": [],
   "source": [
    "DATA_DIR = '/kaggle/input/sf-dst-restaurant-rating/'\n",
    "df_train = pd.read_csv(DATA_DIR+'/main_task.csv')\n",
    "df_test = pd.read_csv(DATA_DIR+'kaggle_task.csv')\n",
    "sample_submission = pd.read_csv(DATA_DIR+'/sample_submission.csv')\n"
   ]
  },
  {
   "cell_type": "code",
   "execution_count": 5,
   "metadata": {
    "execution": {
     "iopub.execute_input": "2020-10-03T02:47:29.820442Z",
     "iopub.status.busy": "2020-10-03T02:47:29.790149Z",
     "iopub.status.idle": "2020-10-03T02:47:29.842937Z",
     "shell.execute_reply": "2020-10-03T02:47:29.843557Z"
    },
    "papermill": {
     "duration": 0.187971,
     "end_time": "2020-10-03T02:47:29.843721",
     "exception": false,
     "start_time": "2020-10-03T02:47:29.655750",
     "status": "completed"
    },
    "tags": []
   },
   "outputs": [
    {
     "name": "stdout",
     "output_type": "stream",
     "text": [
      "<class 'pandas.core.frame.DataFrame'>\n",
      "RangeIndex: 40000 entries, 0 to 39999\n",
      "Data columns (total 10 columns):\n",
      " #   Column             Non-Null Count  Dtype  \n",
      "---  ------             --------------  -----  \n",
      " 0   Restaurant_id      40000 non-null  object \n",
      " 1   City               40000 non-null  object \n",
      " 2   Cuisine Style      30717 non-null  object \n",
      " 3   Ranking            40000 non-null  float64\n",
      " 4   Rating             40000 non-null  float64\n",
      " 5   Price Range        26114 non-null  object \n",
      " 6   Number of Reviews  37457 non-null  float64\n",
      " 7   Reviews            40000 non-null  object \n",
      " 8   URL_TA             40000 non-null  object \n",
      " 9   ID_TA              40000 non-null  object \n",
      "dtypes: float64(3), object(7)\n",
      "memory usage: 3.1+ MB\n"
     ]
    }
   ],
   "source": [
    "df_train.info()"
   ]
  },
  {
   "cell_type": "code",
   "execution_count": 6,
   "metadata": {
    "execution": {
     "iopub.execute_input": "2020-10-03T02:47:30.110884Z",
     "iopub.status.busy": "2020-10-03T02:47:30.110054Z",
     "iopub.status.idle": "2020-10-03T02:47:30.124672Z",
     "shell.execute_reply": "2020-10-03T02:47:30.125257Z"
    },
    "papermill": {
     "duration": 0.155109,
     "end_time": "2020-10-03T02:47:30.125419",
     "exception": false,
     "start_time": "2020-10-03T02:47:29.970310",
     "status": "completed"
    },
    "tags": []
   },
   "outputs": [
    {
     "data": {
      "text/html": [
       "<div>\n",
       "<style scoped>\n",
       "    .dataframe tbody tr th:only-of-type {\n",
       "        vertical-align: middle;\n",
       "    }\n",
       "\n",
       "    .dataframe tbody tr th {\n",
       "        vertical-align: top;\n",
       "    }\n",
       "\n",
       "    .dataframe thead th {\n",
       "        text-align: right;\n",
       "    }\n",
       "</style>\n",
       "<table border=\"1\" class=\"dataframe\">\n",
       "  <thead>\n",
       "    <tr style=\"text-align: right;\">\n",
       "      <th></th>\n",
       "      <th>Restaurant_id</th>\n",
       "      <th>City</th>\n",
       "      <th>Cuisine Style</th>\n",
       "      <th>Ranking</th>\n",
       "      <th>Rating</th>\n",
       "      <th>Price Range</th>\n",
       "      <th>Number of Reviews</th>\n",
       "      <th>Reviews</th>\n",
       "      <th>URL_TA</th>\n",
       "      <th>ID_TA</th>\n",
       "    </tr>\n",
       "  </thead>\n",
       "  <tbody>\n",
       "    <tr>\n",
       "      <th>0</th>\n",
       "      <td>id_5569</td>\n",
       "      <td>Paris</td>\n",
       "      <td>['European', 'French', 'International']</td>\n",
       "      <td>5570.0</td>\n",
       "      <td>3.5</td>\n",
       "      <td>$$ - $$$</td>\n",
       "      <td>194.0</td>\n",
       "      <td>[['Good food at your doorstep', 'A good hotel ...</td>\n",
       "      <td>/Restaurant_Review-g187147-d1912643-Reviews-R_...</td>\n",
       "      <td>d1912643</td>\n",
       "    </tr>\n",
       "    <tr>\n",
       "      <th>1</th>\n",
       "      <td>id_1535</td>\n",
       "      <td>Stockholm</td>\n",
       "      <td>NaN</td>\n",
       "      <td>1537.0</td>\n",
       "      <td>4.0</td>\n",
       "      <td>NaN</td>\n",
       "      <td>10.0</td>\n",
       "      <td>[['Unique cuisine', 'Delicious Nepalese food']...</td>\n",
       "      <td>/Restaurant_Review-g189852-d7992032-Reviews-Bu...</td>\n",
       "      <td>d7992032</td>\n",
       "    </tr>\n",
       "    <tr>\n",
       "      <th>2</th>\n",
       "      <td>id_352</td>\n",
       "      <td>London</td>\n",
       "      <td>['Japanese', 'Sushi', 'Asian', 'Grill', 'Veget...</td>\n",
       "      <td>353.0</td>\n",
       "      <td>4.5</td>\n",
       "      <td>$$$$</td>\n",
       "      <td>688.0</td>\n",
       "      <td>[['Catch up with friends', 'Not exceptional'],...</td>\n",
       "      <td>/Restaurant_Review-g186338-d8632781-Reviews-RO...</td>\n",
       "      <td>d8632781</td>\n",
       "    </tr>\n",
       "    <tr>\n",
       "      <th>3</th>\n",
       "      <td>id_3456</td>\n",
       "      <td>Berlin</td>\n",
       "      <td>NaN</td>\n",
       "      <td>3458.0</td>\n",
       "      <td>5.0</td>\n",
       "      <td>NaN</td>\n",
       "      <td>3.0</td>\n",
       "      <td>[[], []]</td>\n",
       "      <td>/Restaurant_Review-g187323-d1358776-Reviews-Es...</td>\n",
       "      <td>d1358776</td>\n",
       "    </tr>\n",
       "    <tr>\n",
       "      <th>4</th>\n",
       "      <td>id_615</td>\n",
       "      <td>Munich</td>\n",
       "      <td>['German', 'Central European', 'Vegetarian Fri...</td>\n",
       "      <td>621.0</td>\n",
       "      <td>4.0</td>\n",
       "      <td>$$ - $$$</td>\n",
       "      <td>84.0</td>\n",
       "      <td>[['Best place to try a Bavarian food', 'Nice b...</td>\n",
       "      <td>/Restaurant_Review-g187309-d6864963-Reviews-Au...</td>\n",
       "      <td>d6864963</td>\n",
       "    </tr>\n",
       "  </tbody>\n",
       "</table>\n",
       "</div>"
      ],
      "text/plain": [
       "  Restaurant_id       City                                      Cuisine Style  \\\n",
       "0       id_5569      Paris            ['European', 'French', 'International']   \n",
       "1       id_1535  Stockholm                                                NaN   \n",
       "2        id_352     London  ['Japanese', 'Sushi', 'Asian', 'Grill', 'Veget...   \n",
       "3       id_3456     Berlin                                                NaN   \n",
       "4        id_615     Munich  ['German', 'Central European', 'Vegetarian Fri...   \n",
       "\n",
       "   Ranking  Rating Price Range  Number of Reviews  \\\n",
       "0   5570.0     3.5    $$ - $$$              194.0   \n",
       "1   1537.0     4.0         NaN               10.0   \n",
       "2    353.0     4.5        $$$$              688.0   \n",
       "3   3458.0     5.0         NaN                3.0   \n",
       "4    621.0     4.0    $$ - $$$               84.0   \n",
       "\n",
       "                                             Reviews  \\\n",
       "0  [['Good food at your doorstep', 'A good hotel ...   \n",
       "1  [['Unique cuisine', 'Delicious Nepalese food']...   \n",
       "2  [['Catch up with friends', 'Not exceptional'],...   \n",
       "3                                           [[], []]   \n",
       "4  [['Best place to try a Bavarian food', 'Nice b...   \n",
       "\n",
       "                                              URL_TA     ID_TA  \n",
       "0  /Restaurant_Review-g187147-d1912643-Reviews-R_...  d1912643  \n",
       "1  /Restaurant_Review-g189852-d7992032-Reviews-Bu...  d7992032  \n",
       "2  /Restaurant_Review-g186338-d8632781-Reviews-RO...  d8632781  \n",
       "3  /Restaurant_Review-g187323-d1358776-Reviews-Es...  d1358776  \n",
       "4  /Restaurant_Review-g187309-d6864963-Reviews-Au...  d6864963  "
      ]
     },
     "execution_count": 6,
     "metadata": {},
     "output_type": "execute_result"
    }
   ],
   "source": [
    "df_train.head(5)"
   ]
  },
  {
   "cell_type": "code",
   "execution_count": 7,
   "metadata": {
    "execution": {
     "iopub.execute_input": "2020-10-03T02:47:30.396800Z",
     "iopub.status.busy": "2020-10-03T02:47:30.395606Z",
     "iopub.status.idle": "2020-10-03T02:47:30.410274Z",
     "shell.execute_reply": "2020-10-03T02:47:30.411182Z"
    },
    "papermill": {
     "duration": 0.157566,
     "end_time": "2020-10-03T02:47:30.411394",
     "exception": false,
     "start_time": "2020-10-03T02:47:30.253828",
     "status": "completed"
    },
    "tags": []
   },
   "outputs": [
    {
     "name": "stdout",
     "output_type": "stream",
     "text": [
      "<class 'pandas.core.frame.DataFrame'>\n",
      "RangeIndex: 10000 entries, 0 to 9999\n",
      "Data columns (total 9 columns):\n",
      " #   Column             Non-Null Count  Dtype  \n",
      "---  ------             --------------  -----  \n",
      " 0   Restaurant_id      10000 non-null  object \n",
      " 1   City               10000 non-null  object \n",
      " 2   Cuisine Style      7693 non-null   object \n",
      " 3   Ranking            10000 non-null  float64\n",
      " 4   Price Range        6525 non-null   object \n",
      " 5   Number of Reviews  9343 non-null   float64\n",
      " 6   Reviews            9998 non-null   object \n",
      " 7   URL_TA             10000 non-null  object \n",
      " 8   ID_TA              10000 non-null  object \n",
      "dtypes: float64(2), object(7)\n",
      "memory usage: 703.2+ KB\n"
     ]
    }
   ],
   "source": [
    "df_test.info()"
   ]
  },
  {
   "cell_type": "code",
   "execution_count": 8,
   "metadata": {
    "execution": {
     "iopub.execute_input": "2020-10-03T02:47:30.687089Z",
     "iopub.status.busy": "2020-10-03T02:47:30.686085Z",
     "iopub.status.idle": "2020-10-03T02:47:30.691143Z",
     "shell.execute_reply": "2020-10-03T02:47:30.690510Z"
    },
    "papermill": {
     "duration": 0.151876,
     "end_time": "2020-10-03T02:47:30.691276",
     "exception": false,
     "start_time": "2020-10-03T02:47:30.539400",
     "status": "completed"
    },
    "tags": []
   },
   "outputs": [
    {
     "data": {
      "text/html": [
       "<div>\n",
       "<style scoped>\n",
       "    .dataframe tbody tr th:only-of-type {\n",
       "        vertical-align: middle;\n",
       "    }\n",
       "\n",
       "    .dataframe tbody tr th {\n",
       "        vertical-align: top;\n",
       "    }\n",
       "\n",
       "    .dataframe thead th {\n",
       "        text-align: right;\n",
       "    }\n",
       "</style>\n",
       "<table border=\"1\" class=\"dataframe\">\n",
       "  <thead>\n",
       "    <tr style=\"text-align: right;\">\n",
       "      <th></th>\n",
       "      <th>Restaurant_id</th>\n",
       "      <th>City</th>\n",
       "      <th>Cuisine Style</th>\n",
       "      <th>Ranking</th>\n",
       "      <th>Price Range</th>\n",
       "      <th>Number of Reviews</th>\n",
       "      <th>Reviews</th>\n",
       "      <th>URL_TA</th>\n",
       "      <th>ID_TA</th>\n",
       "    </tr>\n",
       "  </thead>\n",
       "  <tbody>\n",
       "    <tr>\n",
       "      <th>0</th>\n",
       "      <td>id_0</td>\n",
       "      <td>Paris</td>\n",
       "      <td>['Bar', 'Pub']</td>\n",
       "      <td>12963.0</td>\n",
       "      <td>$$ - $$$</td>\n",
       "      <td>4.0</td>\n",
       "      <td>[[], []]</td>\n",
       "      <td>/Restaurant_Review-g187147-d10746918-Reviews-L...</td>\n",
       "      <td>d10746918</td>\n",
       "    </tr>\n",
       "    <tr>\n",
       "      <th>1</th>\n",
       "      <td>id_1</td>\n",
       "      <td>Helsinki</td>\n",
       "      <td>['European', 'Scandinavian', 'Gluten Free Opti...</td>\n",
       "      <td>106.0</td>\n",
       "      <td>$$ - $$$</td>\n",
       "      <td>97.0</td>\n",
       "      <td>[['Very good reviews!', 'Fine dining in Hakani...</td>\n",
       "      <td>/Restaurant_Review-g189934-d6674944-Reviews-Ra...</td>\n",
       "      <td>d6674944</td>\n",
       "    </tr>\n",
       "    <tr>\n",
       "      <th>2</th>\n",
       "      <td>id_2</td>\n",
       "      <td>Edinburgh</td>\n",
       "      <td>['Vegetarian Friendly']</td>\n",
       "      <td>810.0</td>\n",
       "      <td>$$ - $$$</td>\n",
       "      <td>28.0</td>\n",
       "      <td>[['Better than the Links', 'Ivy Black'], ['12/...</td>\n",
       "      <td>/Restaurant_Review-g186525-d13129638-Reviews-B...</td>\n",
       "      <td>d13129638</td>\n",
       "    </tr>\n",
       "    <tr>\n",
       "      <th>3</th>\n",
       "      <td>id_3</td>\n",
       "      <td>London</td>\n",
       "      <td>['Italian', 'Mediterranean', 'European', 'Vege...</td>\n",
       "      <td>1669.0</td>\n",
       "      <td>$$$$</td>\n",
       "      <td>202.0</td>\n",
       "      <td>[['Most exquisite', 'Delicious and authentic']...</td>\n",
       "      <td>/Restaurant_Review-g186338-d680417-Reviews-Qui...</td>\n",
       "      <td>d680417</td>\n",
       "    </tr>\n",
       "    <tr>\n",
       "      <th>4</th>\n",
       "      <td>id_4</td>\n",
       "      <td>Bratislava</td>\n",
       "      <td>['Italian', 'Mediterranean', 'European', 'Seaf...</td>\n",
       "      <td>37.0</td>\n",
       "      <td>$$$$</td>\n",
       "      <td>162.0</td>\n",
       "      <td>[['Always the best in bratislava', 'Very good ...</td>\n",
       "      <td>/Restaurant_Review-g274924-d1112354-Reviews-Ma...</td>\n",
       "      <td>d1112354</td>\n",
       "    </tr>\n",
       "  </tbody>\n",
       "</table>\n",
       "</div>"
      ],
      "text/plain": [
       "  Restaurant_id        City  \\\n",
       "0          id_0       Paris   \n",
       "1          id_1    Helsinki   \n",
       "2          id_2   Edinburgh   \n",
       "3          id_3      London   \n",
       "4          id_4  Bratislava   \n",
       "\n",
       "                                       Cuisine Style  Ranking Price Range  \\\n",
       "0                                     ['Bar', 'Pub']  12963.0    $$ - $$$   \n",
       "1  ['European', 'Scandinavian', 'Gluten Free Opti...    106.0    $$ - $$$   \n",
       "2                            ['Vegetarian Friendly']    810.0    $$ - $$$   \n",
       "3  ['Italian', 'Mediterranean', 'European', 'Vege...   1669.0        $$$$   \n",
       "4  ['Italian', 'Mediterranean', 'European', 'Seaf...     37.0        $$$$   \n",
       "\n",
       "   Number of Reviews                                            Reviews  \\\n",
       "0                4.0                                           [[], []]   \n",
       "1               97.0  [['Very good reviews!', 'Fine dining in Hakani...   \n",
       "2               28.0  [['Better than the Links', 'Ivy Black'], ['12/...   \n",
       "3              202.0  [['Most exquisite', 'Delicious and authentic']...   \n",
       "4              162.0  [['Always the best in bratislava', 'Very good ...   \n",
       "\n",
       "                                              URL_TA      ID_TA  \n",
       "0  /Restaurant_Review-g187147-d10746918-Reviews-L...  d10746918  \n",
       "1  /Restaurant_Review-g189934-d6674944-Reviews-Ra...   d6674944  \n",
       "2  /Restaurant_Review-g186525-d13129638-Reviews-B...  d13129638  \n",
       "3  /Restaurant_Review-g186338-d680417-Reviews-Qui...    d680417  \n",
       "4  /Restaurant_Review-g274924-d1112354-Reviews-Ma...   d1112354  "
      ]
     },
     "execution_count": 8,
     "metadata": {},
     "output_type": "execute_result"
    }
   ],
   "source": [
    "df_test.head(5)"
   ]
  },
  {
   "cell_type": "code",
   "execution_count": 9,
   "metadata": {
    "execution": {
     "iopub.execute_input": "2020-10-03T02:47:30.961041Z",
     "iopub.status.busy": "2020-10-03T02:47:30.959884Z",
     "iopub.status.idle": "2020-10-03T02:47:30.964440Z",
     "shell.execute_reply": "2020-10-03T02:47:30.965262Z"
    },
    "papermill": {
     "duration": 0.145552,
     "end_time": "2020-10-03T02:47:30.965524",
     "exception": false,
     "start_time": "2020-10-03T02:47:30.819972",
     "status": "completed"
    },
    "tags": []
   },
   "outputs": [
    {
     "data": {
      "text/html": [
       "<div>\n",
       "<style scoped>\n",
       "    .dataframe tbody tr th:only-of-type {\n",
       "        vertical-align: middle;\n",
       "    }\n",
       "\n",
       "    .dataframe tbody tr th {\n",
       "        vertical-align: top;\n",
       "    }\n",
       "\n",
       "    .dataframe thead th {\n",
       "        text-align: right;\n",
       "    }\n",
       "</style>\n",
       "<table border=\"1\" class=\"dataframe\">\n",
       "  <thead>\n",
       "    <tr style=\"text-align: right;\">\n",
       "      <th></th>\n",
       "      <th>Restaurant_id</th>\n",
       "      <th>Rating</th>\n",
       "    </tr>\n",
       "  </thead>\n",
       "  <tbody>\n",
       "    <tr>\n",
       "      <th>0</th>\n",
       "      <td>id_0</td>\n",
       "      <td>2.0</td>\n",
       "    </tr>\n",
       "    <tr>\n",
       "      <th>1</th>\n",
       "      <td>id_1</td>\n",
       "      <td>2.5</td>\n",
       "    </tr>\n",
       "    <tr>\n",
       "      <th>2</th>\n",
       "      <td>id_2</td>\n",
       "      <td>4.0</td>\n",
       "    </tr>\n",
       "    <tr>\n",
       "      <th>3</th>\n",
       "      <td>id_3</td>\n",
       "      <td>1.0</td>\n",
       "    </tr>\n",
       "    <tr>\n",
       "      <th>4</th>\n",
       "      <td>id_4</td>\n",
       "      <td>4.0</td>\n",
       "    </tr>\n",
       "  </tbody>\n",
       "</table>\n",
       "</div>"
      ],
      "text/plain": [
       "  Restaurant_id  Rating\n",
       "0          id_0     2.0\n",
       "1          id_1     2.5\n",
       "2          id_2     4.0\n",
       "3          id_3     1.0\n",
       "4          id_4     4.0"
      ]
     },
     "execution_count": 9,
     "metadata": {},
     "output_type": "execute_result"
    }
   ],
   "source": [
    "sample_submission.head(5)"
   ]
  },
  {
   "cell_type": "code",
   "execution_count": 10,
   "metadata": {
    "execution": {
     "iopub.execute_input": "2020-10-03T02:47:31.247821Z",
     "iopub.status.busy": "2020-10-03T02:47:31.246977Z",
     "iopub.status.idle": "2020-10-03T02:47:31.253102Z",
     "shell.execute_reply": "2020-10-03T02:47:31.253851Z"
    },
    "papermill": {
     "duration": 0.152825,
     "end_time": "2020-10-03T02:47:31.254083",
     "exception": false,
     "start_time": "2020-10-03T02:47:31.101258",
     "status": "completed"
    },
    "tags": []
   },
   "outputs": [
    {
     "name": "stdout",
     "output_type": "stream",
     "text": [
      "<class 'pandas.core.frame.DataFrame'>\n",
      "RangeIndex: 10000 entries, 0 to 9999\n",
      "Data columns (total 2 columns):\n",
      " #   Column         Non-Null Count  Dtype  \n",
      "---  ------         --------------  -----  \n",
      " 0   Restaurant_id  10000 non-null  object \n",
      " 1   Rating         10000 non-null  float64\n",
      "dtypes: float64(1), object(1)\n",
      "memory usage: 156.4+ KB\n"
     ]
    }
   ],
   "source": [
    "sample_submission.info()"
   ]
  },
  {
   "cell_type": "code",
   "execution_count": 11,
   "metadata": {
    "execution": {
     "iopub.execute_input": "2020-10-03T02:47:31.520348Z",
     "iopub.status.busy": "2020-10-03T02:47:31.519592Z",
     "iopub.status.idle": "2020-10-03T02:47:31.555974Z",
     "shell.execute_reply": "2020-10-03T02:47:31.555264Z"
    },
    "papermill": {
     "duration": 0.172689,
     "end_time": "2020-10-03T02:47:31.556104",
     "exception": false,
     "start_time": "2020-10-03T02:47:31.383415",
     "status": "completed"
    },
    "tags": []
   },
   "outputs": [],
   "source": [
    "# ВАЖНО! дря корректной обработки признаков объединяем трейн и тест в один датасет\n",
    "df_train['sample'] = 1 # помечаем где у нас трейн\n",
    "df_test['sample'] = 0 # помечаем где у нас тест\n",
    "df_test['Rating'] = 0 # в тесте у нас нет значения Rating, мы его должны предсказать, по этому пока просто заполняем нулями\n",
    "\n",
    "data = df_test.append(df_train, sort=False).reset_index(drop=True) # объединяем"
   ]
  },
  {
   "cell_type": "code",
   "execution_count": 12,
   "metadata": {
    "execution": {
     "iopub.execute_input": "2020-10-03T02:47:31.817024Z",
     "iopub.status.busy": "2020-10-03T02:47:31.816245Z",
     "iopub.status.idle": "2020-10-03T02:47:31.877660Z",
     "shell.execute_reply": "2020-10-03T02:47:31.878264Z"
    },
    "papermill": {
     "duration": 0.195764,
     "end_time": "2020-10-03T02:47:31.878426",
     "exception": false,
     "start_time": "2020-10-03T02:47:31.682662",
     "status": "completed"
    },
    "tags": []
   },
   "outputs": [
    {
     "name": "stdout",
     "output_type": "stream",
     "text": [
      "<class 'pandas.core.frame.DataFrame'>\n",
      "RangeIndex: 50000 entries, 0 to 49999\n",
      "Data columns (total 11 columns):\n",
      " #   Column             Non-Null Count  Dtype  \n",
      "---  ------             --------------  -----  \n",
      " 0   Restaurant_id      50000 non-null  object \n",
      " 1   City               50000 non-null  object \n",
      " 2   Cuisine Style      38410 non-null  object \n",
      " 3   Ranking            50000 non-null  float64\n",
      " 4   Price Range        32639 non-null  object \n",
      " 5   Number of Reviews  46800 non-null  float64\n",
      " 6   Reviews            49998 non-null  object \n",
      " 7   URL_TA             50000 non-null  object \n",
      " 8   ID_TA              50000 non-null  object \n",
      " 9   sample             50000 non-null  int64  \n",
      " 10  Rating             50000 non-null  float64\n",
      "dtypes: float64(3), int64(1), object(7)\n",
      "memory usage: 4.2+ MB\n"
     ]
    }
   ],
   "source": [
    "data.info()"
   ]
  },
  {
   "cell_type": "markdown",
   "metadata": {
    "papermill": {
     "duration": 0.127076,
     "end_time": "2020-10-03T02:47:32.135923",
     "exception": false,
     "start_time": "2020-10-03T02:47:32.008847",
     "status": "completed"
    },
    "tags": []
   },
   "source": [
    "Подробнее по признакам:\n",
    "* City: Город \n",
    "* Cuisine Style: Кухня\n",
    "* Ranking: Ранг ресторана относительно других ресторанов в этом городе\n",
    "* Price Range: Цены в ресторане в 3 категориях\n",
    "* Number of Reviews: Количество отзывов\n",
    "* Reviews: 2 последних отзыва и даты этих отзывов\n",
    "* URL_TA: страница ресторана на 'www.tripadvisor.com' \n",
    "* ID_TA: ID ресторана в TripAdvisor\n",
    "* Rating: Рейтинг ресторана"
   ]
  },
  {
   "cell_type": "code",
   "execution_count": 13,
   "metadata": {
    "execution": {
     "iopub.execute_input": "2020-10-03T02:47:32.469372Z",
     "iopub.status.busy": "2020-10-03T02:47:32.452625Z",
     "iopub.status.idle": "2020-10-03T02:47:32.474439Z",
     "shell.execute_reply": "2020-10-03T02:47:32.473874Z"
    },
    "papermill": {
     "duration": 0.161883,
     "end_time": "2020-10-03T02:47:32.474621",
     "exception": false,
     "start_time": "2020-10-03T02:47:32.312738",
     "status": "completed"
    },
    "tags": []
   },
   "outputs": [
    {
     "data": {
      "text/html": [
       "<div>\n",
       "<style scoped>\n",
       "    .dataframe tbody tr th:only-of-type {\n",
       "        vertical-align: middle;\n",
       "    }\n",
       "\n",
       "    .dataframe tbody tr th {\n",
       "        vertical-align: top;\n",
       "    }\n",
       "\n",
       "    .dataframe thead th {\n",
       "        text-align: right;\n",
       "    }\n",
       "</style>\n",
       "<table border=\"1\" class=\"dataframe\">\n",
       "  <thead>\n",
       "    <tr style=\"text-align: right;\">\n",
       "      <th></th>\n",
       "      <th>Restaurant_id</th>\n",
       "      <th>City</th>\n",
       "      <th>Cuisine Style</th>\n",
       "      <th>Ranking</th>\n",
       "      <th>Price Range</th>\n",
       "      <th>Number of Reviews</th>\n",
       "      <th>Reviews</th>\n",
       "      <th>URL_TA</th>\n",
       "      <th>ID_TA</th>\n",
       "      <th>sample</th>\n",
       "      <th>Rating</th>\n",
       "    </tr>\n",
       "  </thead>\n",
       "  <tbody>\n",
       "    <tr>\n",
       "      <th>4150</th>\n",
       "      <td>id_4150</td>\n",
       "      <td>Lisbon</td>\n",
       "      <td>['European', 'Portuguese', 'Mediterranean', 'G...</td>\n",
       "      <td>531.0</td>\n",
       "      <td>$$ - $$$</td>\n",
       "      <td>125.0</td>\n",
       "      <td>[['Hidden treasure of Lisbon', 'Keep it a secr...</td>\n",
       "      <td>/Restaurant_Review-g189158-d4755823-Reviews-Re...</td>\n",
       "      <td>d4755823</td>\n",
       "      <td>0</td>\n",
       "      <td>0.0</td>\n",
       "    </tr>\n",
       "    <tr>\n",
       "      <th>44507</th>\n",
       "      <td>id_2694</td>\n",
       "      <td>Brussels</td>\n",
       "      <td>['Brazilian', 'Mediterranean', 'European', 'Po...</td>\n",
       "      <td>2682.0</td>\n",
       "      <td>$$ - $$$</td>\n",
       "      <td>NaN</td>\n",
       "      <td>[[], []]</td>\n",
       "      <td>/Restaurant_Review-g188644-d11956134-Reviews-O...</td>\n",
       "      <td>d11956134</td>\n",
       "      <td>1</td>\n",
       "      <td>3.0</td>\n",
       "    </tr>\n",
       "    <tr>\n",
       "      <th>17434</th>\n",
       "      <td>id_917</td>\n",
       "      <td>Oslo</td>\n",
       "      <td>['Bar', 'Pub']</td>\n",
       "      <td>918.0</td>\n",
       "      <td>$$ - $$$</td>\n",
       "      <td>61.0</td>\n",
       "      <td>[['Try the fish &amp; chips', 'About as Irish as R...</td>\n",
       "      <td>/Restaurant_Review-g190479-d3386778-Reviews-Ga...</td>\n",
       "      <td>d3386778</td>\n",
       "      <td>1</td>\n",
       "      <td>3.5</td>\n",
       "    </tr>\n",
       "    <tr>\n",
       "      <th>41506</th>\n",
       "      <td>id_1021</td>\n",
       "      <td>Berlin</td>\n",
       "      <td>NaN</td>\n",
       "      <td>1023.0</td>\n",
       "      <td>NaN</td>\n",
       "      <td>21.0</td>\n",
       "      <td>[['Best in the district', 'Curry Wursts rock!'...</td>\n",
       "      <td>/Restaurant_Review-g187323-d11854799-Reviews-C...</td>\n",
       "      <td>d11854799</td>\n",
       "      <td>1</td>\n",
       "      <td>4.5</td>\n",
       "    </tr>\n",
       "    <tr>\n",
       "      <th>22710</th>\n",
       "      <td>id_1573</td>\n",
       "      <td>Stockholm</td>\n",
       "      <td>NaN</td>\n",
       "      <td>1576.0</td>\n",
       "      <td>NaN</td>\n",
       "      <td>6.0</td>\n",
       "      <td>[[], []]</td>\n",
       "      <td>/Restaurant_Review-g189852-d5953246-Reviews-Cr...</td>\n",
       "      <td>d5953246</td>\n",
       "      <td>1</td>\n",
       "      <td>3.5</td>\n",
       "    </tr>\n",
       "  </tbody>\n",
       "</table>\n",
       "</div>"
      ],
      "text/plain": [
       "      Restaurant_id       City  \\\n",
       "4150        id_4150     Lisbon   \n",
       "44507       id_2694   Brussels   \n",
       "17434        id_917       Oslo   \n",
       "41506       id_1021     Berlin   \n",
       "22710       id_1573  Stockholm   \n",
       "\n",
       "                                           Cuisine Style  Ranking Price Range  \\\n",
       "4150   ['European', 'Portuguese', 'Mediterranean', 'G...    531.0    $$ - $$$   \n",
       "44507  ['Brazilian', 'Mediterranean', 'European', 'Po...   2682.0    $$ - $$$   \n",
       "17434                                     ['Bar', 'Pub']    918.0    $$ - $$$   \n",
       "41506                                                NaN   1023.0         NaN   \n",
       "22710                                                NaN   1576.0         NaN   \n",
       "\n",
       "       Number of Reviews                                            Reviews  \\\n",
       "4150               125.0  [['Hidden treasure of Lisbon', 'Keep it a secr...   \n",
       "44507                NaN                                           [[], []]   \n",
       "17434               61.0  [['Try the fish & chips', 'About as Irish as R...   \n",
       "41506               21.0  [['Best in the district', 'Curry Wursts rock!'...   \n",
       "22710                6.0                                           [[], []]   \n",
       "\n",
       "                                                  URL_TA      ID_TA  sample  \\\n",
       "4150   /Restaurant_Review-g189158-d4755823-Reviews-Re...   d4755823       0   \n",
       "44507  /Restaurant_Review-g188644-d11956134-Reviews-O...  d11956134       1   \n",
       "17434  /Restaurant_Review-g190479-d3386778-Reviews-Ga...   d3386778       1   \n",
       "41506  /Restaurant_Review-g187323-d11854799-Reviews-C...  d11854799       1   \n",
       "22710  /Restaurant_Review-g189852-d5953246-Reviews-Cr...   d5953246       1   \n",
       "\n",
       "       Rating  \n",
       "4150      0.0  \n",
       "44507     3.0  \n",
       "17434     3.5  \n",
       "41506     4.5  \n",
       "22710     3.5  "
      ]
     },
     "execution_count": 13,
     "metadata": {},
     "output_type": "execute_result"
    }
   ],
   "source": [
    "data.sample(5)"
   ]
  },
  {
   "cell_type": "code",
   "execution_count": 14,
   "metadata": {
    "execution": {
     "iopub.execute_input": "2020-10-03T02:47:32.737780Z",
     "iopub.status.busy": "2020-10-03T02:47:32.736889Z",
     "iopub.status.idle": "2020-10-03T02:47:32.741108Z",
     "shell.execute_reply": "2020-10-03T02:47:32.741713Z"
    },
    "papermill": {
     "duration": 0.138524,
     "end_time": "2020-10-03T02:47:32.741865",
     "exception": false,
     "start_time": "2020-10-03T02:47:32.603341",
     "status": "completed"
    },
    "tags": []
   },
   "outputs": [
    {
     "data": {
      "text/plain": [
       "\"[['Very good reviews!', 'Fine dining in Hakaniemi'], ['12/05/2017', '10/29/2017']]\""
      ]
     },
     "execution_count": 14,
     "metadata": {},
     "output_type": "execute_result"
    }
   ],
   "source": [
    "data.Reviews[1]"
   ]
  },
  {
   "cell_type": "markdown",
   "metadata": {
    "papermill": {
     "duration": 0.13088,
     "end_time": "2020-10-03T02:47:33.001682",
     "exception": false,
     "start_time": "2020-10-03T02:47:32.870802",
     "status": "completed"
    },
    "tags": []
   },
   "source": [
    "Как видим, большинство признаков у нас требует очистки и предварительной обработки."
   ]
  },
  {
   "cell_type": "markdown",
   "metadata": {
    "papermill": {
     "duration": 0.131399,
     "end_time": "2020-10-03T02:47:33.262983",
     "exception": false,
     "start_time": "2020-10-03T02:47:33.131584",
     "status": "completed"
    },
    "tags": []
   },
   "source": [
    "# Cleaning and Prepping Data\n",
    "Обычно данные содержат в себе кучу мусора, который необходимо почистить, для того чтобы привести их в приемлемый формат. Чистка данных — это необходимый этап решения почти любой реальной задачи.   \n",
    "![](https://analyticsindiamag.com/wp-content/uploads/2018/01/data-cleaning.png)"
   ]
  },
  {
   "cell_type": "markdown",
   "metadata": {
    "papermill": {
     "duration": 0.129014,
     "end_time": "2020-10-03T02:47:33.524166",
     "exception": false,
     "start_time": "2020-10-03T02:47:33.395152",
     "status": "completed"
    },
    "tags": []
   },
   "source": [
    "## 1. Обработка NAN \n",
    "У наличия пропусков могут быть разные причины, но пропуски нужно либо заполнить, либо исключить из набора полностью. Но с пропусками нужно быть внимательным, **даже отсутствие информации может быть важным признаком!**   \n",
    "По этому перед обработкой NAN лучше вынести информацию о наличии пропуска как отдельный признак "
   ]
  },
  {
   "cell_type": "code",
   "execution_count": 15,
   "metadata": {
    "execution": {
     "iopub.execute_input": "2020-10-03T02:47:33.789514Z",
     "iopub.status.busy": "2020-10-03T02:47:33.788670Z",
     "iopub.status.idle": "2020-10-03T02:47:33.792067Z",
     "shell.execute_reply": "2020-10-03T02:47:33.791421Z"
    },
    "papermill": {
     "duration": 0.138887,
     "end_time": "2020-10-03T02:47:33.792195",
     "exception": false,
     "start_time": "2020-10-03T02:47:33.653308",
     "status": "completed"
    },
    "tags": []
   },
   "outputs": [],
   "source": [
    "# Для примера я возьму столбец Number of Reviews\n",
    "data['Number_of_Reviews_isNAN'] = pd.isna(data['Number of Reviews']).astype('uint8')"
   ]
  },
  {
   "cell_type": "code",
   "execution_count": 16,
   "metadata": {
    "execution": {
     "iopub.execute_input": "2020-10-03T02:47:34.062738Z",
     "iopub.status.busy": "2020-10-03T02:47:34.061881Z",
     "iopub.status.idle": "2020-10-03T02:47:34.066838Z",
     "shell.execute_reply": "2020-10-03T02:47:34.066238Z"
    },
    "papermill": {
     "duration": 0.143692,
     "end_time": "2020-10-03T02:47:34.067003",
     "exception": false,
     "start_time": "2020-10-03T02:47:33.923311",
     "status": "completed"
    },
    "tags": []
   },
   "outputs": [
    {
     "data": {
      "text/plain": [
       "0        0\n",
       "1        0\n",
       "2        0\n",
       "3        0\n",
       "4        0\n",
       "        ..\n",
       "49995    0\n",
       "49996    0\n",
       "49997    0\n",
       "49998    0\n",
       "49999    0\n",
       "Name: Number_of_Reviews_isNAN, Length: 50000, dtype: uint8"
      ]
     },
     "execution_count": 16,
     "metadata": {},
     "output_type": "execute_result"
    }
   ],
   "source": [
    "data['Number_of_Reviews_isNAN']"
   ]
  },
  {
   "cell_type": "markdown",
   "metadata": {
    "papermill": {
     "duration": 0.134669,
     "end_time": "2020-10-03T02:47:34.332684",
     "exception": false,
     "start_time": "2020-10-03T02:47:34.198015",
     "status": "completed"
    },
    "tags": []
   },
   "source": [
    "#### Заполним пропуски в стобце 'Number of Reviews', используя информацию из столбца Ranking, так как скорее всего ранг ресторана формируется за счет отзывов посетителей. И, можно предположить, что эти параметры взаимосвязаны. Для начала посмотрим как распределены рестораны по рангу."
   ]
  },
  {
   "cell_type": "code",
   "execution_count": 17,
   "metadata": {
    "execution": {
     "iopub.execute_input": "2020-10-03T02:47:34.610037Z",
     "iopub.status.busy": "2020-10-03T02:47:34.609230Z",
     "iopub.status.idle": "2020-10-03T02:47:34.619293Z",
     "shell.execute_reply": "2020-10-03T02:47:34.620043Z"
    },
    "papermill": {
     "duration": 0.146091,
     "end_time": "2020-10-03T02:47:34.620199",
     "exception": false,
     "start_time": "2020-10-03T02:47:34.474108",
     "status": "completed"
    },
    "tags": []
   },
   "outputs": [
    {
     "data": {
      "text/plain": [
       "93.0       22\n",
       "72.0       21\n",
       "491.0      21\n",
       "842.0      21\n",
       "1013.0     20\n",
       "           ..\n",
       "8027.0      1\n",
       "10415.0     1\n",
       "14621.0     1\n",
       "11766.0     1\n",
       "10585.0     1\n",
       "Name: Ranking, Length: 12975, dtype: int64"
      ]
     },
     "execution_count": 17,
     "metadata": {},
     "output_type": "execute_result"
    }
   ],
   "source": [
    "data['Ranking'].value_counts()"
   ]
  },
  {
   "cell_type": "markdown",
   "metadata": {
    "papermill": {
     "duration": 0.133042,
     "end_time": "2020-10-03T02:47:34.888821",
     "exception": false,
     "start_time": "2020-10-03T02:47:34.755779",
     "status": "completed"
    },
    "tags": []
   },
   "source": [
    "#### Как можно заметить, ресторанов с высоким рангом намного меньше, чем с низким. Разделим рестораны по рангу на 3 группы (высокий, средний, низкий)"
   ]
  },
  {
   "cell_type": "code",
   "execution_count": 18,
   "metadata": {
    "execution": {
     "iopub.execute_input": "2020-10-03T02:47:35.161540Z",
     "iopub.status.busy": "2020-10-03T02:47:35.160478Z",
     "iopub.status.idle": "2020-10-03T02:47:35.212103Z",
     "shell.execute_reply": "2020-10-03T02:47:35.211430Z"
    },
    "papermill": {
     "duration": 0.191541,
     "end_time": "2020-10-03T02:47:35.212243",
     "exception": false,
     "start_time": "2020-10-03T02:47:35.020702",
     "status": "completed"
    },
    "tags": []
   },
   "outputs": [
    {
     "data": {
      "text/plain": [
       "(-15.443999999999999, 5482.0]    38260\n",
       "(5482.0, 10963.0]                 8051\n",
       "(10963.0, 16444.0]                3689\n",
       "Name: Ranking, dtype: int64"
      ]
     },
     "execution_count": 18,
     "metadata": {},
     "output_type": "execute_result"
    }
   ],
   "source": [
    "data['Ranking'].value_counts(bins=3)"
   ]
  },
  {
   "cell_type": "code",
   "execution_count": 19,
   "metadata": {
    "execution": {
     "iopub.execute_input": "2020-10-03T02:47:35.484551Z",
     "iopub.status.busy": "2020-10-03T02:47:35.483765Z",
     "iopub.status.idle": "2020-10-03T02:47:35.761632Z",
     "shell.execute_reply": "2020-10-03T02:47:35.762210Z"
    },
    "papermill": {
     "duration": 0.417265,
     "end_time": "2020-10-03T02:47:35.762363",
     "exception": false,
     "start_time": "2020-10-03T02:47:35.345098",
     "status": "completed"
    },
    "tags": []
   },
   "outputs": [
    {
     "data": {
      "text/plain": [
       "<matplotlib.axes._subplots.AxesSubplot at 0x7f7089212b90>"
      ]
     },
     "execution_count": 19,
     "metadata": {},
     "output_type": "execute_result"
    },
    {
     "data": {
      "image/png": "[encoded data removed]",
      "text/plain": [
       "<Figure size 432x288 with 1 Axes>"
      ]
     },
     "metadata": {
      "needs_background": "light"
     },
     "output_type": "display_data"
    }
   ],
   "source": [
    "data['Ranking'].hist()"
   ]
  },
  {
   "cell_type": "markdown",
   "metadata": {
    "papermill": {
     "duration": 0.132545,
     "end_time": "2020-10-03T02:47:36.027439",
     "exception": false,
     "start_time": "2020-10-03T02:47:35.894894",
     "status": "completed"
    },
    "tags": []
   },
   "source": [
    "#### Напишем функцию для нахождения наиболее часто встречающегося признака в списке"
   ]
  },
  {
   "cell_type": "code",
   "execution_count": 20,
   "metadata": {
    "execution": {
     "iopub.execute_input": "2020-10-03T02:47:36.303900Z",
     "iopub.status.busy": "2020-10-03T02:47:36.302811Z",
     "iopub.status.idle": "2020-10-03T02:47:36.306587Z",
     "shell.execute_reply": "2020-10-03T02:47:36.305840Z"
    },
    "papermill": {
     "duration": 0.144847,
     "end_time": "2020-10-03T02:47:36.306718",
     "exception": false,
     "start_time": "2020-10-03T02:47:36.161871",
     "status": "completed"
    },
    "tags": []
   },
   "outputs": [],
   "source": [
    "def most_frequent(List):\n",
    "    counter = 0\n",
    "    n = List[0]     \n",
    "    for i in List:\n",
    "        curr_frequency = List.count(i)\n",
    "        if(curr_frequency> counter):\n",
    "            counter = curr_frequency\n",
    "            n = i \n",
    "    return n"
   ]
  },
  {
   "cell_type": "markdown",
   "metadata": {
    "papermill": {
     "duration": 0.133399,
     "end_time": "2020-10-03T02:47:36.581162",
     "exception": false,
     "start_time": "2020-10-03T02:47:36.447763",
     "status": "completed"
    },
    "tags": []
   },
   "source": [
    "#### Теперь найдем моду в каждой подгруппе ресторанов с различным рангом"
   ]
  },
  {
   "cell_type": "code",
   "execution_count": 21,
   "metadata": {
    "execution": {
     "iopub.execute_input": "2020-10-03T02:47:36.919751Z",
     "iopub.status.busy": "2020-10-03T02:47:36.897188Z",
     "iopub.status.idle": "2020-10-03T02:48:08.536063Z",
     "shell.execute_reply": "2020-10-03T02:48:08.535409Z"
    },
    "papermill": {
     "duration": 31.814075,
     "end_time": "2020-10-03T02:48:08.536185",
     "exception": false,
     "start_time": "2020-10-03T02:47:36.722110",
     "status": "completed"
    },
    "tags": []
   },
   "outputs": [
    {
     "name": "stdout",
     "output_type": "stream",
     "text": [
      "93.0\n",
      "5860.0\n",
      "12709.0\n"
     ]
    }
   ],
   "source": [
    "rank1=[]\n",
    "rank2=[]\n",
    "rank3=[]\n",
    "for rank in data['Ranking']:\n",
    "    if ((rank>-15.5) and (rank<=5482)):\n",
    "        rank1.append(rank)\n",
    "    elif ((rank>5482) and (rank<=10963)):\n",
    "        rank2.append(rank)\n",
    "    elif ((rank>10963) and (rank<=16444)):\n",
    "        rank3.append(rank)\n",
    "        \n",
    "print(most_frequent(rank1))    \n",
    "print(most_frequent(rank2)) \n",
    "print(most_frequent(rank3))\n"
   ]
  },
  {
   "cell_type": "markdown",
   "metadata": {
    "papermill": {
     "duration": 0.135445,
     "end_time": "2020-10-03T02:48:08.806313",
     "exception": false,
     "start_time": "2020-10-03T02:48:08.670868",
     "status": "completed"
    },
    "tags": []
   },
   "source": [
    "#### Итак, нашли наиболее часто встречающиеся ранги ресторанов в трех группах. Теперь найдем среднее значение Number of Reviews со значениями Ranking, найденными на предыдущем шаге"
   ]
  },
  {
   "cell_type": "code",
   "execution_count": 22,
   "metadata": {
    "execution": {
     "iopub.execute_input": "2020-10-03T02:48:09.088864Z",
     "iopub.status.busy": "2020-10-03T02:48:09.083217Z",
     "iopub.status.idle": "2020-10-03T02:48:09.102259Z",
     "shell.execute_reply": "2020-10-03T02:48:09.102850Z"
    },
    "papermill": {
     "duration": 0.161716,
     "end_time": "2020-10-03T02:48:09.103030",
     "exception": false,
     "start_time": "2020-10-03T02:48:08.941314",
     "status": "completed"
    },
    "tags": []
   },
   "outputs": [],
   "source": [
    "df_rank1=pd.DataFrame(data.query('Ranking==93'))\n",
    "df_rank2=pd.DataFrame(data.query('Ranking==5860'))\n",
    "df_rank3=pd.DataFrame(data.query('Ranking==12709'))\n"
   ]
  },
  {
   "cell_type": "code",
   "execution_count": 23,
   "metadata": {
    "execution": {
     "iopub.execute_input": "2020-10-03T02:48:09.381883Z",
     "iopub.status.busy": "2020-10-03T02:48:09.380771Z",
     "iopub.status.idle": "2020-10-03T02:48:09.386156Z",
     "shell.execute_reply": "2020-10-03T02:48:09.385327Z"
    },
    "papermill": {
     "duration": 0.147648,
     "end_time": "2020-10-03T02:48:09.386287",
     "exception": false,
     "start_time": "2020-10-03T02:48:09.238639",
     "status": "completed"
    },
    "tags": []
   },
   "outputs": [
    {
     "data": {
      "text/plain": [
       "526.4090909090909"
      ]
     },
     "execution_count": 23,
     "metadata": {},
     "output_type": "execute_result"
    }
   ],
   "source": [
    "df_rank1['Number of Reviews'].mean()"
   ]
  },
  {
   "cell_type": "code",
   "execution_count": 24,
   "metadata": {
    "execution": {
     "iopub.execute_input": "2020-10-03T02:48:09.663044Z",
     "iopub.status.busy": "2020-10-03T02:48:09.662139Z",
     "iopub.status.idle": "2020-10-03T02:48:09.666617Z",
     "shell.execute_reply": "2020-10-03T02:48:09.665953Z"
    },
    "papermill": {
     "duration": 0.145229,
     "end_time": "2020-10-03T02:48:09.666795",
     "exception": false,
     "start_time": "2020-10-03T02:48:09.521566",
     "status": "completed"
    },
    "tags": []
   },
   "outputs": [
    {
     "data": {
      "text/plain": [
       "46.166666666666664"
      ]
     },
     "execution_count": 24,
     "metadata": {},
     "output_type": "execute_result"
    }
   ],
   "source": [
    "df_rank2['Number of Reviews'].mean()"
   ]
  },
  {
   "cell_type": "code",
   "execution_count": 25,
   "metadata": {
    "execution": {
     "iopub.execute_input": "2020-10-03T02:48:09.943125Z",
     "iopub.status.busy": "2020-10-03T02:48:09.942079Z",
     "iopub.status.idle": "2020-10-03T02:48:09.947985Z",
     "shell.execute_reply": "2020-10-03T02:48:09.947224Z"
    },
    "papermill": {
     "duration": 0.146327,
     "end_time": "2020-10-03T02:48:09.948148",
     "exception": false,
     "start_time": "2020-10-03T02:48:09.801821",
     "status": "completed"
    },
    "tags": []
   },
   "outputs": [
    {
     "data": {
      "text/plain": [
       "49.0"
      ]
     },
     "execution_count": 25,
     "metadata": {},
     "output_type": "execute_result"
    }
   ],
   "source": [
    "df_rank3['Number of Reviews'].mean()"
   ]
  },
  {
   "cell_type": "markdown",
   "metadata": {
    "papermill": {
     "duration": 0.136664,
     "end_time": "2020-10-03T02:48:10.222656",
     "exception": false,
     "start_time": "2020-10-03T02:48:10.085992",
     "status": "completed"
    },
    "tags": []
   },
   "source": [
    "#### Теперь заполним пропуски значениями, полученными на предыдущем шаге, при этом учитывая, к какому рангу относится ресторан"
   ]
  },
  {
   "cell_type": "code",
   "execution_count": 26,
   "metadata": {
    "execution": {
     "iopub.execute_input": "2020-10-03T02:48:10.510100Z",
     "iopub.status.busy": "2020-10-03T02:48:10.509203Z",
     "iopub.status.idle": "2020-10-03T02:48:27.887749Z",
     "shell.execute_reply": "2020-10-03T02:48:27.887054Z"
    },
    "papermill": {
     "duration": 17.528136,
     "end_time": "2020-10-03T02:48:27.887882",
     "exception": false,
     "start_time": "2020-10-03T02:48:10.359746",
     "status": "completed"
    },
    "tags": []
   },
   "outputs": [],
   "source": [
    "for rank in data['Ranking']:\n",
    "    if ((rank>-15.5) and (rank<=5482)):\n",
    "        data['Number of Reviews'].fillna(df_rank1['Number of Reviews'].mean(), inplace=True)\n",
    "    elif ((rank>5482) and (rank<=10963)):\n",
    "        data['Number of Reviews'].fillna(df_rank2['Number of Reviews'].mean(), inplace=True)\n",
    "    elif ((rank>10963) and (rank<=16444)):\n",
    "        data['Number of Reviews'].fillna(df_rank3['Number of Reviews'].mean(), inplace=True)"
   ]
  },
  {
   "cell_type": "code",
   "execution_count": 27,
   "metadata": {
    "execution": {
     "iopub.execute_input": "2020-10-03T02:48:28.207281Z",
     "iopub.status.busy": "2020-10-03T02:48:28.170324Z",
     "iopub.status.idle": "2020-10-03T02:48:28.221195Z",
     "shell.execute_reply": "2020-10-03T02:48:28.220459Z"
    },
    "papermill": {
     "duration": 0.19435,
     "end_time": "2020-10-03T02:48:28.221329",
     "exception": false,
     "start_time": "2020-10-03T02:48:28.026979",
     "status": "completed"
    },
    "tags": []
   },
   "outputs": [
    {
     "name": "stdout",
     "output_type": "stream",
     "text": [
      "<class 'pandas.core.frame.DataFrame'>\n",
      "RangeIndex: 50000 entries, 0 to 49999\n",
      "Data columns (total 12 columns):\n",
      " #   Column                   Non-Null Count  Dtype  \n",
      "---  ------                   --------------  -----  \n",
      " 0   Restaurant_id            50000 non-null  object \n",
      " 1   City                     50000 non-null  object \n",
      " 2   Cuisine Style            38410 non-null  object \n",
      " 3   Ranking                  50000 non-null  float64\n",
      " 4   Price Range              32639 non-null  object \n",
      " 5   Number of Reviews        50000 non-null  float64\n",
      " 6   Reviews                  49998 non-null  object \n",
      " 7   URL_TA                   50000 non-null  object \n",
      " 8   ID_TA                    50000 non-null  object \n",
      " 9   sample                   50000 non-null  int64  \n",
      " 10  Rating                   50000 non-null  float64\n",
      " 11  Number_of_Reviews_isNAN  50000 non-null  uint8  \n",
      "dtypes: float64(3), int64(1), object(7), uint8(1)\n",
      "memory usage: 4.2+ MB\n"
     ]
    }
   ],
   "source": [
    "data.info()"
   ]
  },
  {
   "cell_type": "markdown",
   "metadata": {
    "papermill": {
     "duration": 0.136971,
     "end_time": "2020-10-03T02:48:28.497388",
     "exception": false,
     "start_time": "2020-10-03T02:48:28.360417",
     "status": "completed"
    },
    "tags": []
   },
   "source": [
    "#### Пропусков в столбце Reviews немного, поэтому заменим эти пропуски нулями. Это не должно сильно повлиять на результат."
   ]
  },
  {
   "cell_type": "code",
   "execution_count": 28,
   "metadata": {
    "execution": {
     "iopub.execute_input": "2020-10-03T02:48:28.844251Z",
     "iopub.status.busy": "2020-10-03T02:48:28.843113Z",
     "iopub.status.idle": "2020-10-03T02:48:28.846537Z",
     "shell.execute_reply": "2020-10-03T02:48:28.845566Z"
    },
    "papermill": {
     "duration": 0.164876,
     "end_time": "2020-10-03T02:48:28.846714",
     "exception": false,
     "start_time": "2020-10-03T02:48:28.681838",
     "status": "completed"
    },
    "tags": []
   },
   "outputs": [],
   "source": [
    "data['Reviews'].fillna(0, inplace=True)"
   ]
  },
  {
   "cell_type": "code",
   "execution_count": 29,
   "metadata": {
    "execution": {
     "iopub.execute_input": "2020-10-03T02:48:29.169104Z",
     "iopub.status.busy": "2020-10-03T02:48:29.168275Z",
     "iopub.status.idle": "2020-10-03T02:48:29.182190Z",
     "shell.execute_reply": "2020-10-03T02:48:29.181545Z"
    },
    "papermill": {
     "duration": 0.195745,
     "end_time": "2020-10-03T02:48:29.182328",
     "exception": false,
     "start_time": "2020-10-03T02:48:28.986583",
     "status": "completed"
    },
    "tags": []
   },
   "outputs": [
    {
     "name": "stdout",
     "output_type": "stream",
     "text": [
      "<class 'pandas.core.frame.DataFrame'>\n",
      "RangeIndex: 50000 entries, 0 to 49999\n",
      "Data columns (total 12 columns):\n",
      " #   Column                   Non-Null Count  Dtype  \n",
      "---  ------                   --------------  -----  \n",
      " 0   Restaurant_id            50000 non-null  object \n",
      " 1   City                     50000 non-null  object \n",
      " 2   Cuisine Style            38410 non-null  object \n",
      " 3   Ranking                  50000 non-null  float64\n",
      " 4   Price Range              32639 non-null  object \n",
      " 5   Number of Reviews        50000 non-null  float64\n",
      " 6   Reviews                  50000 non-null  object \n",
      " 7   URL_TA                   50000 non-null  object \n",
      " 8   ID_TA                    50000 non-null  object \n",
      " 9   sample                   50000 non-null  int64  \n",
      " 10  Rating                   50000 non-null  float64\n",
      " 11  Number_of_Reviews_isNAN  50000 non-null  uint8  \n",
      "dtypes: float64(3), int64(1), object(7), uint8(1)\n",
      "memory usage: 4.2+ MB\n"
     ]
    }
   ],
   "source": [
    "data.info()"
   ]
  },
  {
   "cell_type": "markdown",
   "metadata": {
    "papermill": {
     "duration": 0.138601,
     "end_time": "2020-10-03T02:48:29.460069",
     "exception": false,
     "start_time": "2020-10-03T02:48:29.321468",
     "status": "completed"
    },
    "tags": []
   },
   "source": [
    "#### Теперь необходимо обработать столбцы Cuisine Style и Price Range. Так как эти параметры имеют тип object,  то просто так заменить эти значения какими-то статистиками не получится. Рассмотрим подробнее столбцы Cuisine Style и Price Range"
   ]
  },
  {
   "cell_type": "code",
   "execution_count": 30,
   "metadata": {
    "execution": {
     "iopub.execute_input": "2020-10-03T02:48:29.760409Z",
     "iopub.status.busy": "2020-10-03T02:48:29.753085Z",
     "iopub.status.idle": "2020-10-03T02:48:29.770966Z",
     "shell.execute_reply": "2020-10-03T02:48:29.771592Z"
    },
    "papermill": {
     "duration": 0.172051,
     "end_time": "2020-10-03T02:48:29.771752",
     "exception": false,
     "start_time": "2020-10-03T02:48:29.599701",
     "status": "completed"
    },
    "tags": []
   },
   "outputs": [
    {
     "data": {
      "text/plain": [
       "['Italian']                                                                                                                        1332\n",
       "['French']                                                                                                                         1019\n",
       "['Spanish']                                                                                                                         860\n",
       "['French', 'European']                                                                                                              503\n",
       "['Cafe']                                                                                                                            500\n",
       "                                                                                                                                   ... \n",
       "['French', 'Mediterranean', 'European', 'Delicatessen']                                                                               1\n",
       "['Belgian', 'Bar', 'European', 'Pub', 'French', 'International']                                                                      1\n",
       "['Pizza', 'European', 'Italian', 'Vegetarian Friendly', 'Vegan Options', 'Gluten Free Options']                                       1\n",
       "['Italian', 'Mediterranean', 'European', 'Portuguese', 'International', 'Contemporary', 'Vegetarian Friendly', 'Vegan Options']       1\n",
       "['French', 'American', 'Street Food']                                                                                                 1\n",
       "Name: Cuisine Style, Length: 10731, dtype: int64"
      ]
     },
     "execution_count": 30,
     "metadata": {},
     "output_type": "execute_result"
    }
   ],
   "source": [
    "data['Cuisine Style'].value_counts()"
   ]
  },
  {
   "cell_type": "code",
   "execution_count": 31,
   "metadata": {
    "execution": {
     "iopub.execute_input": "2020-10-03T02:48:30.068546Z",
     "iopub.status.busy": "2020-10-03T02:48:30.067587Z",
     "iopub.status.idle": "2020-10-03T02:48:30.072626Z",
     "shell.execute_reply": "2020-10-03T02:48:30.071984Z"
    },
    "papermill": {
     "duration": 0.162539,
     "end_time": "2020-10-03T02:48:30.072753",
     "exception": false,
     "start_time": "2020-10-03T02:48:29.910214",
     "status": "completed"
    },
    "tags": []
   },
   "outputs": [
    {
     "data": {
      "text/plain": [
       "$$ - $$$    23041\n",
       "$            7816\n",
       "$$$$         1782\n",
       "Name: Price Range, dtype: int64"
      ]
     },
     "execution_count": 31,
     "metadata": {},
     "output_type": "execute_result"
    }
   ],
   "source": [
    "data['Price Range'].value_counts()"
   ]
  },
  {
   "cell_type": "markdown",
   "metadata": {
    "papermill": {
     "duration": 0.139518,
     "end_time": "2020-10-03T02:48:30.353361",
     "exception": false,
     "start_time": "2020-10-03T02:48:30.213843",
     "status": "completed"
    },
    "tags": []
   },
   "source": [
    "#### Пропусков в данных столбцах достаточно много, удалить не получится. Посмотрим, в каких городах имеются пропуски в столбце Price Range."
   ]
  },
  {
   "cell_type": "code",
   "execution_count": 32,
   "metadata": {
    "execution": {
     "iopub.execute_input": "2020-10-03T02:48:30.665964Z",
     "iopub.status.busy": "2020-10-03T02:48:30.665029Z",
     "iopub.status.idle": "2020-10-03T02:48:30.669374Z",
     "shell.execute_reply": "2020-10-03T02:48:30.668634Z"
    },
    "papermill": {
     "duration": 0.171578,
     "end_time": "2020-10-03T02:48:30.669539",
     "exception": false,
     "start_time": "2020-10-03T02:48:30.497961",
     "status": "completed"
    },
    "tags": []
   },
   "outputs": [
    {
     "name": "stdout",
     "output_type": "stream",
     "text": [
      "17361\n"
     ]
    }
   ],
   "source": [
    "data['Price Range'].fillna(0, inplace=True)\n",
    "s=0\n",
    "for i in data['Price Range']:\n",
    "    if (i==0):\n",
    "        s+=1\n",
    "print(s)"
   ]
  },
  {
   "cell_type": "markdown",
   "metadata": {
    "papermill": {
     "duration": 0.138825,
     "end_time": "2020-10-03T02:48:30.948594",
     "exception": false,
     "start_time": "2020-10-03T02:48:30.809769",
     "status": "completed"
    },
    "tags": []
   },
   "source": [
    "#### Для удобства заменим название столбца"
   ]
  },
  {
   "cell_type": "code",
   "execution_count": 33,
   "metadata": {
    "execution": {
     "iopub.execute_input": "2020-10-03T02:48:31.238941Z",
     "iopub.status.busy": "2020-10-03T02:48:31.238135Z",
     "iopub.status.idle": "2020-10-03T02:48:31.241182Z",
     "shell.execute_reply": "2020-10-03T02:48:31.241806Z"
    },
    "papermill": {
     "duration": 0.151437,
     "end_time": "2020-10-03T02:48:31.241966",
     "exception": false,
     "start_time": "2020-10-03T02:48:31.090529",
     "status": "completed"
    },
    "tags": []
   },
   "outputs": [],
   "source": [
    "data.rename(columns={'Price Range': 'Price_Range', }, inplace=True)"
   ]
  },
  {
   "cell_type": "markdown",
   "metadata": {
    "papermill": {
     "duration": 0.140474,
     "end_time": "2020-10-03T02:48:31.523986",
     "exception": false,
     "start_time": "2020-10-03T02:48:31.383512",
     "status": "completed"
    },
    "tags": []
   },
   "source": [
    "#### Рассмотрим непосредственно рестораны, в которых пропуск в ценовой категории"
   ]
  },
  {
   "cell_type": "code",
   "execution_count": 34,
   "metadata": {
    "execution": {
     "iopub.execute_input": "2020-10-03T02:48:31.820570Z",
     "iopub.status.busy": "2020-10-03T02:48:31.809327Z",
     "iopub.status.idle": "2020-10-03T02:48:31.828858Z",
     "shell.execute_reply": "2020-10-03T02:48:31.828176Z"
    },
    "papermill": {
     "duration": 0.16614,
     "end_time": "2020-10-03T02:48:31.828995",
     "exception": false,
     "start_time": "2020-10-03T02:48:31.662855",
     "status": "completed"
    },
    "tags": []
   },
   "outputs": [],
   "source": [
    "df_price_range=pd.DataFrame(data.query('Price_Range == 0'))"
   ]
  },
  {
   "cell_type": "code",
   "execution_count": 35,
   "metadata": {
    "execution": {
     "iopub.execute_input": "2020-10-03T02:48:32.136715Z",
     "iopub.status.busy": "2020-10-03T02:48:32.135875Z",
     "iopub.status.idle": "2020-10-03T02:48:32.147775Z",
     "shell.execute_reply": "2020-10-03T02:48:32.146825Z"
    },
    "papermill": {
     "duration": 0.177393,
     "end_time": "2020-10-03T02:48:32.147961",
     "exception": false,
     "start_time": "2020-10-03T02:48:31.970568",
     "status": "completed"
    },
    "tags": []
   },
   "outputs": [
    {
     "name": "stdout",
     "output_type": "stream",
     "text": [
      "<class 'pandas.core.frame.DataFrame'>\n",
      "Int64Index: 17361 entries, 7 to 49997\n",
      "Data columns (total 12 columns):\n",
      " #   Column                   Non-Null Count  Dtype  \n",
      "---  ------                   --------------  -----  \n",
      " 0   Restaurant_id            17361 non-null  object \n",
      " 1   City                     17361 non-null  object \n",
      " 2   Cuisine Style            5771 non-null   object \n",
      " 3   Ranking                  17361 non-null  float64\n",
      " 4   Price_Range              17361 non-null  object \n",
      " 5   Number of Reviews        17361 non-null  float64\n",
      " 6   Reviews                  17361 non-null  object \n",
      " 7   URL_TA                   17361 non-null  object \n",
      " 8   ID_TA                    17361 non-null  object \n",
      " 9   sample                   17361 non-null  int64  \n",
      " 10  Rating                   17361 non-null  float64\n",
      " 11  Number_of_Reviews_isNAN  17361 non-null  uint8  \n",
      "dtypes: float64(3), int64(1), object(7), uint8(1)\n",
      "memory usage: 1.6+ MB\n"
     ]
    }
   ],
   "source": [
    "df_price_range.info()"
   ]
  },
  {
   "cell_type": "code",
   "execution_count": 36,
   "metadata": {
    "execution": {
     "iopub.execute_input": "2020-10-03T02:48:32.445926Z",
     "iopub.status.busy": "2020-10-03T02:48:32.445031Z",
     "iopub.status.idle": "2020-10-03T02:48:32.449858Z",
     "shell.execute_reply": "2020-10-03T02:48:32.449104Z"
    },
    "papermill": {
     "duration": 0.161214,
     "end_time": "2020-10-03T02:48:32.449985",
     "exception": false,
     "start_time": "2020-10-03T02:48:32.288771",
     "status": "completed"
    },
    "tags": []
   },
   "outputs": [
    {
     "data": {
      "text/plain": [
       "London        1997\n",
       "Paris         1987\n",
       "Madrid        1691\n",
       "Berlin        1257\n",
       "Barcelona     1138\n",
       "Milan         1074\n",
       "Prague         699\n",
       "Hamburg        661\n",
       "Vienna         577\n",
       "Lisbon         562\n",
       "Lyon           529\n",
       "Rome           529\n",
       "Stockholm      479\n",
       "Brussels       456\n",
       "Munich         419\n",
       "Warsaw         363\n",
       "Budapest       322\n",
       "Amsterdam      320\n",
       "Copenhagen     277\n",
       "Athens         244\n",
       "Zurich         213\n",
       "Bratislava     204\n",
       "Dublin         202\n",
       "Oporto         201\n",
       "Geneva         188\n",
       "Krakow         177\n",
       "Helsinki       158\n",
       "Oslo           154\n",
       "Edinburgh      145\n",
       "Luxembourg      74\n",
       "Ljubljana       64\n",
       "Name: City, dtype: int64"
      ]
     },
     "execution_count": 36,
     "metadata": {},
     "output_type": "execute_result"
    }
   ],
   "source": [
    "df_price_range['City'].value_counts()"
   ]
  },
  {
   "cell_type": "code",
   "execution_count": 37,
   "metadata": {
    "execution": {
     "iopub.execute_input": "2020-10-03T02:48:32.748132Z",
     "iopub.status.busy": "2020-10-03T02:48:32.747361Z",
     "iopub.status.idle": "2020-10-03T02:48:32.757209Z",
     "shell.execute_reply": "2020-10-03T02:48:32.756562Z"
    },
    "papermill": {
     "duration": 0.156622,
     "end_time": "2020-10-03T02:48:32.757347",
     "exception": false,
     "start_time": "2020-10-03T02:48:32.600725",
     "status": "completed"
    },
    "tags": []
   },
   "outputs": [
    {
     "data": {
      "text/plain": [
       "1178.0     10\n",
       "1438.0      9\n",
       "1947.0      8\n",
       "995.0       8\n",
       "1245.0      8\n",
       "           ..\n",
       "6830.0      1\n",
       "4156.0      1\n",
       "6877.0      1\n",
       "5479.0      1\n",
       "12268.0     1\n",
       "Name: Ranking, Length: 9321, dtype: int64"
      ]
     },
     "execution_count": 37,
     "metadata": {},
     "output_type": "execute_result"
    }
   ],
   "source": [
    "df_price_range['Ranking'].value_counts()"
   ]
  },
  {
   "cell_type": "markdown",
   "metadata": {
    "papermill": {
     "duration": 0.144759,
     "end_time": "2020-10-03T02:48:33.044212",
     "exception": false,
     "start_time": "2020-10-03T02:48:32.899453",
     "status": "completed"
    },
    "tags": []
   },
   "source": [
    "#### Поделим рестораны по рангу на 3 категории"
   ]
  },
  {
   "cell_type": "code",
   "execution_count": 38,
   "metadata": {
    "execution": {
     "iopub.execute_input": "2020-10-03T02:48:33.339877Z",
     "iopub.status.busy": "2020-10-03T02:48:33.339038Z",
     "iopub.status.idle": "2020-10-03T02:48:33.353943Z",
     "shell.execute_reply": "2020-10-03T02:48:33.353188Z"
    },
    "papermill": {
     "duration": 0.164056,
     "end_time": "2020-10-03T02:48:33.354086",
     "exception": false,
     "start_time": "2020-10-03T02:48:33.190030",
     "status": "completed"
    },
    "tags": []
   },
   "outputs": [
    {
     "data": {
      "text/plain": [
       "(-1.43, 5491.333]        11498\n",
       "(5491.333, 10967.667]     3904\n",
       "(10967.667, 16444.0]      1959\n",
       "Name: Ranking, dtype: int64"
      ]
     },
     "execution_count": 38,
     "metadata": {},
     "output_type": "execute_result"
    }
   ],
   "source": [
    "df_price_range['Ranking'].value_counts(bins=3)"
   ]
  },
  {
   "cell_type": "markdown",
   "metadata": {
    "papermill": {
     "duration": 0.166343,
     "end_time": "2020-10-03T02:48:33.664771",
     "exception": false,
     "start_time": "2020-10-03T02:48:33.498428",
     "status": "completed"
    },
    "tags": []
   },
   "source": [
    "#### Теперь посмотрим в каких городах самые дорогие рестораны. Для этого в основном датафрейме data заменим значения по ценовой категории на 1 - самые недорогие, 2 - средняя цена, 3 - самые дорогие. Пропуски оставим пока нулями"
   ]
  },
  {
   "cell_type": "code",
   "execution_count": 39,
   "metadata": {
    "execution": {
     "iopub.execute_input": "2020-10-03T02:48:33.965210Z",
     "iopub.status.busy": "2020-10-03T02:48:33.964012Z",
     "iopub.status.idle": "2020-10-03T02:48:33.992628Z",
     "shell.execute_reply": "2020-10-03T02:48:33.991914Z"
    },
    "papermill": {
     "duration": 0.186158,
     "end_time": "2020-10-03T02:48:33.992758",
     "exception": false,
     "start_time": "2020-10-03T02:48:33.806600",
     "status": "completed"
    },
    "tags": []
   },
   "outputs": [],
   "source": [
    "data.loc[data['Price_Range'] == '$', 'Price_Range'] = 1\n",
    "data.loc[data['Price_Range'] == '$$ - $$$', 'Price_Range'] = 2\n",
    "data.loc[data['Price_Range'] == '$$$$', 'Price_Range'] = 3"
   ]
  },
  {
   "cell_type": "code",
   "execution_count": 40,
   "metadata": {
    "execution": {
     "iopub.execute_input": "2020-10-03T02:48:34.309871Z",
     "iopub.status.busy": "2020-10-03T02:48:34.308652Z",
     "iopub.status.idle": "2020-10-03T02:48:34.314270Z",
     "shell.execute_reply": "2020-10-03T02:48:34.313261Z"
    },
    "papermill": {
     "duration": 0.171136,
     "end_time": "2020-10-03T02:48:34.314460",
     "exception": false,
     "start_time": "2020-10-03T02:48:34.143324",
     "status": "completed"
    },
    "tags": []
   },
   "outputs": [
    {
     "data": {
      "text/plain": [
       "2    23041\n",
       "0    17361\n",
       "1     7816\n",
       "3     1782\n",
       "Name: Price_Range, dtype: int64"
      ]
     },
     "execution_count": 40,
     "metadata": {},
     "output_type": "execute_result"
    }
   ],
   "source": [
    "data['Price_Range'].value_counts()"
   ]
  },
  {
   "cell_type": "code",
   "execution_count": 41,
   "metadata": {
    "execution": {
     "iopub.execute_input": "2020-10-03T02:48:34.647730Z",
     "iopub.status.busy": "2020-10-03T02:48:34.646896Z",
     "iopub.status.idle": "2020-10-03T02:48:34.698763Z",
     "shell.execute_reply": "2020-10-03T02:48:34.698105Z"
    },
    "papermill": {
     "duration": 0.224314,
     "end_time": "2020-10-03T02:48:34.698906",
     "exception": false,
     "start_time": "2020-10-03T02:48:34.474592",
     "status": "completed"
    },
    "tags": []
   },
   "outputs": [],
   "source": [
    "df_city1=pd.DataFrame(data.query('Price_Range == 1'))\n",
    "df_city2=pd.DataFrame(data.query('Price_Range == 2'))\n",
    "df_city3=pd.DataFrame(data.query('Price_Range == 3'))"
   ]
  },
  {
   "cell_type": "code",
   "execution_count": 42,
   "metadata": {
    "execution": {
     "iopub.execute_input": "2020-10-03T02:48:35.000171Z",
     "iopub.status.busy": "2020-10-03T02:48:34.999112Z",
     "iopub.status.idle": "2020-10-03T02:48:35.004237Z",
     "shell.execute_reply": "2020-10-03T02:48:35.003468Z"
    },
    "papermill": {
     "duration": 0.160818,
     "end_time": "2020-10-03T02:48:35.004362",
     "exception": false,
     "start_time": "2020-10-03T02:48:34.843544",
     "status": "completed"
    },
    "tags": []
   },
   "outputs": [
    {
     "data": {
      "text/plain": [
       "London        1269\n",
       "Paris          729\n",
       "Rome           645\n",
       "Barcelona      592\n",
       "Milan          523\n",
       "Madrid         441\n",
       "Berlin         428\n",
       "Lisbon         337\n",
       "Prague         332\n",
       "Budapest       225\n",
       "Amsterdam      217\n",
       "Edinburgh      193\n",
       "Athens         180\n",
       "Brussels       170\n",
       "Oporto         164\n",
       "Vienna         162\n",
       "Dublin         151\n",
       "Krakow         144\n",
       "Warsaw         137\n",
       "Munich         118\n",
       "Hamburg        104\n",
       "Lyon            95\n",
       "Copenhagen      91\n",
       "Stockholm       64\n",
       "Helsinki        61\n",
       "Zurich          60\n",
       "Oslo            52\n",
       "Ljubljana       47\n",
       "Bratislava      38\n",
       "Geneva          32\n",
       "Luxembourg      15\n",
       "Name: City, dtype: int64"
      ]
     },
     "execution_count": 42,
     "metadata": {},
     "output_type": "execute_result"
    }
   ],
   "source": [
    "df_city1['City'].value_counts()"
   ]
  },
  {
   "cell_type": "code",
   "execution_count": 43,
   "metadata": {
    "execution": {
     "iopub.execute_input": "2020-10-03T02:48:35.304321Z",
     "iopub.status.busy": "2020-10-03T02:48:35.303147Z",
     "iopub.status.idle": "2020-10-03T02:48:35.308254Z",
     "shell.execute_reply": "2020-10-03T02:48:35.307450Z"
    },
    "papermill": {
     "duration": 0.159361,
     "end_time": "2020-10-03T02:48:35.308395",
     "exception": false,
     "start_time": "2020-10-03T02:48:35.149034",
     "status": "completed"
    },
    "tags": []
   },
   "outputs": [
    {
     "data": {
      "text/plain": [
       "91.69178607983623"
      ]
     },
     "execution_count": 43,
     "metadata": {},
     "output_type": "execute_result"
    }
   ],
   "source": [
    "df_city1['Number of Reviews'].mean()"
   ]
  },
  {
   "cell_type": "code",
   "execution_count": 44,
   "metadata": {
    "execution": {
     "iopub.execute_input": "2020-10-03T02:48:35.618914Z",
     "iopub.status.busy": "2020-10-03T02:48:35.618019Z",
     "iopub.status.idle": "2020-10-03T02:48:35.623161Z",
     "shell.execute_reply": "2020-10-03T02:48:35.622478Z"
    },
    "papermill": {
     "duration": 0.16657,
     "end_time": "2020-10-03T02:48:35.623294",
     "exception": false,
     "start_time": "2020-10-03T02:48:35.456724",
     "status": "completed"
    },
    "tags": []
   },
   "outputs": [
    {
     "data": {
      "text/plain": [
       "London        3651\n",
       "Paris         3109\n",
       "Barcelona     1561\n",
       "Madrid        1560\n",
       "Rome          1317\n",
       "Milan          990\n",
       "Berlin         964\n",
       "Amsterdam      794\n",
       "Prague         743\n",
       "Lisbon         704\n",
       "Vienna         665\n",
       "Brussels       639\n",
       "Munich         554\n",
       "Lyon           469\n",
       "Dublin         466\n",
       "Stockholm      458\n",
       "Budapest       446\n",
       "Copenhagen     414\n",
       "Warsaw         393\n",
       "Edinburgh      388\n",
       "Hamburg        388\n",
       "Zurich         365\n",
       "Athens         328\n",
       "Geneva         318\n",
       "Oporto         259\n",
       "Oslo           250\n",
       "Helsinki       237\n",
       "Krakow         220\n",
       "Luxembourg     163\n",
       "Bratislava     124\n",
       "Ljubljana      104\n",
       "Name: City, dtype: int64"
      ]
     },
     "execution_count": 44,
     "metadata": {},
     "output_type": "execute_result"
    }
   ],
   "source": [
    "df_city2['City'].value_counts()"
   ]
  },
  {
   "cell_type": "code",
   "execution_count": 45,
   "metadata": {
    "execution": {
     "iopub.execute_input": "2020-10-03T02:48:35.920453Z",
     "iopub.status.busy": "2020-10-03T02:48:35.919070Z",
     "iopub.status.idle": "2020-10-03T02:48:35.924120Z",
     "shell.execute_reply": "2020-10-03T02:48:35.923368Z"
    },
    "papermill": {
     "duration": 0.156601,
     "end_time": "2020-10-03T02:48:35.924255",
     "exception": false,
     "start_time": "2020-10-03T02:48:35.767654",
     "status": "completed"
    },
    "tags": []
   },
   "outputs": [
    {
     "data": {
      "text/plain": [
       "185.5779263052819"
      ]
     },
     "execution_count": 45,
     "metadata": {},
     "output_type": "execute_result"
    }
   ],
   "source": [
    "df_city2['Number of Reviews'].mean()"
   ]
  },
  {
   "cell_type": "code",
   "execution_count": 46,
   "metadata": {
    "execution": {
     "iopub.execute_input": "2020-10-03T02:48:36.229597Z",
     "iopub.status.busy": "2020-10-03T02:48:36.228687Z",
     "iopub.status.idle": "2020-10-03T02:48:36.233442Z",
     "shell.execute_reply": "2020-10-03T02:48:36.232885Z"
    },
    "papermill": {
     "duration": 0.161039,
     "end_time": "2020-10-03T02:48:36.233602",
     "exception": false,
     "start_time": "2020-10-03T02:48:36.072563",
     "status": "completed"
    },
    "tags": []
   },
   "outputs": [
    {
     "data": {
      "text/plain": [
       "Paris         283\n",
       "London        276\n",
       "Madrid        121\n",
       "Milan         107\n",
       "Barcelona     104\n",
       "Rome           98\n",
       "Berlin         56\n",
       "Munich         54\n",
       "Geneva         52\n",
       "Brussels       49\n",
       "Zurich         47\n",
       "Lisbon         44\n",
       "Prague         42\n",
       "Amsterdam      41\n",
       "Vienna         39\n",
       "Copenhagen     37\n",
       "Lyon           33\n",
       "Hamburg        33\n",
       "Stockholm      32\n",
       "Oslo           32\n",
       "Warsaw         32\n",
       "Budapest       28\n",
       "Athens         24\n",
       "Helsinki       19\n",
       "Edinburgh      19\n",
       "Oporto         18\n",
       "Dublin         17\n",
       "Bratislava     14\n",
       "Krakow         13\n",
       "Luxembourg     11\n",
       "Ljubljana       7\n",
       "Name: City, dtype: int64"
      ]
     },
     "execution_count": 46,
     "metadata": {},
     "output_type": "execute_result"
    }
   ],
   "source": [
    "df_city3['City'].value_counts()"
   ]
  },
  {
   "cell_type": "code",
   "execution_count": 47,
   "metadata": {
    "execution": {
     "iopub.execute_input": "2020-10-03T02:48:36.540914Z",
     "iopub.status.busy": "2020-10-03T02:48:36.539845Z",
     "iopub.status.idle": "2020-10-03T02:48:36.545258Z",
     "shell.execute_reply": "2020-10-03T02:48:36.544615Z"
    },
    "papermill": {
     "duration": 0.162248,
     "end_time": "2020-10-03T02:48:36.545397",
     "exception": false,
     "start_time": "2020-10-03T02:48:36.383149",
     "status": "completed"
    },
    "tags": []
   },
   "outputs": [
    {
     "data": {
      "text/plain": [
       "367.19584736251403"
      ]
     },
     "execution_count": 47,
     "metadata": {},
     "output_type": "execute_result"
    }
   ],
   "source": [
    "df_city3['Number of Reviews'].mean()"
   ]
  },
  {
   "cell_type": "code",
   "execution_count": 48,
   "metadata": {
    "execution": {
     "iopub.execute_input": "2020-10-03T02:48:36.884973Z",
     "iopub.status.busy": "2020-10-03T02:48:36.884190Z",
     "iopub.status.idle": "2020-10-03T02:48:36.899674Z",
     "shell.execute_reply": "2020-10-03T02:48:36.898917Z"
    },
    "papermill": {
     "duration": 0.205891,
     "end_time": "2020-10-03T02:48:36.899808",
     "exception": false,
     "start_time": "2020-10-03T02:48:36.693917",
     "status": "completed"
    },
    "tags": []
   },
   "outputs": [
    {
     "name": "stdout",
     "output_type": "stream",
     "text": [
      "<class 'pandas.core.frame.DataFrame'>\n",
      "RangeIndex: 50000 entries, 0 to 49999\n",
      "Data columns (total 12 columns):\n",
      " #   Column                   Non-Null Count  Dtype  \n",
      "---  ------                   --------------  -----  \n",
      " 0   Restaurant_id            50000 non-null  object \n",
      " 1   City                     50000 non-null  object \n",
      " 2   Cuisine Style            38410 non-null  object \n",
      " 3   Ranking                  50000 non-null  float64\n",
      " 4   Price_Range              50000 non-null  object \n",
      " 5   Number of Reviews        50000 non-null  float64\n",
      " 6   Reviews                  50000 non-null  object \n",
      " 7   URL_TA                   50000 non-null  object \n",
      " 8   ID_TA                    50000 non-null  object \n",
      " 9   sample                   50000 non-null  int64  \n",
      " 10  Rating                   50000 non-null  float64\n",
      " 11  Number_of_Reviews_isNAN  50000 non-null  uint8  \n",
      "dtypes: float64(3), int64(1), object(7), uint8(1)\n",
      "memory usage: 4.2+ MB\n"
     ]
    }
   ],
   "source": [
    "data.info()"
   ]
  },
  {
   "cell_type": "code",
   "execution_count": 49,
   "metadata": {
    "execution": {
     "iopub.execute_input": "2020-10-03T02:48:37.207446Z",
     "iopub.status.busy": "2020-10-03T02:48:37.206663Z",
     "iopub.status.idle": "2020-10-03T02:48:37.209429Z",
     "shell.execute_reply": "2020-10-03T02:48:37.209989Z"
    },
    "papermill": {
     "duration": 0.160385,
     "end_time": "2020-10-03T02:48:37.210158",
     "exception": false,
     "start_time": "2020-10-03T02:48:37.049773",
     "status": "completed"
    },
    "tags": []
   },
   "outputs": [],
   "source": [
    "def to_numeric(columns):\n",
    "    s = pd.Series(data[columns])\n",
    "    pd.to_numeric(s)\n",
    "    data[columns] = pd.to_numeric(data[columns])"
   ]
  },
  {
   "cell_type": "code",
   "execution_count": 50,
   "metadata": {
    "execution": {
     "iopub.execute_input": "2020-10-03T02:48:37.520199Z",
     "iopub.status.busy": "2020-10-03T02:48:37.519238Z",
     "iopub.status.idle": "2020-10-03T02:48:37.538837Z",
     "shell.execute_reply": "2020-10-03T02:48:37.538092Z"
    },
    "papermill": {
     "duration": 0.179674,
     "end_time": "2020-10-03T02:48:37.538968",
     "exception": false,
     "start_time": "2020-10-03T02:48:37.359294",
     "status": "completed"
    },
    "tags": []
   },
   "outputs": [],
   "source": [
    "for col in ['Price_Range']:\n",
    "    to_numeric(col)"
   ]
  },
  {
   "cell_type": "code",
   "execution_count": null,
   "metadata": {
    "papermill": {
     "duration": 0.147049,
     "end_time": "2020-10-03T02:48:37.834361",
     "exception": false,
     "start_time": "2020-10-03T02:48:37.687312",
     "status": "completed"
    },
    "tags": []
   },
   "outputs": [],
   "source": []
  },
  {
   "cell_type": "markdown",
   "metadata": {
    "papermill": {
     "duration": 0.148813,
     "end_time": "2020-10-03T02:48:38.131044",
     "exception": false,
     "start_time": "2020-10-03T02:48:37.982231",
     "status": "completed"
    },
    "tags": []
   },
   "source": [
    "#### Как можно заметить, цены в ресторане зависят от количетсва отзывов"
   ]
  },
  {
   "cell_type": "markdown",
   "metadata": {
    "papermill": {
     "duration": 0.149768,
     "end_time": "2020-10-03T02:48:38.430875",
     "exception": false,
     "start_time": "2020-10-03T02:48:38.281107",
     "status": "completed"
    },
    "tags": []
   },
   "source": [
    "#### Заполним пропуски в соответствии с количеством отзывов о ресторане и рангом ресторана. "
   ]
  },
  {
   "cell_type": "code",
   "execution_count": 51,
   "metadata": {
    "execution": {
     "iopub.execute_input": "2020-10-03T02:48:38.739469Z",
     "iopub.status.busy": "2020-10-03T02:48:38.738707Z",
     "iopub.status.idle": "2020-10-03T02:48:38.752956Z",
     "shell.execute_reply": "2020-10-03T02:48:38.752319Z"
    },
    "papermill": {
     "duration": 0.169171,
     "end_time": "2020-10-03T02:48:38.753077",
     "exception": false,
     "start_time": "2020-10-03T02:48:38.583906",
     "status": "completed"
    },
    "tags": []
   },
   "outputs": [
    {
     "data": {
      "text/plain": [
       "(-7.659000000000001, 3221.333]    49945\n",
       "(3221.333, 6440.667]                 50\n",
       "(6440.667, 9660.0]                    5\n",
       "Name: Number of Reviews, dtype: int64"
      ]
     },
     "execution_count": 51,
     "metadata": {},
     "output_type": "execute_result"
    }
   ],
   "source": [
    "data['Number of Reviews'].value_counts(bins=3)"
   ]
  },
  {
   "cell_type": "code",
   "execution_count": 52,
   "metadata": {
    "execution": {
     "iopub.execute_input": "2020-10-03T02:48:39.062205Z",
     "iopub.status.busy": "2020-10-03T02:48:39.061429Z",
     "iopub.status.idle": "2020-10-03T02:49:32.844548Z",
     "shell.execute_reply": "2020-10-03T02:49:32.843725Z"
    },
    "papermill": {
     "duration": 53.941786,
     "end_time": "2020-10-03T02:49:32.844686",
     "exception": false,
     "start_time": "2020-10-03T02:48:38.902900",
     "status": "completed"
    },
    "tags": []
   },
   "outputs": [],
   "source": [
    "for i in data['Number of Reviews']:\n",
    "    if (i<=3221.333):\n",
    "        data.loc[data['Price_Range'] == 0, 'Price_Range'] = 1\n",
    "    elif ((i>3221.333) and (i<=6440.667)):\n",
    "        data.loc[data['Price_Range'] == 0, 'Price_Range'] = 2\n",
    "    elif (i>6440.667):\n",
    "        data.loc[data['Price_Range'] == 0, 'Price_Range'] = 3"
   ]
  },
  {
   "cell_type": "code",
   "execution_count": 53,
   "metadata": {
    "execution": {
     "iopub.execute_input": "2020-10-03T02:49:33.151837Z",
     "iopub.status.busy": "2020-10-03T02:49:33.151026Z",
     "iopub.status.idle": "2020-10-03T02:49:33.158635Z",
     "shell.execute_reply": "2020-10-03T02:49:33.157862Z"
    },
    "papermill": {
     "duration": 0.162637,
     "end_time": "2020-10-03T02:49:33.158778",
     "exception": false,
     "start_time": "2020-10-03T02:49:32.996141",
     "status": "completed"
    },
    "tags": []
   },
   "outputs": [
    {
     "data": {
      "text/plain": [
       "1    25177\n",
       "2    23041\n",
       "3     1782\n",
       "Name: Price_Range, dtype: int64"
      ]
     },
     "execution_count": 53,
     "metadata": {},
     "output_type": "execute_result"
    }
   ],
   "source": [
    "data['Price_Range'].value_counts()"
   ]
  },
  {
   "cell_type": "code",
   "execution_count": 54,
   "metadata": {
    "execution": {
     "iopub.execute_input": "2020-10-03T02:49:33.540209Z",
     "iopub.status.busy": "2020-10-03T02:49:33.506415Z",
     "iopub.status.idle": "2020-10-03T02:49:33.553070Z",
     "shell.execute_reply": "2020-10-03T02:49:33.553860Z"
    },
    "papermill": {
     "duration": 0.202684,
     "end_time": "2020-10-03T02:49:33.554075",
     "exception": false,
     "start_time": "2020-10-03T02:49:33.351391",
     "status": "completed"
    },
    "tags": []
   },
   "outputs": [
    {
     "name": "stdout",
     "output_type": "stream",
     "text": [
      "<class 'pandas.core.frame.DataFrame'>\n",
      "RangeIndex: 50000 entries, 0 to 49999\n",
      "Data columns (total 12 columns):\n",
      " #   Column                   Non-Null Count  Dtype  \n",
      "---  ------                   --------------  -----  \n",
      " 0   Restaurant_id            50000 non-null  object \n",
      " 1   City                     50000 non-null  object \n",
      " 2   Cuisine Style            38410 non-null  object \n",
      " 3   Ranking                  50000 non-null  float64\n",
      " 4   Price_Range              50000 non-null  int64  \n",
      " 5   Number of Reviews        50000 non-null  float64\n",
      " 6   Reviews                  50000 non-null  object \n",
      " 7   URL_TA                   50000 non-null  object \n",
      " 8   ID_TA                    50000 non-null  object \n",
      " 9   sample                   50000 non-null  int64  \n",
      " 10  Rating                   50000 non-null  float64\n",
      " 11  Number_of_Reviews_isNAN  50000 non-null  uint8  \n",
      "dtypes: float64(3), int64(2), object(6), uint8(1)\n",
      "memory usage: 4.2+ MB\n"
     ]
    }
   ],
   "source": [
    "data.info()"
   ]
  },
  {
   "cell_type": "markdown",
   "metadata": {
    "papermill": {
     "duration": 0.149993,
     "end_time": "2020-10-03T02:49:33.869742",
     "exception": false,
     "start_time": "2020-10-03T02:49:33.719749",
     "status": "completed"
    },
    "tags": []
   },
   "source": [
    "#### Рассмотрим столбец Cuisine Stule"
   ]
  },
  {
   "cell_type": "code",
   "execution_count": 55,
   "metadata": {
    "execution": {
     "iopub.execute_input": "2020-10-03T02:49:34.197292Z",
     "iopub.status.busy": "2020-10-03T02:49:34.196004Z",
     "iopub.status.idle": "2020-10-03T02:49:34.207375Z",
     "shell.execute_reply": "2020-10-03T02:49:34.206641Z"
    },
    "papermill": {
     "duration": 0.187174,
     "end_time": "2020-10-03T02:49:34.207516",
     "exception": false,
     "start_time": "2020-10-03T02:49:34.020342",
     "status": "completed"
    },
    "tags": []
   },
   "outputs": [
    {
     "data": {
      "text/plain": [
       "['Italian']                                                                                                                        1332\n",
       "['French']                                                                                                                         1019\n",
       "['Spanish']                                                                                                                         860\n",
       "['French', 'European']                                                                                                              503\n",
       "['Cafe']                                                                                                                            500\n",
       "                                                                                                                                   ... \n",
       "['French', 'Mediterranean', 'European', 'Delicatessen']                                                                               1\n",
       "['Belgian', 'Bar', 'European', 'Pub', 'French', 'International']                                                                      1\n",
       "['Pizza', 'European', 'Italian', 'Vegetarian Friendly', 'Vegan Options', 'Gluten Free Options']                                       1\n",
       "['Italian', 'Mediterranean', 'European', 'Portuguese', 'International', 'Contemporary', 'Vegetarian Friendly', 'Vegan Options']       1\n",
       "['French', 'American', 'Street Food']                                                                                                 1\n",
       "Name: Cuisine Style, Length: 10731, dtype: int64"
      ]
     },
     "execution_count": 55,
     "metadata": {},
     "output_type": "execute_result"
    }
   ],
   "source": [
    "data['Cuisine Style'].value_counts()"
   ]
  },
  {
   "cell_type": "code",
   "execution_count": 56,
   "metadata": {
    "execution": {
     "iopub.execute_input": "2020-10-03T02:49:34.551172Z",
     "iopub.status.busy": "2020-10-03T02:49:34.550353Z",
     "iopub.status.idle": "2020-10-03T02:49:34.563898Z",
     "shell.execute_reply": "2020-10-03T02:49:34.562753Z"
    },
    "papermill": {
     "duration": 0.204493,
     "end_time": "2020-10-03T02:49:34.564083",
     "exception": false,
     "start_time": "2020-10-03T02:49:34.359590",
     "status": "completed"
    },
    "tags": []
   },
   "outputs": [
    {
     "name": "stdout",
     "output_type": "stream",
     "text": [
      "<class 'pandas.core.frame.DataFrame'>\n",
      "RangeIndex: 50000 entries, 0 to 49999\n",
      "Data columns (total 12 columns):\n",
      " #   Column                   Non-Null Count  Dtype  \n",
      "---  ------                   --------------  -----  \n",
      " 0   Restaurant_id            50000 non-null  object \n",
      " 1   City                     50000 non-null  object \n",
      " 2   Cuisine Style            38410 non-null  object \n",
      " 3   Ranking                  50000 non-null  float64\n",
      " 4   Price_Range              50000 non-null  int64  \n",
      " 5   Number of Reviews        50000 non-null  float64\n",
      " 6   Reviews                  50000 non-null  object \n",
      " 7   URL_TA                   50000 non-null  object \n",
      " 8   ID_TA                    50000 non-null  object \n",
      " 9   sample                   50000 non-null  int64  \n",
      " 10  Rating                   50000 non-null  float64\n",
      " 11  Number_of_Reviews_isNAN  50000 non-null  uint8  \n",
      "dtypes: float64(3), int64(2), object(6), uint8(1)\n",
      "memory usage: 4.2+ MB\n"
     ]
    }
   ],
   "source": [
    "data.info()"
   ]
  },
  {
   "cell_type": "markdown",
   "metadata": {
    "papermill": {
     "duration": 0.151586,
     "end_time": "2020-10-03T02:49:34.870336",
     "exception": false,
     "start_time": "2020-10-03T02:49:34.718750",
     "status": "completed"
    },
    "tags": []
   },
   "source": [
    "#### Пока оставим пропуски в данном столбце, пересмотрим данный столбец в процессе обработки"
   ]
  },
  {
   "cell_type": "markdown",
   "metadata": {
    "papermill": {
     "duration": 0.156788,
     "end_time": "2020-10-03T02:49:35.181647",
     "exception": false,
     "start_time": "2020-10-03T02:49:35.024859",
     "status": "completed"
    },
    "tags": []
   },
   "source": [
    "### 2. Обработка признаков\n",
    "Для начала посмотрим какие признаки у нас могут быть категориальными."
   ]
  },
  {
   "cell_type": "code",
   "execution_count": 57,
   "metadata": {
    "execution": {
     "iopub.execute_input": "2020-10-03T02:49:35.495764Z",
     "iopub.status.busy": "2020-10-03T02:49:35.494975Z",
     "iopub.status.idle": "2020-10-03T02:49:35.575315Z",
     "shell.execute_reply": "2020-10-03T02:49:35.574568Z"
    },
    "papermill": {
     "duration": 0.241976,
     "end_time": "2020-10-03T02:49:35.575440",
     "exception": false,
     "start_time": "2020-10-03T02:49:35.333464",
     "status": "completed"
    },
    "tags": []
   },
   "outputs": [
    {
     "data": {
      "text/plain": [
       "Restaurant_id              13094\n",
       "City                          31\n",
       "Cuisine Style              10732\n",
       "Ranking                    12975\n",
       "Price_Range                    3\n",
       "Number of Reviews           1573\n",
       "Reviews                    41858\n",
       "URL_TA                     49963\n",
       "ID_TA                      49963\n",
       "sample                         2\n",
       "Rating                        10\n",
       "Number_of_Reviews_isNAN        2\n",
       "dtype: int64"
      ]
     },
     "execution_count": 57,
     "metadata": {},
     "output_type": "execute_result"
    }
   ],
   "source": [
    "data.nunique(dropna=False)"
   ]
  },
  {
   "cell_type": "markdown",
   "metadata": {
    "papermill": {
     "duration": 0.151592,
     "end_time": "2020-10-03T02:49:35.883680",
     "exception": false,
     "start_time": "2020-10-03T02:49:35.732088",
     "status": "completed"
    },
    "tags": []
   },
   "source": [
    "Какие признаки можно считать категориальными?"
   ]
  },
  {
   "cell_type": "markdown",
   "metadata": {
    "papermill": {
     "duration": 0.152292,
     "end_time": "2020-10-03T02:49:36.188990",
     "exception": false,
     "start_time": "2020-10-03T02:49:36.036698",
     "status": "completed"
    },
    "tags": []
   },
   "source": [
    "Для кодирования категориальных признаков есть множество подходов:\n",
    "* Label Encoding\n",
    "* One-Hot Encoding\n",
    "* Target Encoding\n",
    "* Hashing\n",
    "\n",
    "Выбор кодирования зависит от признака и выбраной модели.\n",
    "Не будем сейчас сильно погружаться в эту тематику, давайте посмотрим лучше пример с One-Hot Encoding:\n",
    "![](https://i.imgur.com/mtimFxh.png)"
   ]
  },
  {
   "cell_type": "code",
   "execution_count": 58,
   "metadata": {
    "execution": {
     "iopub.execute_input": "2020-10-03T02:49:36.502870Z",
     "iopub.status.busy": "2020-10-03T02:49:36.501465Z",
     "iopub.status.idle": "2020-10-03T02:49:36.536448Z",
     "shell.execute_reply": "2020-10-03T02:49:36.535786Z"
    },
    "papermill": {
     "duration": 0.195777,
     "end_time": "2020-10-03T02:49:36.536594",
     "exception": false,
     "start_time": "2020-10-03T02:49:36.340817",
     "status": "completed"
    },
    "tags": []
   },
   "outputs": [],
   "source": [
    "# для One-Hot Encoding в pandas есть готовая функция - get_dummies. Особенно радует параметр dummy_na\n",
    "data = pd.get_dummies(data, columns=[ 'City',], dummy_na=True)"
   ]
  },
  {
   "cell_type": "code",
   "execution_count": 59,
   "metadata": {
    "execution": {
     "iopub.execute_input": "2020-10-03T02:49:36.851757Z",
     "iopub.status.busy": "2020-10-03T02:49:36.850472Z",
     "iopub.status.idle": "2020-10-03T02:49:36.879228Z",
     "shell.execute_reply": "2020-10-03T02:49:36.879891Z"
    },
    "papermill": {
     "duration": 0.18969,
     "end_time": "2020-10-03T02:49:36.880045",
     "exception": false,
     "start_time": "2020-10-03T02:49:36.690355",
     "status": "completed"
    },
    "tags": []
   },
   "outputs": [
    {
     "data": {
      "text/html": [
       "<div>\n",
       "<style scoped>\n",
       "    .dataframe tbody tr th:only-of-type {\n",
       "        vertical-align: middle;\n",
       "    }\n",
       "\n",
       "    .dataframe tbody tr th {\n",
       "        vertical-align: top;\n",
       "    }\n",
       "\n",
       "    .dataframe thead th {\n",
       "        text-align: right;\n",
       "    }\n",
       "</style>\n",
       "<table border=\"1\" class=\"dataframe\">\n",
       "  <thead>\n",
       "    <tr style=\"text-align: right;\">\n",
       "      <th></th>\n",
       "      <th>Restaurant_id</th>\n",
       "      <th>Cuisine Style</th>\n",
       "      <th>Ranking</th>\n",
       "      <th>Price_Range</th>\n",
       "      <th>Number of Reviews</th>\n",
       "      <th>Reviews</th>\n",
       "      <th>URL_TA</th>\n",
       "      <th>ID_TA</th>\n",
       "      <th>sample</th>\n",
       "      <th>Rating</th>\n",
       "      <th>...</th>\n",
       "      <th>City_Oporto</th>\n",
       "      <th>City_Oslo</th>\n",
       "      <th>City_Paris</th>\n",
       "      <th>City_Prague</th>\n",
       "      <th>City_Rome</th>\n",
       "      <th>City_Stockholm</th>\n",
       "      <th>City_Vienna</th>\n",
       "      <th>City_Warsaw</th>\n",
       "      <th>City_Zurich</th>\n",
       "      <th>City_nan</th>\n",
       "    </tr>\n",
       "  </thead>\n",
       "  <tbody>\n",
       "    <tr>\n",
       "      <th>0</th>\n",
       "      <td>id_0</td>\n",
       "      <td>['Bar', 'Pub']</td>\n",
       "      <td>12963.0</td>\n",
       "      <td>2</td>\n",
       "      <td>4.0</td>\n",
       "      <td>[[], []]</td>\n",
       "      <td>/Restaurant_Review-g187147-d10746918-Reviews-L...</td>\n",
       "      <td>d10746918</td>\n",
       "      <td>0</td>\n",
       "      <td>0.0</td>\n",
       "      <td>...</td>\n",
       "      <td>0</td>\n",
       "      <td>0</td>\n",
       "      <td>1</td>\n",
       "      <td>0</td>\n",
       "      <td>0</td>\n",
       "      <td>0</td>\n",
       "      <td>0</td>\n",
       "      <td>0</td>\n",
       "      <td>0</td>\n",
       "      <td>0</td>\n",
       "    </tr>\n",
       "    <tr>\n",
       "      <th>1</th>\n",
       "      <td>id_1</td>\n",
       "      <td>['European', 'Scandinavian', 'Gluten Free Opti...</td>\n",
       "      <td>106.0</td>\n",
       "      <td>2</td>\n",
       "      <td>97.0</td>\n",
       "      <td>[['Very good reviews!', 'Fine dining in Hakani...</td>\n",
       "      <td>/Restaurant_Review-g189934-d6674944-Reviews-Ra...</td>\n",
       "      <td>d6674944</td>\n",
       "      <td>0</td>\n",
       "      <td>0.0</td>\n",
       "      <td>...</td>\n",
       "      <td>0</td>\n",
       "      <td>0</td>\n",
       "      <td>0</td>\n",
       "      <td>0</td>\n",
       "      <td>0</td>\n",
       "      <td>0</td>\n",
       "      <td>0</td>\n",
       "      <td>0</td>\n",
       "      <td>0</td>\n",
       "      <td>0</td>\n",
       "    </tr>\n",
       "    <tr>\n",
       "      <th>2</th>\n",
       "      <td>id_2</td>\n",
       "      <td>['Vegetarian Friendly']</td>\n",
       "      <td>810.0</td>\n",
       "      <td>2</td>\n",
       "      <td>28.0</td>\n",
       "      <td>[['Better than the Links', 'Ivy Black'], ['12/...</td>\n",
       "      <td>/Restaurant_Review-g186525-d13129638-Reviews-B...</td>\n",
       "      <td>d13129638</td>\n",
       "      <td>0</td>\n",
       "      <td>0.0</td>\n",
       "      <td>...</td>\n",
       "      <td>0</td>\n",
       "      <td>0</td>\n",
       "      <td>0</td>\n",
       "      <td>0</td>\n",
       "      <td>0</td>\n",
       "      <td>0</td>\n",
       "      <td>0</td>\n",
       "      <td>0</td>\n",
       "      <td>0</td>\n",
       "      <td>0</td>\n",
       "    </tr>\n",
       "    <tr>\n",
       "      <th>3</th>\n",
       "      <td>id_3</td>\n",
       "      <td>['Italian', 'Mediterranean', 'European', 'Vege...</td>\n",
       "      <td>1669.0</td>\n",
       "      <td>3</td>\n",
       "      <td>202.0</td>\n",
       "      <td>[['Most exquisite', 'Delicious and authentic']...</td>\n",
       "      <td>/Restaurant_Review-g186338-d680417-Reviews-Qui...</td>\n",
       "      <td>d680417</td>\n",
       "      <td>0</td>\n",
       "      <td>0.0</td>\n",
       "      <td>...</td>\n",
       "      <td>0</td>\n",
       "      <td>0</td>\n",
       "      <td>0</td>\n",
       "      <td>0</td>\n",
       "      <td>0</td>\n",
       "      <td>0</td>\n",
       "      <td>0</td>\n",
       "      <td>0</td>\n",
       "      <td>0</td>\n",
       "      <td>0</td>\n",
       "    </tr>\n",
       "    <tr>\n",
       "      <th>4</th>\n",
       "      <td>id_4</td>\n",
       "      <td>['Italian', 'Mediterranean', 'European', 'Seaf...</td>\n",
       "      <td>37.0</td>\n",
       "      <td>3</td>\n",
       "      <td>162.0</td>\n",
       "      <td>[['Always the best in bratislava', 'Very good ...</td>\n",
       "      <td>/Restaurant_Review-g274924-d1112354-Reviews-Ma...</td>\n",
       "      <td>d1112354</td>\n",
       "      <td>0</td>\n",
       "      <td>0.0</td>\n",
       "      <td>...</td>\n",
       "      <td>0</td>\n",
       "      <td>0</td>\n",
       "      <td>0</td>\n",
       "      <td>0</td>\n",
       "      <td>0</td>\n",
       "      <td>0</td>\n",
       "      <td>0</td>\n",
       "      <td>0</td>\n",
       "      <td>0</td>\n",
       "      <td>0</td>\n",
       "    </tr>\n",
       "  </tbody>\n",
       "</table>\n",
       "<p>5 rows × 43 columns</p>\n",
       "</div>"
      ],
      "text/plain": [
       "  Restaurant_id                                      Cuisine Style  Ranking  \\\n",
       "0          id_0                                     ['Bar', 'Pub']  12963.0   \n",
       "1          id_1  ['European', 'Scandinavian', 'Gluten Free Opti...    106.0   \n",
       "2          id_2                            ['Vegetarian Friendly']    810.0   \n",
       "3          id_3  ['Italian', 'Mediterranean', 'European', 'Vege...   1669.0   \n",
       "4          id_4  ['Italian', 'Mediterranean', 'European', 'Seaf...     37.0   \n",
       "\n",
       "   Price_Range  Number of Reviews  \\\n",
       "0            2                4.0   \n",
       "1            2               97.0   \n",
       "2            2               28.0   \n",
       "3            3              202.0   \n",
       "4            3              162.0   \n",
       "\n",
       "                                             Reviews  \\\n",
       "0                                           [[], []]   \n",
       "1  [['Very good reviews!', 'Fine dining in Hakani...   \n",
       "2  [['Better than the Links', 'Ivy Black'], ['12/...   \n",
       "3  [['Most exquisite', 'Delicious and authentic']...   \n",
       "4  [['Always the best in bratislava', 'Very good ...   \n",
       "\n",
       "                                              URL_TA      ID_TA  sample  \\\n",
       "0  /Restaurant_Review-g187147-d10746918-Reviews-L...  d10746918       0   \n",
       "1  /Restaurant_Review-g189934-d6674944-Reviews-Ra...   d6674944       0   \n",
       "2  /Restaurant_Review-g186525-d13129638-Reviews-B...  d13129638       0   \n",
       "3  /Restaurant_Review-g186338-d680417-Reviews-Qui...    d680417       0   \n",
       "4  /Restaurant_Review-g274924-d1112354-Reviews-Ma...   d1112354       0   \n",
       "\n",
       "   Rating  ...  City_Oporto  City_Oslo  City_Paris  City_Prague  City_Rome  \\\n",
       "0     0.0  ...            0          0           1            0          0   \n",
       "1     0.0  ...            0          0           0            0          0   \n",
       "2     0.0  ...            0          0           0            0          0   \n",
       "3     0.0  ...            0          0           0            0          0   \n",
       "4     0.0  ...            0          0           0            0          0   \n",
       "\n",
       "   City_Stockholm  City_Vienna  City_Warsaw  City_Zurich  City_nan  \n",
       "0               0            0            0            0         0  \n",
       "1               0            0            0            0         0  \n",
       "2               0            0            0            0         0  \n",
       "3               0            0            0            0         0  \n",
       "4               0            0            0            0         0  \n",
       "\n",
       "[5 rows x 43 columns]"
      ]
     },
     "execution_count": 59,
     "metadata": {},
     "output_type": "execute_result"
    }
   ],
   "source": [
    "data.head(5)"
   ]
  },
  {
   "cell_type": "code",
   "execution_count": 60,
   "metadata": {
    "execution": {
     "iopub.execute_input": "2020-10-03T02:49:37.210990Z",
     "iopub.status.busy": "2020-10-03T02:49:37.209822Z",
     "iopub.status.idle": "2020-10-03T02:49:37.249319Z",
     "shell.execute_reply": "2020-10-03T02:49:37.248581Z"
    },
    "papermill": {
     "duration": 0.209702,
     "end_time": "2020-10-03T02:49:37.249456",
     "exception": false,
     "start_time": "2020-10-03T02:49:37.039754",
     "status": "completed"
    },
    "tags": []
   },
   "outputs": [
    {
     "data": {
      "text/html": [
       "<div>\n",
       "<style scoped>\n",
       "    .dataframe tbody tr th:only-of-type {\n",
       "        vertical-align: middle;\n",
       "    }\n",
       "\n",
       "    .dataframe tbody tr th {\n",
       "        vertical-align: top;\n",
       "    }\n",
       "\n",
       "    .dataframe thead th {\n",
       "        text-align: right;\n",
       "    }\n",
       "</style>\n",
       "<table border=\"1\" class=\"dataframe\">\n",
       "  <thead>\n",
       "    <tr style=\"text-align: right;\">\n",
       "      <th></th>\n",
       "      <th>Restaurant_id</th>\n",
       "      <th>Cuisine Style</th>\n",
       "      <th>Ranking</th>\n",
       "      <th>Price_Range</th>\n",
       "      <th>Number of Reviews</th>\n",
       "      <th>Reviews</th>\n",
       "      <th>URL_TA</th>\n",
       "      <th>ID_TA</th>\n",
       "      <th>sample</th>\n",
       "      <th>Rating</th>\n",
       "      <th>...</th>\n",
       "      <th>City_Oporto</th>\n",
       "      <th>City_Oslo</th>\n",
       "      <th>City_Paris</th>\n",
       "      <th>City_Prague</th>\n",
       "      <th>City_Rome</th>\n",
       "      <th>City_Stockholm</th>\n",
       "      <th>City_Vienna</th>\n",
       "      <th>City_Warsaw</th>\n",
       "      <th>City_Zurich</th>\n",
       "      <th>City_nan</th>\n",
       "    </tr>\n",
       "  </thead>\n",
       "  <tbody>\n",
       "    <tr>\n",
       "      <th>16417</th>\n",
       "      <td>id_6962</td>\n",
       "      <td>['Mediterranean', 'Spanish', 'European', 'Vege...</td>\n",
       "      <td>6963.0</td>\n",
       "      <td>1</td>\n",
       "      <td>50.0</td>\n",
       "      <td>[['Not much to write about.', 'Not a good expe...</td>\n",
       "      <td>/Restaurant_Review-g187497-d10109262-Reviews-L...</td>\n",
       "      <td>d10109262</td>\n",
       "      <td>1</td>\n",
       "      <td>3.0</td>\n",
       "      <td>...</td>\n",
       "      <td>0</td>\n",
       "      <td>0</td>\n",
       "      <td>0</td>\n",
       "      <td>0</td>\n",
       "      <td>0</td>\n",
       "      <td>0</td>\n",
       "      <td>0</td>\n",
       "      <td>0</td>\n",
       "      <td>0</td>\n",
       "      <td>0</td>\n",
       "    </tr>\n",
       "    <tr>\n",
       "      <th>21377</th>\n",
       "      <td>id_1098</td>\n",
       "      <td>['Chinese', 'Asian', 'Healthy']</td>\n",
       "      <td>1100.0</td>\n",
       "      <td>1</td>\n",
       "      <td>8.0</td>\n",
       "      <td>[['Buffet full of asian flavours with a vegan....</td>\n",
       "      <td>/Restaurant_Review-g189541-d12715546-Reviews-V...</td>\n",
       "      <td>d12715546</td>\n",
       "      <td>1</td>\n",
       "      <td>4.0</td>\n",
       "      <td>...</td>\n",
       "      <td>0</td>\n",
       "      <td>0</td>\n",
       "      <td>0</td>\n",
       "      <td>0</td>\n",
       "      <td>0</td>\n",
       "      <td>0</td>\n",
       "      <td>0</td>\n",
       "      <td>0</td>\n",
       "      <td>0</td>\n",
       "      <td>0</td>\n",
       "    </tr>\n",
       "    <tr>\n",
       "      <th>42829</th>\n",
       "      <td>id_3997</td>\n",
       "      <td>NaN</td>\n",
       "      <td>3999.0</td>\n",
       "      <td>1</td>\n",
       "      <td>9.0</td>\n",
       "      <td>[[], []]</td>\n",
       "      <td>/Restaurant_Review-g187323-d8768691-Reviews-Ko...</td>\n",
       "      <td>d8768691</td>\n",
       "      <td>1</td>\n",
       "      <td>4.5</td>\n",
       "      <td>...</td>\n",
       "      <td>0</td>\n",
       "      <td>0</td>\n",
       "      <td>0</td>\n",
       "      <td>0</td>\n",
       "      <td>0</td>\n",
       "      <td>0</td>\n",
       "      <td>0</td>\n",
       "      <td>0</td>\n",
       "      <td>0</td>\n",
       "      <td>0</td>\n",
       "    </tr>\n",
       "    <tr>\n",
       "      <th>4324</th>\n",
       "      <td>id_4324</td>\n",
       "      <td>['Mediterranean', 'Spanish', 'Delicatessen', '...</td>\n",
       "      <td>1416.0</td>\n",
       "      <td>3</td>\n",
       "      <td>63.0</td>\n",
       "      <td>[['Cool place....', 'Terrible service'], ['10/...</td>\n",
       "      <td>/Restaurant_Review-g187514-d10797678-Reviews-B...</td>\n",
       "      <td>d10797678</td>\n",
       "      <td>0</td>\n",
       "      <td>0.0</td>\n",
       "      <td>...</td>\n",
       "      <td>0</td>\n",
       "      <td>0</td>\n",
       "      <td>0</td>\n",
       "      <td>0</td>\n",
       "      <td>0</td>\n",
       "      <td>0</td>\n",
       "      <td>0</td>\n",
       "      <td>0</td>\n",
       "      <td>0</td>\n",
       "      <td>0</td>\n",
       "    </tr>\n",
       "    <tr>\n",
       "      <th>26854</th>\n",
       "      <td>id_4691</td>\n",
       "      <td>['Bar', 'Cafe', 'Mediterranean', 'Italian']</td>\n",
       "      <td>4692.0</td>\n",
       "      <td>1</td>\n",
       "      <td>89.0</td>\n",
       "      <td>[['Great little bite to eat', 'A lot of fun'],...</td>\n",
       "      <td>/Restaurant_Review-g187791-d4451222-Reviews-Ne...</td>\n",
       "      <td>d4451222</td>\n",
       "      <td>1</td>\n",
       "      <td>4.0</td>\n",
       "      <td>...</td>\n",
       "      <td>0</td>\n",
       "      <td>0</td>\n",
       "      <td>0</td>\n",
       "      <td>0</td>\n",
       "      <td>1</td>\n",
       "      <td>0</td>\n",
       "      <td>0</td>\n",
       "      <td>0</td>\n",
       "      <td>0</td>\n",
       "      <td>0</td>\n",
       "    </tr>\n",
       "  </tbody>\n",
       "</table>\n",
       "<p>5 rows × 43 columns</p>\n",
       "</div>"
      ],
      "text/plain": [
       "      Restaurant_id                                      Cuisine Style  \\\n",
       "16417       id_6962  ['Mediterranean', 'Spanish', 'European', 'Vege...   \n",
       "21377       id_1098                    ['Chinese', 'Asian', 'Healthy']   \n",
       "42829       id_3997                                                NaN   \n",
       "4324        id_4324  ['Mediterranean', 'Spanish', 'Delicatessen', '...   \n",
       "26854       id_4691        ['Bar', 'Cafe', 'Mediterranean', 'Italian']   \n",
       "\n",
       "       Ranking  Price_Range  Number of Reviews  \\\n",
       "16417   6963.0            1               50.0   \n",
       "21377   1100.0            1                8.0   \n",
       "42829   3999.0            1                9.0   \n",
       "4324    1416.0            3               63.0   \n",
       "26854   4692.0            1               89.0   \n",
       "\n",
       "                                                 Reviews  \\\n",
       "16417  [['Not much to write about.', 'Not a good expe...   \n",
       "21377  [['Buffet full of asian flavours with a vegan....   \n",
       "42829                                           [[], []]   \n",
       "4324   [['Cool place....', 'Terrible service'], ['10/...   \n",
       "26854  [['Great little bite to eat', 'A lot of fun'],...   \n",
       "\n",
       "                                                  URL_TA      ID_TA  sample  \\\n",
       "16417  /Restaurant_Review-g187497-d10109262-Reviews-L...  d10109262       1   \n",
       "21377  /Restaurant_Review-g189541-d12715546-Reviews-V...  d12715546       1   \n",
       "42829  /Restaurant_Review-g187323-d8768691-Reviews-Ko...   d8768691       1   \n",
       "4324   /Restaurant_Review-g187514-d10797678-Reviews-B...  d10797678       0   \n",
       "26854  /Restaurant_Review-g187791-d4451222-Reviews-Ne...   d4451222       1   \n",
       "\n",
       "       Rating  ...  City_Oporto  City_Oslo  City_Paris  City_Prague  \\\n",
       "16417     3.0  ...            0          0           0            0   \n",
       "21377     4.0  ...            0          0           0            0   \n",
       "42829     4.5  ...            0          0           0            0   \n",
       "4324      0.0  ...            0          0           0            0   \n",
       "26854     4.0  ...            0          0           0            0   \n",
       "\n",
       "       City_Rome  City_Stockholm  City_Vienna  City_Warsaw  City_Zurich  \\\n",
       "16417          0               0            0            0            0   \n",
       "21377          0               0            0            0            0   \n",
       "42829          0               0            0            0            0   \n",
       "4324           0               0            0            0            0   \n",
       "26854          1               0            0            0            0   \n",
       "\n",
       "       City_nan  \n",
       "16417         0  \n",
       "21377         0  \n",
       "42829         0  \n",
       "4324          0  \n",
       "26854         0  \n",
       "\n",
       "[5 rows x 43 columns]"
      ]
     },
     "execution_count": 60,
     "metadata": {},
     "output_type": "execute_result"
    }
   ],
   "source": [
    "data.sample(5)"
   ]
  },
  {
   "cell_type": "markdown",
   "metadata": {
    "papermill": {
     "duration": 0.155594,
     "end_time": "2020-10-03T02:49:37.560174",
     "exception": false,
     "start_time": "2020-10-03T02:49:37.404580",
     "status": "completed"
    },
    "tags": []
   },
   "source": [
    "#### Возьмем следующий признак \"Price Range\"."
   ]
  },
  {
   "cell_type": "code",
   "execution_count": 61,
   "metadata": {
    "execution": {
     "iopub.execute_input": "2020-10-03T02:49:37.885318Z",
     "iopub.status.busy": "2020-10-03T02:49:37.884471Z",
     "iopub.status.idle": "2020-10-03T02:49:37.892233Z",
     "shell.execute_reply": "2020-10-03T02:49:37.891535Z"
    },
    "papermill": {
     "duration": 0.16664,
     "end_time": "2020-10-03T02:49:37.892366",
     "exception": false,
     "start_time": "2020-10-03T02:49:37.725726",
     "status": "completed"
    },
    "tags": []
   },
   "outputs": [
    {
     "data": {
      "text/plain": [
       "1    25177\n",
       "2    23041\n",
       "3     1782\n",
       "Name: Price_Range, dtype: int64"
      ]
     },
     "execution_count": 61,
     "metadata": {},
     "output_type": "execute_result"
    }
   ],
   "source": [
    "data['Price_Range'].value_counts()"
   ]
  },
  {
   "cell_type": "markdown",
   "metadata": {
    "papermill": {
     "duration": 0.15592,
     "end_time": "2020-10-03T02:49:38.208904",
     "exception": false,
     "start_time": "2020-10-03T02:49:38.052984",
     "status": "completed"
    },
    "tags": []
   },
   "source": [
    "#### Столбец Price_Range обработан при заполении NaN"
   ]
  },
  {
   "cell_type": "markdown",
   "metadata": {
    "papermill": {
     "duration": 0.155696,
     "end_time": "2020-10-03T02:49:38.524540",
     "exception": false,
     "start_time": "2020-10-03T02:49:38.368844",
     "status": "completed"
    },
    "tags": []
   },
   "source": [
    "#### Посмотрим снова на данные"
   ]
  },
  {
   "cell_type": "code",
   "execution_count": 62,
   "metadata": {
    "execution": {
     "iopub.execute_input": "2020-10-03T02:49:38.841713Z",
     "iopub.status.busy": "2020-10-03T02:49:38.840893Z",
     "iopub.status.idle": "2020-10-03T02:49:38.915280Z",
     "shell.execute_reply": "2020-10-03T02:49:38.914677Z"
    },
    "papermill": {
     "duration": 0.235412,
     "end_time": "2020-10-03T02:49:38.915411",
     "exception": false,
     "start_time": "2020-10-03T02:49:38.679999",
     "status": "completed"
    },
    "tags": []
   },
   "outputs": [
    {
     "data": {
      "text/html": [
       "<div>\n",
       "<style scoped>\n",
       "    .dataframe tbody tr th:only-of-type {\n",
       "        vertical-align: middle;\n",
       "    }\n",
       "\n",
       "    .dataframe tbody tr th {\n",
       "        vertical-align: top;\n",
       "    }\n",
       "\n",
       "    .dataframe thead th {\n",
       "        text-align: right;\n",
       "    }\n",
       "</style>\n",
       "<table border=\"1\" class=\"dataframe\">\n",
       "  <thead>\n",
       "    <tr style=\"text-align: right;\">\n",
       "      <th></th>\n",
       "      <th>Restaurant_id</th>\n",
       "      <th>Cuisine Style</th>\n",
       "      <th>Ranking</th>\n",
       "      <th>Price_Range</th>\n",
       "      <th>Number of Reviews</th>\n",
       "      <th>Reviews</th>\n",
       "      <th>URL_TA</th>\n",
       "      <th>ID_TA</th>\n",
       "      <th>sample</th>\n",
       "      <th>Rating</th>\n",
       "      <th>...</th>\n",
       "      <th>City_Oporto</th>\n",
       "      <th>City_Oslo</th>\n",
       "      <th>City_Paris</th>\n",
       "      <th>City_Prague</th>\n",
       "      <th>City_Rome</th>\n",
       "      <th>City_Stockholm</th>\n",
       "      <th>City_Vienna</th>\n",
       "      <th>City_Warsaw</th>\n",
       "      <th>City_Zurich</th>\n",
       "      <th>City_nan</th>\n",
       "    </tr>\n",
       "  </thead>\n",
       "  <tbody>\n",
       "    <tr>\n",
       "      <th>0</th>\n",
       "      <td>id_0</td>\n",
       "      <td>['Bar', 'Pub']</td>\n",
       "      <td>12963.0</td>\n",
       "      <td>2</td>\n",
       "      <td>4.0</td>\n",
       "      <td>[[], []]</td>\n",
       "      <td>/Restaurant_Review-g187147-d10746918-Reviews-L...</td>\n",
       "      <td>d10746918</td>\n",
       "      <td>0</td>\n",
       "      <td>0.0</td>\n",
       "      <td>...</td>\n",
       "      <td>0</td>\n",
       "      <td>0</td>\n",
       "      <td>1</td>\n",
       "      <td>0</td>\n",
       "      <td>0</td>\n",
       "      <td>0</td>\n",
       "      <td>0</td>\n",
       "      <td>0</td>\n",
       "      <td>0</td>\n",
       "      <td>0</td>\n",
       "    </tr>\n",
       "    <tr>\n",
       "      <th>1</th>\n",
       "      <td>id_1</td>\n",
       "      <td>['European', 'Scandinavian', 'Gluten Free Opti...</td>\n",
       "      <td>106.0</td>\n",
       "      <td>2</td>\n",
       "      <td>97.0</td>\n",
       "      <td>[['Very good reviews!', 'Fine dining in Hakani...</td>\n",
       "      <td>/Restaurant_Review-g189934-d6674944-Reviews-Ra...</td>\n",
       "      <td>d6674944</td>\n",
       "      <td>0</td>\n",
       "      <td>0.0</td>\n",
       "      <td>...</td>\n",
       "      <td>0</td>\n",
       "      <td>0</td>\n",
       "      <td>0</td>\n",
       "      <td>0</td>\n",
       "      <td>0</td>\n",
       "      <td>0</td>\n",
       "      <td>0</td>\n",
       "      <td>0</td>\n",
       "      <td>0</td>\n",
       "      <td>0</td>\n",
       "    </tr>\n",
       "    <tr>\n",
       "      <th>2</th>\n",
       "      <td>id_2</td>\n",
       "      <td>['Vegetarian Friendly']</td>\n",
       "      <td>810.0</td>\n",
       "      <td>2</td>\n",
       "      <td>28.0</td>\n",
       "      <td>[['Better than the Links', 'Ivy Black'], ['12/...</td>\n",
       "      <td>/Restaurant_Review-g186525-d13129638-Reviews-B...</td>\n",
       "      <td>d13129638</td>\n",
       "      <td>0</td>\n",
       "      <td>0.0</td>\n",
       "      <td>...</td>\n",
       "      <td>0</td>\n",
       "      <td>0</td>\n",
       "      <td>0</td>\n",
       "      <td>0</td>\n",
       "      <td>0</td>\n",
       "      <td>0</td>\n",
       "      <td>0</td>\n",
       "      <td>0</td>\n",
       "      <td>0</td>\n",
       "      <td>0</td>\n",
       "    </tr>\n",
       "    <tr>\n",
       "      <th>3</th>\n",
       "      <td>id_3</td>\n",
       "      <td>['Italian', 'Mediterranean', 'European', 'Vege...</td>\n",
       "      <td>1669.0</td>\n",
       "      <td>3</td>\n",
       "      <td>202.0</td>\n",
       "      <td>[['Most exquisite', 'Delicious and authentic']...</td>\n",
       "      <td>/Restaurant_Review-g186338-d680417-Reviews-Qui...</td>\n",
       "      <td>d680417</td>\n",
       "      <td>0</td>\n",
       "      <td>0.0</td>\n",
       "      <td>...</td>\n",
       "      <td>0</td>\n",
       "      <td>0</td>\n",
       "      <td>0</td>\n",
       "      <td>0</td>\n",
       "      <td>0</td>\n",
       "      <td>0</td>\n",
       "      <td>0</td>\n",
       "      <td>0</td>\n",
       "      <td>0</td>\n",
       "      <td>0</td>\n",
       "    </tr>\n",
       "    <tr>\n",
       "      <th>4</th>\n",
       "      <td>id_4</td>\n",
       "      <td>['Italian', 'Mediterranean', 'European', 'Seaf...</td>\n",
       "      <td>37.0</td>\n",
       "      <td>3</td>\n",
       "      <td>162.0</td>\n",
       "      <td>[['Always the best in bratislava', 'Very good ...</td>\n",
       "      <td>/Restaurant_Review-g274924-d1112354-Reviews-Ma...</td>\n",
       "      <td>d1112354</td>\n",
       "      <td>0</td>\n",
       "      <td>0.0</td>\n",
       "      <td>...</td>\n",
       "      <td>0</td>\n",
       "      <td>0</td>\n",
       "      <td>0</td>\n",
       "      <td>0</td>\n",
       "      <td>0</td>\n",
       "      <td>0</td>\n",
       "      <td>0</td>\n",
       "      <td>0</td>\n",
       "      <td>0</td>\n",
       "      <td>0</td>\n",
       "    </tr>\n",
       "    <tr>\n",
       "      <th>...</th>\n",
       "      <td>...</td>\n",
       "      <td>...</td>\n",
       "      <td>...</td>\n",
       "      <td>...</td>\n",
       "      <td>...</td>\n",
       "      <td>...</td>\n",
       "      <td>...</td>\n",
       "      <td>...</td>\n",
       "      <td>...</td>\n",
       "      <td>...</td>\n",
       "      <td>...</td>\n",
       "      <td>...</td>\n",
       "      <td>...</td>\n",
       "      <td>...</td>\n",
       "      <td>...</td>\n",
       "      <td>...</td>\n",
       "      <td>...</td>\n",
       "      <td>...</td>\n",
       "      <td>...</td>\n",
       "      <td>...</td>\n",
       "      <td>...</td>\n",
       "    </tr>\n",
       "    <tr>\n",
       "      <th>49995</th>\n",
       "      <td>id_499</td>\n",
       "      <td>['Italian', 'Vegetarian Friendly', 'Vegan Opti...</td>\n",
       "      <td>500.0</td>\n",
       "      <td>2</td>\n",
       "      <td>79.0</td>\n",
       "      <td>[['The real Italian experience!', 'Wonderful f...</td>\n",
       "      <td>/Restaurant_Review-g187849-d2104414-Reviews-Ro...</td>\n",
       "      <td>d2104414</td>\n",
       "      <td>1</td>\n",
       "      <td>4.5</td>\n",
       "      <td>...</td>\n",
       "      <td>0</td>\n",
       "      <td>0</td>\n",
       "      <td>0</td>\n",
       "      <td>0</td>\n",
       "      <td>0</td>\n",
       "      <td>0</td>\n",
       "      <td>0</td>\n",
       "      <td>0</td>\n",
       "      <td>0</td>\n",
       "      <td>0</td>\n",
       "    </tr>\n",
       "    <tr>\n",
       "      <th>49996</th>\n",
       "      <td>id_6340</td>\n",
       "      <td>['French', 'American', 'Bar', 'European', 'Veg...</td>\n",
       "      <td>6341.0</td>\n",
       "      <td>2</td>\n",
       "      <td>542.0</td>\n",
       "      <td>[['Parisian atmosphere', 'Bit pricey but inter...</td>\n",
       "      <td>/Restaurant_Review-g187147-d1800036-Reviews-La...</td>\n",
       "      <td>d1800036</td>\n",
       "      <td>1</td>\n",
       "      <td>3.5</td>\n",
       "      <td>...</td>\n",
       "      <td>0</td>\n",
       "      <td>0</td>\n",
       "      <td>1</td>\n",
       "      <td>0</td>\n",
       "      <td>0</td>\n",
       "      <td>0</td>\n",
       "      <td>0</td>\n",
       "      <td>0</td>\n",
       "      <td>0</td>\n",
       "      <td>0</td>\n",
       "    </tr>\n",
       "    <tr>\n",
       "      <th>49997</th>\n",
       "      <td>id_1649</td>\n",
       "      <td>['Japanese', 'Sushi']</td>\n",
       "      <td>1652.0</td>\n",
       "      <td>1</td>\n",
       "      <td>4.0</td>\n",
       "      <td>[['Good by swedish standards', 'A hidden jewel...</td>\n",
       "      <td>/Restaurant_Review-g189852-d947615-Reviews-Sus...</td>\n",
       "      <td>d947615</td>\n",
       "      <td>1</td>\n",
       "      <td>4.5</td>\n",
       "      <td>...</td>\n",
       "      <td>0</td>\n",
       "      <td>0</td>\n",
       "      <td>0</td>\n",
       "      <td>0</td>\n",
       "      <td>0</td>\n",
       "      <td>1</td>\n",
       "      <td>0</td>\n",
       "      <td>0</td>\n",
       "      <td>0</td>\n",
       "      <td>0</td>\n",
       "    </tr>\n",
       "    <tr>\n",
       "      <th>49998</th>\n",
       "      <td>id_640</td>\n",
       "      <td>['Polish', 'European', 'Eastern European', 'Ce...</td>\n",
       "      <td>641.0</td>\n",
       "      <td>2</td>\n",
       "      <td>70.0</td>\n",
       "      <td>[['Underground restaurant', 'Oldest Restaurant...</td>\n",
       "      <td>/Restaurant_Review-g274856-d1100838-Reviews-Ho...</td>\n",
       "      <td>d1100838</td>\n",
       "      <td>1</td>\n",
       "      <td>4.0</td>\n",
       "      <td>...</td>\n",
       "      <td>0</td>\n",
       "      <td>0</td>\n",
       "      <td>0</td>\n",
       "      <td>0</td>\n",
       "      <td>0</td>\n",
       "      <td>0</td>\n",
       "      <td>0</td>\n",
       "      <td>1</td>\n",
       "      <td>0</td>\n",
       "      <td>0</td>\n",
       "    </tr>\n",
       "    <tr>\n",
       "      <th>49999</th>\n",
       "      <td>id_4824</td>\n",
       "      <td>['Spanish']</td>\n",
       "      <td>4827.0</td>\n",
       "      <td>2</td>\n",
       "      <td>260.0</td>\n",
       "      <td>[['Average', 'Nice an informal'], ['01/31/2016...</td>\n",
       "      <td>/Restaurant_Review-g187849-d1109020-Reviews-Ta...</td>\n",
       "      <td>d1109020</td>\n",
       "      <td>1</td>\n",
       "      <td>3.0</td>\n",
       "      <td>...</td>\n",
       "      <td>0</td>\n",
       "      <td>0</td>\n",
       "      <td>0</td>\n",
       "      <td>0</td>\n",
       "      <td>0</td>\n",
       "      <td>0</td>\n",
       "      <td>0</td>\n",
       "      <td>0</td>\n",
       "      <td>0</td>\n",
       "      <td>0</td>\n",
       "    </tr>\n",
       "  </tbody>\n",
       "</table>\n",
       "<p>50000 rows × 43 columns</p>\n",
       "</div>"
      ],
      "text/plain": [
       "      Restaurant_id                                      Cuisine Style  \\\n",
       "0              id_0                                     ['Bar', 'Pub']   \n",
       "1              id_1  ['European', 'Scandinavian', 'Gluten Free Opti...   \n",
       "2              id_2                            ['Vegetarian Friendly']   \n",
       "3              id_3  ['Italian', 'Mediterranean', 'European', 'Vege...   \n",
       "4              id_4  ['Italian', 'Mediterranean', 'European', 'Seaf...   \n",
       "...             ...                                                ...   \n",
       "49995        id_499  ['Italian', 'Vegetarian Friendly', 'Vegan Opti...   \n",
       "49996       id_6340  ['French', 'American', 'Bar', 'European', 'Veg...   \n",
       "49997       id_1649                              ['Japanese', 'Sushi']   \n",
       "49998        id_640  ['Polish', 'European', 'Eastern European', 'Ce...   \n",
       "49999       id_4824                                        ['Spanish']   \n",
       "\n",
       "       Ranking  Price_Range  Number of Reviews  \\\n",
       "0      12963.0            2                4.0   \n",
       "1        106.0            2               97.0   \n",
       "2        810.0            2               28.0   \n",
       "3       1669.0            3              202.0   \n",
       "4         37.0            3              162.0   \n",
       "...        ...          ...                ...   \n",
       "49995    500.0            2               79.0   \n",
       "49996   6341.0            2              542.0   \n",
       "49997   1652.0            1                4.0   \n",
       "49998    641.0            2               70.0   \n",
       "49999   4827.0            2              260.0   \n",
       "\n",
       "                                                 Reviews  \\\n",
       "0                                               [[], []]   \n",
       "1      [['Very good reviews!', 'Fine dining in Hakani...   \n",
       "2      [['Better than the Links', 'Ivy Black'], ['12/...   \n",
       "3      [['Most exquisite', 'Delicious and authentic']...   \n",
       "4      [['Always the best in bratislava', 'Very good ...   \n",
       "...                                                  ...   \n",
       "49995  [['The real Italian experience!', 'Wonderful f...   \n",
       "49996  [['Parisian atmosphere', 'Bit pricey but inter...   \n",
       "49997  [['Good by swedish standards', 'A hidden jewel...   \n",
       "49998  [['Underground restaurant', 'Oldest Restaurant...   \n",
       "49999  [['Average', 'Nice an informal'], ['01/31/2016...   \n",
       "\n",
       "                                                  URL_TA      ID_TA  sample  \\\n",
       "0      /Restaurant_Review-g187147-d10746918-Reviews-L...  d10746918       0   \n",
       "1      /Restaurant_Review-g189934-d6674944-Reviews-Ra...   d6674944       0   \n",
       "2      /Restaurant_Review-g186525-d13129638-Reviews-B...  d13129638       0   \n",
       "3      /Restaurant_Review-g186338-d680417-Reviews-Qui...    d680417       0   \n",
       "4      /Restaurant_Review-g274924-d1112354-Reviews-Ma...   d1112354       0   \n",
       "...                                                  ...        ...     ...   \n",
       "49995  /Restaurant_Review-g187849-d2104414-Reviews-Ro...   d2104414       1   \n",
       "49996  /Restaurant_Review-g187147-d1800036-Reviews-La...   d1800036       1   \n",
       "49997  /Restaurant_Review-g189852-d947615-Reviews-Sus...    d947615       1   \n",
       "49998  /Restaurant_Review-g274856-d1100838-Reviews-Ho...   d1100838       1   \n",
       "49999  /Restaurant_Review-g187849-d1109020-Reviews-Ta...   d1109020       1   \n",
       "\n",
       "       Rating  ...  City_Oporto  City_Oslo  City_Paris  City_Prague  \\\n",
       "0         0.0  ...            0          0           1            0   \n",
       "1         0.0  ...            0          0           0            0   \n",
       "2         0.0  ...            0          0           0            0   \n",
       "3         0.0  ...            0          0           0            0   \n",
       "4         0.0  ...            0          0           0            0   \n",
       "...       ...  ...          ...        ...         ...          ...   \n",
       "49995     4.5  ...            0          0           0            0   \n",
       "49996     3.5  ...            0          0           1            0   \n",
       "49997     4.5  ...            0          0           0            0   \n",
       "49998     4.0  ...            0          0           0            0   \n",
       "49999     3.0  ...            0          0           0            0   \n",
       "\n",
       "       City_Rome  City_Stockholm  City_Vienna  City_Warsaw  City_Zurich  \\\n",
       "0              0               0            0            0            0   \n",
       "1              0               0            0            0            0   \n",
       "2              0               0            0            0            0   \n",
       "3              0               0            0            0            0   \n",
       "4              0               0            0            0            0   \n",
       "...          ...             ...          ...          ...          ...   \n",
       "49995          0               0            0            0            0   \n",
       "49996          0               0            0            0            0   \n",
       "49997          0               1            0            0            0   \n",
       "49998          0               0            0            1            0   \n",
       "49999          0               0            0            0            0   \n",
       "\n",
       "       City_nan  \n",
       "0             0  \n",
       "1             0  \n",
       "2             0  \n",
       "3             0  \n",
       "4             0  \n",
       "...         ...  \n",
       "49995         0  \n",
       "49996         0  \n",
       "49997         0  \n",
       "49998         0  \n",
       "49999         0  \n",
       "\n",
       "[50000 rows x 43 columns]"
      ]
     },
     "execution_count": 62,
     "metadata": {},
     "output_type": "execute_result"
    }
   ],
   "source": [
    "df1 = data\n",
    "df1"
   ]
  },
  {
   "cell_type": "markdown",
   "metadata": {
    "papermill": {
     "duration": 0.156994,
     "end_time": "2020-10-03T02:49:39.230065",
     "exception": false,
     "start_time": "2020-10-03T02:49:39.073071",
     "status": "completed"
    },
    "tags": []
   },
   "source": [
    "#### Рассмотрим столбец Restaurant_id. В данном случае в значениях уберем приставку id_ и сделаем все значения числовыми"
   ]
  },
  {
   "cell_type": "code",
   "execution_count": 63,
   "metadata": {
    "execution": {
     "iopub.execute_input": "2020-10-03T02:49:39.556776Z",
     "iopub.status.busy": "2020-10-03T02:49:39.550704Z",
     "iopub.status.idle": "2020-10-03T02:49:39.587932Z",
     "shell.execute_reply": "2020-10-03T02:49:39.587148Z"
    },
    "papermill": {
     "duration": 0.200458,
     "end_time": "2020-10-03T02:49:39.588057",
     "exception": false,
     "start_time": "2020-10-03T02:49:39.387599",
     "status": "completed"
    },
    "tags": []
   },
   "outputs": [],
   "source": [
    "df1.Restaurant_id=df1.Restaurant_id.apply(lambda x: x.replace('id_', \"\"))"
   ]
  },
  {
   "cell_type": "code",
   "execution_count": 64,
   "metadata": {
    "execution": {
     "iopub.execute_input": "2020-10-03T02:49:39.932350Z",
     "iopub.status.busy": "2020-10-03T02:49:39.931552Z",
     "iopub.status.idle": "2020-10-03T02:49:40.005781Z",
     "shell.execute_reply": "2020-10-03T02:49:40.005034Z"
    },
    "papermill": {
     "duration": 0.235909,
     "end_time": "2020-10-03T02:49:40.005920",
     "exception": false,
     "start_time": "2020-10-03T02:49:39.770011",
     "status": "completed"
    },
    "tags": []
   },
   "outputs": [
    {
     "data": {
      "text/html": [
       "<div>\n",
       "<style scoped>\n",
       "    .dataframe tbody tr th:only-of-type {\n",
       "        vertical-align: middle;\n",
       "    }\n",
       "\n",
       "    .dataframe tbody tr th {\n",
       "        vertical-align: top;\n",
       "    }\n",
       "\n",
       "    .dataframe thead th {\n",
       "        text-align: right;\n",
       "    }\n",
       "</style>\n",
       "<table border=\"1\" class=\"dataframe\">\n",
       "  <thead>\n",
       "    <tr style=\"text-align: right;\">\n",
       "      <th></th>\n",
       "      <th>Restaurant_id</th>\n",
       "      <th>Cuisine Style</th>\n",
       "      <th>Ranking</th>\n",
       "      <th>Price_Range</th>\n",
       "      <th>Number of Reviews</th>\n",
       "      <th>Reviews</th>\n",
       "      <th>URL_TA</th>\n",
       "      <th>ID_TA</th>\n",
       "      <th>sample</th>\n",
       "      <th>Rating</th>\n",
       "      <th>...</th>\n",
       "      <th>City_Oporto</th>\n",
       "      <th>City_Oslo</th>\n",
       "      <th>City_Paris</th>\n",
       "      <th>City_Prague</th>\n",
       "      <th>City_Rome</th>\n",
       "      <th>City_Stockholm</th>\n",
       "      <th>City_Vienna</th>\n",
       "      <th>City_Warsaw</th>\n",
       "      <th>City_Zurich</th>\n",
       "      <th>City_nan</th>\n",
       "    </tr>\n",
       "  </thead>\n",
       "  <tbody>\n",
       "    <tr>\n",
       "      <th>0</th>\n",
       "      <td>0</td>\n",
       "      <td>['Bar', 'Pub']</td>\n",
       "      <td>12963.0</td>\n",
       "      <td>2</td>\n",
       "      <td>4.0</td>\n",
       "      <td>[[], []]</td>\n",
       "      <td>/Restaurant_Review-g187147-d10746918-Reviews-L...</td>\n",
       "      <td>d10746918</td>\n",
       "      <td>0</td>\n",
       "      <td>0.0</td>\n",
       "      <td>...</td>\n",
       "      <td>0</td>\n",
       "      <td>0</td>\n",
       "      <td>1</td>\n",
       "      <td>0</td>\n",
       "      <td>0</td>\n",
       "      <td>0</td>\n",
       "      <td>0</td>\n",
       "      <td>0</td>\n",
       "      <td>0</td>\n",
       "      <td>0</td>\n",
       "    </tr>\n",
       "    <tr>\n",
       "      <th>1</th>\n",
       "      <td>1</td>\n",
       "      <td>['European', 'Scandinavian', 'Gluten Free Opti...</td>\n",
       "      <td>106.0</td>\n",
       "      <td>2</td>\n",
       "      <td>97.0</td>\n",
       "      <td>[['Very good reviews!', 'Fine dining in Hakani...</td>\n",
       "      <td>/Restaurant_Review-g189934-d6674944-Reviews-Ra...</td>\n",
       "      <td>d6674944</td>\n",
       "      <td>0</td>\n",
       "      <td>0.0</td>\n",
       "      <td>...</td>\n",
       "      <td>0</td>\n",
       "      <td>0</td>\n",
       "      <td>0</td>\n",
       "      <td>0</td>\n",
       "      <td>0</td>\n",
       "      <td>0</td>\n",
       "      <td>0</td>\n",
       "      <td>0</td>\n",
       "      <td>0</td>\n",
       "      <td>0</td>\n",
       "    </tr>\n",
       "    <tr>\n",
       "      <th>2</th>\n",
       "      <td>2</td>\n",
       "      <td>['Vegetarian Friendly']</td>\n",
       "      <td>810.0</td>\n",
       "      <td>2</td>\n",
       "      <td>28.0</td>\n",
       "      <td>[['Better than the Links', 'Ivy Black'], ['12/...</td>\n",
       "      <td>/Restaurant_Review-g186525-d13129638-Reviews-B...</td>\n",
       "      <td>d13129638</td>\n",
       "      <td>0</td>\n",
       "      <td>0.0</td>\n",
       "      <td>...</td>\n",
       "      <td>0</td>\n",
       "      <td>0</td>\n",
       "      <td>0</td>\n",
       "      <td>0</td>\n",
       "      <td>0</td>\n",
       "      <td>0</td>\n",
       "      <td>0</td>\n",
       "      <td>0</td>\n",
       "      <td>0</td>\n",
       "      <td>0</td>\n",
       "    </tr>\n",
       "    <tr>\n",
       "      <th>3</th>\n",
       "      <td>3</td>\n",
       "      <td>['Italian', 'Mediterranean', 'European', 'Vege...</td>\n",
       "      <td>1669.0</td>\n",
       "      <td>3</td>\n",
       "      <td>202.0</td>\n",
       "      <td>[['Most exquisite', 'Delicious and authentic']...</td>\n",
       "      <td>/Restaurant_Review-g186338-d680417-Reviews-Qui...</td>\n",
       "      <td>d680417</td>\n",
       "      <td>0</td>\n",
       "      <td>0.0</td>\n",
       "      <td>...</td>\n",
       "      <td>0</td>\n",
       "      <td>0</td>\n",
       "      <td>0</td>\n",
       "      <td>0</td>\n",
       "      <td>0</td>\n",
       "      <td>0</td>\n",
       "      <td>0</td>\n",
       "      <td>0</td>\n",
       "      <td>0</td>\n",
       "      <td>0</td>\n",
       "    </tr>\n",
       "    <tr>\n",
       "      <th>4</th>\n",
       "      <td>4</td>\n",
       "      <td>['Italian', 'Mediterranean', 'European', 'Seaf...</td>\n",
       "      <td>37.0</td>\n",
       "      <td>3</td>\n",
       "      <td>162.0</td>\n",
       "      <td>[['Always the best in bratislava', 'Very good ...</td>\n",
       "      <td>/Restaurant_Review-g274924-d1112354-Reviews-Ma...</td>\n",
       "      <td>d1112354</td>\n",
       "      <td>0</td>\n",
       "      <td>0.0</td>\n",
       "      <td>...</td>\n",
       "      <td>0</td>\n",
       "      <td>0</td>\n",
       "      <td>0</td>\n",
       "      <td>0</td>\n",
       "      <td>0</td>\n",
       "      <td>0</td>\n",
       "      <td>0</td>\n",
       "      <td>0</td>\n",
       "      <td>0</td>\n",
       "      <td>0</td>\n",
       "    </tr>\n",
       "    <tr>\n",
       "      <th>...</th>\n",
       "      <td>...</td>\n",
       "      <td>...</td>\n",
       "      <td>...</td>\n",
       "      <td>...</td>\n",
       "      <td>...</td>\n",
       "      <td>...</td>\n",
       "      <td>...</td>\n",
       "      <td>...</td>\n",
       "      <td>...</td>\n",
       "      <td>...</td>\n",
       "      <td>...</td>\n",
       "      <td>...</td>\n",
       "      <td>...</td>\n",
       "      <td>...</td>\n",
       "      <td>...</td>\n",
       "      <td>...</td>\n",
       "      <td>...</td>\n",
       "      <td>...</td>\n",
       "      <td>...</td>\n",
       "      <td>...</td>\n",
       "      <td>...</td>\n",
       "    </tr>\n",
       "    <tr>\n",
       "      <th>49995</th>\n",
       "      <td>499</td>\n",
       "      <td>['Italian', 'Vegetarian Friendly', 'Vegan Opti...</td>\n",
       "      <td>500.0</td>\n",
       "      <td>2</td>\n",
       "      <td>79.0</td>\n",
       "      <td>[['The real Italian experience!', 'Wonderful f...</td>\n",
       "      <td>/Restaurant_Review-g187849-d2104414-Reviews-Ro...</td>\n",
       "      <td>d2104414</td>\n",
       "      <td>1</td>\n",
       "      <td>4.5</td>\n",
       "      <td>...</td>\n",
       "      <td>0</td>\n",
       "      <td>0</td>\n",
       "      <td>0</td>\n",
       "      <td>0</td>\n",
       "      <td>0</td>\n",
       "      <td>0</td>\n",
       "      <td>0</td>\n",
       "      <td>0</td>\n",
       "      <td>0</td>\n",
       "      <td>0</td>\n",
       "    </tr>\n",
       "    <tr>\n",
       "      <th>49996</th>\n",
       "      <td>6340</td>\n",
       "      <td>['French', 'American', 'Bar', 'European', 'Veg...</td>\n",
       "      <td>6341.0</td>\n",
       "      <td>2</td>\n",
       "      <td>542.0</td>\n",
       "      <td>[['Parisian atmosphere', 'Bit pricey but inter...</td>\n",
       "      <td>/Restaurant_Review-g187147-d1800036-Reviews-La...</td>\n",
       "      <td>d1800036</td>\n",
       "      <td>1</td>\n",
       "      <td>3.5</td>\n",
       "      <td>...</td>\n",
       "      <td>0</td>\n",
       "      <td>0</td>\n",
       "      <td>1</td>\n",
       "      <td>0</td>\n",
       "      <td>0</td>\n",
       "      <td>0</td>\n",
       "      <td>0</td>\n",
       "      <td>0</td>\n",
       "      <td>0</td>\n",
       "      <td>0</td>\n",
       "    </tr>\n",
       "    <tr>\n",
       "      <th>49997</th>\n",
       "      <td>1649</td>\n",
       "      <td>['Japanese', 'Sushi']</td>\n",
       "      <td>1652.0</td>\n",
       "      <td>1</td>\n",
       "      <td>4.0</td>\n",
       "      <td>[['Good by swedish standards', 'A hidden jewel...</td>\n",
       "      <td>/Restaurant_Review-g189852-d947615-Reviews-Sus...</td>\n",
       "      <td>d947615</td>\n",
       "      <td>1</td>\n",
       "      <td>4.5</td>\n",
       "      <td>...</td>\n",
       "      <td>0</td>\n",
       "      <td>0</td>\n",
       "      <td>0</td>\n",
       "      <td>0</td>\n",
       "      <td>0</td>\n",
       "      <td>1</td>\n",
       "      <td>0</td>\n",
       "      <td>0</td>\n",
       "      <td>0</td>\n",
       "      <td>0</td>\n",
       "    </tr>\n",
       "    <tr>\n",
       "      <th>49998</th>\n",
       "      <td>640</td>\n",
       "      <td>['Polish', 'European', 'Eastern European', 'Ce...</td>\n",
       "      <td>641.0</td>\n",
       "      <td>2</td>\n",
       "      <td>70.0</td>\n",
       "      <td>[['Underground restaurant', 'Oldest Restaurant...</td>\n",
       "      <td>/Restaurant_Review-g274856-d1100838-Reviews-Ho...</td>\n",
       "      <td>d1100838</td>\n",
       "      <td>1</td>\n",
       "      <td>4.0</td>\n",
       "      <td>...</td>\n",
       "      <td>0</td>\n",
       "      <td>0</td>\n",
       "      <td>0</td>\n",
       "      <td>0</td>\n",
       "      <td>0</td>\n",
       "      <td>0</td>\n",
       "      <td>0</td>\n",
       "      <td>1</td>\n",
       "      <td>0</td>\n",
       "      <td>0</td>\n",
       "    </tr>\n",
       "    <tr>\n",
       "      <th>49999</th>\n",
       "      <td>4824</td>\n",
       "      <td>['Spanish']</td>\n",
       "      <td>4827.0</td>\n",
       "      <td>2</td>\n",
       "      <td>260.0</td>\n",
       "      <td>[['Average', 'Nice an informal'], ['01/31/2016...</td>\n",
       "      <td>/Restaurant_Review-g187849-d1109020-Reviews-Ta...</td>\n",
       "      <td>d1109020</td>\n",
       "      <td>1</td>\n",
       "      <td>3.0</td>\n",
       "      <td>...</td>\n",
       "      <td>0</td>\n",
       "      <td>0</td>\n",
       "      <td>0</td>\n",
       "      <td>0</td>\n",
       "      <td>0</td>\n",
       "      <td>0</td>\n",
       "      <td>0</td>\n",
       "      <td>0</td>\n",
       "      <td>0</td>\n",
       "      <td>0</td>\n",
       "    </tr>\n",
       "  </tbody>\n",
       "</table>\n",
       "<p>50000 rows × 43 columns</p>\n",
       "</div>"
      ],
      "text/plain": [
       "      Restaurant_id                                      Cuisine Style  \\\n",
       "0                 0                                     ['Bar', 'Pub']   \n",
       "1                 1  ['European', 'Scandinavian', 'Gluten Free Opti...   \n",
       "2                 2                            ['Vegetarian Friendly']   \n",
       "3                 3  ['Italian', 'Mediterranean', 'European', 'Vege...   \n",
       "4                 4  ['Italian', 'Mediterranean', 'European', 'Seaf...   \n",
       "...             ...                                                ...   \n",
       "49995           499  ['Italian', 'Vegetarian Friendly', 'Vegan Opti...   \n",
       "49996          6340  ['French', 'American', 'Bar', 'European', 'Veg...   \n",
       "49997          1649                              ['Japanese', 'Sushi']   \n",
       "49998           640  ['Polish', 'European', 'Eastern European', 'Ce...   \n",
       "49999          4824                                        ['Spanish']   \n",
       "\n",
       "       Ranking  Price_Range  Number of Reviews  \\\n",
       "0      12963.0            2                4.0   \n",
       "1        106.0            2               97.0   \n",
       "2        810.0            2               28.0   \n",
       "3       1669.0            3              202.0   \n",
       "4         37.0            3              162.0   \n",
       "...        ...          ...                ...   \n",
       "49995    500.0            2               79.0   \n",
       "49996   6341.0            2              542.0   \n",
       "49997   1652.0            1                4.0   \n",
       "49998    641.0            2               70.0   \n",
       "49999   4827.0            2              260.0   \n",
       "\n",
       "                                                 Reviews  \\\n",
       "0                                               [[], []]   \n",
       "1      [['Very good reviews!', 'Fine dining in Hakani...   \n",
       "2      [['Better than the Links', 'Ivy Black'], ['12/...   \n",
       "3      [['Most exquisite', 'Delicious and authentic']...   \n",
       "4      [['Always the best in bratislava', 'Very good ...   \n",
       "...                                                  ...   \n",
       "49995  [['The real Italian experience!', 'Wonderful f...   \n",
       "49996  [['Parisian atmosphere', 'Bit pricey but inter...   \n",
       "49997  [['Good by swedish standards', 'A hidden jewel...   \n",
       "49998  [['Underground restaurant', 'Oldest Restaurant...   \n",
       "49999  [['Average', 'Nice an informal'], ['01/31/2016...   \n",
       "\n",
       "                                                  URL_TA      ID_TA  sample  \\\n",
       "0      /Restaurant_Review-g187147-d10746918-Reviews-L...  d10746918       0   \n",
       "1      /Restaurant_Review-g189934-d6674944-Reviews-Ra...   d6674944       0   \n",
       "2      /Restaurant_Review-g186525-d13129638-Reviews-B...  d13129638       0   \n",
       "3      /Restaurant_Review-g186338-d680417-Reviews-Qui...    d680417       0   \n",
       "4      /Restaurant_Review-g274924-d1112354-Reviews-Ma...   d1112354       0   \n",
       "...                                                  ...        ...     ...   \n",
       "49995  /Restaurant_Review-g187849-d2104414-Reviews-Ro...   d2104414       1   \n",
       "49996  /Restaurant_Review-g187147-d1800036-Reviews-La...   d1800036       1   \n",
       "49997  /Restaurant_Review-g189852-d947615-Reviews-Sus...    d947615       1   \n",
       "49998  /Restaurant_Review-g274856-d1100838-Reviews-Ho...   d1100838       1   \n",
       "49999  /Restaurant_Review-g187849-d1109020-Reviews-Ta...   d1109020       1   \n",
       "\n",
       "       Rating  ...  City_Oporto  City_Oslo  City_Paris  City_Prague  \\\n",
       "0         0.0  ...            0          0           1            0   \n",
       "1         0.0  ...            0          0           0            0   \n",
       "2         0.0  ...            0          0           0            0   \n",
       "3         0.0  ...            0          0           0            0   \n",
       "4         0.0  ...            0          0           0            0   \n",
       "...       ...  ...          ...        ...         ...          ...   \n",
       "49995     4.5  ...            0          0           0            0   \n",
       "49996     3.5  ...            0          0           1            0   \n",
       "49997     4.5  ...            0          0           0            0   \n",
       "49998     4.0  ...            0          0           0            0   \n",
       "49999     3.0  ...            0          0           0            0   \n",
       "\n",
       "       City_Rome  City_Stockholm  City_Vienna  City_Warsaw  City_Zurich  \\\n",
       "0              0               0            0            0            0   \n",
       "1              0               0            0            0            0   \n",
       "2              0               0            0            0            0   \n",
       "3              0               0            0            0            0   \n",
       "4              0               0            0            0            0   \n",
       "...          ...             ...          ...          ...          ...   \n",
       "49995          0               0            0            0            0   \n",
       "49996          0               0            0            0            0   \n",
       "49997          0               1            0            0            0   \n",
       "49998          0               0            0            1            0   \n",
       "49999          0               0            0            0            0   \n",
       "\n",
       "       City_nan  \n",
       "0             0  \n",
       "1             0  \n",
       "2             0  \n",
       "3             0  \n",
       "4             0  \n",
       "...         ...  \n",
       "49995         0  \n",
       "49996         0  \n",
       "49997         0  \n",
       "49998         0  \n",
       "49999         0  \n",
       "\n",
       "[50000 rows x 43 columns]"
      ]
     },
     "execution_count": 64,
     "metadata": {},
     "output_type": "execute_result"
    }
   ],
   "source": [
    "df1"
   ]
  },
  {
   "cell_type": "code",
   "execution_count": 65,
   "metadata": {
    "execution": {
     "iopub.execute_input": "2020-10-03T02:49:40.353820Z",
     "iopub.status.busy": "2020-10-03T02:49:40.352881Z",
     "iopub.status.idle": "2020-10-03T02:49:40.364525Z",
     "shell.execute_reply": "2020-10-03T02:49:40.363688Z"
    },
    "papermill": {
     "duration": 0.199515,
     "end_time": "2020-10-03T02:49:40.364681",
     "exception": false,
     "start_time": "2020-10-03T02:49:40.165166",
     "status": "completed"
    },
    "tags": []
   },
   "outputs": [
    {
     "data": {
      "text/plain": [
       "871     19\n",
       "227     19\n",
       "436     19\n",
       "633     19\n",
       "585     18\n",
       "71      18\n",
       "321     18\n",
       "430     18\n",
       "344     18\n",
       "534     18\n",
       "245     17\n",
       "561     17\n",
       "69      17\n",
       "107     17\n",
       "589     17\n",
       "792     17\n",
       "200     17\n",
       "335     17\n",
       "152     17\n",
       "482     17\n",
       "1076    17\n",
       "367     17\n",
       "79      17\n",
       "920     17\n",
       "206     17\n",
       "167     17\n",
       "256     17\n",
       "364     17\n",
       "54      16\n",
       "479     16\n",
       "359     16\n",
       "86      16\n",
       "995     16\n",
       "1009    16\n",
       "330     16\n",
       "779     16\n",
       "105     16\n",
       "150     16\n",
       "85      16\n",
       "1079    16\n",
       "Name: Restaurant_id, dtype: int64"
      ]
     },
     "execution_count": 65,
     "metadata": {},
     "output_type": "execute_result"
    }
   ],
   "source": [
    "m=df1['Restaurant_id'].value_counts()\n",
    "m[:40]"
   ]
  },
  {
   "cell_type": "code",
   "execution_count": 66,
   "metadata": {
    "execution": {
     "iopub.execute_input": "2020-10-03T02:49:40.792239Z",
     "iopub.status.busy": "2020-10-03T02:49:40.791333Z",
     "iopub.status.idle": "2020-10-03T02:49:40.800595Z",
     "shell.execute_reply": "2020-10-03T02:49:40.799809Z"
    },
    "papermill": {
     "duration": 0.276126,
     "end_time": "2020-10-03T02:49:40.800720",
     "exception": false,
     "start_time": "2020-10-03T02:49:40.524594",
     "status": "completed"
    },
    "tags": []
   },
   "outputs": [],
   "source": [
    "to_numeric('Restaurant_id')\n"
   ]
  },
  {
   "cell_type": "markdown",
   "metadata": {
    "papermill": {
     "duration": 0.161233,
     "end_time": "2020-10-03T02:49:41.120652",
     "exception": false,
     "start_time": "2020-10-03T02:49:40.959419",
     "status": "completed"
    },
    "tags": []
   },
   "source": [
    "#### Как можно увидеть, id ресторанов повторяются. Возможно повторяются данные в датасете. Проверим это"
   ]
  },
  {
   "cell_type": "code",
   "execution_count": 67,
   "metadata": {
    "execution": {
     "iopub.execute_input": "2020-10-03T02:49:41.445595Z",
     "iopub.status.busy": "2020-10-03T02:49:41.444464Z",
     "iopub.status.idle": "2020-10-03T02:49:41.490523Z",
     "shell.execute_reply": "2020-10-03T02:49:41.491100Z"
    },
    "papermill": {
     "duration": 0.210996,
     "end_time": "2020-10-03T02:49:41.491248",
     "exception": false,
     "start_time": "2020-10-03T02:49:41.280252",
     "status": "completed"
    },
    "tags": []
   },
   "outputs": [
    {
     "data": {
      "text/html": [
       "<div>\n",
       "<style scoped>\n",
       "    .dataframe tbody tr th:only-of-type {\n",
       "        vertical-align: middle;\n",
       "    }\n",
       "\n",
       "    .dataframe tbody tr th {\n",
       "        vertical-align: top;\n",
       "    }\n",
       "\n",
       "    .dataframe thead th {\n",
       "        text-align: right;\n",
       "    }\n",
       "</style>\n",
       "<table border=\"1\" class=\"dataframe\">\n",
       "  <thead>\n",
       "    <tr style=\"text-align: right;\">\n",
       "      <th></th>\n",
       "      <th>Restaurant_id</th>\n",
       "      <th>Cuisine Style</th>\n",
       "      <th>Ranking</th>\n",
       "      <th>Price_Range</th>\n",
       "      <th>Number of Reviews</th>\n",
       "      <th>Reviews</th>\n",
       "      <th>URL_TA</th>\n",
       "      <th>ID_TA</th>\n",
       "      <th>sample</th>\n",
       "      <th>Rating</th>\n",
       "      <th>...</th>\n",
       "      <th>City_Oporto</th>\n",
       "      <th>City_Oslo</th>\n",
       "      <th>City_Paris</th>\n",
       "      <th>City_Prague</th>\n",
       "      <th>City_Rome</th>\n",
       "      <th>City_Stockholm</th>\n",
       "      <th>City_Vienna</th>\n",
       "      <th>City_Warsaw</th>\n",
       "      <th>City_Zurich</th>\n",
       "      <th>City_nan</th>\n",
       "    </tr>\n",
       "  </thead>\n",
       "  <tbody>\n",
       "    <tr>\n",
       "      <th>85</th>\n",
       "      <td>85</td>\n",
       "      <td>['Italian', 'Pizza', 'Vegetarian Friendly']</td>\n",
       "      <td>14038.0</td>\n",
       "      <td>1</td>\n",
       "      <td>44.0</td>\n",
       "      <td>[['Umm not my favourite', 'Great value for mon...</td>\n",
       "      <td>/Restaurant_Review-g186338-d9857169-Reviews-Fr...</td>\n",
       "      <td>d9857169</td>\n",
       "      <td>0</td>\n",
       "      <td>0.0</td>\n",
       "      <td>...</td>\n",
       "      <td>0</td>\n",
       "      <td>0</td>\n",
       "      <td>0</td>\n",
       "      <td>0</td>\n",
       "      <td>0</td>\n",
       "      <td>0</td>\n",
       "      <td>0</td>\n",
       "      <td>0</td>\n",
       "      <td>0</td>\n",
       "      <td>0</td>\n",
       "    </tr>\n",
       "    <tr>\n",
       "      <th>10527</th>\n",
       "      <td>85</td>\n",
       "      <td>['Spanish', 'Vegetarian Friendly', 'Vegan Opti...</td>\n",
       "      <td>86.0</td>\n",
       "      <td>2</td>\n",
       "      <td>2186.0</td>\n",
       "      <td>[['EXCELENT!', 'Amazing tapas'], ['01/07/2018'...</td>\n",
       "      <td>/Restaurant_Review-g187497-d697571-Reviews-El_...</td>\n",
       "      <td>d697571</td>\n",
       "      <td>1</td>\n",
       "      <td>4.5</td>\n",
       "      <td>...</td>\n",
       "      <td>0</td>\n",
       "      <td>0</td>\n",
       "      <td>0</td>\n",
       "      <td>0</td>\n",
       "      <td>0</td>\n",
       "      <td>0</td>\n",
       "      <td>0</td>\n",
       "      <td>0</td>\n",
       "      <td>0</td>\n",
       "      <td>0</td>\n",
       "    </tr>\n",
       "    <tr>\n",
       "      <th>10546</th>\n",
       "      <td>85</td>\n",
       "      <td>['Thai', 'Vegetarian Friendly', 'Vegan Options...</td>\n",
       "      <td>86.0</td>\n",
       "      <td>2</td>\n",
       "      <td>441.0</td>\n",
       "      <td>[['Excellent Thai Food', 'Best Thai food in Pa...</td>\n",
       "      <td>/Restaurant_Review-g187147-d783281-Reviews-Tha...</td>\n",
       "      <td>d783281</td>\n",
       "      <td>1</td>\n",
       "      <td>4.5</td>\n",
       "      <td>...</td>\n",
       "      <td>0</td>\n",
       "      <td>0</td>\n",
       "      <td>1</td>\n",
       "      <td>0</td>\n",
       "      <td>0</td>\n",
       "      <td>0</td>\n",
       "      <td>0</td>\n",
       "      <td>0</td>\n",
       "      <td>0</td>\n",
       "      <td>0</td>\n",
       "    </tr>\n",
       "    <tr>\n",
       "      <th>11185</th>\n",
       "      <td>85</td>\n",
       "      <td>['French', 'Vegetarian Friendly', 'Gluten Free...</td>\n",
       "      <td>86.0</td>\n",
       "      <td>3</td>\n",
       "      <td>166.0</td>\n",
       "      <td>[['Superb dining', 'Nice food in the city cent...</td>\n",
       "      <td>/Restaurant_Review-g274707-d694876-Reviews-Res...</td>\n",
       "      <td>d694876</td>\n",
       "      <td>1</td>\n",
       "      <td>4.5</td>\n",
       "      <td>...</td>\n",
       "      <td>0</td>\n",
       "      <td>0</td>\n",
       "      <td>0</td>\n",
       "      <td>1</td>\n",
       "      <td>0</td>\n",
       "      <td>0</td>\n",
       "      <td>0</td>\n",
       "      <td>0</td>\n",
       "      <td>0</td>\n",
       "      <td>0</td>\n",
       "    </tr>\n",
       "    <tr>\n",
       "      <th>15879</th>\n",
       "      <td>85</td>\n",
       "      <td>['Mediterranean', 'European', 'Greek', 'Vegeta...</td>\n",
       "      <td>86.0</td>\n",
       "      <td>2</td>\n",
       "      <td>147.0</td>\n",
       "      <td>[['Great food and environment', \"I've been sev...</td>\n",
       "      <td>/Restaurant_Review-g1136493-d4993004-Reviews-P...</td>\n",
       "      <td>d4993004</td>\n",
       "      <td>1</td>\n",
       "      <td>4.5</td>\n",
       "      <td>...</td>\n",
       "      <td>0</td>\n",
       "      <td>0</td>\n",
       "      <td>0</td>\n",
       "      <td>0</td>\n",
       "      <td>0</td>\n",
       "      <td>0</td>\n",
       "      <td>0</td>\n",
       "      <td>0</td>\n",
       "      <td>0</td>\n",
       "      <td>0</td>\n",
       "    </tr>\n",
       "    <tr>\n",
       "      <th>16769</th>\n",
       "      <td>85</td>\n",
       "      <td>['Mediterranean', 'European', 'Spanish']</td>\n",
       "      <td>86.0</td>\n",
       "      <td>3</td>\n",
       "      <td>137.0</td>\n",
       "      <td>[['Absolutely amazing', 'Food heaven'], ['10/3...</td>\n",
       "      <td>/Restaurant_Review-g190479-d6989823-Reviews-Bo...</td>\n",
       "      <td>d6989823</td>\n",
       "      <td>1</td>\n",
       "      <td>4.5</td>\n",
       "      <td>...</td>\n",
       "      <td>0</td>\n",
       "      <td>1</td>\n",
       "      <td>0</td>\n",
       "      <td>0</td>\n",
       "      <td>0</td>\n",
       "      <td>0</td>\n",
       "      <td>0</td>\n",
       "      <td>0</td>\n",
       "      <td>0</td>\n",
       "      <td>0</td>\n",
       "    </tr>\n",
       "    <tr>\n",
       "      <th>22824</th>\n",
       "      <td>85</td>\n",
       "      <td>['Italian', 'Pizza', 'Mediterranean', 'Europea...</td>\n",
       "      <td>86.0</td>\n",
       "      <td>2</td>\n",
       "      <td>320.0</td>\n",
       "      <td>[['Good Simple Food Served Well', 'Good food, ...</td>\n",
       "      <td>/Restaurant_Review-g274873-d5003127-Reviews-Ar...</td>\n",
       "      <td>d5003127</td>\n",
       "      <td>1</td>\n",
       "      <td>3.5</td>\n",
       "      <td>...</td>\n",
       "      <td>0</td>\n",
       "      <td>0</td>\n",
       "      <td>0</td>\n",
       "      <td>0</td>\n",
       "      <td>0</td>\n",
       "      <td>0</td>\n",
       "      <td>0</td>\n",
       "      <td>0</td>\n",
       "      <td>0</td>\n",
       "      <td>0</td>\n",
       "    </tr>\n",
       "    <tr>\n",
       "      <th>26463</th>\n",
       "      <td>85</td>\n",
       "      <td>['Mediterranean', 'French', 'European', 'Veget...</td>\n",
       "      <td>86.0</td>\n",
       "      <td>2</td>\n",
       "      <td>1002.0</td>\n",
       "      <td>[['Superb bistro', 'A little bit French in the...</td>\n",
       "      <td>/Restaurant_Review-g186525-d734186-Reviews-La_...</td>\n",
       "      <td>d734186</td>\n",
       "      <td>1</td>\n",
       "      <td>4.5</td>\n",
       "      <td>...</td>\n",
       "      <td>0</td>\n",
       "      <td>0</td>\n",
       "      <td>0</td>\n",
       "      <td>0</td>\n",
       "      <td>0</td>\n",
       "      <td>0</td>\n",
       "      <td>0</td>\n",
       "      <td>0</td>\n",
       "      <td>0</td>\n",
       "      <td>0</td>\n",
       "    </tr>\n",
       "    <tr>\n",
       "      <th>27839</th>\n",
       "      <td>85</td>\n",
       "      <td>['International', 'Fusion', 'Central European'...</td>\n",
       "      <td>86.0</td>\n",
       "      <td>2</td>\n",
       "      <td>150.0</td>\n",
       "      <td>[['Excellent food', 'Polish Cuisine in Tastefu...</td>\n",
       "      <td>/Restaurant_Review-g274772-d10371753-Reviews-G...</td>\n",
       "      <td>d10371753</td>\n",
       "      <td>1</td>\n",
       "      <td>4.5</td>\n",
       "      <td>...</td>\n",
       "      <td>0</td>\n",
       "      <td>0</td>\n",
       "      <td>0</td>\n",
       "      <td>0</td>\n",
       "      <td>0</td>\n",
       "      <td>0</td>\n",
       "      <td>0</td>\n",
       "      <td>0</td>\n",
       "      <td>0</td>\n",
       "      <td>0</td>\n",
       "    </tr>\n",
       "    <tr>\n",
       "      <th>29021</th>\n",
       "      <td>85</td>\n",
       "      <td>['International', 'Mediterranean', 'European',...</td>\n",
       "      <td>86.0</td>\n",
       "      <td>3</td>\n",
       "      <td>273.0</td>\n",
       "      <td>[['Good vibes', 'Great Restaurant'], ['02/21/2...</td>\n",
       "      <td>/Restaurant_Review-g189158-d12274149-Reviews-J...</td>\n",
       "      <td>d12274149</td>\n",
       "      <td>1</td>\n",
       "      <td>4.5</td>\n",
       "      <td>...</td>\n",
       "      <td>0</td>\n",
       "      <td>0</td>\n",
       "      <td>0</td>\n",
       "      <td>0</td>\n",
       "      <td>0</td>\n",
       "      <td>0</td>\n",
       "      <td>0</td>\n",
       "      <td>0</td>\n",
       "      <td>0</td>\n",
       "      <td>0</td>\n",
       "    </tr>\n",
       "    <tr>\n",
       "      <th>31552</th>\n",
       "      <td>85</td>\n",
       "      <td>['Steakhouse', 'Barbecue', 'Argentinean', 'Glu...</td>\n",
       "      <td>86.0</td>\n",
       "      <td>2</td>\n",
       "      <td>351.0</td>\n",
       "      <td>[['Great place for a casual dinner and protei....</td>\n",
       "      <td>/Restaurant_Review-g189541-d817037-Reviews-Asa...</td>\n",
       "      <td>d817037</td>\n",
       "      <td>1</td>\n",
       "      <td>4.5</td>\n",
       "      <td>...</td>\n",
       "      <td>0</td>\n",
       "      <td>0</td>\n",
       "      <td>0</td>\n",
       "      <td>0</td>\n",
       "      <td>0</td>\n",
       "      <td>0</td>\n",
       "      <td>0</td>\n",
       "      <td>0</td>\n",
       "      <td>0</td>\n",
       "      <td>0</td>\n",
       "    </tr>\n",
       "    <tr>\n",
       "      <th>34954</th>\n",
       "      <td>85</td>\n",
       "      <td>['European', 'Portuguese', 'Mediterranean']</td>\n",
       "      <td>86.0</td>\n",
       "      <td>2</td>\n",
       "      <td>71.0</td>\n",
       "      <td>[['Best food in Portugal!!!', 'Very good'], ['...</td>\n",
       "      <td>/Restaurant_Review-g189180-d12870749-Reviews-L...</td>\n",
       "      <td>d12870749</td>\n",
       "      <td>1</td>\n",
       "      <td>5.0</td>\n",
       "      <td>...</td>\n",
       "      <td>1</td>\n",
       "      <td>0</td>\n",
       "      <td>0</td>\n",
       "      <td>0</td>\n",
       "      <td>0</td>\n",
       "      <td>0</td>\n",
       "      <td>0</td>\n",
       "      <td>0</td>\n",
       "      <td>0</td>\n",
       "      <td>0</td>\n",
       "    </tr>\n",
       "    <tr>\n",
       "      <th>36757</th>\n",
       "      <td>85</td>\n",
       "      <td>['Steakhouse', 'European', 'British', 'Gluten ...</td>\n",
       "      <td>86.0</td>\n",
       "      <td>2</td>\n",
       "      <td>229.0</td>\n",
       "      <td>[['Casual steak place // Affordable £10 steak....</td>\n",
       "      <td>/Restaurant_Review-g186338-d10464803-Reviews-F...</td>\n",
       "      <td>d10464803</td>\n",
       "      <td>1</td>\n",
       "      <td>4.5</td>\n",
       "      <td>...</td>\n",
       "      <td>0</td>\n",
       "      <td>0</td>\n",
       "      <td>0</td>\n",
       "      <td>0</td>\n",
       "      <td>0</td>\n",
       "      <td>0</td>\n",
       "      <td>0</td>\n",
       "      <td>0</td>\n",
       "      <td>0</td>\n",
       "      <td>0</td>\n",
       "    </tr>\n",
       "    <tr>\n",
       "      <th>36765</th>\n",
       "      <td>85</td>\n",
       "      <td>['Irish', 'Bar', 'European', 'British', 'Pub',...</td>\n",
       "      <td>86.0</td>\n",
       "      <td>2</td>\n",
       "      <td>599.0</td>\n",
       "      <td>[['Nice spot, lovely food', 'Very nice place, ...</td>\n",
       "      <td>/Restaurant_Review-g186605-d3632765-Reviews-SE...</td>\n",
       "      <td>d3632765</td>\n",
       "      <td>1</td>\n",
       "      <td>4.5</td>\n",
       "      <td>...</td>\n",
       "      <td>0</td>\n",
       "      <td>0</td>\n",
       "      <td>0</td>\n",
       "      <td>0</td>\n",
       "      <td>0</td>\n",
       "      <td>0</td>\n",
       "      <td>0</td>\n",
       "      <td>0</td>\n",
       "      <td>0</td>\n",
       "      <td>0</td>\n",
       "    </tr>\n",
       "    <tr>\n",
       "      <th>44991</th>\n",
       "      <td>85</td>\n",
       "      <td>['French', 'European', 'Central European', 'Ve...</td>\n",
       "      <td>86.0</td>\n",
       "      <td>3</td>\n",
       "      <td>278.0</td>\n",
       "      <td>[['Very good lunch in a traditional restauran....</td>\n",
       "      <td>/Restaurant_Review-g187331-d803005-Reviews-Jac...</td>\n",
       "      <td>d803005</td>\n",
       "      <td>1</td>\n",
       "      <td>4.5</td>\n",
       "      <td>...</td>\n",
       "      <td>0</td>\n",
       "      <td>0</td>\n",
       "      <td>0</td>\n",
       "      <td>0</td>\n",
       "      <td>0</td>\n",
       "      <td>0</td>\n",
       "      <td>0</td>\n",
       "      <td>0</td>\n",
       "      <td>0</td>\n",
       "      <td>0</td>\n",
       "    </tr>\n",
       "    <tr>\n",
       "      <th>49848</th>\n",
       "      <td>85</td>\n",
       "      <td>['European', 'Wine Bar', 'Central European', '...</td>\n",
       "      <td>86.0</td>\n",
       "      <td>2</td>\n",
       "      <td>131.0</td>\n",
       "      <td>[['Magical place!', 'Excellent!'], ['12/08/201...</td>\n",
       "      <td>/Restaurant_Review-g274856-d6938374-Reviews-Al...</td>\n",
       "      <td>d6938374</td>\n",
       "      <td>1</td>\n",
       "      <td>4.5</td>\n",
       "      <td>...</td>\n",
       "      <td>0</td>\n",
       "      <td>0</td>\n",
       "      <td>0</td>\n",
       "      <td>0</td>\n",
       "      <td>0</td>\n",
       "      <td>0</td>\n",
       "      <td>0</td>\n",
       "      <td>1</td>\n",
       "      <td>0</td>\n",
       "      <td>0</td>\n",
       "    </tr>\n",
       "  </tbody>\n",
       "</table>\n",
       "<p>16 rows × 43 columns</p>\n",
       "</div>"
      ],
      "text/plain": [
       "       Restaurant_id                                      Cuisine Style  \\\n",
       "85                85        ['Italian', 'Pizza', 'Vegetarian Friendly']   \n",
       "10527             85  ['Spanish', 'Vegetarian Friendly', 'Vegan Opti...   \n",
       "10546             85  ['Thai', 'Vegetarian Friendly', 'Vegan Options...   \n",
       "11185             85  ['French', 'Vegetarian Friendly', 'Gluten Free...   \n",
       "15879             85  ['Mediterranean', 'European', 'Greek', 'Vegeta...   \n",
       "16769             85           ['Mediterranean', 'European', 'Spanish']   \n",
       "22824             85  ['Italian', 'Pizza', 'Mediterranean', 'Europea...   \n",
       "26463             85  ['Mediterranean', 'French', 'European', 'Veget...   \n",
       "27839             85  ['International', 'Fusion', 'Central European'...   \n",
       "29021             85  ['International', 'Mediterranean', 'European',...   \n",
       "31552             85  ['Steakhouse', 'Barbecue', 'Argentinean', 'Glu...   \n",
       "34954             85        ['European', 'Portuguese', 'Mediterranean']   \n",
       "36757             85  ['Steakhouse', 'European', 'British', 'Gluten ...   \n",
       "36765             85  ['Irish', 'Bar', 'European', 'British', 'Pub',...   \n",
       "44991             85  ['French', 'European', 'Central European', 'Ve...   \n",
       "49848             85  ['European', 'Wine Bar', 'Central European', '...   \n",
       "\n",
       "       Ranking  Price_Range  Number of Reviews  \\\n",
       "85     14038.0            1               44.0   \n",
       "10527     86.0            2             2186.0   \n",
       "10546     86.0            2              441.0   \n",
       "11185     86.0            3              166.0   \n",
       "15879     86.0            2              147.0   \n",
       "16769     86.0            3              137.0   \n",
       "22824     86.0            2              320.0   \n",
       "26463     86.0            2             1002.0   \n",
       "27839     86.0            2              150.0   \n",
       "29021     86.0            3              273.0   \n",
       "31552     86.0            2              351.0   \n",
       "34954     86.0            2               71.0   \n",
       "36757     86.0            2              229.0   \n",
       "36765     86.0            2              599.0   \n",
       "44991     86.0            3              278.0   \n",
       "49848     86.0            2              131.0   \n",
       "\n",
       "                                                 Reviews  \\\n",
       "85     [['Umm not my favourite', 'Great value for mon...   \n",
       "10527  [['EXCELENT!', 'Amazing tapas'], ['01/07/2018'...   \n",
       "10546  [['Excellent Thai Food', 'Best Thai food in Pa...   \n",
       "11185  [['Superb dining', 'Nice food in the city cent...   \n",
       "15879  [['Great food and environment', \"I've been sev...   \n",
       "16769  [['Absolutely amazing', 'Food heaven'], ['10/3...   \n",
       "22824  [['Good Simple Food Served Well', 'Good food, ...   \n",
       "26463  [['Superb bistro', 'A little bit French in the...   \n",
       "27839  [['Excellent food', 'Polish Cuisine in Tastefu...   \n",
       "29021  [['Good vibes', 'Great Restaurant'], ['02/21/2...   \n",
       "31552  [['Great place for a casual dinner and protei....   \n",
       "34954  [['Best food in Portugal!!!', 'Very good'], ['...   \n",
       "36757  [['Casual steak place // Affordable £10 steak....   \n",
       "36765  [['Nice spot, lovely food', 'Very nice place, ...   \n",
       "44991  [['Very good lunch in a traditional restauran....   \n",
       "49848  [['Magical place!', 'Excellent!'], ['12/08/201...   \n",
       "\n",
       "                                                  URL_TA      ID_TA  sample  \\\n",
       "85     /Restaurant_Review-g186338-d9857169-Reviews-Fr...   d9857169       0   \n",
       "10527  /Restaurant_Review-g187497-d697571-Reviews-El_...    d697571       1   \n",
       "10546  /Restaurant_Review-g187147-d783281-Reviews-Tha...    d783281       1   \n",
       "11185  /Restaurant_Review-g274707-d694876-Reviews-Res...    d694876       1   \n",
       "15879  /Restaurant_Review-g1136493-d4993004-Reviews-P...   d4993004       1   \n",
       "16769  /Restaurant_Review-g190479-d6989823-Reviews-Bo...   d6989823       1   \n",
       "22824  /Restaurant_Review-g274873-d5003127-Reviews-Ar...   d5003127       1   \n",
       "26463  /Restaurant_Review-g186525-d734186-Reviews-La_...    d734186       1   \n",
       "27839  /Restaurant_Review-g274772-d10371753-Reviews-G...  d10371753       1   \n",
       "29021  /Restaurant_Review-g189158-d12274149-Reviews-J...  d12274149       1   \n",
       "31552  /Restaurant_Review-g189541-d817037-Reviews-Asa...    d817037       1   \n",
       "34954  /Restaurant_Review-g189180-d12870749-Reviews-L...  d12870749       1   \n",
       "36757  /Restaurant_Review-g186338-d10464803-Reviews-F...  d10464803       1   \n",
       "36765  /Restaurant_Review-g186605-d3632765-Reviews-SE...   d3632765       1   \n",
       "44991  /Restaurant_Review-g187331-d803005-Reviews-Jac...    d803005       1   \n",
       "49848  /Restaurant_Review-g274856-d6938374-Reviews-Al...   d6938374       1   \n",
       "\n",
       "       Rating  ...  City_Oporto  City_Oslo  City_Paris  City_Prague  \\\n",
       "85        0.0  ...            0          0           0            0   \n",
       "10527     4.5  ...            0          0           0            0   \n",
       "10546     4.5  ...            0          0           1            0   \n",
       "11185     4.5  ...            0          0           0            1   \n",
       "15879     4.5  ...            0          0           0            0   \n",
       "16769     4.5  ...            0          1           0            0   \n",
       "22824     3.5  ...            0          0           0            0   \n",
       "26463     4.5  ...            0          0           0            0   \n",
       "27839     4.5  ...            0          0           0            0   \n",
       "29021     4.5  ...            0          0           0            0   \n",
       "31552     4.5  ...            0          0           0            0   \n",
       "34954     5.0  ...            1          0           0            0   \n",
       "36757     4.5  ...            0          0           0            0   \n",
       "36765     4.5  ...            0          0           0            0   \n",
       "44991     4.5  ...            0          0           0            0   \n",
       "49848     4.5  ...            0          0           0            0   \n",
       "\n",
       "       City_Rome  City_Stockholm  City_Vienna  City_Warsaw  City_Zurich  \\\n",
       "85             0               0            0            0            0   \n",
       "10527          0               0            0            0            0   \n",
       "10546          0               0            0            0            0   \n",
       "11185          0               0            0            0            0   \n",
       "15879          0               0            0            0            0   \n",
       "16769          0               0            0            0            0   \n",
       "22824          0               0            0            0            0   \n",
       "26463          0               0            0            0            0   \n",
       "27839          0               0            0            0            0   \n",
       "29021          0               0            0            0            0   \n",
       "31552          0               0            0            0            0   \n",
       "34954          0               0            0            0            0   \n",
       "36757          0               0            0            0            0   \n",
       "36765          0               0            0            0            0   \n",
       "44991          0               0            0            0            0   \n",
       "49848          0               0            0            1            0   \n",
       "\n",
       "       City_nan  \n",
       "85            0  \n",
       "10527         0  \n",
       "10546         0  \n",
       "11185         0  \n",
       "15879         0  \n",
       "16769         0  \n",
       "22824         0  \n",
       "26463         0  \n",
       "27839         0  \n",
       "29021         0  \n",
       "31552         0  \n",
       "34954         0  \n",
       "36757         0  \n",
       "36765         0  \n",
       "44991         0  \n",
       "49848         0  \n",
       "\n",
       "[16 rows x 43 columns]"
      ]
     },
     "execution_count": 67,
     "metadata": {},
     "output_type": "execute_result"
    }
   ],
   "source": [
    "#repdf=pd.DataFrame(df1.query('Restaurant_id == 660'))\n",
    "df1.query('Restaurant_id == 85')"
   ]
  },
  {
   "cell_type": "markdown",
   "metadata": {
    "papermill": {
     "duration": 0.15842,
     "end_time": "2020-10-03T02:49:41.808338",
     "exception": false,
     "start_time": "2020-10-03T02:49:41.649918",
     "status": "completed"
    },
    "tags": []
   },
   "source": [
    "#### Нет, одинаковый id имеют разные рестораны. Но можно увидеть, что значения id ресторана практически совпадают со значением ранка. Так как нам понадобится столбец Restaurant_id, то удалим стобец Ranking"
   ]
  },
  {
   "cell_type": "code",
   "execution_count": 68,
   "metadata": {
    "execution": {
     "iopub.execute_input": "2020-10-03T02:49:42.139137Z",
     "iopub.status.busy": "2020-10-03T02:49:42.138301Z",
     "iopub.status.idle": "2020-10-03T02:49:42.145249Z",
     "shell.execute_reply": "2020-10-03T02:49:42.144521Z"
    },
    "papermill": {
     "duration": 0.176464,
     "end_time": "2020-10-03T02:49:42.145370",
     "exception": false,
     "start_time": "2020-10-03T02:49:41.968906",
     "status": "completed"
    },
    "tags": []
   },
   "outputs": [],
   "source": [
    "#repdf=pd.DataFrame(df1.query('Restaurant_id == 660'))\n",
    "df1 = df1.drop('Ranking', 1)"
   ]
  },
  {
   "cell_type": "code",
   "execution_count": 69,
   "metadata": {
    "execution": {
     "iopub.execute_input": "2020-10-03T02:49:42.497023Z",
     "iopub.status.busy": "2020-10-03T02:49:42.496284Z",
     "iopub.status.idle": "2020-10-03T02:49:42.519210Z",
     "shell.execute_reply": "2020-10-03T02:49:42.518439Z"
    },
    "papermill": {
     "duration": 0.212419,
     "end_time": "2020-10-03T02:49:42.519334",
     "exception": false,
     "start_time": "2020-10-03T02:49:42.306915",
     "status": "completed"
    },
    "tags": []
   },
   "outputs": [
    {
     "name": "stdout",
     "output_type": "stream",
     "text": [
      "<class 'pandas.core.frame.DataFrame'>\n",
      "RangeIndex: 50000 entries, 0 to 49999\n",
      "Data columns (total 42 columns):\n",
      " #   Column                   Non-Null Count  Dtype  \n",
      "---  ------                   --------------  -----  \n",
      " 0   Restaurant_id            50000 non-null  int64  \n",
      " 1   Cuisine Style            38410 non-null  object \n",
      " 2   Price_Range              50000 non-null  int64  \n",
      " 3   Number of Reviews        50000 non-null  float64\n",
      " 4   Reviews                  50000 non-null  object \n",
      " 5   URL_TA                   50000 non-null  object \n",
      " 6   ID_TA                    50000 non-null  object \n",
      " 7   sample                   50000 non-null  int64  \n",
      " 8   Rating                   50000 non-null  float64\n",
      " 9   Number_of_Reviews_isNAN  50000 non-null  uint8  \n",
      " 10  City_Amsterdam           50000 non-null  uint8  \n",
      " 11  City_Athens              50000 non-null  uint8  \n",
      " 12  City_Barcelona           50000 non-null  uint8  \n",
      " 13  City_Berlin              50000 non-null  uint8  \n",
      " 14  City_Bratislava          50000 non-null  uint8  \n",
      " 15  City_Brussels            50000 non-null  uint8  \n",
      " 16  City_Budapest            50000 non-null  uint8  \n",
      " 17  City_Copenhagen          50000 non-null  uint8  \n",
      " 18  City_Dublin              50000 non-null  uint8  \n",
      " 19  City_Edinburgh           50000 non-null  uint8  \n",
      " 20  City_Geneva              50000 non-null  uint8  \n",
      " 21  City_Hamburg             50000 non-null  uint8  \n",
      " 22  City_Helsinki            50000 non-null  uint8  \n",
      " 23  City_Krakow              50000 non-null  uint8  \n",
      " 24  City_Lisbon              50000 non-null  uint8  \n",
      " 25  City_Ljubljana           50000 non-null  uint8  \n",
      " 26  City_London              50000 non-null  uint8  \n",
      " 27  City_Luxembourg          50000 non-null  uint8  \n",
      " 28  City_Lyon                50000 non-null  uint8  \n",
      " 29  City_Madrid              50000 non-null  uint8  \n",
      " 30  City_Milan               50000 non-null  uint8  \n",
      " 31  City_Munich              50000 non-null  uint8  \n",
      " 32  City_Oporto              50000 non-null  uint8  \n",
      " 33  City_Oslo                50000 non-null  uint8  \n",
      " 34  City_Paris               50000 non-null  uint8  \n",
      " 35  City_Prague              50000 non-null  uint8  \n",
      " 36  City_Rome                50000 non-null  uint8  \n",
      " 37  City_Stockholm           50000 non-null  uint8  \n",
      " 38  City_Vienna              50000 non-null  uint8  \n",
      " 39  City_Warsaw              50000 non-null  uint8  \n",
      " 40  City_Zurich              50000 non-null  uint8  \n",
      " 41  City_nan                 50000 non-null  uint8  \n",
      "dtypes: float64(2), int64(3), object(4), uint8(33)\n",
      "memory usage: 5.0+ MB\n"
     ]
    }
   ],
   "source": [
    "df1.info()"
   ]
  },
  {
   "cell_type": "code",
   "execution_count": 70,
   "metadata": {
    "execution": {
     "iopub.execute_input": "2020-10-03T02:49:42.849761Z",
     "iopub.status.busy": "2020-10-03T02:49:42.848914Z",
     "iopub.status.idle": "2020-10-03T02:49:42.915009Z",
     "shell.execute_reply": "2020-10-03T02:49:42.914268Z"
    },
    "papermill": {
     "duration": 0.235898,
     "end_time": "2020-10-03T02:49:42.915141",
     "exception": false,
     "start_time": "2020-10-03T02:49:42.679243",
     "status": "completed"
    },
    "tags": []
   },
   "outputs": [
    {
     "data": {
      "text/html": [
       "<div>\n",
       "<style scoped>\n",
       "    .dataframe tbody tr th:only-of-type {\n",
       "        vertical-align: middle;\n",
       "    }\n",
       "\n",
       "    .dataframe tbody tr th {\n",
       "        vertical-align: top;\n",
       "    }\n",
       "\n",
       "    .dataframe thead th {\n",
       "        text-align: right;\n",
       "    }\n",
       "</style>\n",
       "<table border=\"1\" class=\"dataframe\">\n",
       "  <thead>\n",
       "    <tr style=\"text-align: right;\">\n",
       "      <th></th>\n",
       "      <th>Restaurant_id</th>\n",
       "      <th>Cuisine Style</th>\n",
       "      <th>Price_Range</th>\n",
       "      <th>Number of Reviews</th>\n",
       "      <th>Reviews</th>\n",
       "      <th>URL_TA</th>\n",
       "      <th>ID_TA</th>\n",
       "      <th>sample</th>\n",
       "      <th>Rating</th>\n",
       "      <th>Number_of_Reviews_isNAN</th>\n",
       "      <th>...</th>\n",
       "      <th>City_Oporto</th>\n",
       "      <th>City_Oslo</th>\n",
       "      <th>City_Paris</th>\n",
       "      <th>City_Prague</th>\n",
       "      <th>City_Rome</th>\n",
       "      <th>City_Stockholm</th>\n",
       "      <th>City_Vienna</th>\n",
       "      <th>City_Warsaw</th>\n",
       "      <th>City_Zurich</th>\n",
       "      <th>City_nan</th>\n",
       "    </tr>\n",
       "  </thead>\n",
       "  <tbody>\n",
       "    <tr>\n",
       "      <th>0</th>\n",
       "      <td>0</td>\n",
       "      <td>['Bar', 'Pub']</td>\n",
       "      <td>2</td>\n",
       "      <td>4.0</td>\n",
       "      <td>[[], []]</td>\n",
       "      <td>/Restaurant_Review-g187147-d10746918-Reviews-L...</td>\n",
       "      <td>d10746918</td>\n",
       "      <td>0</td>\n",
       "      <td>0.0</td>\n",
       "      <td>0</td>\n",
       "      <td>...</td>\n",
       "      <td>0</td>\n",
       "      <td>0</td>\n",
       "      <td>1</td>\n",
       "      <td>0</td>\n",
       "      <td>0</td>\n",
       "      <td>0</td>\n",
       "      <td>0</td>\n",
       "      <td>0</td>\n",
       "      <td>0</td>\n",
       "      <td>0</td>\n",
       "    </tr>\n",
       "    <tr>\n",
       "      <th>1</th>\n",
       "      <td>1</td>\n",
       "      <td>['European', 'Scandinavian', 'Gluten Free Opti...</td>\n",
       "      <td>2</td>\n",
       "      <td>97.0</td>\n",
       "      <td>[['Very good reviews!', 'Fine dining in Hakani...</td>\n",
       "      <td>/Restaurant_Review-g189934-d6674944-Reviews-Ra...</td>\n",
       "      <td>d6674944</td>\n",
       "      <td>0</td>\n",
       "      <td>0.0</td>\n",
       "      <td>0</td>\n",
       "      <td>...</td>\n",
       "      <td>0</td>\n",
       "      <td>0</td>\n",
       "      <td>0</td>\n",
       "      <td>0</td>\n",
       "      <td>0</td>\n",
       "      <td>0</td>\n",
       "      <td>0</td>\n",
       "      <td>0</td>\n",
       "      <td>0</td>\n",
       "      <td>0</td>\n",
       "    </tr>\n",
       "    <tr>\n",
       "      <th>2</th>\n",
       "      <td>2</td>\n",
       "      <td>['Vegetarian Friendly']</td>\n",
       "      <td>2</td>\n",
       "      <td>28.0</td>\n",
       "      <td>[['Better than the Links', 'Ivy Black'], ['12/...</td>\n",
       "      <td>/Restaurant_Review-g186525-d13129638-Reviews-B...</td>\n",
       "      <td>d13129638</td>\n",
       "      <td>0</td>\n",
       "      <td>0.0</td>\n",
       "      <td>0</td>\n",
       "      <td>...</td>\n",
       "      <td>0</td>\n",
       "      <td>0</td>\n",
       "      <td>0</td>\n",
       "      <td>0</td>\n",
       "      <td>0</td>\n",
       "      <td>0</td>\n",
       "      <td>0</td>\n",
       "      <td>0</td>\n",
       "      <td>0</td>\n",
       "      <td>0</td>\n",
       "    </tr>\n",
       "    <tr>\n",
       "      <th>3</th>\n",
       "      <td>3</td>\n",
       "      <td>['Italian', 'Mediterranean', 'European', 'Vege...</td>\n",
       "      <td>3</td>\n",
       "      <td>202.0</td>\n",
       "      <td>[['Most exquisite', 'Delicious and authentic']...</td>\n",
       "      <td>/Restaurant_Review-g186338-d680417-Reviews-Qui...</td>\n",
       "      <td>d680417</td>\n",
       "      <td>0</td>\n",
       "      <td>0.0</td>\n",
       "      <td>0</td>\n",
       "      <td>...</td>\n",
       "      <td>0</td>\n",
       "      <td>0</td>\n",
       "      <td>0</td>\n",
       "      <td>0</td>\n",
       "      <td>0</td>\n",
       "      <td>0</td>\n",
       "      <td>0</td>\n",
       "      <td>0</td>\n",
       "      <td>0</td>\n",
       "      <td>0</td>\n",
       "    </tr>\n",
       "    <tr>\n",
       "      <th>4</th>\n",
       "      <td>4</td>\n",
       "      <td>['Italian', 'Mediterranean', 'European', 'Seaf...</td>\n",
       "      <td>3</td>\n",
       "      <td>162.0</td>\n",
       "      <td>[['Always the best in bratislava', 'Very good ...</td>\n",
       "      <td>/Restaurant_Review-g274924-d1112354-Reviews-Ma...</td>\n",
       "      <td>d1112354</td>\n",
       "      <td>0</td>\n",
       "      <td>0.0</td>\n",
       "      <td>0</td>\n",
       "      <td>...</td>\n",
       "      <td>0</td>\n",
       "      <td>0</td>\n",
       "      <td>0</td>\n",
       "      <td>0</td>\n",
       "      <td>0</td>\n",
       "      <td>0</td>\n",
       "      <td>0</td>\n",
       "      <td>0</td>\n",
       "      <td>0</td>\n",
       "      <td>0</td>\n",
       "    </tr>\n",
       "    <tr>\n",
       "      <th>...</th>\n",
       "      <td>...</td>\n",
       "      <td>...</td>\n",
       "      <td>...</td>\n",
       "      <td>...</td>\n",
       "      <td>...</td>\n",
       "      <td>...</td>\n",
       "      <td>...</td>\n",
       "      <td>...</td>\n",
       "      <td>...</td>\n",
       "      <td>...</td>\n",
       "      <td>...</td>\n",
       "      <td>...</td>\n",
       "      <td>...</td>\n",
       "      <td>...</td>\n",
       "      <td>...</td>\n",
       "      <td>...</td>\n",
       "      <td>...</td>\n",
       "      <td>...</td>\n",
       "      <td>...</td>\n",
       "      <td>...</td>\n",
       "      <td>...</td>\n",
       "    </tr>\n",
       "    <tr>\n",
       "      <th>49995</th>\n",
       "      <td>499</td>\n",
       "      <td>['Italian', 'Vegetarian Friendly', 'Vegan Opti...</td>\n",
       "      <td>2</td>\n",
       "      <td>79.0</td>\n",
       "      <td>[['The real Italian experience!', 'Wonderful f...</td>\n",
       "      <td>/Restaurant_Review-g187849-d2104414-Reviews-Ro...</td>\n",
       "      <td>d2104414</td>\n",
       "      <td>1</td>\n",
       "      <td>4.5</td>\n",
       "      <td>0</td>\n",
       "      <td>...</td>\n",
       "      <td>0</td>\n",
       "      <td>0</td>\n",
       "      <td>0</td>\n",
       "      <td>0</td>\n",
       "      <td>0</td>\n",
       "      <td>0</td>\n",
       "      <td>0</td>\n",
       "      <td>0</td>\n",
       "      <td>0</td>\n",
       "      <td>0</td>\n",
       "    </tr>\n",
       "    <tr>\n",
       "      <th>49996</th>\n",
       "      <td>6340</td>\n",
       "      <td>['French', 'American', 'Bar', 'European', 'Veg...</td>\n",
       "      <td>2</td>\n",
       "      <td>542.0</td>\n",
       "      <td>[['Parisian atmosphere', 'Bit pricey but inter...</td>\n",
       "      <td>/Restaurant_Review-g187147-d1800036-Reviews-La...</td>\n",
       "      <td>d1800036</td>\n",
       "      <td>1</td>\n",
       "      <td>3.5</td>\n",
       "      <td>0</td>\n",
       "      <td>...</td>\n",
       "      <td>0</td>\n",
       "      <td>0</td>\n",
       "      <td>1</td>\n",
       "      <td>0</td>\n",
       "      <td>0</td>\n",
       "      <td>0</td>\n",
       "      <td>0</td>\n",
       "      <td>0</td>\n",
       "      <td>0</td>\n",
       "      <td>0</td>\n",
       "    </tr>\n",
       "    <tr>\n",
       "      <th>49997</th>\n",
       "      <td>1649</td>\n",
       "      <td>['Japanese', 'Sushi']</td>\n",
       "      <td>1</td>\n",
       "      <td>4.0</td>\n",
       "      <td>[['Good by swedish standards', 'A hidden jewel...</td>\n",
       "      <td>/Restaurant_Review-g189852-d947615-Reviews-Sus...</td>\n",
       "      <td>d947615</td>\n",
       "      <td>1</td>\n",
       "      <td>4.5</td>\n",
       "      <td>0</td>\n",
       "      <td>...</td>\n",
       "      <td>0</td>\n",
       "      <td>0</td>\n",
       "      <td>0</td>\n",
       "      <td>0</td>\n",
       "      <td>0</td>\n",
       "      <td>1</td>\n",
       "      <td>0</td>\n",
       "      <td>0</td>\n",
       "      <td>0</td>\n",
       "      <td>0</td>\n",
       "    </tr>\n",
       "    <tr>\n",
       "      <th>49998</th>\n",
       "      <td>640</td>\n",
       "      <td>['Polish', 'European', 'Eastern European', 'Ce...</td>\n",
       "      <td>2</td>\n",
       "      <td>70.0</td>\n",
       "      <td>[['Underground restaurant', 'Oldest Restaurant...</td>\n",
       "      <td>/Restaurant_Review-g274856-d1100838-Reviews-Ho...</td>\n",
       "      <td>d1100838</td>\n",
       "      <td>1</td>\n",
       "      <td>4.0</td>\n",
       "      <td>0</td>\n",
       "      <td>...</td>\n",
       "      <td>0</td>\n",
       "      <td>0</td>\n",
       "      <td>0</td>\n",
       "      <td>0</td>\n",
       "      <td>0</td>\n",
       "      <td>0</td>\n",
       "      <td>0</td>\n",
       "      <td>1</td>\n",
       "      <td>0</td>\n",
       "      <td>0</td>\n",
       "    </tr>\n",
       "    <tr>\n",
       "      <th>49999</th>\n",
       "      <td>4824</td>\n",
       "      <td>['Spanish']</td>\n",
       "      <td>2</td>\n",
       "      <td>260.0</td>\n",
       "      <td>[['Average', 'Nice an informal'], ['01/31/2016...</td>\n",
       "      <td>/Restaurant_Review-g187849-d1109020-Reviews-Ta...</td>\n",
       "      <td>d1109020</td>\n",
       "      <td>1</td>\n",
       "      <td>3.0</td>\n",
       "      <td>0</td>\n",
       "      <td>...</td>\n",
       "      <td>0</td>\n",
       "      <td>0</td>\n",
       "      <td>0</td>\n",
       "      <td>0</td>\n",
       "      <td>0</td>\n",
       "      <td>0</td>\n",
       "      <td>0</td>\n",
       "      <td>0</td>\n",
       "      <td>0</td>\n",
       "      <td>0</td>\n",
       "    </tr>\n",
       "  </tbody>\n",
       "</table>\n",
       "<p>50000 rows × 42 columns</p>\n",
       "</div>"
      ],
      "text/plain": [
       "       Restaurant_id                                      Cuisine Style  \\\n",
       "0                  0                                     ['Bar', 'Pub']   \n",
       "1                  1  ['European', 'Scandinavian', 'Gluten Free Opti...   \n",
       "2                  2                            ['Vegetarian Friendly']   \n",
       "3                  3  ['Italian', 'Mediterranean', 'European', 'Vege...   \n",
       "4                  4  ['Italian', 'Mediterranean', 'European', 'Seaf...   \n",
       "...              ...                                                ...   \n",
       "49995            499  ['Italian', 'Vegetarian Friendly', 'Vegan Opti...   \n",
       "49996           6340  ['French', 'American', 'Bar', 'European', 'Veg...   \n",
       "49997           1649                              ['Japanese', 'Sushi']   \n",
       "49998            640  ['Polish', 'European', 'Eastern European', 'Ce...   \n",
       "49999           4824                                        ['Spanish']   \n",
       "\n",
       "       Price_Range  Number of Reviews  \\\n",
       "0                2                4.0   \n",
       "1                2               97.0   \n",
       "2                2               28.0   \n",
       "3                3              202.0   \n",
       "4                3              162.0   \n",
       "...            ...                ...   \n",
       "49995            2               79.0   \n",
       "49996            2              542.0   \n",
       "49997            1                4.0   \n",
       "49998            2               70.0   \n",
       "49999            2              260.0   \n",
       "\n",
       "                                                 Reviews  \\\n",
       "0                                               [[], []]   \n",
       "1      [['Very good reviews!', 'Fine dining in Hakani...   \n",
       "2      [['Better than the Links', 'Ivy Black'], ['12/...   \n",
       "3      [['Most exquisite', 'Delicious and authentic']...   \n",
       "4      [['Always the best in bratislava', 'Very good ...   \n",
       "...                                                  ...   \n",
       "49995  [['The real Italian experience!', 'Wonderful f...   \n",
       "49996  [['Parisian atmosphere', 'Bit pricey but inter...   \n",
       "49997  [['Good by swedish standards', 'A hidden jewel...   \n",
       "49998  [['Underground restaurant', 'Oldest Restaurant...   \n",
       "49999  [['Average', 'Nice an informal'], ['01/31/2016...   \n",
       "\n",
       "                                                  URL_TA      ID_TA  sample  \\\n",
       "0      /Restaurant_Review-g187147-d10746918-Reviews-L...  d10746918       0   \n",
       "1      /Restaurant_Review-g189934-d6674944-Reviews-Ra...   d6674944       0   \n",
       "2      /Restaurant_Review-g186525-d13129638-Reviews-B...  d13129638       0   \n",
       "3      /Restaurant_Review-g186338-d680417-Reviews-Qui...    d680417       0   \n",
       "4      /Restaurant_Review-g274924-d1112354-Reviews-Ma...   d1112354       0   \n",
       "...                                                  ...        ...     ...   \n",
       "49995  /Restaurant_Review-g187849-d2104414-Reviews-Ro...   d2104414       1   \n",
       "49996  /Restaurant_Review-g187147-d1800036-Reviews-La...   d1800036       1   \n",
       "49997  /Restaurant_Review-g189852-d947615-Reviews-Sus...    d947615       1   \n",
       "49998  /Restaurant_Review-g274856-d1100838-Reviews-Ho...   d1100838       1   \n",
       "49999  /Restaurant_Review-g187849-d1109020-Reviews-Ta...   d1109020       1   \n",
       "\n",
       "       Rating  Number_of_Reviews_isNAN  ...  City_Oporto  City_Oslo  \\\n",
       "0         0.0                        0  ...            0          0   \n",
       "1         0.0                        0  ...            0          0   \n",
       "2         0.0                        0  ...            0          0   \n",
       "3         0.0                        0  ...            0          0   \n",
       "4         0.0                        0  ...            0          0   \n",
       "...       ...                      ...  ...          ...        ...   \n",
       "49995     4.5                        0  ...            0          0   \n",
       "49996     3.5                        0  ...            0          0   \n",
       "49997     4.5                        0  ...            0          0   \n",
       "49998     4.0                        0  ...            0          0   \n",
       "49999     3.0                        0  ...            0          0   \n",
       "\n",
       "       City_Paris  City_Prague  City_Rome  City_Stockholm  City_Vienna  \\\n",
       "0               1            0          0               0            0   \n",
       "1               0            0          0               0            0   \n",
       "2               0            0          0               0            0   \n",
       "3               0            0          0               0            0   \n",
       "4               0            0          0               0            0   \n",
       "...           ...          ...        ...             ...          ...   \n",
       "49995           0            0          0               0            0   \n",
       "49996           1            0          0               0            0   \n",
       "49997           0            0          0               1            0   \n",
       "49998           0            0          0               0            0   \n",
       "49999           0            0          0               0            0   \n",
       "\n",
       "       City_Warsaw  City_Zurich  City_nan  \n",
       "0                0            0         0  \n",
       "1                0            0         0  \n",
       "2                0            0         0  \n",
       "3                0            0         0  \n",
       "4                0            0         0  \n",
       "...            ...          ...       ...  \n",
       "49995            0            0         0  \n",
       "49996            0            0         0  \n",
       "49997            0            0         0  \n",
       "49998            1            0         0  \n",
       "49999            0            0         0  \n",
       "\n",
       "[50000 rows x 42 columns]"
      ]
     },
     "execution_count": 70,
     "metadata": {},
     "output_type": "execute_result"
    }
   ],
   "source": [
    "df1"
   ]
  },
  {
   "cell_type": "markdown",
   "metadata": {
    "papermill": {
     "duration": 0.163802,
     "end_time": "2020-10-03T02:49:43.242567",
     "exception": false,
     "start_time": "2020-10-03T02:49:43.078765",
     "status": "completed"
    },
    "tags": []
   },
   "source": [
    "#### Рассмотрим столбец Reviews. "
   ]
  },
  {
   "cell_type": "code",
   "execution_count": 71,
   "metadata": {
    "execution": {
     "iopub.execute_input": "2020-10-03T02:49:43.607696Z",
     "iopub.status.busy": "2020-10-03T02:49:43.591992Z",
     "iopub.status.idle": "2020-10-03T02:49:43.626743Z",
     "shell.execute_reply": "2020-10-03T02:49:43.625999Z"
    },
    "papermill": {
     "duration": 0.221594,
     "end_time": "2020-10-03T02:49:43.626867",
     "exception": false,
     "start_time": "2020-10-03T02:49:43.405273",
     "status": "completed"
    },
    "tags": []
   },
   "outputs": [
    {
     "data": {
      "text/plain": [
       "[[], []]                                                                                                             8112\n",
       "0                                                                                                                       2\n",
       "[['Excellent food food', 'Fantastic sushi served tapas style'], ['09/07/2016', '02/21/2016']]                           2\n",
       "[['Good restaurant for one meal.', 'Olive Garden Restaurant Warsaw. Food very...'], ['04/20/2015', '07/15/2013']]       2\n",
       "[['Good service and clean', 'Chinese fusion cuisine - ok to try if you...'], ['11/21/2017', '05/23/2017']]              2\n",
       "                                                                                                                     ... \n",
       "[['Solid British pub with good beer and good...', 'Pre Show Meal'], ['11/06/2017', '07/12/2017']]                       1\n",
       "[['Carefully watch your bar tab and double ch...', 'Best Indian food I tasted!'], ['07/25/2016', '06/13/2016']]         1\n",
       "[['Best chilli sauce ever', 'Our usual go-to take-out place!'], ['10/08/2017', '02/10/2017']]                           1\n",
       "[['Good Food - Great Service', 'We can feel frozen food'], ['08/29/2017', '08/15/2017']]                                1\n",
       "[['Great coffee', 'Small menu'], ['02/17/2016', '05/28/2013']]                                                          1\n",
       "Name: Reviews, Length: 41858, dtype: int64"
      ]
     },
     "execution_count": 71,
     "metadata": {},
     "output_type": "execute_result"
    }
   ],
   "source": [
    "df1['Reviews'].value_counts()"
   ]
  },
  {
   "cell_type": "code",
   "execution_count": 72,
   "metadata": {
    "execution": {
     "iopub.execute_input": "2020-10-03T02:49:43.957332Z",
     "iopub.status.busy": "2020-10-03T02:49:43.956409Z",
     "iopub.status.idle": "2020-10-03T02:49:43.959923Z",
     "shell.execute_reply": "2020-10-03T02:49:43.959303Z"
    },
    "papermill": {
     "duration": 0.171694,
     "end_time": "2020-10-03T02:49:43.960061",
     "exception": false,
     "start_time": "2020-10-03T02:49:43.788367",
     "status": "completed"
    },
    "tags": []
   },
   "outputs": [],
   "source": [
    "def str_to_list(string):\n",
    "    symbol_list = ['[',']',\"'\"]\n",
    "    \n",
    "    if string != None:\n",
    "        for i in symbol_list:\n",
    "            string = str(string).replace(i,'')\n",
    "        return string.split(', ')\n",
    "    return string"
   ]
  },
  {
   "cell_type": "code",
   "execution_count": 73,
   "metadata": {
    "execution": {
     "iopub.execute_input": "2020-10-03T02:49:44.298020Z",
     "iopub.status.busy": "2020-10-03T02:49:44.297155Z",
     "iopub.status.idle": "2020-10-03T02:49:44.551011Z",
     "shell.execute_reply": "2020-10-03T02:49:44.550343Z"
    },
    "papermill": {
     "duration": 0.427452,
     "end_time": "2020-10-03T02:49:44.551168",
     "exception": false,
     "start_time": "2020-10-03T02:49:44.123716",
     "status": "completed"
    },
    "tags": []
   },
   "outputs": [],
   "source": [
    "df1['Cuisine Style'] = df1['Cuisine Style'].fillna('other_cuisines').apply(str_to_list)"
   ]
  },
  {
   "cell_type": "code",
   "execution_count": 74,
   "metadata": {
    "execution": {
     "iopub.execute_input": "2020-10-03T02:49:44.905433Z",
     "iopub.status.busy": "2020-10-03T02:49:44.900142Z",
     "iopub.status.idle": "2020-10-03T02:49:44.991334Z",
     "shell.execute_reply": "2020-10-03T02:49:44.990571Z"
    },
    "papermill": {
     "duration": 0.277245,
     "end_time": "2020-10-03T02:49:44.991462",
     "exception": false,
     "start_time": "2020-10-03T02:49:44.714217",
     "status": "completed"
    },
    "tags": []
   },
   "outputs": [
    {
     "data": {
      "text/plain": [
       "Index(['Vegetarian Friendly', 'European', 'other_cuisines', 'Mediterranean',\n",
       "       'Italian', 'Vegan Options', 'Gluten Free Options', 'Bar', 'French',\n",
       "       'Asian',\n",
       "       ...\n",
       "       'Caucasian', 'Azerbaijani', 'Welsh', 'Fujian', 'Polynesian', 'Yunnan',\n",
       "       'Salvadoran', 'Burmese', 'Latvian', 'Xinjiang'],\n",
       "      dtype='object', length=126)"
      ]
     },
     "execution_count": 74,
     "metadata": {},
     "output_type": "execute_result"
    }
   ],
   "source": [
    "cuisines_list = []\n",
    "for c_list in df1['Cuisine Style']:\n",
    "    for cus in c_list:\n",
    "        cuisines_list.append(cus)\n",
    "cus_freq = pd.Series(cuisines_list).value_counts()\n",
    "cus_list = cus_freq.index\n",
    "cus_list"
   ]
  },
  {
   "cell_type": "code",
   "execution_count": 75,
   "metadata": {
    "execution": {
     "iopub.execute_input": "2020-10-03T02:49:45.328875Z",
     "iopub.status.busy": "2020-10-03T02:49:45.328106Z",
     "iopub.status.idle": "2020-10-03T02:49:45.599185Z",
     "shell.execute_reply": "2020-10-03T02:49:45.598528Z"
    },
    "papermill": {
     "duration": 0.443603,
     "end_time": "2020-10-03T02:49:45.599309",
     "exception": false,
     "start_time": "2020-10-03T02:49:45.155706",
     "status": "completed"
    },
    "tags": []
   },
   "outputs": [
    {
     "data": {
      "text/html": [
       "<div>\n",
       "<style scoped>\n",
       "    .dataframe tbody tr th:only-of-type {\n",
       "        vertical-align: middle;\n",
       "    }\n",
       "\n",
       "    .dataframe tbody tr th {\n",
       "        vertical-align: top;\n",
       "    }\n",
       "\n",
       "    .dataframe thead th {\n",
       "        text-align: right;\n",
       "    }\n",
       "</style>\n",
       "<table border=\"1\" class=\"dataframe\">\n",
       "  <thead>\n",
       "    <tr style=\"text-align: right;\">\n",
       "      <th></th>\n",
       "      <th>Restaurant_id</th>\n",
       "      <th>Cuisine Style</th>\n",
       "      <th>Price_Range</th>\n",
       "      <th>Number of Reviews</th>\n",
       "      <th>Reviews</th>\n",
       "      <th>URL_TA</th>\n",
       "      <th>ID_TA</th>\n",
       "      <th>sample</th>\n",
       "      <th>Rating</th>\n",
       "      <th>Number_of_Reviews_isNAN</th>\n",
       "      <th>...</th>\n",
       "      <th>Vegetarian Friendly</th>\n",
       "      <th>City_Oslo</th>\n",
       "      <th>City_Paris</th>\n",
       "      <th>City_Prague</th>\n",
       "      <th>City_Rome</th>\n",
       "      <th>City_Stockholm</th>\n",
       "      <th>City_Vienna</th>\n",
       "      <th>City_Warsaw</th>\n",
       "      <th>City_Zurich</th>\n",
       "      <th>City_nan</th>\n",
       "    </tr>\n",
       "  </thead>\n",
       "  <tbody>\n",
       "    <tr>\n",
       "      <th>0</th>\n",
       "      <td>0</td>\n",
       "      <td>[Bar, Pub]</td>\n",
       "      <td>2</td>\n",
       "      <td>4.0</td>\n",
       "      <td>[[], []]</td>\n",
       "      <td>/Restaurant_Review-g187147-d10746918-Reviews-L...</td>\n",
       "      <td>d10746918</td>\n",
       "      <td>0</td>\n",
       "      <td>0.0</td>\n",
       "      <td>0</td>\n",
       "      <td>...</td>\n",
       "      <td>0</td>\n",
       "      <td>0</td>\n",
       "      <td>1</td>\n",
       "      <td>0</td>\n",
       "      <td>0</td>\n",
       "      <td>0</td>\n",
       "      <td>0</td>\n",
       "      <td>0</td>\n",
       "      <td>0</td>\n",
       "      <td>0</td>\n",
       "    </tr>\n",
       "    <tr>\n",
       "      <th>1</th>\n",
       "      <td>1</td>\n",
       "      <td>[European, Scandinavian, Gluten Free Options, ...</td>\n",
       "      <td>2</td>\n",
       "      <td>97.0</td>\n",
       "      <td>[['Very good reviews!', 'Fine dining in Hakani...</td>\n",
       "      <td>/Restaurant_Review-g189934-d6674944-Reviews-Ra...</td>\n",
       "      <td>d6674944</td>\n",
       "      <td>0</td>\n",
       "      <td>0.0</td>\n",
       "      <td>0</td>\n",
       "      <td>...</td>\n",
       "      <td>0</td>\n",
       "      <td>0</td>\n",
       "      <td>0</td>\n",
       "      <td>0</td>\n",
       "      <td>0</td>\n",
       "      <td>0</td>\n",
       "      <td>0</td>\n",
       "      <td>0</td>\n",
       "      <td>0</td>\n",
       "      <td>0</td>\n",
       "    </tr>\n",
       "    <tr>\n",
       "      <th>2</th>\n",
       "      <td>2</td>\n",
       "      <td>[Vegetarian Friendly]</td>\n",
       "      <td>2</td>\n",
       "      <td>28.0</td>\n",
       "      <td>[['Better than the Links', 'Ivy Black'], ['12/...</td>\n",
       "      <td>/Restaurant_Review-g186525-d13129638-Reviews-B...</td>\n",
       "      <td>d13129638</td>\n",
       "      <td>0</td>\n",
       "      <td>0.0</td>\n",
       "      <td>0</td>\n",
       "      <td>...</td>\n",
       "      <td>0</td>\n",
       "      <td>0</td>\n",
       "      <td>0</td>\n",
       "      <td>0</td>\n",
       "      <td>0</td>\n",
       "      <td>0</td>\n",
       "      <td>0</td>\n",
       "      <td>0</td>\n",
       "      <td>0</td>\n",
       "      <td>0</td>\n",
       "    </tr>\n",
       "    <tr>\n",
       "      <th>3</th>\n",
       "      <td>3</td>\n",
       "      <td>[Italian, Mediterranean, European, Vegetarian ...</td>\n",
       "      <td>3</td>\n",
       "      <td>202.0</td>\n",
       "      <td>[['Most exquisite', 'Delicious and authentic']...</td>\n",
       "      <td>/Restaurant_Review-g186338-d680417-Reviews-Qui...</td>\n",
       "      <td>d680417</td>\n",
       "      <td>0</td>\n",
       "      <td>0.0</td>\n",
       "      <td>0</td>\n",
       "      <td>...</td>\n",
       "      <td>0</td>\n",
       "      <td>0</td>\n",
       "      <td>0</td>\n",
       "      <td>0</td>\n",
       "      <td>0</td>\n",
       "      <td>0</td>\n",
       "      <td>0</td>\n",
       "      <td>0</td>\n",
       "      <td>0</td>\n",
       "      <td>0</td>\n",
       "    </tr>\n",
       "    <tr>\n",
       "      <th>4</th>\n",
       "      <td>4</td>\n",
       "      <td>[Italian, Mediterranean, European, Seafood, Ve...</td>\n",
       "      <td>3</td>\n",
       "      <td>162.0</td>\n",
       "      <td>[['Always the best in bratislava', 'Very good ...</td>\n",
       "      <td>/Restaurant_Review-g274924-d1112354-Reviews-Ma...</td>\n",
       "      <td>d1112354</td>\n",
       "      <td>0</td>\n",
       "      <td>0.0</td>\n",
       "      <td>0</td>\n",
       "      <td>...</td>\n",
       "      <td>0</td>\n",
       "      <td>0</td>\n",
       "      <td>0</td>\n",
       "      <td>0</td>\n",
       "      <td>0</td>\n",
       "      <td>0</td>\n",
       "      <td>0</td>\n",
       "      <td>0</td>\n",
       "      <td>0</td>\n",
       "      <td>0</td>\n",
       "    </tr>\n",
       "    <tr>\n",
       "      <th>...</th>\n",
       "      <td>...</td>\n",
       "      <td>...</td>\n",
       "      <td>...</td>\n",
       "      <td>...</td>\n",
       "      <td>...</td>\n",
       "      <td>...</td>\n",
       "      <td>...</td>\n",
       "      <td>...</td>\n",
       "      <td>...</td>\n",
       "      <td>...</td>\n",
       "      <td>...</td>\n",
       "      <td>...</td>\n",
       "      <td>...</td>\n",
       "      <td>...</td>\n",
       "      <td>...</td>\n",
       "      <td>...</td>\n",
       "      <td>...</td>\n",
       "      <td>...</td>\n",
       "      <td>...</td>\n",
       "      <td>...</td>\n",
       "      <td>...</td>\n",
       "    </tr>\n",
       "    <tr>\n",
       "      <th>49995</th>\n",
       "      <td>499</td>\n",
       "      <td>[Italian, Vegetarian Friendly, Vegan Options, ...</td>\n",
       "      <td>2</td>\n",
       "      <td>79.0</td>\n",
       "      <td>[['The real Italian experience!', 'Wonderful f...</td>\n",
       "      <td>/Restaurant_Review-g187849-d2104414-Reviews-Ro...</td>\n",
       "      <td>d2104414</td>\n",
       "      <td>1</td>\n",
       "      <td>4.5</td>\n",
       "      <td>0</td>\n",
       "      <td>...</td>\n",
       "      <td>0</td>\n",
       "      <td>0</td>\n",
       "      <td>0</td>\n",
       "      <td>0</td>\n",
       "      <td>0</td>\n",
       "      <td>0</td>\n",
       "      <td>0</td>\n",
       "      <td>0</td>\n",
       "      <td>0</td>\n",
       "      <td>0</td>\n",
       "    </tr>\n",
       "    <tr>\n",
       "      <th>49996</th>\n",
       "      <td>6340</td>\n",
       "      <td>[French, American, Bar, European, Vegetarian F...</td>\n",
       "      <td>2</td>\n",
       "      <td>542.0</td>\n",
       "      <td>[['Parisian atmosphere', 'Bit pricey but inter...</td>\n",
       "      <td>/Restaurant_Review-g187147-d1800036-Reviews-La...</td>\n",
       "      <td>d1800036</td>\n",
       "      <td>1</td>\n",
       "      <td>3.5</td>\n",
       "      <td>0</td>\n",
       "      <td>...</td>\n",
       "      <td>0</td>\n",
       "      <td>0</td>\n",
       "      <td>1</td>\n",
       "      <td>0</td>\n",
       "      <td>0</td>\n",
       "      <td>0</td>\n",
       "      <td>0</td>\n",
       "      <td>0</td>\n",
       "      <td>0</td>\n",
       "      <td>0</td>\n",
       "    </tr>\n",
       "    <tr>\n",
       "      <th>49997</th>\n",
       "      <td>1649</td>\n",
       "      <td>[Japanese, Sushi]</td>\n",
       "      <td>1</td>\n",
       "      <td>4.0</td>\n",
       "      <td>[['Good by swedish standards', 'A hidden jewel...</td>\n",
       "      <td>/Restaurant_Review-g189852-d947615-Reviews-Sus...</td>\n",
       "      <td>d947615</td>\n",
       "      <td>1</td>\n",
       "      <td>4.5</td>\n",
       "      <td>0</td>\n",
       "      <td>...</td>\n",
       "      <td>0</td>\n",
       "      <td>0</td>\n",
       "      <td>0</td>\n",
       "      <td>0</td>\n",
       "      <td>0</td>\n",
       "      <td>1</td>\n",
       "      <td>0</td>\n",
       "      <td>0</td>\n",
       "      <td>0</td>\n",
       "      <td>0</td>\n",
       "    </tr>\n",
       "    <tr>\n",
       "      <th>49998</th>\n",
       "      <td>640</td>\n",
       "      <td>[Polish, European, Eastern European, Central E...</td>\n",
       "      <td>2</td>\n",
       "      <td>70.0</td>\n",
       "      <td>[['Underground restaurant', 'Oldest Restaurant...</td>\n",
       "      <td>/Restaurant_Review-g274856-d1100838-Reviews-Ho...</td>\n",
       "      <td>d1100838</td>\n",
       "      <td>1</td>\n",
       "      <td>4.0</td>\n",
       "      <td>0</td>\n",
       "      <td>...</td>\n",
       "      <td>0</td>\n",
       "      <td>0</td>\n",
       "      <td>0</td>\n",
       "      <td>0</td>\n",
       "      <td>0</td>\n",
       "      <td>0</td>\n",
       "      <td>0</td>\n",
       "      <td>1</td>\n",
       "      <td>0</td>\n",
       "      <td>0</td>\n",
       "    </tr>\n",
       "    <tr>\n",
       "      <th>49999</th>\n",
       "      <td>4824</td>\n",
       "      <td>[Spanish]</td>\n",
       "      <td>2</td>\n",
       "      <td>260.0</td>\n",
       "      <td>[['Average', 'Nice an informal'], ['01/31/2016...</td>\n",
       "      <td>/Restaurant_Review-g187849-d1109020-Reviews-Ta...</td>\n",
       "      <td>d1109020</td>\n",
       "      <td>1</td>\n",
       "      <td>3.0</td>\n",
       "      <td>0</td>\n",
       "      <td>...</td>\n",
       "      <td>0</td>\n",
       "      <td>0</td>\n",
       "      <td>0</td>\n",
       "      <td>0</td>\n",
       "      <td>0</td>\n",
       "      <td>0</td>\n",
       "      <td>0</td>\n",
       "      <td>0</td>\n",
       "      <td>0</td>\n",
       "      <td>0</td>\n",
       "    </tr>\n",
       "  </tbody>\n",
       "</table>\n",
       "<p>50000 rows × 168 columns</p>\n",
       "</div>"
      ],
      "text/plain": [
       "       Restaurant_id                                      Cuisine Style  \\\n",
       "0                  0                                         [Bar, Pub]   \n",
       "1                  1  [European, Scandinavian, Gluten Free Options, ...   \n",
       "2                  2                              [Vegetarian Friendly]   \n",
       "3                  3  [Italian, Mediterranean, European, Vegetarian ...   \n",
       "4                  4  [Italian, Mediterranean, European, Seafood, Ve...   \n",
       "...              ...                                                ...   \n",
       "49995            499  [Italian, Vegetarian Friendly, Vegan Options, ...   \n",
       "49996           6340  [French, American, Bar, European, Vegetarian F...   \n",
       "49997           1649                                  [Japanese, Sushi]   \n",
       "49998            640  [Polish, European, Eastern European, Central E...   \n",
       "49999           4824                                          [Spanish]   \n",
       "\n",
       "       Price_Range  Number of Reviews  \\\n",
       "0                2                4.0   \n",
       "1                2               97.0   \n",
       "2                2               28.0   \n",
       "3                3              202.0   \n",
       "4                3              162.0   \n",
       "...            ...                ...   \n",
       "49995            2               79.0   \n",
       "49996            2              542.0   \n",
       "49997            1                4.0   \n",
       "49998            2               70.0   \n",
       "49999            2              260.0   \n",
       "\n",
       "                                                 Reviews  \\\n",
       "0                                               [[], []]   \n",
       "1      [['Very good reviews!', 'Fine dining in Hakani...   \n",
       "2      [['Better than the Links', 'Ivy Black'], ['12/...   \n",
       "3      [['Most exquisite', 'Delicious and authentic']...   \n",
       "4      [['Always the best in bratislava', 'Very good ...   \n",
       "...                                                  ...   \n",
       "49995  [['The real Italian experience!', 'Wonderful f...   \n",
       "49996  [['Parisian atmosphere', 'Bit pricey but inter...   \n",
       "49997  [['Good by swedish standards', 'A hidden jewel...   \n",
       "49998  [['Underground restaurant', 'Oldest Restaurant...   \n",
       "49999  [['Average', 'Nice an informal'], ['01/31/2016...   \n",
       "\n",
       "                                                  URL_TA      ID_TA  sample  \\\n",
       "0      /Restaurant_Review-g187147-d10746918-Reviews-L...  d10746918       0   \n",
       "1      /Restaurant_Review-g189934-d6674944-Reviews-Ra...   d6674944       0   \n",
       "2      /Restaurant_Review-g186525-d13129638-Reviews-B...  d13129638       0   \n",
       "3      /Restaurant_Review-g186338-d680417-Reviews-Qui...    d680417       0   \n",
       "4      /Restaurant_Review-g274924-d1112354-Reviews-Ma...   d1112354       0   \n",
       "...                                                  ...        ...     ...   \n",
       "49995  /Restaurant_Review-g187849-d2104414-Reviews-Ro...   d2104414       1   \n",
       "49996  /Restaurant_Review-g187147-d1800036-Reviews-La...   d1800036       1   \n",
       "49997  /Restaurant_Review-g189852-d947615-Reviews-Sus...    d947615       1   \n",
       "49998  /Restaurant_Review-g274856-d1100838-Reviews-Ho...   d1100838       1   \n",
       "49999  /Restaurant_Review-g187849-d1109020-Reviews-Ta...   d1109020       1   \n",
       "\n",
       "       Rating  Number_of_Reviews_isNAN  ...  Vegetarian Friendly  City_Oslo  \\\n",
       "0         0.0                        0  ...                    0          0   \n",
       "1         0.0                        0  ...                    0          0   \n",
       "2         0.0                        0  ...                    0          0   \n",
       "3         0.0                        0  ...                    0          0   \n",
       "4         0.0                        0  ...                    0          0   \n",
       "...       ...                      ...  ...                  ...        ...   \n",
       "49995     4.5                        0  ...                    0          0   \n",
       "49996     3.5                        0  ...                    0          0   \n",
       "49997     4.5                        0  ...                    0          0   \n",
       "49998     4.0                        0  ...                    0          0   \n",
       "49999     3.0                        0  ...                    0          0   \n",
       "\n",
       "       City_Paris  City_Prague  City_Rome  City_Stockholm  City_Vienna  \\\n",
       "0               1            0          0               0            0   \n",
       "1               0            0          0               0            0   \n",
       "2               0            0          0               0            0   \n",
       "3               0            0          0               0            0   \n",
       "4               0            0          0               0            0   \n",
       "...           ...          ...        ...             ...          ...   \n",
       "49995           0            0          0               0            0   \n",
       "49996           1            0          0               0            0   \n",
       "49997           0            0          0               1            0   \n",
       "49998           0            0          0               0            0   \n",
       "49999           0            0          0               0            0   \n",
       "\n",
       "       City_Warsaw  City_Zurich  City_nan  \n",
       "0                0            0         0  \n",
       "1                0            0         0  \n",
       "2                0            0         0  \n",
       "3                0            0         0  \n",
       "4                0            0         0  \n",
       "...            ...          ...       ...  \n",
       "49995            0            0         0  \n",
       "49996            0            0         0  \n",
       "49997            0            0         0  \n",
       "49998            1            0         0  \n",
       "49999            0            0         0  \n",
       "\n",
       "[50000 rows x 168 columns]"
      ]
     },
     "execution_count": 75,
     "metadata": {},
     "output_type": "execute_result"
    }
   ],
   "source": [
    "for i in cus_list:\n",
    "    df1.insert(33,i,0)\n",
    "df1"
   ]
  },
  {
   "cell_type": "code",
   "execution_count": 76,
   "metadata": {
    "execution": {
     "iopub.execute_input": "2020-10-03T02:49:45.935082Z",
     "iopub.status.busy": "2020-10-03T02:49:45.934250Z",
     "iopub.status.idle": "2020-10-03T02:49:57.221191Z",
     "shell.execute_reply": "2020-10-03T02:49:57.220535Z"
    },
    "papermill": {
     "duration": 11.458051,
     "end_time": "2020-10-03T02:49:57.221335",
     "exception": false,
     "start_time": "2020-10-03T02:49:45.763284",
     "status": "completed"
    },
    "tags": []
   },
   "outputs": [
    {
     "name": "stderr",
     "output_type": "stream",
     "text": [
      "/opt/conda/lib/python3.7/site-packages/ipykernel_launcher.py:4: SettingWithCopyWarning: \n",
      "A value is trying to be set on a copy of a slice from a DataFrame\n",
      "\n",
      "See the caveats in the documentation: https://pandas.pydata.org/pandas-docs/stable/user_guide/indexing.html#returning-a-view-versus-a-copy\n",
      "  after removing the cwd from sys.path.\n"
     ]
    }
   ],
   "source": [
    "for i in df1['Cuisine Style'].index:\n",
    "    Cus_style_value = df1['Cuisine Style'][i]    \n",
    "    for j in Cus_style_value:\n",
    "        df1[j][i] = 1"
   ]
  },
  {
   "cell_type": "code",
   "execution_count": 77,
   "metadata": {
    "execution": {
     "iopub.execute_input": "2020-10-03T02:49:57.583099Z",
     "iopub.status.busy": "2020-10-03T02:49:57.582290Z",
     "iopub.status.idle": "2020-10-03T02:49:57.594996Z",
     "shell.execute_reply": "2020-10-03T02:49:57.594202Z"
    },
    "papermill": {
     "duration": 0.203959,
     "end_time": "2020-10-03T02:49:57.595131",
     "exception": false,
     "start_time": "2020-10-03T02:49:57.391172",
     "status": "completed"
    },
    "tags": []
   },
   "outputs": [],
   "source": [
    "df1.drop(columns=['Cuisine Style'],inplace=True)"
   ]
  },
  {
   "cell_type": "code",
   "execution_count": 78,
   "metadata": {
    "execution": {
     "iopub.execute_input": "2020-10-03T02:49:57.932513Z",
     "iopub.status.busy": "2020-10-03T02:49:57.931693Z",
     "iopub.status.idle": "2020-10-03T02:49:58.001082Z",
     "shell.execute_reply": "2020-10-03T02:49:57.999948Z"
    },
    "papermill": {
     "duration": 0.240699,
     "end_time": "2020-10-03T02:49:58.001280",
     "exception": false,
     "start_time": "2020-10-03T02:49:57.760581",
     "status": "completed"
    },
    "scrolled": false,
    "tags": []
   },
   "outputs": [
    {
     "name": "stdout",
     "output_type": "stream",
     "text": [
      "<class 'pandas.core.frame.DataFrame'>\n",
      "RangeIndex: 50000 entries, 0 to 49999\n",
      "Data columns (total 167 columns):\n",
      " #   Column                   Non-Null Count  Dtype  \n",
      "---  ------                   --------------  -----  \n",
      " 0   Restaurant_id            50000 non-null  int64  \n",
      " 1   Price_Range              50000 non-null  int64  \n",
      " 2   Number of Reviews        50000 non-null  float64\n",
      " 3   Reviews                  50000 non-null  object \n",
      " 4   URL_TA                   50000 non-null  object \n",
      " 5   ID_TA                    50000 non-null  object \n",
      " 6   sample                   50000 non-null  int64  \n",
      " 7   Rating                   50000 non-null  float64\n",
      " 8   Number_of_Reviews_isNAN  50000 non-null  uint8  \n",
      " 9   City_Amsterdam           50000 non-null  uint8  \n",
      " 10  City_Athens              50000 non-null  uint8  \n",
      " 11  City_Barcelona           50000 non-null  uint8  \n",
      " 12  City_Berlin              50000 non-null  uint8  \n",
      " 13  City_Bratislava          50000 non-null  uint8  \n",
      " 14  City_Brussels            50000 non-null  uint8  \n",
      " 15  City_Budapest            50000 non-null  uint8  \n",
      " 16  City_Copenhagen          50000 non-null  uint8  \n",
      " 17  City_Dublin              50000 non-null  uint8  \n",
      " 18  City_Edinburgh           50000 non-null  uint8  \n",
      " 19  City_Geneva              50000 non-null  uint8  \n",
      " 20  City_Hamburg             50000 non-null  uint8  \n",
      " 21  City_Helsinki            50000 non-null  uint8  \n",
      " 22  City_Krakow              50000 non-null  uint8  \n",
      " 23  City_Lisbon              50000 non-null  uint8  \n",
      " 24  City_Ljubljana           50000 non-null  uint8  \n",
      " 25  City_London              50000 non-null  uint8  \n",
      " 26  City_Luxembourg          50000 non-null  uint8  \n",
      " 27  City_Lyon                50000 non-null  uint8  \n",
      " 28  City_Madrid              50000 non-null  uint8  \n",
      " 29  City_Milan               50000 non-null  uint8  \n",
      " 30  City_Munich              50000 non-null  uint8  \n",
      " 31  City_Oporto              50000 non-null  uint8  \n",
      " 32  Xinjiang                 50000 non-null  int64  \n",
      " 33  Latvian                  50000 non-null  int64  \n",
      " 34  Burmese                  50000 non-null  int64  \n",
      " 35  Salvadoran               50000 non-null  int64  \n",
      " 36  Yunnan                   50000 non-null  int64  \n",
      " 37  Polynesian               50000 non-null  int64  \n",
      " 38  Fujian                   50000 non-null  int64  \n",
      " 39  Welsh                    50000 non-null  int64  \n",
      " 40  Azerbaijani              50000 non-null  int64  \n",
      " 41  Caucasian                50000 non-null  int64  \n",
      " 42  Uzbek                    50000 non-null  int64  \n",
      " 43  Native American          50000 non-null  int64  \n",
      " 44  New Zealand              50000 non-null  int64  \n",
      " 45  Canadian                 50000 non-null  int64  \n",
      " 46  Ecuadorean               50000 non-null  int64  \n",
      " 47  Albanian                 50000 non-null  int64  \n",
      " 48  Minority Chinese         50000 non-null  int64  \n",
      " 49  Central Asian            50000 non-null  int64  \n",
      " 50  Romanian                 50000 non-null  int64  \n",
      " 51  Chilean                  50000 non-null  int64  \n",
      " 52  Armenian                 50000 non-null  int64  \n",
      " 53  Filipino                 50000 non-null  int64  \n",
      " 54  Georgian                 50000 non-null  int64  \n",
      " 55  Mongolian                50000 non-null  int64  \n",
      " 56  Ukrainian                50000 non-null  int64  \n",
      " 57  Singaporean              50000 non-null  int64  \n",
      " 58  Cambodian                50000 non-null  int64  \n",
      " 59  Tunisian                 50000 non-null  int64  \n",
      " 60  Hawaiian                 50000 non-null  int64  \n",
      " 61  Southwestern             50000 non-null  int64  \n",
      " 62  Egyptian                 50000 non-null  int64  \n",
      " 63  Cajun & Creole           50000 non-null  int64  \n",
      " 64  Afghani                  50000 non-null  int64  \n",
      " 65  Tibetan                  50000 non-null  int64  \n",
      " 66  Taiwanese                50000 non-null  int64  \n",
      " 67  Sri Lankan               50000 non-null  int64  \n",
      " 68  Colombian                50000 non-null  int64  \n",
      " 69  Cuban                    50000 non-null  int64  \n",
      " 70  Croatian                 50000 non-null  int64  \n",
      " 71  Australian               50000 non-null  int64  \n",
      " 72  Jamaican                 50000 non-null  int64  \n",
      " 73  Malaysian                50000 non-null  int64  \n",
      " 74  Venezuelan               50000 non-null  int64  \n",
      " 75  Ethiopian                50000 non-null  int64  \n",
      " 76  Kosher                   50000 non-null  int64  \n",
      " 77  Arabic                   50000 non-null  int64  \n",
      " 78  Russian                  50000 non-null  int64  \n",
      " 79  Indonesian               50000 non-null  int64  \n",
      " 80  Persian                  50000 non-null  int64  \n",
      " 81  Slovenian                50000 non-null  int64  \n",
      " 82  Israeli                  50000 non-null  int64  \n",
      " 83  Norwegian                50000 non-null  int64  \n",
      " 84  Bangladeshi              50000 non-null  int64  \n",
      " 85  Balti                    50000 non-null  int64  \n",
      " 86  Nepali                   50000 non-null  int64  \n",
      " 87  Caribbean                50000 non-null  int64  \n",
      " 88  Peruvian                 50000 non-null  int64  \n",
      " 89  Pakistani                50000 non-null  int64  \n",
      " 90  Brazilian                50000 non-null  int64  \n",
      " 91  Central American         50000 non-null  int64  \n",
      " 92  Moroccan                 50000 non-null  int64  \n",
      " 93  African                  50000 non-null  int64  \n",
      " 94  Scottish                 50000 non-null  int64  \n",
      " 95  Korean                   50000 non-null  int64  \n",
      " 96  Argentinean              50000 non-null  int64  \n",
      " 97  Swiss                    50000 non-null  int64  \n",
      " 98  Swedish                  50000 non-null  int64  \n",
      " 99  Danish                   50000 non-null  int64  \n",
      " 100 Brew Pub                 50000 non-null  int64  \n",
      " 101 Belgian                  50000 non-null  int64  \n",
      " 102 Street Food              50000 non-null  int64  \n",
      " 103 Irish                    50000 non-null  int64  \n",
      " 104 Dutch                    50000 non-null  int64  \n",
      " 105 Latin                    50000 non-null  int64  \n",
      " 106 Diner                    50000 non-null  int64  \n",
      " 107 Lebanese                 50000 non-null  int64  \n",
      " 108 Hungarian                50000 non-null  int64  \n",
      " 109 Scandinavian             50000 non-null  int64  \n",
      " 110 Polish                   50000 non-null  int64  \n",
      " 111 Austrian                 50000 non-null  int64  \n",
      " 112 Delicatessen             50000 non-null  int64  \n",
      " 113 South American           50000 non-null  int64  \n",
      " 114 Mexican                  50000 non-null  int64  \n",
      " 115 Turkish                  50000 non-null  int64  \n",
      " 116 Gastropub                50000 non-null  int64  \n",
      " 117 Grill                    50000 non-null  int64  \n",
      " 118 Vietnamese               50000 non-null  int64  \n",
      " 119 Eastern European         50000 non-null  int64  \n",
      " 120 Soups                    50000 non-null  int64  \n",
      " 121 Contemporary             50000 non-null  int64  \n",
      " 122 Barbecue                 50000 non-null  int64  \n",
      " 123 Steakhouse               50000 non-null  int64  \n",
      " 124 Czech                    50000 non-null  int64  \n",
      " 125 Fusion                   50000 non-null  int64  \n",
      " 126 Healthy                  50000 non-null  int64  \n",
      " 127 Greek                    50000 non-null  int64  \n",
      " 128 Halal                    50000 non-null  int64  \n",
      " 129 German                   50000 non-null  int64  \n",
      " 130 Wine Bar                 50000 non-null  int64  \n",
      " 131 Thai                     50000 non-null  int64  \n",
      " 132 Middle Eastern           50000 non-null  int64  \n",
      " 133 Indian                   50000 non-null  int64  \n",
      " 134 Portuguese               50000 non-null  int64  \n",
      " 135 Chinese                  50000 non-null  int64  \n",
      " 136 Sushi                    50000 non-null  int64  \n",
      " 137 American                 50000 non-null  int64  \n",
      " 138 Central European         50000 non-null  int64  \n",
      " 139 Japanese                 50000 non-null  int64  \n",
      " 140 Seafood                  50000 non-null  int64  \n",
      " 141 International            50000 non-null  int64  \n",
      " 142 British                  50000 non-null  int64  \n",
      " 143 Fast Food                50000 non-null  int64  \n",
      " 144 Cafe                     50000 non-null  int64  \n",
      " 145 Pub                      50000 non-null  int64  \n",
      " 146 Spanish                  50000 non-null  int64  \n",
      " 147 Pizza                    50000 non-null  int64  \n",
      " 148 Asian                    50000 non-null  int64  \n",
      " 149 French                   50000 non-null  int64  \n",
      " 150 Bar                      50000 non-null  int64  \n",
      " 151 Gluten Free Options      50000 non-null  int64  \n",
      " 152 Vegan Options            50000 non-null  int64  \n",
      " 153 Italian                  50000 non-null  int64  \n",
      " 154 Mediterranean            50000 non-null  int64  \n",
      " 155 other_cuisines           50000 non-null  int64  \n",
      " 156 European                 50000 non-null  int64  \n",
      " 157 Vegetarian Friendly      50000 non-null  int64  \n",
      " 158 City_Oslo                50000 non-null  uint8  \n",
      " 159 City_Paris               50000 non-null  uint8  \n",
      " 160 City_Prague              50000 non-null  uint8  \n",
      " 161 City_Rome                50000 non-null  uint8  \n",
      " 162 City_Stockholm           50000 non-null  uint8  \n",
      " 163 City_Vienna              50000 non-null  uint8  \n",
      " 164 City_Warsaw              50000 non-null  uint8  \n",
      " 165 City_Zurich              50000 non-null  uint8  \n",
      " 166 City_nan                 50000 non-null  uint8  \n",
      "dtypes: float64(2), int64(129), object(3), uint8(33)\n",
      "memory usage: 52.7+ MB\n"
     ]
    }
   ],
   "source": [
    "df1.info(verbose=True,null_counts=True)"
   ]
  },
  {
   "cell_type": "code",
   "execution_count": 79,
   "metadata": {
    "execution": {
     "iopub.execute_input": "2020-10-03T02:49:58.355878Z",
     "iopub.status.busy": "2020-10-03T02:49:58.354801Z",
     "iopub.status.idle": "2020-10-03T02:49:58.358291Z",
     "shell.execute_reply": "2020-10-03T02:49:58.357707Z"
    },
    "papermill": {
     "duration": 0.183958,
     "end_time": "2020-10-03T02:49:58.358420",
     "exception": false,
     "start_time": "2020-10-03T02:49:58.174462",
     "status": "completed"
    },
    "tags": []
   },
   "outputs": [],
   "source": [
    "df1['Reviews'].fillna('[]',inplace=True)"
   ]
  },
  {
   "cell_type": "code",
   "execution_count": 80,
   "metadata": {
    "execution": {
     "iopub.execute_input": "2020-10-03T02:49:58.697966Z",
     "iopub.status.busy": "2020-10-03T02:49:58.696876Z",
     "iopub.status.idle": "2020-10-03T02:49:58.700078Z",
     "shell.execute_reply": "2020-10-03T02:49:58.699358Z"
    },
    "papermill": {
     "duration": 0.174045,
     "end_time": "2020-10-03T02:49:58.700245",
     "exception": false,
     "start_time": "2020-10-03T02:49:58.526200",
     "status": "completed"
    },
    "tags": []
   },
   "outputs": [],
   "source": [
    "#rev = df1['Reviews'].apply(lambda x: re.findall(r\"'(\\d+\\/\\d+\\/\\d+)'\", x))"
   ]
  },
  {
   "cell_type": "code",
   "execution_count": 81,
   "metadata": {
    "execution": {
     "iopub.execute_input": "2020-10-03T02:49:59.041793Z",
     "iopub.status.busy": "2020-10-03T02:49:59.040530Z",
     "iopub.status.idle": "2020-10-03T02:49:59.099690Z",
     "shell.execute_reply": "2020-10-03T02:49:59.100280Z"
    },
    "papermill": {
     "duration": 0.233184,
     "end_time": "2020-10-03T02:49:59.100442",
     "exception": false,
     "start_time": "2020-10-03T02:49:58.867258",
     "status": "completed"
    },
    "tags": []
   },
   "outputs": [
    {
     "data": {
      "text/html": [
       "<div>\n",
       "<style scoped>\n",
       "    .dataframe tbody tr th:only-of-type {\n",
       "        vertical-align: middle;\n",
       "    }\n",
       "\n",
       "    .dataframe tbody tr th {\n",
       "        vertical-align: top;\n",
       "    }\n",
       "\n",
       "    .dataframe thead th {\n",
       "        text-align: right;\n",
       "    }\n",
       "</style>\n",
       "<table border=\"1\" class=\"dataframe\">\n",
       "  <thead>\n",
       "    <tr style=\"text-align: right;\">\n",
       "      <th></th>\n",
       "      <th>City_Stockholm</th>\n",
       "      <th>City_Vienna</th>\n",
       "      <th>City_Warsaw</th>\n",
       "      <th>City_Zurich</th>\n",
       "      <th>City_nan</th>\n",
       "      <th>Restaurant_id</th>\n",
       "      <th>Price_Range</th>\n",
       "      <th>Number of Reviews</th>\n",
       "      <th>Reviews</th>\n",
       "      <th>URL_TA</th>\n",
       "      <th>...</th>\n",
       "      <th>Vegan Options</th>\n",
       "      <th>Italian</th>\n",
       "      <th>Mediterranean</th>\n",
       "      <th>other_cuisines</th>\n",
       "      <th>European</th>\n",
       "      <th>Vegetarian Friendly</th>\n",
       "      <th>City_Oslo</th>\n",
       "      <th>City_Paris</th>\n",
       "      <th>City_Prague</th>\n",
       "      <th>City_Rome</th>\n",
       "    </tr>\n",
       "  </thead>\n",
       "  <tbody>\n",
       "    <tr>\n",
       "      <th>0</th>\n",
       "      <td>0</td>\n",
       "      <td>0</td>\n",
       "      <td>0</td>\n",
       "      <td>0</td>\n",
       "      <td>0</td>\n",
       "      <td>0</td>\n",
       "      <td>2</td>\n",
       "      <td>4.0</td>\n",
       "      <td>[[], []]</td>\n",
       "      <td>/Restaurant_Review-g187147-d10746918-Reviews-L...</td>\n",
       "      <td>...</td>\n",
       "      <td>0</td>\n",
       "      <td>0</td>\n",
       "      <td>0</td>\n",
       "      <td>0</td>\n",
       "      <td>0</td>\n",
       "      <td>0</td>\n",
       "      <td>0</td>\n",
       "      <td>1</td>\n",
       "      <td>0</td>\n",
       "      <td>0</td>\n",
       "    </tr>\n",
       "    <tr>\n",
       "      <th>1</th>\n",
       "      <td>0</td>\n",
       "      <td>0</td>\n",
       "      <td>0</td>\n",
       "      <td>0</td>\n",
       "      <td>0</td>\n",
       "      <td>1</td>\n",
       "      <td>2</td>\n",
       "      <td>97.0</td>\n",
       "      <td>[['Very good reviews!', 'Fine dining in Hakani...</td>\n",
       "      <td>/Restaurant_Review-g189934-d6674944-Reviews-Ra...</td>\n",
       "      <td>...</td>\n",
       "      <td>1</td>\n",
       "      <td>0</td>\n",
       "      <td>0</td>\n",
       "      <td>0</td>\n",
       "      <td>1</td>\n",
       "      <td>1</td>\n",
       "      <td>0</td>\n",
       "      <td>0</td>\n",
       "      <td>0</td>\n",
       "      <td>0</td>\n",
       "    </tr>\n",
       "    <tr>\n",
       "      <th>2</th>\n",
       "      <td>0</td>\n",
       "      <td>0</td>\n",
       "      <td>0</td>\n",
       "      <td>0</td>\n",
       "      <td>0</td>\n",
       "      <td>2</td>\n",
       "      <td>2</td>\n",
       "      <td>28.0</td>\n",
       "      <td>[['Better than the Links', 'Ivy Black'], ['12/...</td>\n",
       "      <td>/Restaurant_Review-g186525-d13129638-Reviews-B...</td>\n",
       "      <td>...</td>\n",
       "      <td>0</td>\n",
       "      <td>0</td>\n",
       "      <td>0</td>\n",
       "      <td>0</td>\n",
       "      <td>0</td>\n",
       "      <td>1</td>\n",
       "      <td>0</td>\n",
       "      <td>0</td>\n",
       "      <td>0</td>\n",
       "      <td>0</td>\n",
       "    </tr>\n",
       "    <tr>\n",
       "      <th>3</th>\n",
       "      <td>0</td>\n",
       "      <td>0</td>\n",
       "      <td>0</td>\n",
       "      <td>0</td>\n",
       "      <td>0</td>\n",
       "      <td>3</td>\n",
       "      <td>3</td>\n",
       "      <td>202.0</td>\n",
       "      <td>[['Most exquisite', 'Delicious and authentic']...</td>\n",
       "      <td>/Restaurant_Review-g186338-d680417-Reviews-Qui...</td>\n",
       "      <td>...</td>\n",
       "      <td>0</td>\n",
       "      <td>1</td>\n",
       "      <td>1</td>\n",
       "      <td>0</td>\n",
       "      <td>1</td>\n",
       "      <td>1</td>\n",
       "      <td>0</td>\n",
       "      <td>0</td>\n",
       "      <td>0</td>\n",
       "      <td>0</td>\n",
       "    </tr>\n",
       "    <tr>\n",
       "      <th>4</th>\n",
       "      <td>0</td>\n",
       "      <td>0</td>\n",
       "      <td>0</td>\n",
       "      <td>0</td>\n",
       "      <td>0</td>\n",
       "      <td>4</td>\n",
       "      <td>3</td>\n",
       "      <td>162.0</td>\n",
       "      <td>[['Always the best in bratislava', 'Very good ...</td>\n",
       "      <td>/Restaurant_Review-g274924-d1112354-Reviews-Ma...</td>\n",
       "      <td>...</td>\n",
       "      <td>0</td>\n",
       "      <td>1</td>\n",
       "      <td>1</td>\n",
       "      <td>0</td>\n",
       "      <td>1</td>\n",
       "      <td>1</td>\n",
       "      <td>0</td>\n",
       "      <td>0</td>\n",
       "      <td>0</td>\n",
       "      <td>0</td>\n",
       "    </tr>\n",
       "    <tr>\n",
       "      <th>...</th>\n",
       "      <td>...</td>\n",
       "      <td>...</td>\n",
       "      <td>...</td>\n",
       "      <td>...</td>\n",
       "      <td>...</td>\n",
       "      <td>...</td>\n",
       "      <td>...</td>\n",
       "      <td>...</td>\n",
       "      <td>...</td>\n",
       "      <td>...</td>\n",
       "      <td>...</td>\n",
       "      <td>...</td>\n",
       "      <td>...</td>\n",
       "      <td>...</td>\n",
       "      <td>...</td>\n",
       "      <td>...</td>\n",
       "      <td>...</td>\n",
       "      <td>...</td>\n",
       "      <td>...</td>\n",
       "      <td>...</td>\n",
       "      <td>...</td>\n",
       "    </tr>\n",
       "    <tr>\n",
       "      <th>49995</th>\n",
       "      <td>0</td>\n",
       "      <td>0</td>\n",
       "      <td>0</td>\n",
       "      <td>0</td>\n",
       "      <td>0</td>\n",
       "      <td>499</td>\n",
       "      <td>2</td>\n",
       "      <td>79.0</td>\n",
       "      <td>[['The real Italian experience!', 'Wonderful f...</td>\n",
       "      <td>/Restaurant_Review-g187849-d2104414-Reviews-Ro...</td>\n",
       "      <td>...</td>\n",
       "      <td>1</td>\n",
       "      <td>1</td>\n",
       "      <td>0</td>\n",
       "      <td>0</td>\n",
       "      <td>0</td>\n",
       "      <td>1</td>\n",
       "      <td>0</td>\n",
       "      <td>0</td>\n",
       "      <td>0</td>\n",
       "      <td>0</td>\n",
       "    </tr>\n",
       "    <tr>\n",
       "      <th>49996</th>\n",
       "      <td>0</td>\n",
       "      <td>0</td>\n",
       "      <td>0</td>\n",
       "      <td>0</td>\n",
       "      <td>0</td>\n",
       "      <td>6340</td>\n",
       "      <td>2</td>\n",
       "      <td>542.0</td>\n",
       "      <td>[['Parisian atmosphere', 'Bit pricey but inter...</td>\n",
       "      <td>/Restaurant_Review-g187147-d1800036-Reviews-La...</td>\n",
       "      <td>...</td>\n",
       "      <td>0</td>\n",
       "      <td>0</td>\n",
       "      <td>0</td>\n",
       "      <td>0</td>\n",
       "      <td>1</td>\n",
       "      <td>1</td>\n",
       "      <td>0</td>\n",
       "      <td>1</td>\n",
       "      <td>0</td>\n",
       "      <td>0</td>\n",
       "    </tr>\n",
       "    <tr>\n",
       "      <th>49997</th>\n",
       "      <td>1</td>\n",
       "      <td>0</td>\n",
       "      <td>0</td>\n",
       "      <td>0</td>\n",
       "      <td>0</td>\n",
       "      <td>1649</td>\n",
       "      <td>1</td>\n",
       "      <td>4.0</td>\n",
       "      <td>[['Good by swedish standards', 'A hidden jewel...</td>\n",
       "      <td>/Restaurant_Review-g189852-d947615-Reviews-Sus...</td>\n",
       "      <td>...</td>\n",
       "      <td>0</td>\n",
       "      <td>0</td>\n",
       "      <td>0</td>\n",
       "      <td>0</td>\n",
       "      <td>0</td>\n",
       "      <td>0</td>\n",
       "      <td>0</td>\n",
       "      <td>0</td>\n",
       "      <td>0</td>\n",
       "      <td>0</td>\n",
       "    </tr>\n",
       "    <tr>\n",
       "      <th>49998</th>\n",
       "      <td>0</td>\n",
       "      <td>0</td>\n",
       "      <td>1</td>\n",
       "      <td>0</td>\n",
       "      <td>0</td>\n",
       "      <td>640</td>\n",
       "      <td>2</td>\n",
       "      <td>70.0</td>\n",
       "      <td>[['Underground restaurant', 'Oldest Restaurant...</td>\n",
       "      <td>/Restaurant_Review-g274856-d1100838-Reviews-Ho...</td>\n",
       "      <td>...</td>\n",
       "      <td>0</td>\n",
       "      <td>0</td>\n",
       "      <td>0</td>\n",
       "      <td>0</td>\n",
       "      <td>1</td>\n",
       "      <td>1</td>\n",
       "      <td>0</td>\n",
       "      <td>0</td>\n",
       "      <td>0</td>\n",
       "      <td>0</td>\n",
       "    </tr>\n",
       "    <tr>\n",
       "      <th>49999</th>\n",
       "      <td>0</td>\n",
       "      <td>0</td>\n",
       "      <td>0</td>\n",
       "      <td>0</td>\n",
       "      <td>0</td>\n",
       "      <td>4824</td>\n",
       "      <td>2</td>\n",
       "      <td>260.0</td>\n",
       "      <td>[['Average', 'Nice an informal'], ['01/31/2016...</td>\n",
       "      <td>/Restaurant_Review-g187849-d1109020-Reviews-Ta...</td>\n",
       "      <td>...</td>\n",
       "      <td>0</td>\n",
       "      <td>0</td>\n",
       "      <td>0</td>\n",
       "      <td>0</td>\n",
       "      <td>0</td>\n",
       "      <td>0</td>\n",
       "      <td>0</td>\n",
       "      <td>0</td>\n",
       "      <td>0</td>\n",
       "      <td>0</td>\n",
       "    </tr>\n",
       "  </tbody>\n",
       "</table>\n",
       "<p>50000 rows × 167 columns</p>\n",
       "</div>"
      ],
      "text/plain": [
       "       City_Stockholm  City_Vienna  City_Warsaw  City_Zurich  City_nan  \\\n",
       "0                   0            0            0            0         0   \n",
       "1                   0            0            0            0         0   \n",
       "2                   0            0            0            0         0   \n",
       "3                   0            0            0            0         0   \n",
       "4                   0            0            0            0         0   \n",
       "...               ...          ...          ...          ...       ...   \n",
       "49995               0            0            0            0         0   \n",
       "49996               0            0            0            0         0   \n",
       "49997               1            0            0            0         0   \n",
       "49998               0            0            1            0         0   \n",
       "49999               0            0            0            0         0   \n",
       "\n",
       "       Restaurant_id  Price_Range  Number of Reviews  \\\n",
       "0                  0            2                4.0   \n",
       "1                  1            2               97.0   \n",
       "2                  2            2               28.0   \n",
       "3                  3            3              202.0   \n",
       "4                  4            3              162.0   \n",
       "...              ...          ...                ...   \n",
       "49995            499            2               79.0   \n",
       "49996           6340            2              542.0   \n",
       "49997           1649            1                4.0   \n",
       "49998            640            2               70.0   \n",
       "49999           4824            2              260.0   \n",
       "\n",
       "                                                 Reviews  \\\n",
       "0                                               [[], []]   \n",
       "1      [['Very good reviews!', 'Fine dining in Hakani...   \n",
       "2      [['Better than the Links', 'Ivy Black'], ['12/...   \n",
       "3      [['Most exquisite', 'Delicious and authentic']...   \n",
       "4      [['Always the best in bratislava', 'Very good ...   \n",
       "...                                                  ...   \n",
       "49995  [['The real Italian experience!', 'Wonderful f...   \n",
       "49996  [['Parisian atmosphere', 'Bit pricey but inter...   \n",
       "49997  [['Good by swedish standards', 'A hidden jewel...   \n",
       "49998  [['Underground restaurant', 'Oldest Restaurant...   \n",
       "49999  [['Average', 'Nice an informal'], ['01/31/2016...   \n",
       "\n",
       "                                                  URL_TA  ... Vegan Options  \\\n",
       "0      /Restaurant_Review-g187147-d10746918-Reviews-L...  ...             0   \n",
       "1      /Restaurant_Review-g189934-d6674944-Reviews-Ra...  ...             1   \n",
       "2      /Restaurant_Review-g186525-d13129638-Reviews-B...  ...             0   \n",
       "3      /Restaurant_Review-g186338-d680417-Reviews-Qui...  ...             0   \n",
       "4      /Restaurant_Review-g274924-d1112354-Reviews-Ma...  ...             0   \n",
       "...                                                  ...  ...           ...   \n",
       "49995  /Restaurant_Review-g187849-d2104414-Reviews-Ro...  ...             1   \n",
       "49996  /Restaurant_Review-g187147-d1800036-Reviews-La...  ...             0   \n",
       "49997  /Restaurant_Review-g189852-d947615-Reviews-Sus...  ...             0   \n",
       "49998  /Restaurant_Review-g274856-d1100838-Reviews-Ho...  ...             0   \n",
       "49999  /Restaurant_Review-g187849-d1109020-Reviews-Ta...  ...             0   \n",
       "\n",
       "       Italian  Mediterranean  other_cuisines  European  Vegetarian Friendly  \\\n",
       "0            0              0               0         0                    0   \n",
       "1            0              0               0         1                    1   \n",
       "2            0              0               0         0                    1   \n",
       "3            1              1               0         1                    1   \n",
       "4            1              1               0         1                    1   \n",
       "...        ...            ...             ...       ...                  ...   \n",
       "49995        1              0               0         0                    1   \n",
       "49996        0              0               0         1                    1   \n",
       "49997        0              0               0         0                    0   \n",
       "49998        0              0               0         1                    1   \n",
       "49999        0              0               0         0                    0   \n",
       "\n",
       "       City_Oslo  City_Paris  City_Prague  City_Rome  \n",
       "0              0           1            0          0  \n",
       "1              0           0            0          0  \n",
       "2              0           0            0          0  \n",
       "3              0           0            0          0  \n",
       "4              0           0            0          0  \n",
       "...          ...         ...          ...        ...  \n",
       "49995          0           0            0          0  \n",
       "49996          0           1            0          0  \n",
       "49997          0           0            0          0  \n",
       "49998          0           0            0          0  \n",
       "49999          0           0            0          0  \n",
       "\n",
       "[50000 rows x 167 columns]"
      ]
     },
     "execution_count": 81,
     "metadata": {},
     "output_type": "execute_result"
    }
   ],
   "source": [
    "for i in range(0,5):\n",
    "    buf_name = df1.columns[-1]\n",
    "    col_buf = df1.pop(buf_name)\n",
    "    df1.insert(0,buf_name,col_buf)\n",
    "df1"
   ]
  },
  {
   "cell_type": "code",
   "execution_count": 82,
   "metadata": {
    "execution": {
     "iopub.execute_input": "2020-10-03T02:49:59.447042Z",
     "iopub.status.busy": "2020-10-03T02:49:59.446250Z",
     "iopub.status.idle": "2020-10-03T02:49:59.496306Z",
     "shell.execute_reply": "2020-10-03T02:49:59.495539Z"
    },
    "papermill": {
     "duration": 0.227098,
     "end_time": "2020-10-03T02:49:59.496435",
     "exception": false,
     "start_time": "2020-10-03T02:49:59.269337",
     "status": "completed"
    },
    "tags": []
   },
   "outputs": [],
   "source": [
    "df1 = df1.drop('URL_TA', 1)\n",
    "df1 = df1.drop('ID_TA', 1)"
   ]
  },
  {
   "cell_type": "code",
   "execution_count": 83,
   "metadata": {
    "execution": {
     "iopub.execute_input": "2020-10-03T02:49:59.840593Z",
     "iopub.status.busy": "2020-10-03T02:49:59.839825Z",
     "iopub.status.idle": "2020-10-03T02:49:59.886293Z",
     "shell.execute_reply": "2020-10-03T02:49:59.885668Z"
    },
    "papermill": {
     "duration": 0.220802,
     "end_time": "2020-10-03T02:49:59.886417",
     "exception": false,
     "start_time": "2020-10-03T02:49:59.665615",
     "status": "completed"
    },
    "scrolled": false,
    "tags": []
   },
   "outputs": [
    {
     "data": {
      "text/html": [
       "<div>\n",
       "<style scoped>\n",
       "    .dataframe tbody tr th:only-of-type {\n",
       "        vertical-align: middle;\n",
       "    }\n",
       "\n",
       "    .dataframe tbody tr th {\n",
       "        vertical-align: top;\n",
       "    }\n",
       "\n",
       "    .dataframe thead th {\n",
       "        text-align: right;\n",
       "    }\n",
       "</style>\n",
       "<table border=\"1\" class=\"dataframe\">\n",
       "  <thead>\n",
       "    <tr style=\"text-align: right;\">\n",
       "      <th></th>\n",
       "      <th>City_Stockholm</th>\n",
       "      <th>City_Vienna</th>\n",
       "      <th>City_Warsaw</th>\n",
       "      <th>City_Zurich</th>\n",
       "      <th>City_nan</th>\n",
       "      <th>Restaurant_id</th>\n",
       "      <th>Price_Range</th>\n",
       "      <th>Number of Reviews</th>\n",
       "      <th>Reviews</th>\n",
       "      <th>sample</th>\n",
       "      <th>...</th>\n",
       "      <th>Vegan Options</th>\n",
       "      <th>Italian</th>\n",
       "      <th>Mediterranean</th>\n",
       "      <th>other_cuisines</th>\n",
       "      <th>European</th>\n",
       "      <th>Vegetarian Friendly</th>\n",
       "      <th>City_Oslo</th>\n",
       "      <th>City_Paris</th>\n",
       "      <th>City_Prague</th>\n",
       "      <th>City_Rome</th>\n",
       "    </tr>\n",
       "  </thead>\n",
       "  <tbody>\n",
       "    <tr>\n",
       "      <th>0</th>\n",
       "      <td>0</td>\n",
       "      <td>0</td>\n",
       "      <td>0</td>\n",
       "      <td>0</td>\n",
       "      <td>0</td>\n",
       "      <td>0</td>\n",
       "      <td>2</td>\n",
       "      <td>4.0</td>\n",
       "      <td>[[], []]</td>\n",
       "      <td>0</td>\n",
       "      <td>...</td>\n",
       "      <td>0</td>\n",
       "      <td>0</td>\n",
       "      <td>0</td>\n",
       "      <td>0</td>\n",
       "      <td>0</td>\n",
       "      <td>0</td>\n",
       "      <td>0</td>\n",
       "      <td>1</td>\n",
       "      <td>0</td>\n",
       "      <td>0</td>\n",
       "    </tr>\n",
       "    <tr>\n",
       "      <th>1</th>\n",
       "      <td>0</td>\n",
       "      <td>0</td>\n",
       "      <td>0</td>\n",
       "      <td>0</td>\n",
       "      <td>0</td>\n",
       "      <td>1</td>\n",
       "      <td>2</td>\n",
       "      <td>97.0</td>\n",
       "      <td>[['Very good reviews!', 'Fine dining in Hakani...</td>\n",
       "      <td>0</td>\n",
       "      <td>...</td>\n",
       "      <td>1</td>\n",
       "      <td>0</td>\n",
       "      <td>0</td>\n",
       "      <td>0</td>\n",
       "      <td>1</td>\n",
       "      <td>1</td>\n",
       "      <td>0</td>\n",
       "      <td>0</td>\n",
       "      <td>0</td>\n",
       "      <td>0</td>\n",
       "    </tr>\n",
       "    <tr>\n",
       "      <th>2</th>\n",
       "      <td>0</td>\n",
       "      <td>0</td>\n",
       "      <td>0</td>\n",
       "      <td>0</td>\n",
       "      <td>0</td>\n",
       "      <td>2</td>\n",
       "      <td>2</td>\n",
       "      <td>28.0</td>\n",
       "      <td>[['Better than the Links', 'Ivy Black'], ['12/...</td>\n",
       "      <td>0</td>\n",
       "      <td>...</td>\n",
       "      <td>0</td>\n",
       "      <td>0</td>\n",
       "      <td>0</td>\n",
       "      <td>0</td>\n",
       "      <td>0</td>\n",
       "      <td>1</td>\n",
       "      <td>0</td>\n",
       "      <td>0</td>\n",
       "      <td>0</td>\n",
       "      <td>0</td>\n",
       "    </tr>\n",
       "    <tr>\n",
       "      <th>3</th>\n",
       "      <td>0</td>\n",
       "      <td>0</td>\n",
       "      <td>0</td>\n",
       "      <td>0</td>\n",
       "      <td>0</td>\n",
       "      <td>3</td>\n",
       "      <td>3</td>\n",
       "      <td>202.0</td>\n",
       "      <td>[['Most exquisite', 'Delicious and authentic']...</td>\n",
       "      <td>0</td>\n",
       "      <td>...</td>\n",
       "      <td>0</td>\n",
       "      <td>1</td>\n",
       "      <td>1</td>\n",
       "      <td>0</td>\n",
       "      <td>1</td>\n",
       "      <td>1</td>\n",
       "      <td>0</td>\n",
       "      <td>0</td>\n",
       "      <td>0</td>\n",
       "      <td>0</td>\n",
       "    </tr>\n",
       "    <tr>\n",
       "      <th>4</th>\n",
       "      <td>0</td>\n",
       "      <td>0</td>\n",
       "      <td>0</td>\n",
       "      <td>0</td>\n",
       "      <td>0</td>\n",
       "      <td>4</td>\n",
       "      <td>3</td>\n",
       "      <td>162.0</td>\n",
       "      <td>[['Always the best in bratislava', 'Very good ...</td>\n",
       "      <td>0</td>\n",
       "      <td>...</td>\n",
       "      <td>0</td>\n",
       "      <td>1</td>\n",
       "      <td>1</td>\n",
       "      <td>0</td>\n",
       "      <td>1</td>\n",
       "      <td>1</td>\n",
       "      <td>0</td>\n",
       "      <td>0</td>\n",
       "      <td>0</td>\n",
       "      <td>0</td>\n",
       "    </tr>\n",
       "    <tr>\n",
       "      <th>...</th>\n",
       "      <td>...</td>\n",
       "      <td>...</td>\n",
       "      <td>...</td>\n",
       "      <td>...</td>\n",
       "      <td>...</td>\n",
       "      <td>...</td>\n",
       "      <td>...</td>\n",
       "      <td>...</td>\n",
       "      <td>...</td>\n",
       "      <td>...</td>\n",
       "      <td>...</td>\n",
       "      <td>...</td>\n",
       "      <td>...</td>\n",
       "      <td>...</td>\n",
       "      <td>...</td>\n",
       "      <td>...</td>\n",
       "      <td>...</td>\n",
       "      <td>...</td>\n",
       "      <td>...</td>\n",
       "      <td>...</td>\n",
       "      <td>...</td>\n",
       "    </tr>\n",
       "    <tr>\n",
       "      <th>49995</th>\n",
       "      <td>0</td>\n",
       "      <td>0</td>\n",
       "      <td>0</td>\n",
       "      <td>0</td>\n",
       "      <td>0</td>\n",
       "      <td>499</td>\n",
       "      <td>2</td>\n",
       "      <td>79.0</td>\n",
       "      <td>[['The real Italian experience!', 'Wonderful f...</td>\n",
       "      <td>1</td>\n",
       "      <td>...</td>\n",
       "      <td>1</td>\n",
       "      <td>1</td>\n",
       "      <td>0</td>\n",
       "      <td>0</td>\n",
       "      <td>0</td>\n",
       "      <td>1</td>\n",
       "      <td>0</td>\n",
       "      <td>0</td>\n",
       "      <td>0</td>\n",
       "      <td>0</td>\n",
       "    </tr>\n",
       "    <tr>\n",
       "      <th>49996</th>\n",
       "      <td>0</td>\n",
       "      <td>0</td>\n",
       "      <td>0</td>\n",
       "      <td>0</td>\n",
       "      <td>0</td>\n",
       "      <td>6340</td>\n",
       "      <td>2</td>\n",
       "      <td>542.0</td>\n",
       "      <td>[['Parisian atmosphere', 'Bit pricey but inter...</td>\n",
       "      <td>1</td>\n",
       "      <td>...</td>\n",
       "      <td>0</td>\n",
       "      <td>0</td>\n",
       "      <td>0</td>\n",
       "      <td>0</td>\n",
       "      <td>1</td>\n",
       "      <td>1</td>\n",
       "      <td>0</td>\n",
       "      <td>1</td>\n",
       "      <td>0</td>\n",
       "      <td>0</td>\n",
       "    </tr>\n",
       "    <tr>\n",
       "      <th>49997</th>\n",
       "      <td>1</td>\n",
       "      <td>0</td>\n",
       "      <td>0</td>\n",
       "      <td>0</td>\n",
       "      <td>0</td>\n",
       "      <td>1649</td>\n",
       "      <td>1</td>\n",
       "      <td>4.0</td>\n",
       "      <td>[['Good by swedish standards', 'A hidden jewel...</td>\n",
       "      <td>1</td>\n",
       "      <td>...</td>\n",
       "      <td>0</td>\n",
       "      <td>0</td>\n",
       "      <td>0</td>\n",
       "      <td>0</td>\n",
       "      <td>0</td>\n",
       "      <td>0</td>\n",
       "      <td>0</td>\n",
       "      <td>0</td>\n",
       "      <td>0</td>\n",
       "      <td>0</td>\n",
       "    </tr>\n",
       "    <tr>\n",
       "      <th>49998</th>\n",
       "      <td>0</td>\n",
       "      <td>0</td>\n",
       "      <td>1</td>\n",
       "      <td>0</td>\n",
       "      <td>0</td>\n",
       "      <td>640</td>\n",
       "      <td>2</td>\n",
       "      <td>70.0</td>\n",
       "      <td>[['Underground restaurant', 'Oldest Restaurant...</td>\n",
       "      <td>1</td>\n",
       "      <td>...</td>\n",
       "      <td>0</td>\n",
       "      <td>0</td>\n",
       "      <td>0</td>\n",
       "      <td>0</td>\n",
       "      <td>1</td>\n",
       "      <td>1</td>\n",
       "      <td>0</td>\n",
       "      <td>0</td>\n",
       "      <td>0</td>\n",
       "      <td>0</td>\n",
       "    </tr>\n",
       "    <tr>\n",
       "      <th>49999</th>\n",
       "      <td>0</td>\n",
       "      <td>0</td>\n",
       "      <td>0</td>\n",
       "      <td>0</td>\n",
       "      <td>0</td>\n",
       "      <td>4824</td>\n",
       "      <td>2</td>\n",
       "      <td>260.0</td>\n",
       "      <td>[['Average', 'Nice an informal'], ['01/31/2016...</td>\n",
       "      <td>1</td>\n",
       "      <td>...</td>\n",
       "      <td>0</td>\n",
       "      <td>0</td>\n",
       "      <td>0</td>\n",
       "      <td>0</td>\n",
       "      <td>0</td>\n",
       "      <td>0</td>\n",
       "      <td>0</td>\n",
       "      <td>0</td>\n",
       "      <td>0</td>\n",
       "      <td>0</td>\n",
       "    </tr>\n",
       "  </tbody>\n",
       "</table>\n",
       "<p>50000 rows × 165 columns</p>\n",
       "</div>"
      ],
      "text/plain": [
       "       City_Stockholm  City_Vienna  City_Warsaw  City_Zurich  City_nan  \\\n",
       "0                   0            0            0            0         0   \n",
       "1                   0            0            0            0         0   \n",
       "2                   0            0            0            0         0   \n",
       "3                   0            0            0            0         0   \n",
       "4                   0            0            0            0         0   \n",
       "...               ...          ...          ...          ...       ...   \n",
       "49995               0            0            0            0         0   \n",
       "49996               0            0            0            0         0   \n",
       "49997               1            0            0            0         0   \n",
       "49998               0            0            1            0         0   \n",
       "49999               0            0            0            0         0   \n",
       "\n",
       "       Restaurant_id  Price_Range  Number of Reviews  \\\n",
       "0                  0            2                4.0   \n",
       "1                  1            2               97.0   \n",
       "2                  2            2               28.0   \n",
       "3                  3            3              202.0   \n",
       "4                  4            3              162.0   \n",
       "...              ...          ...                ...   \n",
       "49995            499            2               79.0   \n",
       "49996           6340            2              542.0   \n",
       "49997           1649            1                4.0   \n",
       "49998            640            2               70.0   \n",
       "49999           4824            2              260.0   \n",
       "\n",
       "                                                 Reviews  sample  ...  \\\n",
       "0                                               [[], []]       0  ...   \n",
       "1      [['Very good reviews!', 'Fine dining in Hakani...       0  ...   \n",
       "2      [['Better than the Links', 'Ivy Black'], ['12/...       0  ...   \n",
       "3      [['Most exquisite', 'Delicious and authentic']...       0  ...   \n",
       "4      [['Always the best in bratislava', 'Very good ...       0  ...   \n",
       "...                                                  ...     ...  ...   \n",
       "49995  [['The real Italian experience!', 'Wonderful f...       1  ...   \n",
       "49996  [['Parisian atmosphere', 'Bit pricey but inter...       1  ...   \n",
       "49997  [['Good by swedish standards', 'A hidden jewel...       1  ...   \n",
       "49998  [['Underground restaurant', 'Oldest Restaurant...       1  ...   \n",
       "49999  [['Average', 'Nice an informal'], ['01/31/2016...       1  ...   \n",
       "\n",
       "       Vegan Options  Italian  Mediterranean  other_cuisines  European  \\\n",
       "0                  0        0              0               0         0   \n",
       "1                  1        0              0               0         1   \n",
       "2                  0        0              0               0         0   \n",
       "3                  0        1              1               0         1   \n",
       "4                  0        1              1               0         1   \n",
       "...              ...      ...            ...             ...       ...   \n",
       "49995              1        1              0               0         0   \n",
       "49996              0        0              0               0         1   \n",
       "49997              0        0              0               0         0   \n",
       "49998              0        0              0               0         1   \n",
       "49999              0        0              0               0         0   \n",
       "\n",
       "       Vegetarian Friendly  City_Oslo  City_Paris  City_Prague  City_Rome  \n",
       "0                        0          0           1            0          0  \n",
       "1                        1          0           0            0          0  \n",
       "2                        1          0           0            0          0  \n",
       "3                        1          0           0            0          0  \n",
       "4                        1          0           0            0          0  \n",
       "...                    ...        ...         ...          ...        ...  \n",
       "49995                    1          0           0            0          0  \n",
       "49996                    1          0           1            0          0  \n",
       "49997                    0          0           0            0          0  \n",
       "49998                    1          0           0            0          0  \n",
       "49999                    0          0           0            0          0  \n",
       "\n",
       "[50000 rows x 165 columns]"
      ]
     },
     "execution_count": 83,
     "metadata": {},
     "output_type": "execute_result"
    }
   ],
   "source": [
    "df1"
   ]
  },
  {
   "cell_type": "code",
   "execution_count": 84,
   "metadata": {
    "execution": {
     "iopub.execute_input": "2020-10-03T02:50:00.235818Z",
     "iopub.status.busy": "2020-10-03T02:50:00.235025Z",
     "iopub.status.idle": "2020-10-03T02:50:00.292715Z",
     "shell.execute_reply": "2020-10-03T02:50:00.291957Z"
    },
    "papermill": {
     "duration": 0.235549,
     "end_time": "2020-10-03T02:50:00.292855",
     "exception": false,
     "start_time": "2020-10-03T02:50:00.057306",
     "status": "completed"
    },
    "tags": []
   },
   "outputs": [
    {
     "name": "stdout",
     "output_type": "stream",
     "text": [
      "<class 'pandas.core.frame.DataFrame'>\n",
      "RangeIndex: 50000 entries, 0 to 49999\n",
      "Data columns (total 165 columns):\n",
      " #   Column                   Non-Null Count  Dtype  \n",
      "---  ------                   --------------  -----  \n",
      " 0   City_Stockholm           50000 non-null  uint8  \n",
      " 1   City_Vienna              50000 non-null  uint8  \n",
      " 2   City_Warsaw              50000 non-null  uint8  \n",
      " 3   City_Zurich              50000 non-null  uint8  \n",
      " 4   City_nan                 50000 non-null  uint8  \n",
      " 5   Restaurant_id            50000 non-null  int64  \n",
      " 6   Price_Range              50000 non-null  int64  \n",
      " 7   Number of Reviews        50000 non-null  float64\n",
      " 8   Reviews                  50000 non-null  object \n",
      " 9   sample                   50000 non-null  int64  \n",
      " 10  Rating                   50000 non-null  float64\n",
      " 11  Number_of_Reviews_isNAN  50000 non-null  uint8  \n",
      " 12  City_Amsterdam           50000 non-null  uint8  \n",
      " 13  City_Athens              50000 non-null  uint8  \n",
      " 14  City_Barcelona           50000 non-null  uint8  \n",
      " 15  City_Berlin              50000 non-null  uint8  \n",
      " 16  City_Bratislava          50000 non-null  uint8  \n",
      " 17  City_Brussels            50000 non-null  uint8  \n",
      " 18  City_Budapest            50000 non-null  uint8  \n",
      " 19  City_Copenhagen          50000 non-null  uint8  \n",
      " 20  City_Dublin              50000 non-null  uint8  \n",
      " 21  City_Edinburgh           50000 non-null  uint8  \n",
      " 22  City_Geneva              50000 non-null  uint8  \n",
      " 23  City_Hamburg             50000 non-null  uint8  \n",
      " 24  City_Helsinki            50000 non-null  uint8  \n",
      " 25  City_Krakow              50000 non-null  uint8  \n",
      " 26  City_Lisbon              50000 non-null  uint8  \n",
      " 27  City_Ljubljana           50000 non-null  uint8  \n",
      " 28  City_London              50000 non-null  uint8  \n",
      " 29  City_Luxembourg          50000 non-null  uint8  \n",
      " 30  City_Lyon                50000 non-null  uint8  \n",
      " 31  City_Madrid              50000 non-null  uint8  \n",
      " 32  City_Milan               50000 non-null  uint8  \n",
      " 33  City_Munich              50000 non-null  uint8  \n",
      " 34  City_Oporto              50000 non-null  uint8  \n",
      " 35  Xinjiang                 50000 non-null  int64  \n",
      " 36  Latvian                  50000 non-null  int64  \n",
      " 37  Burmese                  50000 non-null  int64  \n",
      " 38  Salvadoran               50000 non-null  int64  \n",
      " 39  Yunnan                   50000 non-null  int64  \n",
      " 40  Polynesian               50000 non-null  int64  \n",
      " 41  Fujian                   50000 non-null  int64  \n",
      " 42  Welsh                    50000 non-null  int64  \n",
      " 43  Azerbaijani              50000 non-null  int64  \n",
      " 44  Caucasian                50000 non-null  int64  \n",
      " 45  Uzbek                    50000 non-null  int64  \n",
      " 46  Native American          50000 non-null  int64  \n",
      " 47  New Zealand              50000 non-null  int64  \n",
      " 48  Canadian                 50000 non-null  int64  \n",
      " 49  Ecuadorean               50000 non-null  int64  \n",
      " 50  Albanian                 50000 non-null  int64  \n",
      " 51  Minority Chinese         50000 non-null  int64  \n",
      " 52  Central Asian            50000 non-null  int64  \n",
      " 53  Romanian                 50000 non-null  int64  \n",
      " 54  Chilean                  50000 non-null  int64  \n",
      " 55  Armenian                 50000 non-null  int64  \n",
      " 56  Filipino                 50000 non-null  int64  \n",
      " 57  Georgian                 50000 non-null  int64  \n",
      " 58  Mongolian                50000 non-null  int64  \n",
      " 59  Ukrainian                50000 non-null  int64  \n",
      " 60  Singaporean              50000 non-null  int64  \n",
      " 61  Cambodian                50000 non-null  int64  \n",
      " 62  Tunisian                 50000 non-null  int64  \n",
      " 63  Hawaiian                 50000 non-null  int64  \n",
      " 64  Southwestern             50000 non-null  int64  \n",
      " 65  Egyptian                 50000 non-null  int64  \n",
      " 66  Cajun & Creole           50000 non-null  int64  \n",
      " 67  Afghani                  50000 non-null  int64  \n",
      " 68  Tibetan                  50000 non-null  int64  \n",
      " 69  Taiwanese                50000 non-null  int64  \n",
      " 70  Sri Lankan               50000 non-null  int64  \n",
      " 71  Colombian                50000 non-null  int64  \n",
      " 72  Cuban                    50000 non-null  int64  \n",
      " 73  Croatian                 50000 non-null  int64  \n",
      " 74  Australian               50000 non-null  int64  \n",
      " 75  Jamaican                 50000 non-null  int64  \n",
      " 76  Malaysian                50000 non-null  int64  \n",
      " 77  Venezuelan               50000 non-null  int64  \n",
      " 78  Ethiopian                50000 non-null  int64  \n",
      " 79  Kosher                   50000 non-null  int64  \n",
      " 80  Arabic                   50000 non-null  int64  \n",
      " 81  Russian                  50000 non-null  int64  \n",
      " 82  Indonesian               50000 non-null  int64  \n",
      " 83  Persian                  50000 non-null  int64  \n",
      " 84  Slovenian                50000 non-null  int64  \n",
      " 85  Israeli                  50000 non-null  int64  \n",
      " 86  Norwegian                50000 non-null  int64  \n",
      " 87  Bangladeshi              50000 non-null  int64  \n",
      " 88  Balti                    50000 non-null  int64  \n",
      " 89  Nepali                   50000 non-null  int64  \n",
      " 90  Caribbean                50000 non-null  int64  \n",
      " 91  Peruvian                 50000 non-null  int64  \n",
      " 92  Pakistani                50000 non-null  int64  \n",
      " 93  Brazilian                50000 non-null  int64  \n",
      " 94  Central American         50000 non-null  int64  \n",
      " 95  Moroccan                 50000 non-null  int64  \n",
      " 96  African                  50000 non-null  int64  \n",
      " 97  Scottish                 50000 non-null  int64  \n",
      " 98  Korean                   50000 non-null  int64  \n",
      " 99  Argentinean              50000 non-null  int64  \n",
      " 100 Swiss                    50000 non-null  int64  \n",
      " 101 Swedish                  50000 non-null  int64  \n",
      " 102 Danish                   50000 non-null  int64  \n",
      " 103 Brew Pub                 50000 non-null  int64  \n",
      " 104 Belgian                  50000 non-null  int64  \n",
      " 105 Street Food              50000 non-null  int64  \n",
      " 106 Irish                    50000 non-null  int64  \n",
      " 107 Dutch                    50000 non-null  int64  \n",
      " 108 Latin                    50000 non-null  int64  \n",
      " 109 Diner                    50000 non-null  int64  \n",
      " 110 Lebanese                 50000 non-null  int64  \n",
      " 111 Hungarian                50000 non-null  int64  \n",
      " 112 Scandinavian             50000 non-null  int64  \n",
      " 113 Polish                   50000 non-null  int64  \n",
      " 114 Austrian                 50000 non-null  int64  \n",
      " 115 Delicatessen             50000 non-null  int64  \n",
      " 116 South American           50000 non-null  int64  \n",
      " 117 Mexican                  50000 non-null  int64  \n",
      " 118 Turkish                  50000 non-null  int64  \n",
      " 119 Gastropub                50000 non-null  int64  \n",
      " 120 Grill                    50000 non-null  int64  \n",
      " 121 Vietnamese               50000 non-null  int64  \n",
      " 122 Eastern European         50000 non-null  int64  \n",
      " 123 Soups                    50000 non-null  int64  \n",
      " 124 Contemporary             50000 non-null  int64  \n",
      " 125 Barbecue                 50000 non-null  int64  \n",
      " 126 Steakhouse               50000 non-null  int64  \n",
      " 127 Czech                    50000 non-null  int64  \n",
      " 128 Fusion                   50000 non-null  int64  \n",
      " 129 Healthy                  50000 non-null  int64  \n",
      " 130 Greek                    50000 non-null  int64  \n",
      " 131 Halal                    50000 non-null  int64  \n",
      " 132 German                   50000 non-null  int64  \n",
      " 133 Wine Bar                 50000 non-null  int64  \n",
      " 134 Thai                     50000 non-null  int64  \n",
      " 135 Middle Eastern           50000 non-null  int64  \n",
      " 136 Indian                   50000 non-null  int64  \n",
      " 137 Portuguese               50000 non-null  int64  \n",
      " 138 Chinese                  50000 non-null  int64  \n",
      " 139 Sushi                    50000 non-null  int64  \n",
      " 140 American                 50000 non-null  int64  \n",
      " 141 Central European         50000 non-null  int64  \n",
      " 142 Japanese                 50000 non-null  int64  \n",
      " 143 Seafood                  50000 non-null  int64  \n",
      " 144 International            50000 non-null  int64  \n",
      " 145 British                  50000 non-null  int64  \n",
      " 146 Fast Food                50000 non-null  int64  \n",
      " 147 Cafe                     50000 non-null  int64  \n",
      " 148 Pub                      50000 non-null  int64  \n",
      " 149 Spanish                  50000 non-null  int64  \n",
      " 150 Pizza                    50000 non-null  int64  \n",
      " 151 Asian                    50000 non-null  int64  \n",
      " 152 French                   50000 non-null  int64  \n",
      " 153 Bar                      50000 non-null  int64  \n",
      " 154 Gluten Free Options      50000 non-null  int64  \n",
      " 155 Vegan Options            50000 non-null  int64  \n",
      " 156 Italian                  50000 non-null  int64  \n",
      " 157 Mediterranean            50000 non-null  int64  \n",
      " 158 other_cuisines           50000 non-null  int64  \n",
      " 159 European                 50000 non-null  int64  \n",
      " 160 Vegetarian Friendly      50000 non-null  int64  \n",
      " 161 City_Oslo                50000 non-null  uint8  \n",
      " 162 City_Paris               50000 non-null  uint8  \n",
      " 163 City_Prague              50000 non-null  uint8  \n",
      " 164 City_Rome                50000 non-null  uint8  \n",
      "dtypes: float64(2), int64(129), object(1), uint8(33)\n",
      "memory usage: 51.9+ MB\n"
     ]
    }
   ],
   "source": [
    "df1.info(verbose=True,null_counts=True)"
   ]
  },
  {
   "cell_type": "code",
   "execution_count": 85,
   "metadata": {
    "execution": {
     "iopub.execute_input": "2020-10-03T02:50:00.649574Z",
     "iopub.status.busy": "2020-10-03T02:50:00.648809Z",
     "iopub.status.idle": "2020-10-03T02:50:00.671329Z",
     "shell.execute_reply": "2020-10-03T02:50:00.670606Z"
    },
    "papermill": {
     "duration": 0.200753,
     "end_time": "2020-10-03T02:50:00.671465",
     "exception": false,
     "start_time": "2020-10-03T02:50:00.470712",
     "status": "completed"
    },
    "tags": []
   },
   "outputs": [],
   "source": [
    "df1 = df1.drop('Reviews', 1)"
   ]
  },
  {
   "cell_type": "code",
   "execution_count": 86,
   "metadata": {
    "execution": {
     "iopub.execute_input": "2020-10-03T02:50:01.020519Z",
     "iopub.status.busy": "2020-10-03T02:50:01.017907Z",
     "iopub.status.idle": "2020-10-03T02:50:01.062587Z",
     "shell.execute_reply": "2020-10-03T02:50:01.061924Z"
    },
    "papermill": {
     "duration": 0.220855,
     "end_time": "2020-10-03T02:50:01.062712",
     "exception": false,
     "start_time": "2020-10-03T02:50:00.841857",
     "status": "completed"
    },
    "tags": []
   },
   "outputs": [
    {
     "data": {
      "text/html": [
       "<div>\n",
       "<style scoped>\n",
       "    .dataframe tbody tr th:only-of-type {\n",
       "        vertical-align: middle;\n",
       "    }\n",
       "\n",
       "    .dataframe tbody tr th {\n",
       "        vertical-align: top;\n",
       "    }\n",
       "\n",
       "    .dataframe thead th {\n",
       "        text-align: right;\n",
       "    }\n",
       "</style>\n",
       "<table border=\"1\" class=\"dataframe\">\n",
       "  <thead>\n",
       "    <tr style=\"text-align: right;\">\n",
       "      <th></th>\n",
       "      <th>City_Stockholm</th>\n",
       "      <th>City_Vienna</th>\n",
       "      <th>City_Warsaw</th>\n",
       "      <th>City_Zurich</th>\n",
       "      <th>City_nan</th>\n",
       "      <th>Restaurant_id</th>\n",
       "      <th>Price_Range</th>\n",
       "      <th>Number of Reviews</th>\n",
       "      <th>sample</th>\n",
       "      <th>Rating</th>\n",
       "      <th>...</th>\n",
       "      <th>Vegan Options</th>\n",
       "      <th>Italian</th>\n",
       "      <th>Mediterranean</th>\n",
       "      <th>other_cuisines</th>\n",
       "      <th>European</th>\n",
       "      <th>Vegetarian Friendly</th>\n",
       "      <th>City_Oslo</th>\n",
       "      <th>City_Paris</th>\n",
       "      <th>City_Prague</th>\n",
       "      <th>City_Rome</th>\n",
       "    </tr>\n",
       "  </thead>\n",
       "  <tbody>\n",
       "    <tr>\n",
       "      <th>0</th>\n",
       "      <td>0</td>\n",
       "      <td>0</td>\n",
       "      <td>0</td>\n",
       "      <td>0</td>\n",
       "      <td>0</td>\n",
       "      <td>0</td>\n",
       "      <td>2</td>\n",
       "      <td>4.0</td>\n",
       "      <td>0</td>\n",
       "      <td>0.0</td>\n",
       "      <td>...</td>\n",
       "      <td>0</td>\n",
       "      <td>0</td>\n",
       "      <td>0</td>\n",
       "      <td>0</td>\n",
       "      <td>0</td>\n",
       "      <td>0</td>\n",
       "      <td>0</td>\n",
       "      <td>1</td>\n",
       "      <td>0</td>\n",
       "      <td>0</td>\n",
       "    </tr>\n",
       "    <tr>\n",
       "      <th>1</th>\n",
       "      <td>0</td>\n",
       "      <td>0</td>\n",
       "      <td>0</td>\n",
       "      <td>0</td>\n",
       "      <td>0</td>\n",
       "      <td>1</td>\n",
       "      <td>2</td>\n",
       "      <td>97.0</td>\n",
       "      <td>0</td>\n",
       "      <td>0.0</td>\n",
       "      <td>...</td>\n",
       "      <td>1</td>\n",
       "      <td>0</td>\n",
       "      <td>0</td>\n",
       "      <td>0</td>\n",
       "      <td>1</td>\n",
       "      <td>1</td>\n",
       "      <td>0</td>\n",
       "      <td>0</td>\n",
       "      <td>0</td>\n",
       "      <td>0</td>\n",
       "    </tr>\n",
       "    <tr>\n",
       "      <th>2</th>\n",
       "      <td>0</td>\n",
       "      <td>0</td>\n",
       "      <td>0</td>\n",
       "      <td>0</td>\n",
       "      <td>0</td>\n",
       "      <td>2</td>\n",
       "      <td>2</td>\n",
       "      <td>28.0</td>\n",
       "      <td>0</td>\n",
       "      <td>0.0</td>\n",
       "      <td>...</td>\n",
       "      <td>0</td>\n",
       "      <td>0</td>\n",
       "      <td>0</td>\n",
       "      <td>0</td>\n",
       "      <td>0</td>\n",
       "      <td>1</td>\n",
       "      <td>0</td>\n",
       "      <td>0</td>\n",
       "      <td>0</td>\n",
       "      <td>0</td>\n",
       "    </tr>\n",
       "    <tr>\n",
       "      <th>3</th>\n",
       "      <td>0</td>\n",
       "      <td>0</td>\n",
       "      <td>0</td>\n",
       "      <td>0</td>\n",
       "      <td>0</td>\n",
       "      <td>3</td>\n",
       "      <td>3</td>\n",
       "      <td>202.0</td>\n",
       "      <td>0</td>\n",
       "      <td>0.0</td>\n",
       "      <td>...</td>\n",
       "      <td>0</td>\n",
       "      <td>1</td>\n",
       "      <td>1</td>\n",
       "      <td>0</td>\n",
       "      <td>1</td>\n",
       "      <td>1</td>\n",
       "      <td>0</td>\n",
       "      <td>0</td>\n",
       "      <td>0</td>\n",
       "      <td>0</td>\n",
       "    </tr>\n",
       "    <tr>\n",
       "      <th>4</th>\n",
       "      <td>0</td>\n",
       "      <td>0</td>\n",
       "      <td>0</td>\n",
       "      <td>0</td>\n",
       "      <td>0</td>\n",
       "      <td>4</td>\n",
       "      <td>3</td>\n",
       "      <td>162.0</td>\n",
       "      <td>0</td>\n",
       "      <td>0.0</td>\n",
       "      <td>...</td>\n",
       "      <td>0</td>\n",
       "      <td>1</td>\n",
       "      <td>1</td>\n",
       "      <td>0</td>\n",
       "      <td>1</td>\n",
       "      <td>1</td>\n",
       "      <td>0</td>\n",
       "      <td>0</td>\n",
       "      <td>0</td>\n",
       "      <td>0</td>\n",
       "    </tr>\n",
       "    <tr>\n",
       "      <th>...</th>\n",
       "      <td>...</td>\n",
       "      <td>...</td>\n",
       "      <td>...</td>\n",
       "      <td>...</td>\n",
       "      <td>...</td>\n",
       "      <td>...</td>\n",
       "      <td>...</td>\n",
       "      <td>...</td>\n",
       "      <td>...</td>\n",
       "      <td>...</td>\n",
       "      <td>...</td>\n",
       "      <td>...</td>\n",
       "      <td>...</td>\n",
       "      <td>...</td>\n",
       "      <td>...</td>\n",
       "      <td>...</td>\n",
       "      <td>...</td>\n",
       "      <td>...</td>\n",
       "      <td>...</td>\n",
       "      <td>...</td>\n",
       "      <td>...</td>\n",
       "    </tr>\n",
       "    <tr>\n",
       "      <th>49995</th>\n",
       "      <td>0</td>\n",
       "      <td>0</td>\n",
       "      <td>0</td>\n",
       "      <td>0</td>\n",
       "      <td>0</td>\n",
       "      <td>499</td>\n",
       "      <td>2</td>\n",
       "      <td>79.0</td>\n",
       "      <td>1</td>\n",
       "      <td>4.5</td>\n",
       "      <td>...</td>\n",
       "      <td>1</td>\n",
       "      <td>1</td>\n",
       "      <td>0</td>\n",
       "      <td>0</td>\n",
       "      <td>0</td>\n",
       "      <td>1</td>\n",
       "      <td>0</td>\n",
       "      <td>0</td>\n",
       "      <td>0</td>\n",
       "      <td>0</td>\n",
       "    </tr>\n",
       "    <tr>\n",
       "      <th>49996</th>\n",
       "      <td>0</td>\n",
       "      <td>0</td>\n",
       "      <td>0</td>\n",
       "      <td>0</td>\n",
       "      <td>0</td>\n",
       "      <td>6340</td>\n",
       "      <td>2</td>\n",
       "      <td>542.0</td>\n",
       "      <td>1</td>\n",
       "      <td>3.5</td>\n",
       "      <td>...</td>\n",
       "      <td>0</td>\n",
       "      <td>0</td>\n",
       "      <td>0</td>\n",
       "      <td>0</td>\n",
       "      <td>1</td>\n",
       "      <td>1</td>\n",
       "      <td>0</td>\n",
       "      <td>1</td>\n",
       "      <td>0</td>\n",
       "      <td>0</td>\n",
       "    </tr>\n",
       "    <tr>\n",
       "      <th>49997</th>\n",
       "      <td>1</td>\n",
       "      <td>0</td>\n",
       "      <td>0</td>\n",
       "      <td>0</td>\n",
       "      <td>0</td>\n",
       "      <td>1649</td>\n",
       "      <td>1</td>\n",
       "      <td>4.0</td>\n",
       "      <td>1</td>\n",
       "      <td>4.5</td>\n",
       "      <td>...</td>\n",
       "      <td>0</td>\n",
       "      <td>0</td>\n",
       "      <td>0</td>\n",
       "      <td>0</td>\n",
       "      <td>0</td>\n",
       "      <td>0</td>\n",
       "      <td>0</td>\n",
       "      <td>0</td>\n",
       "      <td>0</td>\n",
       "      <td>0</td>\n",
       "    </tr>\n",
       "    <tr>\n",
       "      <th>49998</th>\n",
       "      <td>0</td>\n",
       "      <td>0</td>\n",
       "      <td>1</td>\n",
       "      <td>0</td>\n",
       "      <td>0</td>\n",
       "      <td>640</td>\n",
       "      <td>2</td>\n",
       "      <td>70.0</td>\n",
       "      <td>1</td>\n",
       "      <td>4.0</td>\n",
       "      <td>...</td>\n",
       "      <td>0</td>\n",
       "      <td>0</td>\n",
       "      <td>0</td>\n",
       "      <td>0</td>\n",
       "      <td>1</td>\n",
       "      <td>1</td>\n",
       "      <td>0</td>\n",
       "      <td>0</td>\n",
       "      <td>0</td>\n",
       "      <td>0</td>\n",
       "    </tr>\n",
       "    <tr>\n",
       "      <th>49999</th>\n",
       "      <td>0</td>\n",
       "      <td>0</td>\n",
       "      <td>0</td>\n",
       "      <td>0</td>\n",
       "      <td>0</td>\n",
       "      <td>4824</td>\n",
       "      <td>2</td>\n",
       "      <td>260.0</td>\n",
       "      <td>1</td>\n",
       "      <td>3.0</td>\n",
       "      <td>...</td>\n",
       "      <td>0</td>\n",
       "      <td>0</td>\n",
       "      <td>0</td>\n",
       "      <td>0</td>\n",
       "      <td>0</td>\n",
       "      <td>0</td>\n",
       "      <td>0</td>\n",
       "      <td>0</td>\n",
       "      <td>0</td>\n",
       "      <td>0</td>\n",
       "    </tr>\n",
       "  </tbody>\n",
       "</table>\n",
       "<p>50000 rows × 164 columns</p>\n",
       "</div>"
      ],
      "text/plain": [
       "       City_Stockholm  City_Vienna  City_Warsaw  City_Zurich  City_nan  \\\n",
       "0                   0            0            0            0         0   \n",
       "1                   0            0            0            0         0   \n",
       "2                   0            0            0            0         0   \n",
       "3                   0            0            0            0         0   \n",
       "4                   0            0            0            0         0   \n",
       "...               ...          ...          ...          ...       ...   \n",
       "49995               0            0            0            0         0   \n",
       "49996               0            0            0            0         0   \n",
       "49997               1            0            0            0         0   \n",
       "49998               0            0            1            0         0   \n",
       "49999               0            0            0            0         0   \n",
       "\n",
       "       Restaurant_id  Price_Range  Number of Reviews  sample  Rating  ...  \\\n",
       "0                  0            2                4.0       0     0.0  ...   \n",
       "1                  1            2               97.0       0     0.0  ...   \n",
       "2                  2            2               28.0       0     0.0  ...   \n",
       "3                  3            3              202.0       0     0.0  ...   \n",
       "4                  4            3              162.0       0     0.0  ...   \n",
       "...              ...          ...                ...     ...     ...  ...   \n",
       "49995            499            2               79.0       1     4.5  ...   \n",
       "49996           6340            2              542.0       1     3.5  ...   \n",
       "49997           1649            1                4.0       1     4.5  ...   \n",
       "49998            640            2               70.0       1     4.0  ...   \n",
       "49999           4824            2              260.0       1     3.0  ...   \n",
       "\n",
       "       Vegan Options  Italian  Mediterranean  other_cuisines  European  \\\n",
       "0                  0        0              0               0         0   \n",
       "1                  1        0              0               0         1   \n",
       "2                  0        0              0               0         0   \n",
       "3                  0        1              1               0         1   \n",
       "4                  0        1              1               0         1   \n",
       "...              ...      ...            ...             ...       ...   \n",
       "49995              1        1              0               0         0   \n",
       "49996              0        0              0               0         1   \n",
       "49997              0        0              0               0         0   \n",
       "49998              0        0              0               0         1   \n",
       "49999              0        0              0               0         0   \n",
       "\n",
       "       Vegetarian Friendly  City_Oslo  City_Paris  City_Prague  City_Rome  \n",
       "0                        0          0           1            0          0  \n",
       "1                        1          0           0            0          0  \n",
       "2                        1          0           0            0          0  \n",
       "3                        1          0           0            0          0  \n",
       "4                        1          0           0            0          0  \n",
       "...                    ...        ...         ...          ...        ...  \n",
       "49995                    1          0           0            0          0  \n",
       "49996                    1          0           1            0          0  \n",
       "49997                    0          0           0            0          0  \n",
       "49998                    1          0           0            0          0  \n",
       "49999                    0          0           0            0          0  \n",
       "\n",
       "[50000 rows x 164 columns]"
      ]
     },
     "execution_count": 86,
     "metadata": {},
     "output_type": "execute_result"
    }
   ],
   "source": [
    "df1"
   ]
  },
  {
   "cell_type": "markdown",
   "metadata": {
    "papermill": {
     "duration": 0.170379,
     "end_time": "2020-10-03T02:50:01.405654",
     "exception": false,
     "start_time": "2020-10-03T02:50:01.235275",
     "status": "completed"
    },
    "tags": []
   },
   "source": [
    "![](https://cs10.pikabu.ru/post_img/2018/09/06/11/1536261023140110012.jpg)"
   ]
  },
  {
   "cell_type": "markdown",
   "metadata": {
    "papermill": {
     "duration": 0.210427,
     "end_time": "2020-10-03T02:50:01.789451",
     "exception": false,
     "start_time": "2020-10-03T02:50:01.579024",
     "status": "completed"
    },
    "tags": []
   },
   "source": [
    "# EDA \n",
    "[Exploratory Data Analysis](https://ru.wikipedia.org/wiki/Разведочный_анализ_данных) - Анализ данных\n",
    "На этом этапе мы строим графики, ищем закономерности, аномалии, выбросы или связи между признаками.\n",
    "В общем цель этого этапа понять, что эти данные могут нам дать и как признаки могут быть взаимосвязаны между собой.\n",
    "Понимание изначальных признаков позволит сгенерировать новые, более сильные и, тем самым, сделать нашу модель лучше.\n",
    "![](https://miro.medium.com/max/2598/1*RXdMb7Uk6mGqWqPguHULaQ.png)"
   ]
  },
  {
   "cell_type": "markdown",
   "metadata": {
    "papermill": {
     "duration": 0.173054,
     "end_time": "2020-10-03T02:50:02.134728",
     "exception": false,
     "start_time": "2020-10-03T02:50:01.961674",
     "status": "completed"
    },
    "tags": []
   },
   "source": [
    "### Посмотрим распределение признака"
   ]
  },
  {
   "cell_type": "code",
   "execution_count": 87,
   "metadata": {
    "execution": {
     "iopub.execute_input": "2020-10-03T02:50:02.493575Z",
     "iopub.status.busy": "2020-10-03T02:50:02.492563Z",
     "iopub.status.idle": "2020-10-03T02:50:02.775656Z",
     "shell.execute_reply": "2020-10-03T02:50:02.774870Z"
    },
    "papermill": {
     "duration": 0.469271,
     "end_time": "2020-10-03T02:50:02.775790",
     "exception": false,
     "start_time": "2020-10-03T02:50:02.306519",
     "status": "completed"
    },
    "tags": []
   },
   "outputs": [
    {
     "data": {
      "text/plain": [
       "<matplotlib.axes._subplots.AxesSubplot at 0x7f7088607d10>"
      ]
     },
     "execution_count": 87,
     "metadata": {},
     "output_type": "execute_result"
    },
    {
     "data": {
      "image/png": "[encoded data removed]",
      "text/plain": [
       "<Figure size 720x504 with 1 Axes>"
      ]
     },
     "metadata": {
      "needs_background": "light"
     },
     "output_type": "display_data"
    }
   ],
   "source": [
    "plt.rcParams['figure.figsize'] = (10,7)\n",
    "df_train['Ranking'].hist(bins=50)"
   ]
  },
  {
   "cell_type": "markdown",
   "metadata": {
    "papermill": {
     "duration": 0.173567,
     "end_time": "2020-10-03T02:50:03.122870",
     "exception": false,
     "start_time": "2020-10-03T02:50:02.949303",
     "status": "completed"
    },
    "tags": []
   },
   "source": [
    "У нас много ресторанов, которые не дотягивают и до 2500 места в своем городе, а что там по городам?"
   ]
  },
  {
   "cell_type": "code",
   "execution_count": 88,
   "metadata": {
    "execution": {
     "iopub.execute_input": "2020-10-03T02:50:03.502052Z",
     "iopub.status.busy": "2020-10-03T02:50:03.501201Z",
     "iopub.status.idle": "2020-10-03T02:50:03.804103Z",
     "shell.execute_reply": "2020-10-03T02:50:03.803499Z"
    },
    "papermill": {
     "duration": 0.506143,
     "end_time": "2020-10-03T02:50:03.804229",
     "exception": false,
     "start_time": "2020-10-03T02:50:03.298086",
     "status": "completed"
    },
    "tags": []
   },
   "outputs": [
    {
     "data": {
      "text/plain": [
       "<matplotlib.axes._subplots.AxesSubplot at 0x7f70886070d0>"
      ]
     },
     "execution_count": 88,
     "metadata": {},
     "output_type": "execute_result"
    },
    {
     "data": {
      "image/png": "[encoded data removed]",
      "text/plain": [
       "<Figure size 720x504 with 1 Axes>"
      ]
     },
     "metadata": {
      "needs_background": "light"
     },
     "output_type": "display_data"
    }
   ],
   "source": [
    "df_train['City'].value_counts(ascending=True).plot(kind='barh')"
   ]
  },
  {
   "cell_type": "markdown",
   "metadata": {
    "papermill": {
     "duration": 0.175414,
     "end_time": "2020-10-03T02:50:04.155406",
     "exception": false,
     "start_time": "2020-10-03T02:50:03.979992",
     "status": "completed"
    },
    "tags": []
   },
   "source": [
    "А кто-то говорил, что французы любят поесть=) Посмотрим, как изменится распределение в большом городе:"
   ]
  },
  {
   "cell_type": "code",
   "execution_count": 89,
   "metadata": {
    "execution": {
     "iopub.execute_input": "2020-10-03T02:50:04.518597Z",
     "iopub.status.busy": "2020-10-03T02:50:04.517801Z",
     "iopub.status.idle": "2020-10-03T02:50:04.901176Z",
     "shell.execute_reply": "2020-10-03T02:50:04.900563Z"
    },
    "papermill": {
     "duration": 0.571268,
     "end_time": "2020-10-03T02:50:04.901311",
     "exception": false,
     "start_time": "2020-10-03T02:50:04.330043",
     "status": "completed"
    },
    "tags": []
   },
   "outputs": [
    {
     "data": {
      "text/plain": [
       "<matplotlib.axes._subplots.AxesSubplot at 0x7f7086d15550>"
      ]
     },
     "execution_count": 89,
     "metadata": {},
     "output_type": "execute_result"
    },
    {
     "data": {
      "image/png": "[encoded data removed]",
      "text/plain": [
       "<Figure size 720x504 with 1 Axes>"
      ]
     },
     "metadata": {
      "needs_background": "light"
     },
     "output_type": "display_data"
    }
   ],
   "source": [
    "df_train['Ranking'][df_train['City'] =='London'].hist(bins=100)"
   ]
  },
  {
   "cell_type": "code",
   "execution_count": 90,
   "metadata": {
    "execution": {
     "iopub.execute_input": "2020-10-03T02:50:05.286187Z",
     "iopub.status.busy": "2020-10-03T02:50:05.285028Z",
     "iopub.status.idle": "2020-10-03T02:50:07.629406Z",
     "shell.execute_reply": "2020-10-03T02:50:07.628789Z"
    },
    "papermill": {
     "duration": 2.551111,
     "end_time": "2020-10-03T02:50:07.629568",
     "exception": false,
     "start_time": "2020-10-03T02:50:05.078457",
     "status": "completed"
    },
    "tags": []
   },
   "outputs": [
    {
     "data": {
      "image/png": "[encoded data removed]",
      "text/plain": [
       "<Figure size 720x504 with 1 Axes>"
      ]
     },
     "metadata": {
      "needs_background": "light"
     },
     "output_type": "display_data"
    }
   ],
   "source": [
    "# посмотрим на топ 10 городов\n",
    "for x in (df_train['City'].value_counts())[0:10].index:\n",
    "    df_train['Ranking'][df_train['City'] == x].hist(bins=100)\n",
    "plt.show()"
   ]
  },
  {
   "cell_type": "markdown",
   "metadata": {
    "papermill": {
     "duration": 0.176857,
     "end_time": "2020-10-03T02:50:07.986197",
     "exception": false,
     "start_time": "2020-10-03T02:50:07.809340",
     "status": "completed"
    },
    "tags": []
   },
   "source": [
    "### Посмотрим распределение целевой переменной"
   ]
  },
  {
   "cell_type": "code",
   "execution_count": 91,
   "metadata": {
    "execution": {
     "iopub.execute_input": "2020-10-03T02:50:08.345597Z",
     "iopub.status.busy": "2020-10-03T02:50:08.344819Z",
     "iopub.status.idle": "2020-10-03T02:50:08.527290Z",
     "shell.execute_reply": "2020-10-03T02:50:08.528055Z"
    },
    "papermill": {
     "duration": 0.365047,
     "end_time": "2020-10-03T02:50:08.528220",
     "exception": false,
     "start_time": "2020-10-03T02:50:08.163173",
     "status": "completed"
    },
    "tags": []
   },
   "outputs": [
    {
     "data": {
      "text/plain": [
       "<matplotlib.axes._subplots.AxesSubplot at 0x7f7087987610>"
      ]
     },
     "execution_count": 91,
     "metadata": {},
     "output_type": "execute_result"
    },
    {
     "data": {
      "image/png": "[encoded data removed]",
      "text/plain": [
       "<Figure size 720x504 with 1 Axes>"
      ]
     },
     "metadata": {
      "needs_background": "light"
     },
     "output_type": "display_data"
    }
   ],
   "source": [
    "df_train['Rating'].value_counts(ascending=True).plot(kind='barh')"
   ]
  },
  {
   "cell_type": "markdown",
   "metadata": {
    "papermill": {
     "duration": 0.179179,
     "end_time": "2020-10-03T02:50:08.887593",
     "exception": false,
     "start_time": "2020-10-03T02:50:08.708414",
     "status": "completed"
    },
    "tags": []
   },
   "source": [
    "### Посмотрим распределение целевой переменной относительно признака"
   ]
  },
  {
   "cell_type": "code",
   "execution_count": 92,
   "metadata": {
    "execution": {
     "iopub.execute_input": "2020-10-03T02:50:09.253863Z",
     "iopub.status.busy": "2020-10-03T02:50:09.253039Z",
     "iopub.status.idle": "2020-10-03T02:50:09.815510Z",
     "shell.execute_reply": "2020-10-03T02:50:09.816142Z"
    },
    "papermill": {
     "duration": 0.74965,
     "end_time": "2020-10-03T02:50:09.816320",
     "exception": false,
     "start_time": "2020-10-03T02:50:09.066670",
     "status": "completed"
    },
    "tags": []
   },
   "outputs": [
    {
     "data": {
      "text/plain": [
       "<matplotlib.axes._subplots.AxesSubplot at 0x7f70846c1310>"
      ]
     },
     "execution_count": 92,
     "metadata": {},
     "output_type": "execute_result"
    },
    {
     "data": {
      "image/png": "[encoded data removed]",
      "text/plain": [
       "<Figure size 720x504 with 1 Axes>"
      ]
     },
     "metadata": {
      "needs_background": "light"
     },
     "output_type": "display_data"
    }
   ],
   "source": [
    "df_train['Ranking'][df_train['Rating'] == 5].hist(bins=100)"
   ]
  },
  {
   "cell_type": "code",
   "execution_count": 93,
   "metadata": {
    "execution": {
     "iopub.execute_input": "2020-10-03T02:50:10.186092Z",
     "iopub.status.busy": "2020-10-03T02:50:10.185255Z",
     "iopub.status.idle": "2020-10-03T02:50:10.566501Z",
     "shell.execute_reply": "2020-10-03T02:50:10.565846Z"
    },
    "papermill": {
     "duration": 0.56867,
     "end_time": "2020-10-03T02:50:10.566632",
     "exception": false,
     "start_time": "2020-10-03T02:50:09.997962",
     "status": "completed"
    },
    "tags": []
   },
   "outputs": [
    {
     "data": {
      "text/plain": [
       "<matplotlib.axes._subplots.AxesSubplot at 0x7f70850e6550>"
      ]
     },
     "execution_count": 93,
     "metadata": {},
     "output_type": "execute_result"
    },
    {
     "data": {
      "image/png": "[encoded data removed]",
      "text/plain": [
       "<Figure size 720x504 with 1 Axes>"
      ]
     },
     "metadata": {
      "needs_background": "light"
     },
     "output_type": "display_data"
    }
   ],
   "source": [
    "df_train['Ranking'][df_train['Rating'] < 4].hist(bins=100)"
   ]
  },
  {
   "cell_type": "markdown",
   "metadata": {
    "papermill": {
     "duration": 0.182958,
     "end_time": "2020-10-03T02:50:10.932364",
     "exception": false,
     "start_time": "2020-10-03T02:50:10.749406",
     "status": "completed"
    },
    "tags": []
   },
   "source": [
    "### Kорреляция признаков\n",
    "На этом графике уже сейчас вы сможете заметить, как признаки связаны между собой и с целевой переменной."
   ]
  },
  {
   "cell_type": "code",
   "execution_count": 94,
   "metadata": {
    "execution": {
     "iopub.execute_input": "2020-10-03T02:50:11.309333Z",
     "iopub.status.busy": "2020-10-03T02:50:11.305024Z",
     "iopub.status.idle": "2020-10-03T02:50:12.366251Z",
     "shell.execute_reply": "2020-10-03T02:50:12.366913Z"
    },
    "papermill": {
     "duration": 1.253037,
     "end_time": "2020-10-03T02:50:12.367122",
     "exception": false,
     "start_time": "2020-10-03T02:50:11.114085",
     "status": "completed"
    },
    "tags": []
   },
   "outputs": [
    {
     "data": {
      "text/plain": [
       "<matplotlib.axes._subplots.AxesSubplot at 0x7f7087962550>"
      ]
     },
     "execution_count": 94,
     "metadata": {},
     "output_type": "execute_result"
    },
    {
     "data": {
      "image/png": "[encoded data removed]",
      "text/plain": [
       "<Figure size 1080x720 with 2 Axes>"
      ]
     },
     "metadata": {
      "needs_background": "light"
     },
     "output_type": "display_data"
    }
   ],
   "source": [
    "plt.rcParams['figure.figsize'] = (15,10)\n",
    "sns.heatmap(data.drop(['sample'], axis=1).corr(),)"
   ]
  },
  {
   "cell_type": "markdown",
   "metadata": {
    "papermill": {
     "duration": 0.210873,
     "end_time": "2020-10-03T02:50:12.764046",
     "exception": false,
     "start_time": "2020-10-03T02:50:12.553173",
     "status": "completed"
    },
    "tags": []
   },
   "source": [
    "#### Посмотрим, какой вид кухни преобладает в датасете"
   ]
  },
  {
   "cell_type": "code",
   "execution_count": 95,
   "metadata": {
    "execution": {
     "iopub.execute_input": "2020-10-03T02:50:13.159772Z",
     "iopub.status.busy": "2020-10-03T02:50:13.158992Z",
     "iopub.status.idle": "2020-10-03T02:50:13.380405Z",
     "shell.execute_reply": "2020-10-03T02:50:13.381026Z"
    },
    "papermill": {
     "duration": 0.428442,
     "end_time": "2020-10-03T02:50:13.381198",
     "exception": false,
     "start_time": "2020-10-03T02:50:12.952756",
     "status": "completed"
    },
    "tags": []
   },
   "outputs": [
    {
     "data": {
      "text/plain": [
       "<matplotlib.axes._subplots.AxesSubplot at 0x7f70883c3450>"
      ]
     },
     "execution_count": 95,
     "metadata": {},
     "output_type": "execute_result"
    },
    {
     "data": {
      "image/png": "[encoded data removed]",
      "text/plain": [
       "<Figure size 1080x720 with 1 Axes>"
      ]
     },
     "metadata": {
      "needs_background": "light"
     },
     "output_type": "display_data"
    }
   ],
   "source": [
    "cuisine_style = df_train['Cuisine Style'].value_counts().head(10)\n",
    "cuisine_style.plot.bar()"
   ]
  },
  {
   "cell_type": "markdown",
   "metadata": {
    "papermill": {
     "duration": 0.185912,
     "end_time": "2020-10-03T02:50:13.753882",
     "exception": false,
     "start_time": "2020-10-03T02:50:13.567970",
     "status": "completed"
    },
    "tags": []
   },
   "source": [
    "#### Как можно заметить, самая популярная Итальянская кухня"
   ]
  },
  {
   "cell_type": "markdown",
   "metadata": {
    "papermill": {
     "duration": 0.187447,
     "end_time": "2020-10-03T02:50:14.127560",
     "exception": false,
     "start_time": "2020-10-03T02:50:13.940113",
     "status": "completed"
    },
    "tags": []
   },
   "source": [
    "#### На графике выше мы видим 10 самых популярных видов кухни. Сделаем признак Popularity_сuisine. Если ресторан входит в эту десятку видов кухонь, то присвоем ему единицу, иначе 0."
   ]
  },
  {
   "cell_type": "code",
   "execution_count": 96,
   "metadata": {
    "execution": {
     "iopub.execute_input": "2020-10-03T02:50:14.507879Z",
     "iopub.status.busy": "2020-10-03T02:50:14.507080Z",
     "iopub.status.idle": "2020-10-03T02:50:14.567027Z",
     "shell.execute_reply": "2020-10-03T02:50:14.565407Z"
    },
    "papermill": {
     "duration": 0.253616,
     "end_time": "2020-10-03T02:50:14.567232",
     "exception": false,
     "start_time": "2020-10-03T02:50:14.313616",
     "status": "completed"
    },
    "tags": []
   },
   "outputs": [
    {
     "name": "stdout",
     "output_type": "stream",
     "text": [
      "<class 'pandas.core.frame.DataFrame'>\n",
      "RangeIndex: 50000 entries, 0 to 49999\n",
      "Data columns (total 164 columns):\n",
      " #   Column                   Non-Null Count  Dtype  \n",
      "---  ------                   --------------  -----  \n",
      " 0   City_Stockholm           50000 non-null  uint8  \n",
      " 1   City_Vienna              50000 non-null  uint8  \n",
      " 2   City_Warsaw              50000 non-null  uint8  \n",
      " 3   City_Zurich              50000 non-null  uint8  \n",
      " 4   City_nan                 50000 non-null  uint8  \n",
      " 5   Restaurant_id            50000 non-null  int64  \n",
      " 6   Price_Range              50000 non-null  int64  \n",
      " 7   Number of Reviews        50000 non-null  float64\n",
      " 8   sample                   50000 non-null  int64  \n",
      " 9   Rating                   50000 non-null  float64\n",
      " 10  Number_of_Reviews_isNAN  50000 non-null  uint8  \n",
      " 11  City_Amsterdam           50000 non-null  uint8  \n",
      " 12  City_Athens              50000 non-null  uint8  \n",
      " 13  City_Barcelona           50000 non-null  uint8  \n",
      " 14  City_Berlin              50000 non-null  uint8  \n",
      " 15  City_Bratislava          50000 non-null  uint8  \n",
      " 16  City_Brussels            50000 non-null  uint8  \n",
      " 17  City_Budapest            50000 non-null  uint8  \n",
      " 18  City_Copenhagen          50000 non-null  uint8  \n",
      " 19  City_Dublin              50000 non-null  uint8  \n",
      " 20  City_Edinburgh           50000 non-null  uint8  \n",
      " 21  City_Geneva              50000 non-null  uint8  \n",
      " 22  City_Hamburg             50000 non-null  uint8  \n",
      " 23  City_Helsinki            50000 non-null  uint8  \n",
      " 24  City_Krakow              50000 non-null  uint8  \n",
      " 25  City_Lisbon              50000 non-null  uint8  \n",
      " 26  City_Ljubljana           50000 non-null  uint8  \n",
      " 27  City_London              50000 non-null  uint8  \n",
      " 28  City_Luxembourg          50000 non-null  uint8  \n",
      " 29  City_Lyon                50000 non-null  uint8  \n",
      " 30  City_Madrid              50000 non-null  uint8  \n",
      " 31  City_Milan               50000 non-null  uint8  \n",
      " 32  City_Munich              50000 non-null  uint8  \n",
      " 33  City_Oporto              50000 non-null  uint8  \n",
      " 34  Xinjiang                 50000 non-null  int64  \n",
      " 35  Latvian                  50000 non-null  int64  \n",
      " 36  Burmese                  50000 non-null  int64  \n",
      " 37  Salvadoran               50000 non-null  int64  \n",
      " 38  Yunnan                   50000 non-null  int64  \n",
      " 39  Polynesian               50000 non-null  int64  \n",
      " 40  Fujian                   50000 non-null  int64  \n",
      " 41  Welsh                    50000 non-null  int64  \n",
      " 42  Azerbaijani              50000 non-null  int64  \n",
      " 43  Caucasian                50000 non-null  int64  \n",
      " 44  Uzbek                    50000 non-null  int64  \n",
      " 45  Native American          50000 non-null  int64  \n",
      " 46  New Zealand              50000 non-null  int64  \n",
      " 47  Canadian                 50000 non-null  int64  \n",
      " 48  Ecuadorean               50000 non-null  int64  \n",
      " 49  Albanian                 50000 non-null  int64  \n",
      " 50  Minority Chinese         50000 non-null  int64  \n",
      " 51  Central Asian            50000 non-null  int64  \n",
      " 52  Romanian                 50000 non-null  int64  \n",
      " 53  Chilean                  50000 non-null  int64  \n",
      " 54  Armenian                 50000 non-null  int64  \n",
      " 55  Filipino                 50000 non-null  int64  \n",
      " 56  Georgian                 50000 non-null  int64  \n",
      " 57  Mongolian                50000 non-null  int64  \n",
      " 58  Ukrainian                50000 non-null  int64  \n",
      " 59  Singaporean              50000 non-null  int64  \n",
      " 60  Cambodian                50000 non-null  int64  \n",
      " 61  Tunisian                 50000 non-null  int64  \n",
      " 62  Hawaiian                 50000 non-null  int64  \n",
      " 63  Southwestern             50000 non-null  int64  \n",
      " 64  Egyptian                 50000 non-null  int64  \n",
      " 65  Cajun & Creole           50000 non-null  int64  \n",
      " 66  Afghani                  50000 non-null  int64  \n",
      " 67  Tibetan                  50000 non-null  int64  \n",
      " 68  Taiwanese                50000 non-null  int64  \n",
      " 69  Sri Lankan               50000 non-null  int64  \n",
      " 70  Colombian                50000 non-null  int64  \n",
      " 71  Cuban                    50000 non-null  int64  \n",
      " 72  Croatian                 50000 non-null  int64  \n",
      " 73  Australian               50000 non-null  int64  \n",
      " 74  Jamaican                 50000 non-null  int64  \n",
      " 75  Malaysian                50000 non-null  int64  \n",
      " 76  Venezuelan               50000 non-null  int64  \n",
      " 77  Ethiopian                50000 non-null  int64  \n",
      " 78  Kosher                   50000 non-null  int64  \n",
      " 79  Arabic                   50000 non-null  int64  \n",
      " 80  Russian                  50000 non-null  int64  \n",
      " 81  Indonesian               50000 non-null  int64  \n",
      " 82  Persian                  50000 non-null  int64  \n",
      " 83  Slovenian                50000 non-null  int64  \n",
      " 84  Israeli                  50000 non-null  int64  \n",
      " 85  Norwegian                50000 non-null  int64  \n",
      " 86  Bangladeshi              50000 non-null  int64  \n",
      " 87  Balti                    50000 non-null  int64  \n",
      " 88  Nepali                   50000 non-null  int64  \n",
      " 89  Caribbean                50000 non-null  int64  \n",
      " 90  Peruvian                 50000 non-null  int64  \n",
      " 91  Pakistani                50000 non-null  int64  \n",
      " 92  Brazilian                50000 non-null  int64  \n",
      " 93  Central American         50000 non-null  int64  \n",
      " 94  Moroccan                 50000 non-null  int64  \n",
      " 95  African                  50000 non-null  int64  \n",
      " 96  Scottish                 50000 non-null  int64  \n",
      " 97  Korean                   50000 non-null  int64  \n",
      " 98  Argentinean              50000 non-null  int64  \n",
      " 99  Swiss                    50000 non-null  int64  \n",
      " 100 Swedish                  50000 non-null  int64  \n",
      " 101 Danish                   50000 non-null  int64  \n",
      " 102 Brew Pub                 50000 non-null  int64  \n",
      " 103 Belgian                  50000 non-null  int64  \n",
      " 104 Street Food              50000 non-null  int64  \n",
      " 105 Irish                    50000 non-null  int64  \n",
      " 106 Dutch                    50000 non-null  int64  \n",
      " 107 Latin                    50000 non-null  int64  \n",
      " 108 Diner                    50000 non-null  int64  \n",
      " 109 Lebanese                 50000 non-null  int64  \n",
      " 110 Hungarian                50000 non-null  int64  \n",
      " 111 Scandinavian             50000 non-null  int64  \n",
      " 112 Polish                   50000 non-null  int64  \n",
      " 113 Austrian                 50000 non-null  int64  \n",
      " 114 Delicatessen             50000 non-null  int64  \n",
      " 115 South American           50000 non-null  int64  \n",
      " 116 Mexican                  50000 non-null  int64  \n",
      " 117 Turkish                  50000 non-null  int64  \n",
      " 118 Gastropub                50000 non-null  int64  \n",
      " 119 Grill                    50000 non-null  int64  \n",
      " 120 Vietnamese               50000 non-null  int64  \n",
      " 121 Eastern European         50000 non-null  int64  \n",
      " 122 Soups                    50000 non-null  int64  \n",
      " 123 Contemporary             50000 non-null  int64  \n",
      " 124 Barbecue                 50000 non-null  int64  \n",
      " 125 Steakhouse               50000 non-null  int64  \n",
      " 126 Czech                    50000 non-null  int64  \n",
      " 127 Fusion                   50000 non-null  int64  \n",
      " 128 Healthy                  50000 non-null  int64  \n",
      " 129 Greek                    50000 non-null  int64  \n",
      " 130 Halal                    50000 non-null  int64  \n",
      " 131 German                   50000 non-null  int64  \n",
      " 132 Wine Bar                 50000 non-null  int64  \n",
      " 133 Thai                     50000 non-null  int64  \n",
      " 134 Middle Eastern           50000 non-null  int64  \n",
      " 135 Indian                   50000 non-null  int64  \n",
      " 136 Portuguese               50000 non-null  int64  \n",
      " 137 Chinese                  50000 non-null  int64  \n",
      " 138 Sushi                    50000 non-null  int64  \n",
      " 139 American                 50000 non-null  int64  \n",
      " 140 Central European         50000 non-null  int64  \n",
      " 141 Japanese                 50000 non-null  int64  \n",
      " 142 Seafood                  50000 non-null  int64  \n",
      " 143 International            50000 non-null  int64  \n",
      " 144 British                  50000 non-null  int64  \n",
      " 145 Fast Food                50000 non-null  int64  \n",
      " 146 Cafe                     50000 non-null  int64  \n",
      " 147 Pub                      50000 non-null  int64  \n",
      " 148 Spanish                  50000 non-null  int64  \n",
      " 149 Pizza                    50000 non-null  int64  \n",
      " 150 Asian                    50000 non-null  int64  \n",
      " 151 French                   50000 non-null  int64  \n",
      " 152 Bar                      50000 non-null  int64  \n",
      " 153 Gluten Free Options      50000 non-null  int64  \n",
      " 154 Vegan Options            50000 non-null  int64  \n",
      " 155 Italian                  50000 non-null  int64  \n",
      " 156 Mediterranean            50000 non-null  int64  \n",
      " 157 other_cuisines           50000 non-null  int64  \n",
      " 158 European                 50000 non-null  int64  \n",
      " 159 Vegetarian Friendly      50000 non-null  int64  \n",
      " 160 City_Oslo                50000 non-null  uint8  \n",
      " 161 City_Paris               50000 non-null  uint8  \n",
      " 162 City_Prague              50000 non-null  uint8  \n",
      " 163 City_Rome                50000 non-null  uint8  \n",
      "dtypes: float64(2), int64(129), uint8(33)\n",
      "memory usage: 51.5 MB\n"
     ]
    }
   ],
   "source": [
    "df1.info(verbose=True,null_counts=True)"
   ]
  },
  {
   "cell_type": "code",
   "execution_count": 97,
   "metadata": {
    "execution": {
     "iopub.execute_input": "2020-10-03T02:50:14.958213Z",
     "iopub.status.busy": "2020-10-03T02:50:14.957347Z",
     "iopub.status.idle": "2020-10-03T02:50:14.964568Z",
     "shell.execute_reply": "2020-10-03T02:50:14.965103Z"
    },
    "papermill": {
     "duration": 0.201347,
     "end_time": "2020-10-03T02:50:14.965273",
     "exception": false,
     "start_time": "2020-10-03T02:50:14.763926",
     "status": "completed"
    },
    "tags": []
   },
   "outputs": [
    {
     "data": {
      "text/plain": [
       "0    42567\n",
       "1     7433\n",
       "Name: Italian, dtype: int64"
      ]
     },
     "execution_count": 97,
     "metadata": {},
     "output_type": "execute_result"
    }
   ],
   "source": [
    "df1['Italian'].value_counts()"
   ]
  },
  {
   "cell_type": "code",
   "execution_count": null,
   "metadata": {
    "papermill": {
     "duration": 0.189222,
     "end_time": "2020-10-03T02:50:15.344462",
     "exception": false,
     "start_time": "2020-10-03T02:50:15.155240",
     "status": "completed"
    },
    "tags": []
   },
   "outputs": [],
   "source": []
  },
  {
   "cell_type": "code",
   "execution_count": 98,
   "metadata": {
    "execution": {
     "iopub.execute_input": "2020-10-03T02:50:15.727016Z",
     "iopub.status.busy": "2020-10-03T02:50:15.726229Z",
     "iopub.status.idle": "2020-10-03T02:50:15.730269Z",
     "shell.execute_reply": "2020-10-03T02:50:15.729605Z"
    },
    "papermill": {
     "duration": 0.197614,
     "end_time": "2020-10-03T02:50:15.730403",
     "exception": false,
     "start_time": "2020-10-03T02:50:15.532789",
     "status": "completed"
    },
    "tags": []
   },
   "outputs": [],
   "source": [
    "def there_is(x):\n",
    "    if (x==1):\n",
    "        return 1 \n",
    "    \n"
   ]
  },
  {
   "cell_type": "code",
   "execution_count": 99,
   "metadata": {
    "execution": {
     "iopub.execute_input": "2020-10-03T02:50:16.114934Z",
     "iopub.status.busy": "2020-10-03T02:50:16.114132Z",
     "iopub.status.idle": "2020-10-03T02:50:16.117755Z",
     "shell.execute_reply": "2020-10-03T02:50:16.117017Z"
    },
    "papermill": {
     "duration": 0.197648,
     "end_time": "2020-10-03T02:50:16.117881",
     "exception": false,
     "start_time": "2020-10-03T02:50:15.920233",
     "status": "completed"
    },
    "tags": []
   },
   "outputs": [],
   "source": [
    "#df1['Popularity_сuisine'].fillna(0, inplace=True)"
   ]
  },
  {
   "cell_type": "code",
   "execution_count": 100,
   "metadata": {
    "execution": {
     "iopub.execute_input": "2020-10-03T02:50:16.510423Z",
     "iopub.status.busy": "2020-10-03T02:50:16.509600Z",
     "iopub.status.idle": "2020-10-03T02:50:23.269084Z",
     "shell.execute_reply": "2020-10-03T02:50:23.268442Z"
    },
    "papermill": {
     "duration": 6.961503,
     "end_time": "2020-10-03T02:50:23.269222",
     "exception": false,
     "start_time": "2020-10-03T02:50:16.307719",
     "status": "completed"
    },
    "tags": []
   },
   "outputs": [],
   "source": [
    "df1['Popularity_сuisine']=df1.apply(lambda x: there_is(x['Italian']), axis=1 )\n",
    "df1['Popularity_сuisine']=df1.apply(lambda x: there_is(x['French']), axis=1 )\n",
    "df1['Popularity_сuisine']=df1.apply(lambda x: there_is(x['Cafe']), axis=1 )\n",
    "df1['Popularity_сuisine']=df1.apply(lambda x: there_is(x['Pizza']), axis=1 )\n",
    "df1['Popularity_сuisine']=df1.apply(lambda x: there_is(x['European']), axis=1 )\n",
    "df1['Popularity_сuisine']=df1.apply(lambda x: there_is(x['Portuguese']), axis=1 )\n",
    "df1['Popularity_сuisine']=df1.apply(lambda x: there_is(x['Chinese']), axis=1 )\n",
    "df1['Popularity_сuisine']=df1.apply(lambda x: there_is(x['Mediterranean']), axis=1 )"
   ]
  },
  {
   "cell_type": "code",
   "execution_count": 101,
   "metadata": {
    "execution": {
     "iopub.execute_input": "2020-10-03T02:50:23.660332Z",
     "iopub.status.busy": "2020-10-03T02:50:23.659238Z",
     "iopub.status.idle": "2020-10-03T02:50:23.664063Z",
     "shell.execute_reply": "2020-10-03T02:50:23.663390Z"
    },
    "papermill": {
     "duration": 0.205975,
     "end_time": "2020-10-03T02:50:23.664202",
     "exception": false,
     "start_time": "2020-10-03T02:50:23.458227",
     "status": "completed"
    },
    "tags": []
   },
   "outputs": [],
   "source": [
    "df1['Popularity_сuisine'].fillna(0, inplace=True)"
   ]
  },
  {
   "cell_type": "code",
   "execution_count": 102,
   "metadata": {
    "execution": {
     "iopub.execute_input": "2020-10-03T02:50:24.073560Z",
     "iopub.status.busy": "2020-10-03T02:50:24.072440Z",
     "iopub.status.idle": "2020-10-03T02:50:24.080718Z",
     "shell.execute_reply": "2020-10-03T02:50:24.079947Z"
    },
    "papermill": {
     "duration": 0.203185,
     "end_time": "2020-10-03T02:50:24.080846",
     "exception": false,
     "start_time": "2020-10-03T02:50:23.877661",
     "status": "completed"
    },
    "tags": []
   },
   "outputs": [
    {
     "data": {
      "text/plain": [
       "0.0    42180\n",
       "1.0     7820\n",
       "Name: Popularity_сuisine, dtype: int64"
      ]
     },
     "execution_count": 102,
     "metadata": {},
     "output_type": "execute_result"
    }
   ],
   "source": [
    "df1['Popularity_сuisine'].value_counts()\n",
    "        "
   ]
  },
  {
   "cell_type": "code",
   "execution_count": 103,
   "metadata": {
    "execution": {
     "iopub.execute_input": "2020-10-03T02:50:24.509717Z",
     "iopub.status.busy": "2020-10-03T02:50:24.508909Z",
     "iopub.status.idle": "2020-10-03T02:50:24.552593Z",
     "shell.execute_reply": "2020-10-03T02:50:24.553216Z"
    },
    "papermill": {
     "duration": 0.239615,
     "end_time": "2020-10-03T02:50:24.553393",
     "exception": false,
     "start_time": "2020-10-03T02:50:24.313778",
     "status": "completed"
    },
    "tags": []
   },
   "outputs": [
    {
     "data": {
      "text/html": [
       "<div>\n",
       "<style scoped>\n",
       "    .dataframe tbody tr th:only-of-type {\n",
       "        vertical-align: middle;\n",
       "    }\n",
       "\n",
       "    .dataframe tbody tr th {\n",
       "        vertical-align: top;\n",
       "    }\n",
       "\n",
       "    .dataframe thead th {\n",
       "        text-align: right;\n",
       "    }\n",
       "</style>\n",
       "<table border=\"1\" class=\"dataframe\">\n",
       "  <thead>\n",
       "    <tr style=\"text-align: right;\">\n",
       "      <th></th>\n",
       "      <th>City_Stockholm</th>\n",
       "      <th>City_Vienna</th>\n",
       "      <th>City_Warsaw</th>\n",
       "      <th>City_Zurich</th>\n",
       "      <th>City_nan</th>\n",
       "      <th>Restaurant_id</th>\n",
       "      <th>Price_Range</th>\n",
       "      <th>Number of Reviews</th>\n",
       "      <th>sample</th>\n",
       "      <th>Rating</th>\n",
       "      <th>...</th>\n",
       "      <th>Italian</th>\n",
       "      <th>Mediterranean</th>\n",
       "      <th>other_cuisines</th>\n",
       "      <th>European</th>\n",
       "      <th>Vegetarian Friendly</th>\n",
       "      <th>City_Oslo</th>\n",
       "      <th>City_Paris</th>\n",
       "      <th>City_Prague</th>\n",
       "      <th>City_Rome</th>\n",
       "      <th>Popularity_сuisine</th>\n",
       "    </tr>\n",
       "  </thead>\n",
       "  <tbody>\n",
       "    <tr>\n",
       "      <th>0</th>\n",
       "      <td>0</td>\n",
       "      <td>0</td>\n",
       "      <td>0</td>\n",
       "      <td>0</td>\n",
       "      <td>0</td>\n",
       "      <td>0</td>\n",
       "      <td>2</td>\n",
       "      <td>4.0</td>\n",
       "      <td>0</td>\n",
       "      <td>0.0</td>\n",
       "      <td>...</td>\n",
       "      <td>0</td>\n",
       "      <td>0</td>\n",
       "      <td>0</td>\n",
       "      <td>0</td>\n",
       "      <td>0</td>\n",
       "      <td>0</td>\n",
       "      <td>1</td>\n",
       "      <td>0</td>\n",
       "      <td>0</td>\n",
       "      <td>0.0</td>\n",
       "    </tr>\n",
       "    <tr>\n",
       "      <th>1</th>\n",
       "      <td>0</td>\n",
       "      <td>0</td>\n",
       "      <td>0</td>\n",
       "      <td>0</td>\n",
       "      <td>0</td>\n",
       "      <td>1</td>\n",
       "      <td>2</td>\n",
       "      <td>97.0</td>\n",
       "      <td>0</td>\n",
       "      <td>0.0</td>\n",
       "      <td>...</td>\n",
       "      <td>0</td>\n",
       "      <td>0</td>\n",
       "      <td>0</td>\n",
       "      <td>1</td>\n",
       "      <td>1</td>\n",
       "      <td>0</td>\n",
       "      <td>0</td>\n",
       "      <td>0</td>\n",
       "      <td>0</td>\n",
       "      <td>0.0</td>\n",
       "    </tr>\n",
       "    <tr>\n",
       "      <th>2</th>\n",
       "      <td>0</td>\n",
       "      <td>0</td>\n",
       "      <td>0</td>\n",
       "      <td>0</td>\n",
       "      <td>0</td>\n",
       "      <td>2</td>\n",
       "      <td>2</td>\n",
       "      <td>28.0</td>\n",
       "      <td>0</td>\n",
       "      <td>0.0</td>\n",
       "      <td>...</td>\n",
       "      <td>0</td>\n",
       "      <td>0</td>\n",
       "      <td>0</td>\n",
       "      <td>0</td>\n",
       "      <td>1</td>\n",
       "      <td>0</td>\n",
       "      <td>0</td>\n",
       "      <td>0</td>\n",
       "      <td>0</td>\n",
       "      <td>0.0</td>\n",
       "    </tr>\n",
       "    <tr>\n",
       "      <th>3</th>\n",
       "      <td>0</td>\n",
       "      <td>0</td>\n",
       "      <td>0</td>\n",
       "      <td>0</td>\n",
       "      <td>0</td>\n",
       "      <td>3</td>\n",
       "      <td>3</td>\n",
       "      <td>202.0</td>\n",
       "      <td>0</td>\n",
       "      <td>0.0</td>\n",
       "      <td>...</td>\n",
       "      <td>1</td>\n",
       "      <td>1</td>\n",
       "      <td>0</td>\n",
       "      <td>1</td>\n",
       "      <td>1</td>\n",
       "      <td>0</td>\n",
       "      <td>0</td>\n",
       "      <td>0</td>\n",
       "      <td>0</td>\n",
       "      <td>1.0</td>\n",
       "    </tr>\n",
       "    <tr>\n",
       "      <th>4</th>\n",
       "      <td>0</td>\n",
       "      <td>0</td>\n",
       "      <td>0</td>\n",
       "      <td>0</td>\n",
       "      <td>0</td>\n",
       "      <td>4</td>\n",
       "      <td>3</td>\n",
       "      <td>162.0</td>\n",
       "      <td>0</td>\n",
       "      <td>0.0</td>\n",
       "      <td>...</td>\n",
       "      <td>1</td>\n",
       "      <td>1</td>\n",
       "      <td>0</td>\n",
       "      <td>1</td>\n",
       "      <td>1</td>\n",
       "      <td>0</td>\n",
       "      <td>0</td>\n",
       "      <td>0</td>\n",
       "      <td>0</td>\n",
       "      <td>1.0</td>\n",
       "    </tr>\n",
       "    <tr>\n",
       "      <th>...</th>\n",
       "      <td>...</td>\n",
       "      <td>...</td>\n",
       "      <td>...</td>\n",
       "      <td>...</td>\n",
       "      <td>...</td>\n",
       "      <td>...</td>\n",
       "      <td>...</td>\n",
       "      <td>...</td>\n",
       "      <td>...</td>\n",
       "      <td>...</td>\n",
       "      <td>...</td>\n",
       "      <td>...</td>\n",
       "      <td>...</td>\n",
       "      <td>...</td>\n",
       "      <td>...</td>\n",
       "      <td>...</td>\n",
       "      <td>...</td>\n",
       "      <td>...</td>\n",
       "      <td>...</td>\n",
       "      <td>...</td>\n",
       "      <td>...</td>\n",
       "    </tr>\n",
       "    <tr>\n",
       "      <th>49995</th>\n",
       "      <td>0</td>\n",
       "      <td>0</td>\n",
       "      <td>0</td>\n",
       "      <td>0</td>\n",
       "      <td>0</td>\n",
       "      <td>499</td>\n",
       "      <td>2</td>\n",
       "      <td>79.0</td>\n",
       "      <td>1</td>\n",
       "      <td>4.5</td>\n",
       "      <td>...</td>\n",
       "      <td>1</td>\n",
       "      <td>0</td>\n",
       "      <td>0</td>\n",
       "      <td>0</td>\n",
       "      <td>1</td>\n",
       "      <td>0</td>\n",
       "      <td>0</td>\n",
       "      <td>0</td>\n",
       "      <td>0</td>\n",
       "      <td>0.0</td>\n",
       "    </tr>\n",
       "    <tr>\n",
       "      <th>49996</th>\n",
       "      <td>0</td>\n",
       "      <td>0</td>\n",
       "      <td>0</td>\n",
       "      <td>0</td>\n",
       "      <td>0</td>\n",
       "      <td>6340</td>\n",
       "      <td>2</td>\n",
       "      <td>542.0</td>\n",
       "      <td>1</td>\n",
       "      <td>3.5</td>\n",
       "      <td>...</td>\n",
       "      <td>0</td>\n",
       "      <td>0</td>\n",
       "      <td>0</td>\n",
       "      <td>1</td>\n",
       "      <td>1</td>\n",
       "      <td>0</td>\n",
       "      <td>1</td>\n",
       "      <td>0</td>\n",
       "      <td>0</td>\n",
       "      <td>0.0</td>\n",
       "    </tr>\n",
       "    <tr>\n",
       "      <th>49997</th>\n",
       "      <td>1</td>\n",
       "      <td>0</td>\n",
       "      <td>0</td>\n",
       "      <td>0</td>\n",
       "      <td>0</td>\n",
       "      <td>1649</td>\n",
       "      <td>1</td>\n",
       "      <td>4.0</td>\n",
       "      <td>1</td>\n",
       "      <td>4.5</td>\n",
       "      <td>...</td>\n",
       "      <td>0</td>\n",
       "      <td>0</td>\n",
       "      <td>0</td>\n",
       "      <td>0</td>\n",
       "      <td>0</td>\n",
       "      <td>0</td>\n",
       "      <td>0</td>\n",
       "      <td>0</td>\n",
       "      <td>0</td>\n",
       "      <td>0.0</td>\n",
       "    </tr>\n",
       "    <tr>\n",
       "      <th>49998</th>\n",
       "      <td>0</td>\n",
       "      <td>0</td>\n",
       "      <td>1</td>\n",
       "      <td>0</td>\n",
       "      <td>0</td>\n",
       "      <td>640</td>\n",
       "      <td>2</td>\n",
       "      <td>70.0</td>\n",
       "      <td>1</td>\n",
       "      <td>4.0</td>\n",
       "      <td>...</td>\n",
       "      <td>0</td>\n",
       "      <td>0</td>\n",
       "      <td>0</td>\n",
       "      <td>1</td>\n",
       "      <td>1</td>\n",
       "      <td>0</td>\n",
       "      <td>0</td>\n",
       "      <td>0</td>\n",
       "      <td>0</td>\n",
       "      <td>0.0</td>\n",
       "    </tr>\n",
       "    <tr>\n",
       "      <th>49999</th>\n",
       "      <td>0</td>\n",
       "      <td>0</td>\n",
       "      <td>0</td>\n",
       "      <td>0</td>\n",
       "      <td>0</td>\n",
       "      <td>4824</td>\n",
       "      <td>2</td>\n",
       "      <td>260.0</td>\n",
       "      <td>1</td>\n",
       "      <td>3.0</td>\n",
       "      <td>...</td>\n",
       "      <td>0</td>\n",
       "      <td>0</td>\n",
       "      <td>0</td>\n",
       "      <td>0</td>\n",
       "      <td>0</td>\n",
       "      <td>0</td>\n",
       "      <td>0</td>\n",
       "      <td>0</td>\n",
       "      <td>0</td>\n",
       "      <td>0.0</td>\n",
       "    </tr>\n",
       "  </tbody>\n",
       "</table>\n",
       "<p>50000 rows × 165 columns</p>\n",
       "</div>"
      ],
      "text/plain": [
       "       City_Stockholm  City_Vienna  City_Warsaw  City_Zurich  City_nan  \\\n",
       "0                   0            0            0            0         0   \n",
       "1                   0            0            0            0         0   \n",
       "2                   0            0            0            0         0   \n",
       "3                   0            0            0            0         0   \n",
       "4                   0            0            0            0         0   \n",
       "...               ...          ...          ...          ...       ...   \n",
       "49995               0            0            0            0         0   \n",
       "49996               0            0            0            0         0   \n",
       "49997               1            0            0            0         0   \n",
       "49998               0            0            1            0         0   \n",
       "49999               0            0            0            0         0   \n",
       "\n",
       "       Restaurant_id  Price_Range  Number of Reviews  sample  Rating  ...  \\\n",
       "0                  0            2                4.0       0     0.0  ...   \n",
       "1                  1            2               97.0       0     0.0  ...   \n",
       "2                  2            2               28.0       0     0.0  ...   \n",
       "3                  3            3              202.0       0     0.0  ...   \n",
       "4                  4            3              162.0       0     0.0  ...   \n",
       "...              ...          ...                ...     ...     ...  ...   \n",
       "49995            499            2               79.0       1     4.5  ...   \n",
       "49996           6340            2              542.0       1     3.5  ...   \n",
       "49997           1649            1                4.0       1     4.5  ...   \n",
       "49998            640            2               70.0       1     4.0  ...   \n",
       "49999           4824            2              260.0       1     3.0  ...   \n",
       "\n",
       "       Italian  Mediterranean  other_cuisines  European  Vegetarian Friendly  \\\n",
       "0            0              0               0         0                    0   \n",
       "1            0              0               0         1                    1   \n",
       "2            0              0               0         0                    1   \n",
       "3            1              1               0         1                    1   \n",
       "4            1              1               0         1                    1   \n",
       "...        ...            ...             ...       ...                  ...   \n",
       "49995        1              0               0         0                    1   \n",
       "49996        0              0               0         1                    1   \n",
       "49997        0              0               0         0                    0   \n",
       "49998        0              0               0         1                    1   \n",
       "49999        0              0               0         0                    0   \n",
       "\n",
       "       City_Oslo  City_Paris  City_Prague  City_Rome  Popularity_сuisine  \n",
       "0              0           1            0          0                 0.0  \n",
       "1              0           0            0          0                 0.0  \n",
       "2              0           0            0          0                 0.0  \n",
       "3              0           0            0          0                 1.0  \n",
       "4              0           0            0          0                 1.0  \n",
       "...          ...         ...          ...        ...                 ...  \n",
       "49995          0           0            0          0                 0.0  \n",
       "49996          0           1            0          0                 0.0  \n",
       "49997          0           0            0          0                 0.0  \n",
       "49998          0           0            0          0                 0.0  \n",
       "49999          0           0            0          0                 0.0  \n",
       "\n",
       "[50000 rows x 165 columns]"
      ]
     },
     "execution_count": 103,
     "metadata": {},
     "output_type": "execute_result"
    }
   ],
   "source": [
    "df1"
   ]
  },
  {
   "cell_type": "markdown",
   "metadata": {
    "papermill": {
     "duration": 0.190084,
     "end_time": "2020-10-03T02:50:24.935962",
     "exception": false,
     "start_time": "2020-10-03T02:50:24.745878",
     "status": "completed"
    },
    "tags": []
   },
   "source": [
    "#### Также добавим столбец Popularity_сity, где обозначим 1 города с наибольшим количеством ресторанов, 0 остальные"
   ]
  },
  {
   "cell_type": "code",
   "execution_count": 104,
   "metadata": {
    "execution": {
     "iopub.execute_input": "2020-10-03T02:50:25.344904Z",
     "iopub.status.busy": "2020-10-03T02:50:25.343647Z",
     "iopub.status.idle": "2020-10-03T02:50:25.544871Z",
     "shell.execute_reply": "2020-10-03T02:50:25.544235Z"
    },
    "papermill": {
     "duration": 0.419349,
     "end_time": "2020-10-03T02:50:25.545010",
     "exception": false,
     "start_time": "2020-10-03T02:50:25.125661",
     "status": "completed"
    },
    "tags": []
   },
   "outputs": [
    {
     "data": {
      "text/plain": [
       "<matplotlib.axes._subplots.AxesSubplot at 0x7f7085068490>"
      ]
     },
     "execution_count": 104,
     "metadata": {},
     "output_type": "execute_result"
    },
    {
     "data": {
      "image/png": "[encoded data removed]",
      "text/plain": [
       "<Figure size 1080x720 with 1 Axes>"
      ]
     },
     "metadata": {
      "needs_background": "light"
     },
     "output_type": "display_data"
    }
   ],
   "source": [
    "cuisine_style = df_train['City'].value_counts().head(10)\n",
    "cuisine_style.plot.bar()"
   ]
  },
  {
   "cell_type": "code",
   "execution_count": 105,
   "metadata": {
    "execution": {
     "iopub.execute_input": "2020-10-03T02:50:25.948036Z",
     "iopub.status.busy": "2020-10-03T02:50:25.947133Z",
     "iopub.status.idle": "2020-10-03T02:50:25.952421Z",
     "shell.execute_reply": "2020-10-03T02:50:25.951840Z"
    },
    "papermill": {
     "duration": 0.214754,
     "end_time": "2020-10-03T02:50:25.952570",
     "exception": false,
     "start_time": "2020-10-03T02:50:25.737816",
     "status": "completed"
    },
    "tags": []
   },
   "outputs": [
    {
     "data": {
      "text/plain": [
       "London        5757\n",
       "Paris         4897\n",
       "Madrid        3108\n",
       "Barcelona     2734\n",
       "Berlin        2155\n",
       "Milan         2133\n",
       "Rome          2078\n",
       "Prague        1443\n",
       "Lisbon        1300\n",
       "Vienna        1166\n",
       "Amsterdam     1086\n",
       "Brussels      1060\n",
       "Hamburg        949\n",
       "Munich         893\n",
       "Lyon           892\n",
       "Stockholm      820\n",
       "Budapest       816\n",
       "Warsaw         727\n",
       "Dublin         673\n",
       "Copenhagen     659\n",
       "Athens         628\n",
       "Edinburgh      596\n",
       "Zurich         538\n",
       "Oporto         513\n",
       "Geneva         481\n",
       "Krakow         443\n",
       "Oslo           385\n",
       "Helsinki       376\n",
       "Bratislava     301\n",
       "Luxembourg     210\n",
       "Ljubljana      183\n",
       "Name: City, dtype: int64"
      ]
     },
     "execution_count": 105,
     "metadata": {},
     "output_type": "execute_result"
    }
   ],
   "source": [
    "df_train['City'].value_counts()"
   ]
  },
  {
   "cell_type": "code",
   "execution_count": 106,
   "metadata": {
    "execution": {
     "iopub.execute_input": "2020-10-03T02:50:26.357212Z",
     "iopub.status.busy": "2020-10-03T02:50:26.355679Z",
     "iopub.status.idle": "2020-10-03T02:50:35.034259Z",
     "shell.execute_reply": "2020-10-03T02:50:35.033441Z"
    },
    "papermill": {
     "duration": 8.886469,
     "end_time": "2020-10-03T02:50:35.034390",
     "exception": false,
     "start_time": "2020-10-03T02:50:26.147921",
     "status": "completed"
    },
    "tags": []
   },
   "outputs": [],
   "source": [
    "df1['Popularity_сity']=df1.apply(lambda x: there_is(x['City_London']), axis=1 )\n",
    "df1['Popularity_сity']=df1.apply(lambda x: there_is(x['City_Paris']), axis=1 )\n",
    "df1['Popularity_сity']=df1.apply(lambda x: there_is(x['City_Madrid']), axis=1 )\n",
    "df1['Popularity_сity']=df1.apply(lambda x: there_is(x['City_Barcelona']), axis=1 )\n",
    "df1['Popularity_сity']=df1.apply(lambda x: there_is(x['City_Berlin']), axis=1 )\n",
    "df1['Popularity_сity']=df1.apply(lambda x: there_is(x['City_Milan']), axis=1 )\n",
    "df1['Popularity_сity']=df1.apply(lambda x: there_is(x['City_Rome']), axis=1 )\n",
    "df1['Popularity_сity']=df1.apply(lambda x: there_is(x['City_Prague']), axis=1 )\n",
    "df1['Popularity_сity']=df1.apply(lambda x: there_is(x['City_Lisbon']), axis=1 )\n",
    "df1['Popularity_сity']=df1.apply(lambda x: there_is(x['City_Vienna']), axis=1 )"
   ]
  },
  {
   "cell_type": "code",
   "execution_count": 107,
   "metadata": {
    "execution": {
     "iopub.execute_input": "2020-10-03T02:50:35.436580Z",
     "iopub.status.busy": "2020-10-03T02:50:35.435765Z",
     "iopub.status.idle": "2020-10-03T02:50:35.439799Z",
     "shell.execute_reply": "2020-10-03T02:50:35.439000Z"
    },
    "papermill": {
     "duration": 0.206845,
     "end_time": "2020-10-03T02:50:35.439938",
     "exception": false,
     "start_time": "2020-10-03T02:50:35.233093",
     "status": "completed"
    },
    "tags": []
   },
   "outputs": [],
   "source": [
    "df1['Popularity_сity'].fillna(0, inplace=True)"
   ]
  },
  {
   "cell_type": "code",
   "execution_count": 108,
   "metadata": {
    "execution": {
     "iopub.execute_input": "2020-10-03T02:50:35.848931Z",
     "iopub.status.busy": "2020-10-03T02:50:35.848134Z",
     "iopub.status.idle": "2020-10-03T02:50:35.856203Z",
     "shell.execute_reply": "2020-10-03T02:50:35.855550Z"
    },
    "papermill": {
     "duration": 0.219437,
     "end_time": "2020-10-03T02:50:35.856341",
     "exception": false,
     "start_time": "2020-10-03T02:50:35.636904",
     "status": "completed"
    },
    "tags": []
   },
   "outputs": [
    {
     "data": {
      "text/plain": [
       "0.0    48557\n",
       "1.0     1443\n",
       "Name: Popularity_сity, dtype: int64"
      ]
     },
     "execution_count": 108,
     "metadata": {},
     "output_type": "execute_result"
    }
   ],
   "source": [
    "df1['Popularity_сity'].value_counts()"
   ]
  },
  {
   "cell_type": "code",
   "execution_count": 109,
   "metadata": {
    "execution": {
     "iopub.execute_input": "2020-10-03T02:50:36.254555Z",
     "iopub.status.busy": "2020-10-03T02:50:36.253184Z",
     "iopub.status.idle": "2020-10-03T02:50:36.303875Z",
     "shell.execute_reply": "2020-10-03T02:50:36.304437Z"
    },
    "papermill": {
     "duration": 0.252768,
     "end_time": "2020-10-03T02:50:36.304628",
     "exception": false,
     "start_time": "2020-10-03T02:50:36.051860",
     "status": "completed"
    },
    "tags": []
   },
   "outputs": [
    {
     "name": "stdout",
     "output_type": "stream",
     "text": [
      "<class 'pandas.core.frame.DataFrame'>\n",
      "RangeIndex: 50000 entries, 0 to 49999\n",
      "Data columns (total 166 columns):\n",
      " #   Column                   Non-Null Count  Dtype  \n",
      "---  ------                   --------------  -----  \n",
      " 0   City_Stockholm           50000 non-null  uint8  \n",
      " 1   City_Vienna              50000 non-null  uint8  \n",
      " 2   City_Warsaw              50000 non-null  uint8  \n",
      " 3   City_Zurich              50000 non-null  uint8  \n",
      " 4   City_nan                 50000 non-null  uint8  \n",
      " 5   Restaurant_id            50000 non-null  int64  \n",
      " 6   Price_Range              50000 non-null  int64  \n",
      " 7   Number of Reviews        50000 non-null  float64\n",
      " 8   sample                   50000 non-null  int64  \n",
      " 9   Rating                   50000 non-null  float64\n",
      " 10  Number_of_Reviews_isNAN  50000 non-null  uint8  \n",
      " 11  City_Amsterdam           50000 non-null  uint8  \n",
      " 12  City_Athens              50000 non-null  uint8  \n",
      " 13  City_Barcelona           50000 non-null  uint8  \n",
      " 14  City_Berlin              50000 non-null  uint8  \n",
      " 15  City_Bratislava          50000 non-null  uint8  \n",
      " 16  City_Brussels            50000 non-null  uint8  \n",
      " 17  City_Budapest            50000 non-null  uint8  \n",
      " 18  City_Copenhagen          50000 non-null  uint8  \n",
      " 19  City_Dublin              50000 non-null  uint8  \n",
      " 20  City_Edinburgh           50000 non-null  uint8  \n",
      " 21  City_Geneva              50000 non-null  uint8  \n",
      " 22  City_Hamburg             50000 non-null  uint8  \n",
      " 23  City_Helsinki            50000 non-null  uint8  \n",
      " 24  City_Krakow              50000 non-null  uint8  \n",
      " 25  City_Lisbon              50000 non-null  uint8  \n",
      " 26  City_Ljubljana           50000 non-null  uint8  \n",
      " 27  City_London              50000 non-null  uint8  \n",
      " 28  City_Luxembourg          50000 non-null  uint8  \n",
      " 29  City_Lyon                50000 non-null  uint8  \n",
      " 30  City_Madrid              50000 non-null  uint8  \n",
      " 31  City_Milan               50000 non-null  uint8  \n",
      " 32  City_Munich              50000 non-null  uint8  \n",
      " 33  City_Oporto              50000 non-null  uint8  \n",
      " 34  Xinjiang                 50000 non-null  int64  \n",
      " 35  Latvian                  50000 non-null  int64  \n",
      " 36  Burmese                  50000 non-null  int64  \n",
      " 37  Salvadoran               50000 non-null  int64  \n",
      " 38  Yunnan                   50000 non-null  int64  \n",
      " 39  Polynesian               50000 non-null  int64  \n",
      " 40  Fujian                   50000 non-null  int64  \n",
      " 41  Welsh                    50000 non-null  int64  \n",
      " 42  Azerbaijani              50000 non-null  int64  \n",
      " 43  Caucasian                50000 non-null  int64  \n",
      " 44  Uzbek                    50000 non-null  int64  \n",
      " 45  Native American          50000 non-null  int64  \n",
      " 46  New Zealand              50000 non-null  int64  \n",
      " 47  Canadian                 50000 non-null  int64  \n",
      " 48  Ecuadorean               50000 non-null  int64  \n",
      " 49  Albanian                 50000 non-null  int64  \n",
      " 50  Minority Chinese         50000 non-null  int64  \n",
      " 51  Central Asian            50000 non-null  int64  \n",
      " 52  Romanian                 50000 non-null  int64  \n",
      " 53  Chilean                  50000 non-null  int64  \n",
      " 54  Armenian                 50000 non-null  int64  \n",
      " 55  Filipino                 50000 non-null  int64  \n",
      " 56  Georgian                 50000 non-null  int64  \n",
      " 57  Mongolian                50000 non-null  int64  \n",
      " 58  Ukrainian                50000 non-null  int64  \n",
      " 59  Singaporean              50000 non-null  int64  \n",
      " 60  Cambodian                50000 non-null  int64  \n",
      " 61  Tunisian                 50000 non-null  int64  \n",
      " 62  Hawaiian                 50000 non-null  int64  \n",
      " 63  Southwestern             50000 non-null  int64  \n",
      " 64  Egyptian                 50000 non-null  int64  \n",
      " 65  Cajun & Creole           50000 non-null  int64  \n",
      " 66  Afghani                  50000 non-null  int64  \n",
      " 67  Tibetan                  50000 non-null  int64  \n",
      " 68  Taiwanese                50000 non-null  int64  \n",
      " 69  Sri Lankan               50000 non-null  int64  \n",
      " 70  Colombian                50000 non-null  int64  \n",
      " 71  Cuban                    50000 non-null  int64  \n",
      " 72  Croatian                 50000 non-null  int64  \n",
      " 73  Australian               50000 non-null  int64  \n",
      " 74  Jamaican                 50000 non-null  int64  \n",
      " 75  Malaysian                50000 non-null  int64  \n",
      " 76  Venezuelan               50000 non-null  int64  \n",
      " 77  Ethiopian                50000 non-null  int64  \n",
      " 78  Kosher                   50000 non-null  int64  \n",
      " 79  Arabic                   50000 non-null  int64  \n",
      " 80  Russian                  50000 non-null  int64  \n",
      " 81  Indonesian               50000 non-null  int64  \n",
      " 82  Persian                  50000 non-null  int64  \n",
      " 83  Slovenian                50000 non-null  int64  \n",
      " 84  Israeli                  50000 non-null  int64  \n",
      " 85  Norwegian                50000 non-null  int64  \n",
      " 86  Bangladeshi              50000 non-null  int64  \n",
      " 87  Balti                    50000 non-null  int64  \n",
      " 88  Nepali                   50000 non-null  int64  \n",
      " 89  Caribbean                50000 non-null  int64  \n",
      " 90  Peruvian                 50000 non-null  int64  \n",
      " 91  Pakistani                50000 non-null  int64  \n",
      " 92  Brazilian                50000 non-null  int64  \n",
      " 93  Central American         50000 non-null  int64  \n",
      " 94  Moroccan                 50000 non-null  int64  \n",
      " 95  African                  50000 non-null  int64  \n",
      " 96  Scottish                 50000 non-null  int64  \n",
      " 97  Korean                   50000 non-null  int64  \n",
      " 98  Argentinean              50000 non-null  int64  \n",
      " 99  Swiss                    50000 non-null  int64  \n",
      " 100 Swedish                  50000 non-null  int64  \n",
      " 101 Danish                   50000 non-null  int64  \n",
      " 102 Brew Pub                 50000 non-null  int64  \n",
      " 103 Belgian                  50000 non-null  int64  \n",
      " 104 Street Food              50000 non-null  int64  \n",
      " 105 Irish                    50000 non-null  int64  \n",
      " 106 Dutch                    50000 non-null  int64  \n",
      " 107 Latin                    50000 non-null  int64  \n",
      " 108 Diner                    50000 non-null  int64  \n",
      " 109 Lebanese                 50000 non-null  int64  \n",
      " 110 Hungarian                50000 non-null  int64  \n",
      " 111 Scandinavian             50000 non-null  int64  \n",
      " 112 Polish                   50000 non-null  int64  \n",
      " 113 Austrian                 50000 non-null  int64  \n",
      " 114 Delicatessen             50000 non-null  int64  \n",
      " 115 South American           50000 non-null  int64  \n",
      " 116 Mexican                  50000 non-null  int64  \n",
      " 117 Turkish                  50000 non-null  int64  \n",
      " 118 Gastropub                50000 non-null  int64  \n",
      " 119 Grill                    50000 non-null  int64  \n",
      " 120 Vietnamese               50000 non-null  int64  \n",
      " 121 Eastern European         50000 non-null  int64  \n",
      " 122 Soups                    50000 non-null  int64  \n",
      " 123 Contemporary             50000 non-null  int64  \n",
      " 124 Barbecue                 50000 non-null  int64  \n",
      " 125 Steakhouse               50000 non-null  int64  \n",
      " 126 Czech                    50000 non-null  int64  \n",
      " 127 Fusion                   50000 non-null  int64  \n",
      " 128 Healthy                  50000 non-null  int64  \n",
      " 129 Greek                    50000 non-null  int64  \n",
      " 130 Halal                    50000 non-null  int64  \n",
      " 131 German                   50000 non-null  int64  \n",
      " 132 Wine Bar                 50000 non-null  int64  \n",
      " 133 Thai                     50000 non-null  int64  \n",
      " 134 Middle Eastern           50000 non-null  int64  \n",
      " 135 Indian                   50000 non-null  int64  \n",
      " 136 Portuguese               50000 non-null  int64  \n",
      " 137 Chinese                  50000 non-null  int64  \n",
      " 138 Sushi                    50000 non-null  int64  \n",
      " 139 American                 50000 non-null  int64  \n",
      " 140 Central European         50000 non-null  int64  \n",
      " 141 Japanese                 50000 non-null  int64  \n",
      " 142 Seafood                  50000 non-null  int64  \n",
      " 143 International            50000 non-null  int64  \n",
      " 144 British                  50000 non-null  int64  \n",
      " 145 Fast Food                50000 non-null  int64  \n",
      " 146 Cafe                     50000 non-null  int64  \n",
      " 147 Pub                      50000 non-null  int64  \n",
      " 148 Spanish                  50000 non-null  int64  \n",
      " 149 Pizza                    50000 non-null  int64  \n",
      " 150 Asian                    50000 non-null  int64  \n",
      " 151 French                   50000 non-null  int64  \n",
      " 152 Bar                      50000 non-null  int64  \n",
      " 153 Gluten Free Options      50000 non-null  int64  \n",
      " 154 Vegan Options            50000 non-null  int64  \n",
      " 155 Italian                  50000 non-null  int64  \n",
      " 156 Mediterranean            50000 non-null  int64  \n",
      " 157 other_cuisines           50000 non-null  int64  \n",
      " 158 European                 50000 non-null  int64  \n",
      " 159 Vegetarian Friendly      50000 non-null  int64  \n",
      " 160 City_Oslo                50000 non-null  uint8  \n",
      " 161 City_Paris               50000 non-null  uint8  \n",
      " 162 City_Prague              50000 non-null  uint8  \n",
      " 163 City_Rome                50000 non-null  uint8  \n",
      " 164 Popularity_сuisine       50000 non-null  float64\n",
      " 165 Popularity_сity          50000 non-null  float64\n",
      "dtypes: float64(4), int64(129), uint8(33)\n",
      "memory usage: 52.3 MB\n"
     ]
    }
   ],
   "source": [
    "df1.info(verbose=True,null_counts=True)"
   ]
  },
  {
   "cell_type": "markdown",
   "metadata": {
    "papermill": {
     "duration": 0.196203,
     "end_time": "2020-10-03T02:50:36.699541",
     "exception": false,
     "start_time": "2020-10-03T02:50:36.503338",
     "status": "completed"
    },
    "tags": []
   },
   "source": [
    "# Data Preprocessing\n",
    "Теперь, для удобства и воспроизводимости кода, завернем всю обработку в одну большую функцию."
   ]
  },
  {
   "cell_type": "code",
   "execution_count": 110,
   "metadata": {
    "execution": {
     "iopub.execute_input": "2020-10-03T02:50:37.104211Z",
     "iopub.status.busy": "2020-10-03T02:50:37.103366Z",
     "iopub.status.idle": "2020-10-03T02:50:37.440936Z",
     "shell.execute_reply": "2020-10-03T02:50:37.441557Z"
    },
    "papermill": {
     "duration": 0.543873,
     "end_time": "2020-10-03T02:50:37.441770",
     "exception": false,
     "start_time": "2020-10-03T02:50:36.897897",
     "status": "completed"
    },
    "tags": []
   },
   "outputs": [
    {
     "name": "stdout",
     "output_type": "stream",
     "text": [
      "<class 'pandas.core.frame.DataFrame'>\n",
      "RangeIndex: 50000 entries, 0 to 49999\n",
      "Data columns (total 11 columns):\n",
      " #   Column             Non-Null Count  Dtype  \n",
      "---  ------             --------------  -----  \n",
      " 0   Restaurant_id      50000 non-null  object \n",
      " 1   City               50000 non-null  object \n",
      " 2   Cuisine Style      38410 non-null  object \n",
      " 3   Ranking            50000 non-null  float64\n",
      " 4   Price Range        32639 non-null  object \n",
      " 5   Number of Reviews  46800 non-null  float64\n",
      " 6   Reviews            49998 non-null  object \n",
      " 7   URL_TA             50000 non-null  object \n",
      " 8   ID_TA              50000 non-null  object \n",
      " 9   sample             50000 non-null  int64  \n",
      " 10  Rating             50000 non-null  float64\n",
      "dtypes: float64(3), int64(1), object(7)\n",
      "memory usage: 4.2+ MB\n"
     ]
    }
   ],
   "source": [
    "# на всякий случай, заново подгружаем данные\n",
    "df_train = pd.read_csv(DATA_DIR+'/main_task.csv')\n",
    "df_test = pd.read_csv(DATA_DIR+'/kaggle_task.csv')\n",
    "\n",
    "\n",
    "df_train['sample'] = 1 # помечаем где у нас трейн\n",
    "df_test['sample'] = 0 # помечаем где у нас тест\n",
    "df_test['Rating'] = 0 # в тесте у нас нет значения Rating, мы его должны предсказать, по этому пока просто заполняем нулями\n",
    "\n",
    "data = df_test.append(df_train, sort=False).reset_index(drop=True) # объединяем\n",
    "data.info()"
   ]
  },
  {
   "cell_type": "code",
   "execution_count": 111,
   "metadata": {
    "execution": {
     "iopub.execute_input": "2020-10-03T02:50:37.915666Z",
     "iopub.status.busy": "2020-10-03T02:50:37.879410Z",
     "iopub.status.idle": "2020-10-03T02:50:37.919151Z",
     "shell.execute_reply": "2020-10-03T02:50:37.918382Z"
    },
    "papermill": {
     "duration": 0.279937,
     "end_time": "2020-10-03T02:50:37.919277",
     "exception": false,
     "start_time": "2020-10-03T02:50:37.639340",
     "status": "completed"
    },
    "tags": []
   },
   "outputs": [],
   "source": [
    "def preproc_data(df_input):\n",
    "    '''includes several functions to pre-process the predictor data.'''\n",
    "    \n",
    "    df_output = df_input.copy()\n",
    "    \n",
    "    # ################### 1. Предобработка ############################################################## \n",
    "    # убираем не нужные для модели признаки\n",
    "    df_output.drop(['ID_TA','URL_TA'], axis = 1, inplace=True)\n",
    "    RANDOM_SEED = 42\n",
    "    def str_to_list(string):\n",
    "        symbol_list = ['[',']',\"'\"]\n",
    "    \n",
    "        if string != None:\n",
    "            for i in symbol_list:\n",
    "                string = str(string).replace(i,'')\n",
    "            return string.split(', ')\n",
    "        return string\n",
    "    \n",
    "    def enumrate(string, nan_num):\n",
    "        if string == nan_num:\n",
    "            return nan_num\n",
    "        else:\n",
    "            if string.count('$') == 1:\n",
    "                return 1\n",
    "            elif string.count('$') == 5:\n",
    "                return 2\n",
    "            else:\n",
    "                return 3\n",
    "    \n",
    "    def to_numeric(columns):\n",
    "        s = pd.Series(df_output[columns])\n",
    "        pd.to_numeric(s)\n",
    "        df_output[columns] = pd.to_numeric(df_output[columns])\n",
    "    \n",
    "    \n",
    "    # ################### 2. NAN ############################################################## \n",
    "    # Далее заполняем пропуски, вы можете попробовать заполнением средним или средним по городу и тд...\n",
    "    df_output['Number of Reviews'].fillna(0, inplace=True)\n",
    "    # тут ваш код по обработке NAN\n",
    "    # ....\n",
    "    rank1=[]\n",
    "    rank2=[]\n",
    "    rank3=[]\n",
    "    for rank in df_output['Ranking']:\n",
    "        if ((rank>-15.5) and (rank<=5482)):\n",
    "            rank1.append(rank)\n",
    "        elif ((rank>5482) and (rank<=10963)):\n",
    "            rank2.append(rank)\n",
    "        elif ((rank>10963) and (rank<=16444)):\n",
    "            rank3.append(rank)\n",
    "            \n",
    "    for rank in df_output['Ranking']:\n",
    "        if ((rank<=5482)):\n",
    "            df_output['Number of Reviews'].fillna(df_rank1['Number of Reviews'].mean(), inplace=True)\n",
    "        elif ((rank>5482) and (rank<=10963)):\n",
    "            df_output['Number of Reviews'].fillna(df_rank2['Number of Reviews'].mean(), inplace=True)\n",
    "        elif ((rank<=16444)):\n",
    "            df_output['Number of Reviews'].fillna(df_rank3['Number of Reviews'].mean(), inplace=True)\n",
    "       \n",
    "    df_output['Cuisine Style'] = df_output['Cuisine Style'].fillna('other_cuisines')\n",
    "\n",
    "    \n",
    "    # ################### 3. Encoding ############################################################## \n",
    "    # для One-Hot Encoding в pandas есть готовая функция - get_dummies. Особенно радует параметр dummy_na\n",
    "    df_output = pd.get_dummies(df_output, columns=[ 'City',], dummy_na=True)\n",
    "       \n",
    "    df_output.loc[df_output['Price Range'] == '$', 'Price Range'] = 1\n",
    "    df_output.loc[df_output['Price Range'] == '$$ - $$$', 'Price Range'] = 2\n",
    "    df_output.loc[df_output['Price Range'] == '$$$$', 'Price Range'] = 3\n",
    "    \n",
    "    df_output['Price Range'].fillna(0, inplace = True)\n",
    "    df_output['Reviews'].fillna('[]', inplace = True)\n",
    "    \n",
    "    for i in df_output['Number of Reviews']:\n",
    "        if (i<=3221.333):\n",
    "            df_output.loc[df_output['Price Range'] == 0, 'Price Range'] = 1\n",
    "        elif ((i>3221.333) and (i<=6440.667)):\n",
    "            df_output.loc[df_output['Price Range'] == 0, 'Price Range'] = 2\n",
    "        elif (i>6440.667):\n",
    "            df_output.loc[df_output['Price Range'] == 0, 'Price Range'] = 3\n",
    "    \n",
    "    for col in ['Price Range']:\n",
    "        to_numeric(col)\n",
    "    \n",
    "    df_output.Restaurant_id=df_output.Restaurant_id.apply(lambda x: x.replace('id_', \"\"))\n",
    "    to_numeric('Restaurant_id')\n",
    "    df_output = df_output.drop('Ranking', 1)\n",
    "\n",
    "    df_output['Cuisine Style'] = df_output['Cuisine Style'].fillna('other_cuisines').apply(str_to_list)\n",
    "    \n",
    "    cuisines_list = []\n",
    "    for c_list in df_output['Cuisine Style']:\n",
    "        for cus in c_list:\n",
    "            cuisines_list.append(cus)\n",
    "    \n",
    "    cus_freq = pd.Series(cuisines_list).value_counts()\n",
    "    cus_list = cus_freq.index\n",
    "    print(cus_list, \"last list bitch\")\n",
    "    \n",
    "    for i in cus_list:\n",
    "        df_output.insert(len(df_output.columns),i,0)\n",
    "    \n",
    "    for i in df_output['Cuisine Style'].index:\n",
    "        Cus_style_value = df_output['Cuisine Style'][i]    \n",
    "        for j in Cus_style_value:\n",
    "            df_output[j][i] = 1\n",
    "    \n",
    "    #df_output['Price Range'] = df_output['Price Range'].apply(lambda x: enumrate(x,0))\n",
    "    \n",
    "    \n",
    "    \n",
    "    # ################### 4. Feature Engineering ####################################################\n",
    "\n",
    "    rev = df_output['Reviews'].apply(lambda x: re.findall(r\"'(\\d+\\/\\d+\\/\\d+)'\", x))\n",
    "    dt_obj_list = [[dt.datetime.strptime(y, '%m/%d/%Y') for y in x] for x in rev]\n",
    "    num_of_dates = pd.Series([len(x) for x in dt_obj_list])\n",
    "    result_date = [max(x) if len(x) > 0 else 0 for x in dt_obj_list]\n",
    "    result_year = pd.Series([x.year if isinstance(x, dt.datetime) else x for x in result_date])\n",
    "    result_season = pd.Series([x.month%12//3 +1 if isinstance(x, dt.datetime) else x for x in result_date])\n",
    "    result_weekend = pd.Series([(x.weekday() // 5) + 1 if isinstance(x, dt.datetime) else x for x in result_date])\n",
    "        \n",
    "    df_output.insert(4,'year',result_year)\n",
    "    df_output.insert(5,'season',result_season)\n",
    "    df_output.insert(6,'weekend',result_weekend)    \n",
    "    df_output.insert(4,'number of dates',num_of_dates)\n",
    "    \n",
    "    def there_is(x):\n",
    "        if (x==1):\n",
    "            return 1 \n",
    "        \n",
    "    df_output['Popularity_сuisine']=df_output.apply(lambda x: there_is(x['Italian']), axis=1 )\n",
    "    df_output['Popularity_сuisine']=df_output.apply(lambda x: there_is(x['French']), axis=1 )\n",
    "    df_output['Popularity_сuisine']=df_output.apply(lambda x: there_is(x['Cafe']), axis=1 )\n",
    "    df_output['Popularity_сuisine']=df_output.apply(lambda x: there_is(x['Pizza']), axis=1 )\n",
    "    df_output['Popularity_сuisine']=df_output.apply(lambda x: there_is(x['European']), axis=1 )\n",
    "    df_output['Popularity_сuisine']=df_output.apply(lambda x: there_is(x['Portuguese']), axis=1 )\n",
    "    df_output['Popularity_сuisine']=df_output.apply(lambda x: there_is(x['Chinese']), axis=1 )\n",
    "    df_output['Popularity_сuisine']=df_output.apply(lambda x: there_is(x['Mediterranean']), axis=1 )\n",
    "    \n",
    "    df_output['Popularity_сuisine'].fillna(0, inplace=True)\n",
    "    \n",
    "    df_output['Popularity_сity']=df_output.apply(lambda x: there_is(x['City_London']), axis=1 )\n",
    "    df_output['Popularity_сity']=df_output.apply(lambda x: there_is(x['City_Paris']), axis=1 )\n",
    "    df_output['Popularity_сity']=df_output.apply(lambda x: there_is(x['City_Madrid']), axis=1 )\n",
    "    df_output['Popularity_сity']=df_output.apply(lambda x: there_is(x['City_Barcelona']), axis=1 )\n",
    "    df_output['Popularity_сity']=df_output.apply(lambda x: there_is(x['City_Berlin']), axis=1 )\n",
    "    df_output['Popularity_сity']=df_output.apply(lambda x: there_is(x['City_Milan']), axis=1 )\n",
    "    df_output['Popularity_сity']=df_output.apply(lambda x: there_is(x['City_Rome']), axis=1 )\n",
    "    df_output['Popularity_сity']=df_output.apply(lambda x: there_is(x['City_Prague']), axis=1 )\n",
    "    df_output['Popularity_сity']=df_output.apply(lambda x: there_is(x['City_Lisbon']), axis=1 )\n",
    "    df_output['Popularity_сity']=df_output.apply(lambda x: there_is(x['City_Vienna']), axis=1 )\n",
    "    \n",
    "    df_output['Popularity_сity'].fillna(0, inplace=True)\n",
    "    \n",
    "    # ################### 5. Clean #################################################### \n",
    "    # убираем признаки которые еще не успели обработать, \n",
    "    # модель на признаках с dtypes \"object\" обучаться не будет, просто выберим их и удалим\n",
    "    object_columns = [s for s in df_output.columns if df_output[s].dtypes == 'object']\n",
    "    df_output.drop(object_columns, axis = 1, inplace=True)\n",
    "    \n",
    "    return df_output\n",
    "    "
   ]
  },
  {
   "cell_type": "markdown",
   "metadata": {
    "papermill": {
     "duration": 0.1964,
     "end_time": "2020-10-03T02:50:38.312237",
     "exception": false,
     "start_time": "2020-10-03T02:50:38.115837",
     "status": "completed"
    },
    "tags": []
   },
   "source": [
    "#### Запускаем и проверяем что получилось"
   ]
  },
  {
   "cell_type": "code",
   "execution_count": 112,
   "metadata": {
    "execution": {
     "iopub.execute_input": "2020-10-03T02:50:38.716595Z",
     "iopub.status.busy": "2020-10-03T02:50:38.715395Z",
     "iopub.status.idle": "2020-10-03T02:52:24.742962Z",
     "shell.execute_reply": "2020-10-03T02:52:24.743583Z"
    },
    "papermill": {
     "duration": 106.231777,
     "end_time": "2020-10-03T02:52:24.743752",
     "exception": false,
     "start_time": "2020-10-03T02:50:38.511975",
     "status": "completed"
    },
    "tags": []
   },
   "outputs": [
    {
     "name": "stdout",
     "output_type": "stream",
     "text": [
      "Index(['Vegetarian Friendly', 'European', 'other_cuisines', 'Mediterranean',\n",
      "       'Italian', 'Vegan Options', 'Gluten Free Options', 'Bar', 'French',\n",
      "       'Asian',\n",
      "       ...\n",
      "       'Caucasian', 'Azerbaijani', 'Welsh', 'Fujian', 'Polynesian', 'Yunnan',\n",
      "       'Salvadoran', 'Burmese', 'Latvian', 'Xinjiang'],\n",
      "      dtype='object', length=126) last list bitch\n"
     ]
    },
    {
     "name": "stderr",
     "output_type": "stream",
     "text": [
      "/opt/conda/lib/python3.7/site-packages/ipykernel_launcher.py:106: SettingWithCopyWarning: \n",
      "A value is trying to be set on a copy of a slice from a DataFrame\n",
      "\n",
      "See the caveats in the documentation: https://pandas.pydata.org/pandas-docs/stable/user_guide/indexing.html#returning-a-view-versus-a-copy\n"
     ]
    },
    {
     "data": {
      "text/html": [
       "<div>\n",
       "<style scoped>\n",
       "    .dataframe tbody tr th:only-of-type {\n",
       "        vertical-align: middle;\n",
       "    }\n",
       "\n",
       "    .dataframe tbody tr th {\n",
       "        vertical-align: top;\n",
       "    }\n",
       "\n",
       "    .dataframe thead th {\n",
       "        text-align: right;\n",
       "    }\n",
       "</style>\n",
       "<table border=\"1\" class=\"dataframe\">\n",
       "  <thead>\n",
       "    <tr style=\"text-align: right;\">\n",
       "      <th></th>\n",
       "      <th>Restaurant_id</th>\n",
       "      <th>Price Range</th>\n",
       "      <th>Number of Reviews</th>\n",
       "      <th>number of dates</th>\n",
       "      <th>year</th>\n",
       "      <th>season</th>\n",
       "      <th>weekend</th>\n",
       "      <th>sample</th>\n",
       "      <th>Rating</th>\n",
       "      <th>City_Amsterdam</th>\n",
       "      <th>...</th>\n",
       "      <th>Welsh</th>\n",
       "      <th>Fujian</th>\n",
       "      <th>Polynesian</th>\n",
       "      <th>Yunnan</th>\n",
       "      <th>Salvadoran</th>\n",
       "      <th>Burmese</th>\n",
       "      <th>Latvian</th>\n",
       "      <th>Xinjiang</th>\n",
       "      <th>Popularity_сuisine</th>\n",
       "      <th>Popularity_сity</th>\n",
       "    </tr>\n",
       "  </thead>\n",
       "  <tbody>\n",
       "    <tr>\n",
       "      <th>9121</th>\n",
       "      <td>9121</td>\n",
       "      <td>1</td>\n",
       "      <td>3.0</td>\n",
       "      <td>2</td>\n",
       "      <td>2017</td>\n",
       "      <td>3</td>\n",
       "      <td>1</td>\n",
       "      <td>0</td>\n",
       "      <td>0.0</td>\n",
       "      <td>0</td>\n",
       "      <td>...</td>\n",
       "      <td>0</td>\n",
       "      <td>0</td>\n",
       "      <td>0</td>\n",
       "      <td>0</td>\n",
       "      <td>0</td>\n",
       "      <td>0</td>\n",
       "      <td>0</td>\n",
       "      <td>0</td>\n",
       "      <td>0.0</td>\n",
       "      <td>0.0</td>\n",
       "    </tr>\n",
       "    <tr>\n",
       "      <th>39977</th>\n",
       "      <td>6297</td>\n",
       "      <td>1</td>\n",
       "      <td>10.0</td>\n",
       "      <td>0</td>\n",
       "      <td>0</td>\n",
       "      <td>0</td>\n",
       "      <td>0</td>\n",
       "      <td>1</td>\n",
       "      <td>4.5</td>\n",
       "      <td>0</td>\n",
       "      <td>...</td>\n",
       "      <td>0</td>\n",
       "      <td>0</td>\n",
       "      <td>0</td>\n",
       "      <td>0</td>\n",
       "      <td>0</td>\n",
       "      <td>0</td>\n",
       "      <td>0</td>\n",
       "      <td>0</td>\n",
       "      <td>0.0</td>\n",
       "      <td>0.0</td>\n",
       "    </tr>\n",
       "    <tr>\n",
       "      <th>6058</th>\n",
       "      <td>6058</td>\n",
       "      <td>1</td>\n",
       "      <td>5.0</td>\n",
       "      <td>0</td>\n",
       "      <td>0</td>\n",
       "      <td>0</td>\n",
       "      <td>0</td>\n",
       "      <td>0</td>\n",
       "      <td>0.0</td>\n",
       "      <td>0</td>\n",
       "      <td>...</td>\n",
       "      <td>0</td>\n",
       "      <td>0</td>\n",
       "      <td>0</td>\n",
       "      <td>0</td>\n",
       "      <td>0</td>\n",
       "      <td>0</td>\n",
       "      <td>0</td>\n",
       "      <td>0</td>\n",
       "      <td>0.0</td>\n",
       "      <td>0.0</td>\n",
       "    </tr>\n",
       "    <tr>\n",
       "      <th>18888</th>\n",
       "      <td>968</td>\n",
       "      <td>1</td>\n",
       "      <td>15.0</td>\n",
       "      <td>2</td>\n",
       "      <td>2017</td>\n",
       "      <td>3</td>\n",
       "      <td>1</td>\n",
       "      <td>1</td>\n",
       "      <td>4.0</td>\n",
       "      <td>0</td>\n",
       "      <td>...</td>\n",
       "      <td>0</td>\n",
       "      <td>0</td>\n",
       "      <td>0</td>\n",
       "      <td>0</td>\n",
       "      <td>0</td>\n",
       "      <td>0</td>\n",
       "      <td>0</td>\n",
       "      <td>0</td>\n",
       "      <td>0.0</td>\n",
       "      <td>0.0</td>\n",
       "    </tr>\n",
       "    <tr>\n",
       "      <th>22141</th>\n",
       "      <td>5685</td>\n",
       "      <td>1</td>\n",
       "      <td>2.0</td>\n",
       "      <td>0</td>\n",
       "      <td>0</td>\n",
       "      <td>0</td>\n",
       "      <td>0</td>\n",
       "      <td>1</td>\n",
       "      <td>4.0</td>\n",
       "      <td>0</td>\n",
       "      <td>...</td>\n",
       "      <td>0</td>\n",
       "      <td>0</td>\n",
       "      <td>0</td>\n",
       "      <td>0</td>\n",
       "      <td>0</td>\n",
       "      <td>0</td>\n",
       "      <td>0</td>\n",
       "      <td>0</td>\n",
       "      <td>0.0</td>\n",
       "      <td>0.0</td>\n",
       "    </tr>\n",
       "    <tr>\n",
       "      <th>1138</th>\n",
       "      <td>1138</td>\n",
       "      <td>1</td>\n",
       "      <td>28.0</td>\n",
       "      <td>2</td>\n",
       "      <td>2017</td>\n",
       "      <td>3</td>\n",
       "      <td>1</td>\n",
       "      <td>0</td>\n",
       "      <td>0.0</td>\n",
       "      <td>0</td>\n",
       "      <td>...</td>\n",
       "      <td>0</td>\n",
       "      <td>0</td>\n",
       "      <td>0</td>\n",
       "      <td>0</td>\n",
       "      <td>0</td>\n",
       "      <td>0</td>\n",
       "      <td>0</td>\n",
       "      <td>0</td>\n",
       "      <td>0.0</td>\n",
       "      <td>0.0</td>\n",
       "    </tr>\n",
       "    <tr>\n",
       "      <th>43878</th>\n",
       "      <td>3984</td>\n",
       "      <td>1</td>\n",
       "      <td>12.0</td>\n",
       "      <td>2</td>\n",
       "      <td>2017</td>\n",
       "      <td>2</td>\n",
       "      <td>1</td>\n",
       "      <td>1</td>\n",
       "      <td>5.0</td>\n",
       "      <td>0</td>\n",
       "      <td>...</td>\n",
       "      <td>0</td>\n",
       "      <td>0</td>\n",
       "      <td>0</td>\n",
       "      <td>0</td>\n",
       "      <td>0</td>\n",
       "      <td>0</td>\n",
       "      <td>0</td>\n",
       "      <td>0</td>\n",
       "      <td>0.0</td>\n",
       "      <td>0.0</td>\n",
       "    </tr>\n",
       "    <tr>\n",
       "      <th>18381</th>\n",
       "      <td>7473</td>\n",
       "      <td>1</td>\n",
       "      <td>7.0</td>\n",
       "      <td>0</td>\n",
       "      <td>0</td>\n",
       "      <td>0</td>\n",
       "      <td>0</td>\n",
       "      <td>1</td>\n",
       "      <td>3.5</td>\n",
       "      <td>0</td>\n",
       "      <td>...</td>\n",
       "      <td>0</td>\n",
       "      <td>0</td>\n",
       "      <td>0</td>\n",
       "      <td>0</td>\n",
       "      <td>0</td>\n",
       "      <td>0</td>\n",
       "      <td>0</td>\n",
       "      <td>0</td>\n",
       "      <td>0.0</td>\n",
       "      <td>0.0</td>\n",
       "    </tr>\n",
       "    <tr>\n",
       "      <th>28625</th>\n",
       "      <td>3689</td>\n",
       "      <td>1</td>\n",
       "      <td>22.0</td>\n",
       "      <td>1</td>\n",
       "      <td>2017</td>\n",
       "      <td>1</td>\n",
       "      <td>1</td>\n",
       "      <td>1</td>\n",
       "      <td>4.0</td>\n",
       "      <td>0</td>\n",
       "      <td>...</td>\n",
       "      <td>0</td>\n",
       "      <td>0</td>\n",
       "      <td>0</td>\n",
       "      <td>0</td>\n",
       "      <td>0</td>\n",
       "      <td>0</td>\n",
       "      <td>0</td>\n",
       "      <td>0</td>\n",
       "      <td>0.0</td>\n",
       "      <td>0.0</td>\n",
       "    </tr>\n",
       "    <tr>\n",
       "      <th>7627</th>\n",
       "      <td>7627</td>\n",
       "      <td>2</td>\n",
       "      <td>128.0</td>\n",
       "      <td>2</td>\n",
       "      <td>2017</td>\n",
       "      <td>1</td>\n",
       "      <td>1</td>\n",
       "      <td>0</td>\n",
       "      <td>0.0</td>\n",
       "      <td>0</td>\n",
       "      <td>...</td>\n",
       "      <td>0</td>\n",
       "      <td>0</td>\n",
       "      <td>0</td>\n",
       "      <td>0</td>\n",
       "      <td>0</td>\n",
       "      <td>0</td>\n",
       "      <td>0</td>\n",
       "      <td>0</td>\n",
       "      <td>0.0</td>\n",
       "      <td>0.0</td>\n",
       "    </tr>\n",
       "  </tbody>\n",
       "</table>\n",
       "<p>10 rows × 169 columns</p>\n",
       "</div>"
      ],
      "text/plain": [
       "       Restaurant_id  Price Range  Number of Reviews  number of dates  year  \\\n",
       "9121            9121            1                3.0                2  2017   \n",
       "39977           6297            1               10.0                0     0   \n",
       "6058            6058            1                5.0                0     0   \n",
       "18888            968            1               15.0                2  2017   \n",
       "22141           5685            1                2.0                0     0   \n",
       "1138            1138            1               28.0                2  2017   \n",
       "43878           3984            1               12.0                2  2017   \n",
       "18381           7473            1                7.0                0     0   \n",
       "28625           3689            1               22.0                1  2017   \n",
       "7627            7627            2              128.0                2  2017   \n",
       "\n",
       "       season  weekend  sample  Rating  City_Amsterdam  ...  Welsh  Fujian  \\\n",
       "9121        3        1       0     0.0               0  ...      0       0   \n",
       "39977       0        0       1     4.5               0  ...      0       0   \n",
       "6058        0        0       0     0.0               0  ...      0       0   \n",
       "18888       3        1       1     4.0               0  ...      0       0   \n",
       "22141       0        0       1     4.0               0  ...      0       0   \n",
       "1138        3        1       0     0.0               0  ...      0       0   \n",
       "43878       2        1       1     5.0               0  ...      0       0   \n",
       "18381       0        0       1     3.5               0  ...      0       0   \n",
       "28625       1        1       1     4.0               0  ...      0       0   \n",
       "7627        1        1       0     0.0               0  ...      0       0   \n",
       "\n",
       "       Polynesian  Yunnan  Salvadoran  Burmese  Latvian  Xinjiang  \\\n",
       "9121            0       0           0        0        0         0   \n",
       "39977           0       0           0        0        0         0   \n",
       "6058            0       0           0        0        0         0   \n",
       "18888           0       0           0        0        0         0   \n",
       "22141           0       0           0        0        0         0   \n",
       "1138            0       0           0        0        0         0   \n",
       "43878           0       0           0        0        0         0   \n",
       "18381           0       0           0        0        0         0   \n",
       "28625           0       0           0        0        0         0   \n",
       "7627            0       0           0        0        0         0   \n",
       "\n",
       "       Popularity_сuisine  Popularity_сity  \n",
       "9121                  0.0              0.0  \n",
       "39977                 0.0              0.0  \n",
       "6058                  0.0              0.0  \n",
       "18888                 0.0              0.0  \n",
       "22141                 0.0              0.0  \n",
       "1138                  0.0              0.0  \n",
       "43878                 0.0              0.0  \n",
       "18381                 0.0              0.0  \n",
       "28625                 0.0              0.0  \n",
       "7627                  0.0              0.0  \n",
       "\n",
       "[10 rows x 169 columns]"
      ]
     },
     "execution_count": 112,
     "metadata": {},
     "output_type": "execute_result"
    }
   ],
   "source": [
    "df_preproc = preproc_data(data)\n",
    "df_preproc.sample(10)"
   ]
  },
  {
   "cell_type": "code",
   "execution_count": 113,
   "metadata": {
    "execution": {
     "iopub.execute_input": "2020-10-03T02:52:25.180428Z",
     "iopub.status.busy": "2020-10-03T02:52:25.179613Z",
     "iopub.status.idle": "2020-10-03T02:52:25.235399Z",
     "shell.execute_reply": "2020-10-03T02:52:25.233947Z"
    },
    "papermill": {
     "duration": 0.265531,
     "end_time": "2020-10-03T02:52:25.235573",
     "exception": false,
     "start_time": "2020-10-03T02:52:24.970042",
     "status": "completed"
    },
    "tags": []
   },
   "outputs": [
    {
     "name": "stdout",
     "output_type": "stream",
     "text": [
      "<class 'pandas.core.frame.DataFrame'>\n",
      "RangeIndex: 50000 entries, 0 to 49999\n",
      "Data columns (total 169 columns):\n",
      " #   Column               Non-Null Count  Dtype  \n",
      "---  ------               --------------  -----  \n",
      " 0   Restaurant_id        50000 non-null  int64  \n",
      " 1   Price Range          50000 non-null  int64  \n",
      " 2   Number of Reviews    50000 non-null  float64\n",
      " 3   number of dates      50000 non-null  int64  \n",
      " 4   year                 50000 non-null  int64  \n",
      " 5   season               50000 non-null  int64  \n",
      " 6   weekend              50000 non-null  int64  \n",
      " 7   sample               50000 non-null  int64  \n",
      " 8   Rating               50000 non-null  float64\n",
      " 9   City_Amsterdam       50000 non-null  uint8  \n",
      " 10  City_Athens          50000 non-null  uint8  \n",
      " 11  City_Barcelona       50000 non-null  uint8  \n",
      " 12  City_Berlin          50000 non-null  uint8  \n",
      " 13  City_Bratislava      50000 non-null  uint8  \n",
      " 14  City_Brussels        50000 non-null  uint8  \n",
      " 15  City_Budapest        50000 non-null  uint8  \n",
      " 16  City_Copenhagen      50000 non-null  uint8  \n",
      " 17  City_Dublin          50000 non-null  uint8  \n",
      " 18  City_Edinburgh       50000 non-null  uint8  \n",
      " 19  City_Geneva          50000 non-null  uint8  \n",
      " 20  City_Hamburg         50000 non-null  uint8  \n",
      " 21  City_Helsinki        50000 non-null  uint8  \n",
      " 22  City_Krakow          50000 non-null  uint8  \n",
      " 23  City_Lisbon          50000 non-null  uint8  \n",
      " 24  City_Ljubljana       50000 non-null  uint8  \n",
      " 25  City_London          50000 non-null  uint8  \n",
      " 26  City_Luxembourg      50000 non-null  uint8  \n",
      " 27  City_Lyon            50000 non-null  uint8  \n",
      " 28  City_Madrid          50000 non-null  uint8  \n",
      " 29  City_Milan           50000 non-null  uint8  \n",
      " 30  City_Munich          50000 non-null  uint8  \n",
      " 31  City_Oporto          50000 non-null  uint8  \n",
      " 32  City_Oslo            50000 non-null  uint8  \n",
      " 33  City_Paris           50000 non-null  uint8  \n",
      " 34  City_Prague          50000 non-null  uint8  \n",
      " 35  City_Rome            50000 non-null  uint8  \n",
      " 36  City_Stockholm       50000 non-null  uint8  \n",
      " 37  City_Vienna          50000 non-null  uint8  \n",
      " 38  City_Warsaw          50000 non-null  uint8  \n",
      " 39  City_Zurich          50000 non-null  uint8  \n",
      " 40  City_nan             50000 non-null  uint8  \n",
      " 41  Vegetarian Friendly  50000 non-null  int64  \n",
      " 42  European             50000 non-null  int64  \n",
      " 43  other_cuisines       50000 non-null  int64  \n",
      " 44  Mediterranean        50000 non-null  int64  \n",
      " 45  Italian              50000 non-null  int64  \n",
      " 46  Vegan Options        50000 non-null  int64  \n",
      " 47  Gluten Free Options  50000 non-null  int64  \n",
      " 48  Bar                  50000 non-null  int64  \n",
      " 49  French               50000 non-null  int64  \n",
      " 50  Asian                50000 non-null  int64  \n",
      " 51  Pizza                50000 non-null  int64  \n",
      " 52  Spanish              50000 non-null  int64  \n",
      " 53  Pub                  50000 non-null  int64  \n",
      " 54  Cafe                 50000 non-null  int64  \n",
      " 55  Fast Food            50000 non-null  int64  \n",
      " 56  British              50000 non-null  int64  \n",
      " 57  International        50000 non-null  int64  \n",
      " 58  Seafood              50000 non-null  int64  \n",
      " 59  Japanese             50000 non-null  int64  \n",
      " 60  Central European     50000 non-null  int64  \n",
      " 61  American             50000 non-null  int64  \n",
      " 62  Sushi                50000 non-null  int64  \n",
      " 63  Chinese              50000 non-null  int64  \n",
      " 64  Portuguese           50000 non-null  int64  \n",
      " 65  Indian               50000 non-null  int64  \n",
      " 66  Middle Eastern       50000 non-null  int64  \n",
      " 67  Thai                 50000 non-null  int64  \n",
      " 68  Wine Bar             50000 non-null  int64  \n",
      " 69  German               50000 non-null  int64  \n",
      " 70  Halal                50000 non-null  int64  \n",
      " 71  Greek                50000 non-null  int64  \n",
      " 72  Healthy              50000 non-null  int64  \n",
      " 73  Fusion               50000 non-null  int64  \n",
      " 74  Czech                50000 non-null  int64  \n",
      " 75  Steakhouse           50000 non-null  int64  \n",
      " 76  Barbecue             50000 non-null  int64  \n",
      " 77  Contemporary         50000 non-null  int64  \n",
      " 78  Soups                50000 non-null  int64  \n",
      " 79  Eastern European     50000 non-null  int64  \n",
      " 80  Vietnamese           50000 non-null  int64  \n",
      " 81  Grill                50000 non-null  int64  \n",
      " 82  Gastropub            50000 non-null  int64  \n",
      " 83  Turkish              50000 non-null  int64  \n",
      " 84  Mexican              50000 non-null  int64  \n",
      " 85  South American       50000 non-null  int64  \n",
      " 86  Delicatessen         50000 non-null  int64  \n",
      " 87  Austrian             50000 non-null  int64  \n",
      " 88  Polish               50000 non-null  int64  \n",
      " 89  Scandinavian         50000 non-null  int64  \n",
      " 90  Hungarian            50000 non-null  int64  \n",
      " 91  Lebanese             50000 non-null  int64  \n",
      " 92  Diner                50000 non-null  int64  \n",
      " 93  Latin                50000 non-null  int64  \n",
      " 94  Dutch                50000 non-null  int64  \n",
      " 95  Irish                50000 non-null  int64  \n",
      " 96  Street Food          50000 non-null  int64  \n",
      " 97  Belgian              50000 non-null  int64  \n",
      " 98  Brew Pub             50000 non-null  int64  \n",
      " 99  Danish               50000 non-null  int64  \n",
      " 100 Swedish              50000 non-null  int64  \n",
      " 101 Swiss                50000 non-null  int64  \n",
      " 102 Argentinean          50000 non-null  int64  \n",
      " 103 Korean               50000 non-null  int64  \n",
      " 104 Scottish             50000 non-null  int64  \n",
      " 105 African              50000 non-null  int64  \n",
      " 106 Moroccan             50000 non-null  int64  \n",
      " 107 Central American     50000 non-null  int64  \n",
      " 108 Brazilian            50000 non-null  int64  \n",
      " 109 Pakistani            50000 non-null  int64  \n",
      " 110 Peruvian             50000 non-null  int64  \n",
      " 111 Caribbean            50000 non-null  int64  \n",
      " 112 Nepali               50000 non-null  int64  \n",
      " 113 Balti                50000 non-null  int64  \n",
      " 114 Bangladeshi          50000 non-null  int64  \n",
      " 115 Norwegian            50000 non-null  int64  \n",
      " 116 Israeli              50000 non-null  int64  \n",
      " 117 Slovenian            50000 non-null  int64  \n",
      " 118 Persian              50000 non-null  int64  \n",
      " 119 Indonesian           50000 non-null  int64  \n",
      " 120 Russian              50000 non-null  int64  \n",
      " 121 Arabic               50000 non-null  int64  \n",
      " 122 Kosher               50000 non-null  int64  \n",
      " 123 Ethiopian            50000 non-null  int64  \n",
      " 124 Venezuelan           50000 non-null  int64  \n",
      " 125 Malaysian            50000 non-null  int64  \n",
      " 126 Jamaican             50000 non-null  int64  \n",
      " 127 Australian           50000 non-null  int64  \n",
      " 128 Croatian             50000 non-null  int64  \n",
      " 129 Cuban                50000 non-null  int64  \n",
      " 130 Colombian            50000 non-null  int64  \n",
      " 131 Sri Lankan           50000 non-null  int64  \n",
      " 132 Taiwanese            50000 non-null  int64  \n",
      " 133 Tibetan              50000 non-null  int64  \n",
      " 134 Afghani              50000 non-null  int64  \n",
      " 135 Cajun & Creole       50000 non-null  int64  \n",
      " 136 Egyptian             50000 non-null  int64  \n",
      " 137 Southwestern         50000 non-null  int64  \n",
      " 138 Hawaiian             50000 non-null  int64  \n",
      " 139 Tunisian             50000 non-null  int64  \n",
      " 140 Cambodian            50000 non-null  int64  \n",
      " 141 Singaporean          50000 non-null  int64  \n",
      " 142 Ukrainian            50000 non-null  int64  \n",
      " 143 Mongolian            50000 non-null  int64  \n",
      " 144 Georgian             50000 non-null  int64  \n",
      " 145 Filipino             50000 non-null  int64  \n",
      " 146 Armenian             50000 non-null  int64  \n",
      " 147 Chilean              50000 non-null  int64  \n",
      " 148 Romanian             50000 non-null  int64  \n",
      " 149 Central Asian        50000 non-null  int64  \n",
      " 150 Minority Chinese     50000 non-null  int64  \n",
      " 151 Albanian             50000 non-null  int64  \n",
      " 152 Ecuadorean           50000 non-null  int64  \n",
      " 153 Canadian             50000 non-null  int64  \n",
      " 154 New Zealand          50000 non-null  int64  \n",
      " 155 Native American      50000 non-null  int64  \n",
      " 156 Uzbek                50000 non-null  int64  \n",
      " 157 Caucasian            50000 non-null  int64  \n",
      " 158 Azerbaijani          50000 non-null  int64  \n",
      " 159 Welsh                50000 non-null  int64  \n",
      " 160 Fujian               50000 non-null  int64  \n",
      " 161 Polynesian           50000 non-null  int64  \n",
      " 162 Yunnan               50000 non-null  int64  \n",
      " 163 Salvadoran           50000 non-null  int64  \n",
      " 164 Burmese              50000 non-null  int64  \n",
      " 165 Latvian              50000 non-null  int64  \n",
      " 166 Xinjiang             50000 non-null  int64  \n",
      " 167 Popularity_сuisine   50000 non-null  float64\n",
      " 168 Popularity_сity      50000 non-null  float64\n",
      "dtypes: float64(4), int64(133), uint8(32)\n",
      "memory usage: 53.8 MB\n"
     ]
    }
   ],
   "source": [
    "df_preproc.info(verbose=True,null_counts=True)"
   ]
  },
  {
   "cell_type": "code",
   "execution_count": 114,
   "metadata": {
    "execution": {
     "iopub.execute_input": "2020-10-03T02:52:25.644070Z",
     "iopub.status.busy": "2020-10-03T02:52:25.642973Z",
     "iopub.status.idle": "2020-10-03T02:52:25.761290Z",
     "shell.execute_reply": "2020-10-03T02:52:25.760652Z"
    },
    "papermill": {
     "duration": 0.32327,
     "end_time": "2020-10-03T02:52:25.761430",
     "exception": false,
     "start_time": "2020-10-03T02:52:25.438160",
     "status": "completed"
    },
    "tags": []
   },
   "outputs": [],
   "source": [
    "# Теперь выделим тестовую часть\n",
    "train_data = df_preproc.query('sample == 1').drop(['sample'], axis=1)\n",
    "test_data = df_preproc.query('sample == 0').drop(['sample'], axis=1)\n",
    "\n",
    "y = train_data.Rating.values            # наш таргет\n",
    "X = train_data.drop(['Rating'], axis=1)"
   ]
  },
  {
   "cell_type": "markdown",
   "metadata": {
    "papermill": {
     "duration": 0.199177,
     "end_time": "2020-10-03T02:52:26.159345",
     "exception": false,
     "start_time": "2020-10-03T02:52:25.960168",
     "status": "completed"
    },
    "tags": []
   },
   "source": [
    "**Перед тем как отправлять наши данные на обучение, разделим данные на еще один тест и трейн, для валидации. \n",
    "Это поможет нам проверить, как хорошо наша модель работает, до отправки submissiona на kaggle.**"
   ]
  },
  {
   "cell_type": "code",
   "execution_count": 115,
   "metadata": {
    "execution": {
     "iopub.execute_input": "2020-10-03T02:52:26.564502Z",
     "iopub.status.busy": "2020-10-03T02:52:26.563297Z",
     "iopub.status.idle": "2020-10-03T02:52:26.635255Z",
     "shell.execute_reply": "2020-10-03T02:52:26.634616Z"
    },
    "papermill": {
     "duration": 0.277323,
     "end_time": "2020-10-03T02:52:26.635380",
     "exception": false,
     "start_time": "2020-10-03T02:52:26.358057",
     "status": "completed"
    },
    "tags": []
   },
   "outputs": [],
   "source": [
    "# Воспользуемся специальной функцие train_test_split для разбивки тестовых данных\n",
    "# выделим 20% данных на валидацию (параметр test_size)\n",
    "X_train, X_test, y_train, y_test = train_test_split(X, y, test_size=0.2, random_state=RANDOM_SEED)"
   ]
  },
  {
   "cell_type": "code",
   "execution_count": 116,
   "metadata": {
    "execution": {
     "iopub.execute_input": "2020-10-03T02:52:27.041831Z",
     "iopub.status.busy": "2020-10-03T02:52:27.040825Z",
     "iopub.status.idle": "2020-10-03T02:52:27.046022Z",
     "shell.execute_reply": "2020-10-03T02:52:27.045253Z"
    },
    "papermill": {
     "duration": 0.211187,
     "end_time": "2020-10-03T02:52:27.046149",
     "exception": false,
     "start_time": "2020-10-03T02:52:26.834962",
     "status": "completed"
    },
    "tags": []
   },
   "outputs": [
    {
     "data": {
      "text/plain": [
       "((10000, 168), (40000, 168), (40000, 167), (32000, 167), (8000, 167))"
      ]
     },
     "execution_count": 116,
     "metadata": {},
     "output_type": "execute_result"
    }
   ],
   "source": [
    "# проверяем\n",
    "test_data.shape, train_data.shape, X.shape, X_train.shape, X_test.shape"
   ]
  },
  {
   "cell_type": "markdown",
   "metadata": {
    "papermill": {
     "duration": 0.200061,
     "end_time": "2020-10-03T02:52:27.448960",
     "exception": false,
     "start_time": "2020-10-03T02:52:27.248899",
     "status": "completed"
    },
    "tags": []
   },
   "source": [
    "# Model \n",
    "Сам ML"
   ]
  },
  {
   "cell_type": "code",
   "execution_count": 117,
   "metadata": {
    "execution": {
     "iopub.execute_input": "2020-10-03T02:52:27.854836Z",
     "iopub.status.busy": "2020-10-03T02:52:27.853905Z",
     "iopub.status.idle": "2020-10-03T02:52:28.086673Z",
     "shell.execute_reply": "2020-10-03T02:52:28.085836Z"
    },
    "papermill": {
     "duration": 0.438021,
     "end_time": "2020-10-03T02:52:28.086806",
     "exception": false,
     "start_time": "2020-10-03T02:52:27.648785",
     "status": "completed"
    },
    "tags": []
   },
   "outputs": [],
   "source": [
    "# Импортируем необходимые библиотеки:\n",
    "from sklearn.ensemble import RandomForestRegressor # инструмент для создания и обучения модели\n",
    "from sklearn import metrics # инструменты для оценки точности модели"
   ]
  },
  {
   "cell_type": "code",
   "execution_count": 118,
   "metadata": {
    "execution": {
     "iopub.execute_input": "2020-10-03T02:52:28.493310Z",
     "iopub.status.busy": "2020-10-03T02:52:28.492524Z",
     "iopub.status.idle": "2020-10-03T02:52:28.495168Z",
     "shell.execute_reply": "2020-10-03T02:52:28.495724Z"
    },
    "papermill": {
     "duration": 0.208256,
     "end_time": "2020-10-03T02:52:28.495887",
     "exception": false,
     "start_time": "2020-10-03T02:52:28.287631",
     "status": "completed"
    },
    "tags": []
   },
   "outputs": [],
   "source": [
    "# Создаём модель (НАСТРОЙКИ НЕ ТРОГАЕМ)\n",
    "model = RandomForestRegressor(n_estimators=100, verbose=1, n_jobs=-1, random_state=RANDOM_SEED)"
   ]
  },
  {
   "cell_type": "code",
   "execution_count": 119,
   "metadata": {
    "execution": {
     "iopub.execute_input": "2020-10-03T02:52:28.972509Z",
     "iopub.status.busy": "2020-10-03T02:52:28.971337Z",
     "iopub.status.idle": "2020-10-03T02:52:45.213697Z",
     "shell.execute_reply": "2020-10-03T02:52:45.214528Z"
    },
    "papermill": {
     "duration": 16.463972,
     "end_time": "2020-10-03T02:52:45.214738",
     "exception": false,
     "start_time": "2020-10-03T02:52:28.750766",
     "status": "completed"
    },
    "tags": []
   },
   "outputs": [
    {
     "name": "stderr",
     "output_type": "stream",
     "text": [
      "[Parallel(n_jobs=-1)]: Using backend ThreadingBackend with 4 concurrent workers.\n",
      "[Parallel(n_jobs=-1)]: Done  42 tasks      | elapsed:    7.2s\n",
      "[Parallel(n_jobs=-1)]: Done 100 out of 100 | elapsed:   15.9s finished\n",
      "[Parallel(n_jobs=4)]: Using backend ThreadingBackend with 4 concurrent workers.\n",
      "[Parallel(n_jobs=4)]: Done  42 tasks      | elapsed:    0.0s\n",
      "[Parallel(n_jobs=4)]: Done 100 out of 100 | elapsed:    0.1s finished\n"
     ]
    }
   ],
   "source": [
    "# Обучаем модель на тестовом наборе данных\n",
    "model.fit(X_train, y_train)\n",
    "\n",
    "# Используем обученную модель для предсказания рейтинга ресторанов в тестовой выборке.\n",
    "# Предсказанные значения записываем в переменную y_pred\n",
    "y_pred = model.predict(X_test)"
   ]
  },
  {
   "cell_type": "code",
   "execution_count": 120,
   "metadata": {
    "execution": {
     "iopub.execute_input": "2020-10-03T02:52:45.628805Z",
     "iopub.status.busy": "2020-10-03T02:52:45.627644Z",
     "iopub.status.idle": "2020-10-03T02:52:45.633843Z",
     "shell.execute_reply": "2020-10-03T02:52:45.633080Z"
    },
    "papermill": {
     "duration": 0.212314,
     "end_time": "2020-10-03T02:52:45.633969",
     "exception": false,
     "start_time": "2020-10-03T02:52:45.421655",
     "status": "completed"
    },
    "tags": []
   },
   "outputs": [
    {
     "name": "stdout",
     "output_type": "stream",
     "text": [
      "MAE: 0.20748375\n"
     ]
    }
   ],
   "source": [
    "# Сравниваем предсказанные значения (y_pred) с реальными (y_test), и смотрим насколько они в среднем отличаются\n",
    "# Метрика называется Mean Absolute Error (MAE) и показывает среднее отклонение предсказанных значений от фактических.\n",
    "print('MAE:', metrics.mean_absolute_error(y_test, y_pred))"
   ]
  },
  {
   "cell_type": "code",
   "execution_count": 121,
   "metadata": {
    "execution": {
     "iopub.execute_input": "2020-10-03T02:52:46.051271Z",
     "iopub.status.busy": "2020-10-03T02:52:46.050253Z",
     "iopub.status.idle": "2020-10-03T02:52:46.379255Z",
     "shell.execute_reply": "2020-10-03T02:52:46.378516Z"
    },
    "papermill": {
     "duration": 0.541286,
     "end_time": "2020-10-03T02:52:46.379376",
     "exception": false,
     "start_time": "2020-10-03T02:52:45.838090",
     "status": "completed"
    },
    "tags": []
   },
   "outputs": [
    {
     "data": {
      "text/plain": [
       "<matplotlib.axes._subplots.AxesSubplot at 0x7f7063246f10>"
      ]
     },
     "execution_count": 121,
     "metadata": {},
     "output_type": "execute_result"
    },
    {
     "data": {
      "image/png": "[encoded data removed]",
      "text/plain": [
       "<Figure size 720x720 with 1 Axes>"
      ]
     },
     "metadata": {
      "needs_background": "light"
     },
     "output_type": "display_data"
    }
   ],
   "source": [
    "# в RandomForestRegressor есть возможность вывести самые важные признаки для модели\n",
    "plt.rcParams['figure.figsize'] = (10,10)\n",
    "feat_importances = pd.Series(model.feature_importances_, index=X.columns)\n",
    "feat_importances.nlargest(15).plot(kind='barh')"
   ]
  },
  {
   "cell_type": "markdown",
   "metadata": {
    "papermill": {
     "duration": 0.203905,
     "end_time": "2020-10-03T02:52:46.786505",
     "exception": false,
     "start_time": "2020-10-03T02:52:46.582600",
     "status": "completed"
    },
    "tags": []
   },
   "source": [
    "# Submission\n",
    "Если все устраевает - готовим Submission на кагл"
   ]
  },
  {
   "cell_type": "code",
   "execution_count": 122,
   "metadata": {
    "execution": {
     "iopub.execute_input": "2020-10-03T02:52:47.257554Z",
     "iopub.status.busy": "2020-10-03T02:52:47.246969Z",
     "iopub.status.idle": "2020-10-03T02:52:47.263298Z",
     "shell.execute_reply": "2020-10-03T02:52:47.262727Z"
    },
    "papermill": {
     "duration": 0.255911,
     "end_time": "2020-10-03T02:52:47.263440",
     "exception": false,
     "start_time": "2020-10-03T02:52:47.007529",
     "status": "completed"
    },
    "tags": []
   },
   "outputs": [
    {
     "data": {
      "text/html": [
       "<div>\n",
       "<style scoped>\n",
       "    .dataframe tbody tr th:only-of-type {\n",
       "        vertical-align: middle;\n",
       "    }\n",
       "\n",
       "    .dataframe tbody tr th {\n",
       "        vertical-align: top;\n",
       "    }\n",
       "\n",
       "    .dataframe thead th {\n",
       "        text-align: right;\n",
       "    }\n",
       "</style>\n",
       "<table border=\"1\" class=\"dataframe\">\n",
       "  <thead>\n",
       "    <tr style=\"text-align: right;\">\n",
       "      <th></th>\n",
       "      <th>Restaurant_id</th>\n",
       "      <th>Price Range</th>\n",
       "      <th>Number of Reviews</th>\n",
       "      <th>number of dates</th>\n",
       "      <th>year</th>\n",
       "      <th>season</th>\n",
       "      <th>weekend</th>\n",
       "      <th>Rating</th>\n",
       "      <th>City_Amsterdam</th>\n",
       "      <th>City_Athens</th>\n",
       "      <th>...</th>\n",
       "      <th>Welsh</th>\n",
       "      <th>Fujian</th>\n",
       "      <th>Polynesian</th>\n",
       "      <th>Yunnan</th>\n",
       "      <th>Salvadoran</th>\n",
       "      <th>Burmese</th>\n",
       "      <th>Latvian</th>\n",
       "      <th>Xinjiang</th>\n",
       "      <th>Popularity_сuisine</th>\n",
       "      <th>Popularity_сity</th>\n",
       "    </tr>\n",
       "  </thead>\n",
       "  <tbody>\n",
       "    <tr>\n",
       "      <th>8758</th>\n",
       "      <td>8758</td>\n",
       "      <td>1</td>\n",
       "      <td>6.0</td>\n",
       "      <td>2</td>\n",
       "      <td>2017</td>\n",
       "      <td>1</td>\n",
       "      <td>1</td>\n",
       "      <td>0.0</td>\n",
       "      <td>0</td>\n",
       "      <td>1</td>\n",
       "      <td>...</td>\n",
       "      <td>0</td>\n",
       "      <td>0</td>\n",
       "      <td>0</td>\n",
       "      <td>0</td>\n",
       "      <td>0</td>\n",
       "      <td>0</td>\n",
       "      <td>0</td>\n",
       "      <td>0</td>\n",
       "      <td>0.0</td>\n",
       "      <td>0.0</td>\n",
       "    </tr>\n",
       "    <tr>\n",
       "      <th>6610</th>\n",
       "      <td>6610</td>\n",
       "      <td>2</td>\n",
       "      <td>15.0</td>\n",
       "      <td>2</td>\n",
       "      <td>2017</td>\n",
       "      <td>4</td>\n",
       "      <td>2</td>\n",
       "      <td>0.0</td>\n",
       "      <td>0</td>\n",
       "      <td>0</td>\n",
       "      <td>...</td>\n",
       "      <td>0</td>\n",
       "      <td>0</td>\n",
       "      <td>0</td>\n",
       "      <td>0</td>\n",
       "      <td>0</td>\n",
       "      <td>0</td>\n",
       "      <td>0</td>\n",
       "      <td>0</td>\n",
       "      <td>0.0</td>\n",
       "      <td>0.0</td>\n",
       "    </tr>\n",
       "    <tr>\n",
       "      <th>6129</th>\n",
       "      <td>6129</td>\n",
       "      <td>2</td>\n",
       "      <td>35.0</td>\n",
       "      <td>1</td>\n",
       "      <td>2017</td>\n",
       "      <td>1</td>\n",
       "      <td>2</td>\n",
       "      <td>0.0</td>\n",
       "      <td>0</td>\n",
       "      <td>0</td>\n",
       "      <td>...</td>\n",
       "      <td>0</td>\n",
       "      <td>0</td>\n",
       "      <td>0</td>\n",
       "      <td>0</td>\n",
       "      <td>0</td>\n",
       "      <td>0</td>\n",
       "      <td>0</td>\n",
       "      <td>0</td>\n",
       "      <td>0.0</td>\n",
       "      <td>0.0</td>\n",
       "    </tr>\n",
       "    <tr>\n",
       "      <th>8995</th>\n",
       "      <td>8995</td>\n",
       "      <td>1</td>\n",
       "      <td>16.0</td>\n",
       "      <td>0</td>\n",
       "      <td>0</td>\n",
       "      <td>0</td>\n",
       "      <td>0</td>\n",
       "      <td>0.0</td>\n",
       "      <td>0</td>\n",
       "      <td>0</td>\n",
       "      <td>...</td>\n",
       "      <td>0</td>\n",
       "      <td>0</td>\n",
       "      <td>0</td>\n",
       "      <td>0</td>\n",
       "      <td>0</td>\n",
       "      <td>0</td>\n",
       "      <td>0</td>\n",
       "      <td>0</td>\n",
       "      <td>0.0</td>\n",
       "      <td>0.0</td>\n",
       "    </tr>\n",
       "    <tr>\n",
       "      <th>702</th>\n",
       "      <td>702</td>\n",
       "      <td>1</td>\n",
       "      <td>42.0</td>\n",
       "      <td>2</td>\n",
       "      <td>2018</td>\n",
       "      <td>1</td>\n",
       "      <td>1</td>\n",
       "      <td>0.0</td>\n",
       "      <td>0</td>\n",
       "      <td>0</td>\n",
       "      <td>...</td>\n",
       "      <td>0</td>\n",
       "      <td>0</td>\n",
       "      <td>0</td>\n",
       "      <td>0</td>\n",
       "      <td>0</td>\n",
       "      <td>0</td>\n",
       "      <td>0</td>\n",
       "      <td>0</td>\n",
       "      <td>0.0</td>\n",
       "      <td>0.0</td>\n",
       "    </tr>\n",
       "    <tr>\n",
       "      <th>2958</th>\n",
       "      <td>2958</td>\n",
       "      <td>2</td>\n",
       "      <td>59.0</td>\n",
       "      <td>2</td>\n",
       "      <td>2017</td>\n",
       "      <td>1</td>\n",
       "      <td>2</td>\n",
       "      <td>0.0</td>\n",
       "      <td>0</td>\n",
       "      <td>0</td>\n",
       "      <td>...</td>\n",
       "      <td>0</td>\n",
       "      <td>0</td>\n",
       "      <td>0</td>\n",
       "      <td>0</td>\n",
       "      <td>0</td>\n",
       "      <td>0</td>\n",
       "      <td>0</td>\n",
       "      <td>0</td>\n",
       "      <td>0.0</td>\n",
       "      <td>0.0</td>\n",
       "    </tr>\n",
       "    <tr>\n",
       "      <th>2399</th>\n",
       "      <td>2399</td>\n",
       "      <td>2</td>\n",
       "      <td>752.0</td>\n",
       "      <td>2</td>\n",
       "      <td>2018</td>\n",
       "      <td>1</td>\n",
       "      <td>1</td>\n",
       "      <td>0.0</td>\n",
       "      <td>0</td>\n",
       "      <td>0</td>\n",
       "      <td>...</td>\n",
       "      <td>0</td>\n",
       "      <td>0</td>\n",
       "      <td>0</td>\n",
       "      <td>0</td>\n",
       "      <td>0</td>\n",
       "      <td>0</td>\n",
       "      <td>0</td>\n",
       "      <td>0</td>\n",
       "      <td>0.0</td>\n",
       "      <td>0.0</td>\n",
       "    </tr>\n",
       "    <tr>\n",
       "      <th>4171</th>\n",
       "      <td>4171</td>\n",
       "      <td>2</td>\n",
       "      <td>5.0</td>\n",
       "      <td>1</td>\n",
       "      <td>2017</td>\n",
       "      <td>1</td>\n",
       "      <td>1</td>\n",
       "      <td>0.0</td>\n",
       "      <td>0</td>\n",
       "      <td>0</td>\n",
       "      <td>...</td>\n",
       "      <td>0</td>\n",
       "      <td>0</td>\n",
       "      <td>0</td>\n",
       "      <td>0</td>\n",
       "      <td>0</td>\n",
       "      <td>0</td>\n",
       "      <td>0</td>\n",
       "      <td>0</td>\n",
       "      <td>0.0</td>\n",
       "      <td>0.0</td>\n",
       "    </tr>\n",
       "    <tr>\n",
       "      <th>9462</th>\n",
       "      <td>9462</td>\n",
       "      <td>2</td>\n",
       "      <td>67.0</td>\n",
       "      <td>2</td>\n",
       "      <td>2016</td>\n",
       "      <td>1</td>\n",
       "      <td>1</td>\n",
       "      <td>0.0</td>\n",
       "      <td>0</td>\n",
       "      <td>0</td>\n",
       "      <td>...</td>\n",
       "      <td>0</td>\n",
       "      <td>0</td>\n",
       "      <td>0</td>\n",
       "      <td>0</td>\n",
       "      <td>0</td>\n",
       "      <td>0</td>\n",
       "      <td>0</td>\n",
       "      <td>0</td>\n",
       "      <td>1.0</td>\n",
       "      <td>0.0</td>\n",
       "    </tr>\n",
       "    <tr>\n",
       "      <th>153</th>\n",
       "      <td>153</td>\n",
       "      <td>1</td>\n",
       "      <td>2.0</td>\n",
       "      <td>2</td>\n",
       "      <td>2017</td>\n",
       "      <td>2</td>\n",
       "      <td>1</td>\n",
       "      <td>0.0</td>\n",
       "      <td>0</td>\n",
       "      <td>0</td>\n",
       "      <td>...</td>\n",
       "      <td>0</td>\n",
       "      <td>0</td>\n",
       "      <td>0</td>\n",
       "      <td>0</td>\n",
       "      <td>0</td>\n",
       "      <td>0</td>\n",
       "      <td>0</td>\n",
       "      <td>0</td>\n",
       "      <td>0.0</td>\n",
       "      <td>0.0</td>\n",
       "    </tr>\n",
       "  </tbody>\n",
       "</table>\n",
       "<p>10 rows × 168 columns</p>\n",
       "</div>"
      ],
      "text/plain": [
       "      Restaurant_id  Price Range  Number of Reviews  number of dates  year  \\\n",
       "8758           8758            1                6.0                2  2017   \n",
       "6610           6610            2               15.0                2  2017   \n",
       "6129           6129            2               35.0                1  2017   \n",
       "8995           8995            1               16.0                0     0   \n",
       "702             702            1               42.0                2  2018   \n",
       "2958           2958            2               59.0                2  2017   \n",
       "2399           2399            2              752.0                2  2018   \n",
       "4171           4171            2                5.0                1  2017   \n",
       "9462           9462            2               67.0                2  2016   \n",
       "153             153            1                2.0                2  2017   \n",
       "\n",
       "      season  weekend  Rating  City_Amsterdam  City_Athens  ...  Welsh  \\\n",
       "8758       1        1     0.0               0            1  ...      0   \n",
       "6610       4        2     0.0               0            0  ...      0   \n",
       "6129       1        2     0.0               0            0  ...      0   \n",
       "8995       0        0     0.0               0            0  ...      0   \n",
       "702        1        1     0.0               0            0  ...      0   \n",
       "2958       1        2     0.0               0            0  ...      0   \n",
       "2399       1        1     0.0               0            0  ...      0   \n",
       "4171       1        1     0.0               0            0  ...      0   \n",
       "9462       1        1     0.0               0            0  ...      0   \n",
       "153        2        1     0.0               0            0  ...      0   \n",
       "\n",
       "      Fujian  Polynesian  Yunnan  Salvadoran  Burmese  Latvian  Xinjiang  \\\n",
       "8758       0           0       0           0        0        0         0   \n",
       "6610       0           0       0           0        0        0         0   \n",
       "6129       0           0       0           0        0        0         0   \n",
       "8995       0           0       0           0        0        0         0   \n",
       "702        0           0       0           0        0        0         0   \n",
       "2958       0           0       0           0        0        0         0   \n",
       "2399       0           0       0           0        0        0         0   \n",
       "4171       0           0       0           0        0        0         0   \n",
       "9462       0           0       0           0        0        0         0   \n",
       "153        0           0       0           0        0        0         0   \n",
       "\n",
       "      Popularity_сuisine  Popularity_сity  \n",
       "8758                 0.0              0.0  \n",
       "6610                 0.0              0.0  \n",
       "6129                 0.0              0.0  \n",
       "8995                 0.0              0.0  \n",
       "702                  0.0              0.0  \n",
       "2958                 0.0              0.0  \n",
       "2399                 0.0              0.0  \n",
       "4171                 0.0              0.0  \n",
       "9462                 1.0              0.0  \n",
       "153                  0.0              0.0  \n",
       "\n",
       "[10 rows x 168 columns]"
      ]
     },
     "execution_count": 122,
     "metadata": {},
     "output_type": "execute_result"
    }
   ],
   "source": [
    "test_data.sample(10)"
   ]
  },
  {
   "cell_type": "code",
   "execution_count": 123,
   "metadata": {
    "execution": {
     "iopub.execute_input": "2020-10-03T02:52:47.682578Z",
     "iopub.status.busy": "2020-10-03T02:52:47.681782Z",
     "iopub.status.idle": "2020-10-03T02:52:47.685140Z",
     "shell.execute_reply": "2020-10-03T02:52:47.685683Z"
    },
    "papermill": {
     "duration": 0.217744,
     "end_time": "2020-10-03T02:52:47.685843",
     "exception": false,
     "start_time": "2020-10-03T02:52:47.468099",
     "status": "completed"
    },
    "tags": []
   },
   "outputs": [],
   "source": [
    "test_data = test_data.drop(['Rating'], axis=1)"
   ]
  },
  {
   "cell_type": "code",
   "execution_count": 124,
   "metadata": {
    "execution": {
     "iopub.execute_input": "2020-10-03T02:52:48.112881Z",
     "iopub.status.busy": "2020-10-03T02:52:48.112016Z",
     "iopub.status.idle": "2020-10-03T02:52:48.116947Z",
     "shell.execute_reply": "2020-10-03T02:52:48.117560Z"
    },
    "papermill": {
     "duration": 0.227245,
     "end_time": "2020-10-03T02:52:48.117714",
     "exception": false,
     "start_time": "2020-10-03T02:52:47.890469",
     "status": "completed"
    },
    "tags": []
   },
   "outputs": [
    {
     "data": {
      "text/html": [
       "<div>\n",
       "<style scoped>\n",
       "    .dataframe tbody tr th:only-of-type {\n",
       "        vertical-align: middle;\n",
       "    }\n",
       "\n",
       "    .dataframe tbody tr th {\n",
       "        vertical-align: top;\n",
       "    }\n",
       "\n",
       "    .dataframe thead th {\n",
       "        text-align: right;\n",
       "    }\n",
       "</style>\n",
       "<table border=\"1\" class=\"dataframe\">\n",
       "  <thead>\n",
       "    <tr style=\"text-align: right;\">\n",
       "      <th></th>\n",
       "      <th>Restaurant_id</th>\n",
       "      <th>Rating</th>\n",
       "    </tr>\n",
       "  </thead>\n",
       "  <tbody>\n",
       "    <tr>\n",
       "      <th>0</th>\n",
       "      <td>id_0</td>\n",
       "      <td>2.0</td>\n",
       "    </tr>\n",
       "    <tr>\n",
       "      <th>1</th>\n",
       "      <td>id_1</td>\n",
       "      <td>2.5</td>\n",
       "    </tr>\n",
       "    <tr>\n",
       "      <th>2</th>\n",
       "      <td>id_2</td>\n",
       "      <td>4.0</td>\n",
       "    </tr>\n",
       "    <tr>\n",
       "      <th>3</th>\n",
       "      <td>id_3</td>\n",
       "      <td>1.0</td>\n",
       "    </tr>\n",
       "    <tr>\n",
       "      <th>4</th>\n",
       "      <td>id_4</td>\n",
       "      <td>4.0</td>\n",
       "    </tr>\n",
       "    <tr>\n",
       "      <th>...</th>\n",
       "      <td>...</td>\n",
       "      <td>...</td>\n",
       "    </tr>\n",
       "    <tr>\n",
       "      <th>9995</th>\n",
       "      <td>id_9995</td>\n",
       "      <td>3.0</td>\n",
       "    </tr>\n",
       "    <tr>\n",
       "      <th>9996</th>\n",
       "      <td>id_9996</td>\n",
       "      <td>1.5</td>\n",
       "    </tr>\n",
       "    <tr>\n",
       "      <th>9997</th>\n",
       "      <td>id_9997</td>\n",
       "      <td>4.5</td>\n",
       "    </tr>\n",
       "    <tr>\n",
       "      <th>9998</th>\n",
       "      <td>id_9998</td>\n",
       "      <td>1.0</td>\n",
       "    </tr>\n",
       "    <tr>\n",
       "      <th>9999</th>\n",
       "      <td>id_9999</td>\n",
       "      <td>2.5</td>\n",
       "    </tr>\n",
       "  </tbody>\n",
       "</table>\n",
       "<p>10000 rows × 2 columns</p>\n",
       "</div>"
      ],
      "text/plain": [
       "     Restaurant_id  Rating\n",
       "0             id_0     2.0\n",
       "1             id_1     2.5\n",
       "2             id_2     4.0\n",
       "3             id_3     1.0\n",
       "4             id_4     4.0\n",
       "...            ...     ...\n",
       "9995       id_9995     3.0\n",
       "9996       id_9996     1.5\n",
       "9997       id_9997     4.5\n",
       "9998       id_9998     1.0\n",
       "9999       id_9999     2.5\n",
       "\n",
       "[10000 rows x 2 columns]"
      ]
     },
     "execution_count": 124,
     "metadata": {},
     "output_type": "execute_result"
    }
   ],
   "source": [
    "sample_submission"
   ]
  },
  {
   "cell_type": "code",
   "execution_count": 125,
   "metadata": {
    "execution": {
     "iopub.execute_input": "2020-10-03T02:52:48.538314Z",
     "iopub.status.busy": "2020-10-03T02:52:48.537517Z",
     "iopub.status.idle": "2020-10-03T02:52:48.654169Z",
     "shell.execute_reply": "2020-10-03T02:52:48.653530Z"
    },
    "papermill": {
     "duration": 0.330762,
     "end_time": "2020-10-03T02:52:48.654308",
     "exception": false,
     "start_time": "2020-10-03T02:52:48.323546",
     "status": "completed"
    },
    "tags": []
   },
   "outputs": [
    {
     "name": "stderr",
     "output_type": "stream",
     "text": [
      "[Parallel(n_jobs=4)]: Using backend ThreadingBackend with 4 concurrent workers.\n",
      "[Parallel(n_jobs=4)]: Done  42 tasks      | elapsed:    0.0s\n",
      "[Parallel(n_jobs=4)]: Done 100 out of 100 | elapsed:    0.1s finished\n"
     ]
    }
   ],
   "source": [
    "predict_submission = model.predict(test_data)"
   ]
  },
  {
   "cell_type": "code",
   "execution_count": 126,
   "metadata": {
    "execution": {
     "iopub.execute_input": "2020-10-03T02:52:49.121248Z",
     "iopub.status.busy": "2020-10-03T02:52:49.119976Z",
     "iopub.status.idle": "2020-10-03T02:52:49.125540Z",
     "shell.execute_reply": "2020-10-03T02:52:49.124769Z"
    },
    "papermill": {
     "duration": 0.218459,
     "end_time": "2020-10-03T02:52:49.125671",
     "exception": false,
     "start_time": "2020-10-03T02:52:48.907212",
     "status": "completed"
    },
    "tags": []
   },
   "outputs": [
    {
     "data": {
      "text/plain": [
       "array([4.91 , 4.605, 4.86 , ..., 1.005, 1.005, 3.8  ])"
      ]
     },
     "execution_count": 126,
     "metadata": {},
     "output_type": "execute_result"
    }
   ],
   "source": [
    "predict_submission"
   ]
  },
  {
   "cell_type": "code",
   "execution_count": 127,
   "metadata": {
    "execution": {
     "iopub.execute_input": "2020-10-03T02:52:49.546017Z",
     "iopub.status.busy": "2020-10-03T02:52:49.544994Z",
     "iopub.status.idle": "2020-10-03T02:52:49.898159Z",
     "shell.execute_reply": "2020-10-03T02:52:49.897405Z"
    },
    "papermill": {
     "duration": 0.565515,
     "end_time": "2020-10-03T02:52:49.898284",
     "exception": false,
     "start_time": "2020-10-03T02:52:49.332769",
     "status": "completed"
    },
    "tags": []
   },
   "outputs": [
    {
     "data": {
      "text/html": [
       "<div>\n",
       "<style scoped>\n",
       "    .dataframe tbody tr th:only-of-type {\n",
       "        vertical-align: middle;\n",
       "    }\n",
       "\n",
       "    .dataframe tbody tr th {\n",
       "        vertical-align: top;\n",
       "    }\n",
       "\n",
       "    .dataframe thead th {\n",
       "        text-align: right;\n",
       "    }\n",
       "</style>\n",
       "<table border=\"1\" class=\"dataframe\">\n",
       "  <thead>\n",
       "    <tr style=\"text-align: right;\">\n",
       "      <th></th>\n",
       "      <th>Restaurant_id</th>\n",
       "      <th>Rating</th>\n",
       "    </tr>\n",
       "  </thead>\n",
       "  <tbody>\n",
       "    <tr>\n",
       "      <th>0</th>\n",
       "      <td>id_0</td>\n",
       "      <td>4.910</td>\n",
       "    </tr>\n",
       "    <tr>\n",
       "      <th>1</th>\n",
       "      <td>id_1</td>\n",
       "      <td>4.605</td>\n",
       "    </tr>\n",
       "    <tr>\n",
       "      <th>2</th>\n",
       "      <td>id_2</td>\n",
       "      <td>4.860</td>\n",
       "    </tr>\n",
       "    <tr>\n",
       "      <th>3</th>\n",
       "      <td>id_3</td>\n",
       "      <td>4.735</td>\n",
       "    </tr>\n",
       "    <tr>\n",
       "      <th>4</th>\n",
       "      <td>id_4</td>\n",
       "      <td>4.710</td>\n",
       "    </tr>\n",
       "    <tr>\n",
       "      <th>5</th>\n",
       "      <td>id_5</td>\n",
       "      <td>4.770</td>\n",
       "    </tr>\n",
       "    <tr>\n",
       "      <th>6</th>\n",
       "      <td>id_6</td>\n",
       "      <td>4.910</td>\n",
       "    </tr>\n",
       "    <tr>\n",
       "      <th>7</th>\n",
       "      <td>id_7</td>\n",
       "      <td>4.885</td>\n",
       "    </tr>\n",
       "    <tr>\n",
       "      <th>8</th>\n",
       "      <td>id_8</td>\n",
       "      <td>4.820</td>\n",
       "    </tr>\n",
       "    <tr>\n",
       "      <th>9</th>\n",
       "      <td>id_9</td>\n",
       "      <td>4.785</td>\n",
       "    </tr>\n",
       "  </tbody>\n",
       "</table>\n",
       "</div>"
      ],
      "text/plain": [
       "  Restaurant_id  Rating\n",
       "0          id_0   4.910\n",
       "1          id_1   4.605\n",
       "2          id_2   4.860\n",
       "3          id_3   4.735\n",
       "4          id_4   4.710\n",
       "5          id_5   4.770\n",
       "6          id_6   4.910\n",
       "7          id_7   4.885\n",
       "8          id_8   4.820\n",
       "9          id_9   4.785"
      ]
     },
     "execution_count": 127,
     "metadata": {},
     "output_type": "execute_result"
    }
   ],
   "source": [
    "sample_submission['Rating'] = predict_submission\n",
    "sample_submission.to_csv('submission.csv', index=False)\n",
    "sample_submission.head(10)"
   ]
  },
  {
   "cell_type": "markdown",
   "metadata": {
    "papermill": {
     "duration": 0.208959,
     "end_time": "2020-10-03T02:52:50.314752",
     "exception": false,
     "start_time": "2020-10-03T02:52:50.105793",
     "status": "completed"
    },
    "tags": []
   },
   "source": [
    "\n"
   ]
  },
  {
   "cell_type": "code",
   "execution_count": 128,
   "metadata": {
    "execution": {
     "iopub.execute_input": "2020-10-03T02:52:50.740680Z",
     "iopub.status.busy": "2020-10-03T02:52:50.739764Z",
     "iopub.status.idle": "2020-10-03T02:52:50.743092Z",
     "shell.execute_reply": "2020-10-03T02:52:50.743626Z"
    },
    "papermill": {
     "duration": 0.220789,
     "end_time": "2020-10-03T02:52:50.743789",
     "exception": false,
     "start_time": "2020-10-03T02:52:50.523000",
     "status": "completed"
    },
    "tags": []
   },
   "outputs": [],
   "source": [
    "#kaggle competitions submit -c sf-dst-restaurant-rating -f submission.csv"
   ]
  },
  {
   "cell_type": "code",
   "execution_count": null,
   "metadata": {
    "papermill": {
     "duration": 0.208434,
     "end_time": "2020-10-03T02:52:51.160369",
     "exception": false,
     "start_time": "2020-10-03T02:52:50.951935",
     "status": "completed"
    },
    "tags": []
   },
   "outputs": [],
   "source": []
  }
 ],
 "metadata": {
  "kernelspec": {
   "display_name": "Python 3",
   "language": "python",
   "name": "python3"
  },
  "language_info": {
   "codemirror_mode": {
    "name": "ipython",
    "version": 3
   },
   "file_extension": ".py",
   "mimetype": "text/x-python",
   "name": "python",
   "nbconvert_exporter": "python",
   "pygments_lexer": "ipython3",
   "version": "3.7.6"
  },
  "papermill": {
   "duration": 333.475673,
   "end_time": "2020-10-03T02:52:51.476688",
   "environment_variables": {},
   "exception": null,
   "input_path": "__notebook__.ipynb",
   "output_path": "__notebook__.ipynb",
   "parameters": {},
   "start_time": "2020-10-03T02:47:18.001015",
   "version": "2.1.0"
  }
 },
 "nbformat": 4,
 "nbformat_minor": 4
}
