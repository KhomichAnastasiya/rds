{
 "cells": [
  {
   "cell_type": "markdown",
   "metadata": {},
   "source": [
    "# Проект 2. Разведывательный анализ данных"
   ]
  },
  {
   "cell_type": "markdown",
   "metadata": {},
   "source": [
    "## Часть 1. Первичная обработка данных"
   ]
  },
  {
   "cell_type": "markdown",
   "metadata": {},
   "source": [
    "Задание: Провести разведывательный анализ данных. Отследить влияние условий жизни учащихся в возрасте от 15 до 22 лет на их успеваемость по математике, чтобы на ранней стадии выявить студентов, находящихся в группе риска."
   ]
  },
  {
   "cell_type": "markdown",
   "metadata": {},
   "source": [
    "Импортируем необходимые бибилиотеки"
   ]
  },
  {
   "cell_type": "code",
   "execution_count": 462,
   "metadata": {},
   "outputs": [],
   "source": [
    "import pandas as pd\n",
    "import matplotlib.pyplot as plt\n",
    "import seaborn as sns\n",
    "import numpy as np\n",
    "from itertools import combinations\n",
    "from scipy.stats import ttest_ind"
   ]
  },
  {
   "cell_type": "raw",
   "metadata": {},
   "source": [
    "Прочитаем файл, с которым будем производить разведывательный анализ"
   ]
  },
  {
   "cell_type": "code",
   "execution_count": 463,
   "metadata": {},
   "outputs": [],
   "source": [
    "pd.set_option('display.max_rows', 50)\n",
    "pd.set_option('display.max_columns', 50)\n",
    "\n",
    "students=pd.read_csv('stud_math.csv')\n"
   ]
  },
  {
   "cell_type": "markdown",
   "metadata": {},
   "source": [
    "Рассмотрим, какие данные хранятся в файле, какие типы данных у столбцов."
   ]
  },
  {
   "cell_type": "code",
   "execution_count": 464,
   "metadata": {},
   "outputs": [
    {
     "name": "stdout",
     "output_type": "stream",
     "text": [
      "    school sex  age address famsize Pstatus  Medu  Fedu      Mjob      Fjob  \\\n",
      "385     MS   F   18       R     GT3       T   2.0   2.0   at_home     other   \n",
      "386     MS   F   18       R     GT3       T   4.0   4.0   teacher   at_home   \n",
      "387     MS   F   19       R     GT3       T   2.0   3.0  services     other   \n",
      "388     MS   F   18       U     LE3       T   3.0   1.0   teacher  services   \n",
      "389     MS   F   18       U     GT3       T   1.0   1.0     other     other   \n",
      "390     MS   M   20       U     LE3       A   2.0   2.0  services  services   \n",
      "391     MS   M   17       U     LE3       T   3.0   1.0  services  services   \n",
      "392     MS   M   21       R     GT3       T   1.0   1.0     other     other   \n",
      "393     MS   M   18       R     LE3       T   3.0   2.0  services     other   \n",
      "394     MS   M   19       U     LE3       T   1.0   1.0     other   at_home   \n",
      "\n",
      "         reason guardian  traveltime  studytime  failures schoolsup famsup  \\\n",
      "385       other      NaN         NaN        3.0       0.0        no     no   \n",
      "386  reputation   mother         3.0        1.0       0.0        no    yes   \n",
      "387      course   mother         1.0        3.0       1.0        no     no   \n",
      "388      course   mother         1.0        2.0       0.0        no    yes   \n",
      "389      course   mother         NaN        2.0       1.0        no     no   \n",
      "390      course      NaN         1.0        2.0       2.0        no    yes   \n",
      "391      course   mother         2.0        1.0       0.0        no     no   \n",
      "392      course      NaN         1.0        1.0       3.0       NaN     no   \n",
      "393      course   mother         3.0        1.0       0.0        no     no   \n",
      "394         NaN   father         1.0        1.0       0.0       NaN     no   \n",
      "\n",
      "    paid activities nursery  studytime, granular higher internet romantic  \\\n",
      "385  yes         no     yes                 -9.0    yes      NaN       no   \n",
      "386  yes        yes     yes                 -3.0    yes      yes      yes   \n",
      "387   no        yes      no                 -9.0    yes      yes       no   \n",
      "388  yes         no     yes                 -6.0    yes      yes       no   \n",
      "389   no        yes     yes                 -6.0    yes      NaN       no   \n",
      "390  yes         no     yes                 -6.0    yes       no       no   \n",
      "391   no         no      no                 -3.0    yes      yes       no   \n",
      "392   no         no      no                 -3.0    NaN       no       no   \n",
      "393   no        NaN      no                 -3.0    yes      yes       no   \n",
      "394   no         no     yes                 -3.0    yes      yes       no   \n",
      "\n",
      "     famrel  freetime  goout  health  absences  score  \n",
      "385     5.0       3.0    3.0     4.0       2.0   50.0  \n",
      "386     4.0       4.0    3.0     5.0       7.0   30.0  \n",
      "387     5.0       4.0    2.0     5.0       0.0    0.0  \n",
      "388     4.0       3.0    4.0     1.0       0.0   40.0  \n",
      "389     1.0       1.0    1.0     5.0       0.0    0.0  \n",
      "390     5.0       5.0    4.0     4.0     212.0   45.0  \n",
      "391     2.0       4.0    5.0     2.0       3.0   80.0  \n",
      "392     5.0       5.0    3.0     3.0       3.0   35.0  \n",
      "393     4.0       4.0    1.0     5.0       0.0   50.0  \n",
      "394     3.0       2.0    3.0     5.0       5.0   45.0  \n",
      "<class 'pandas.core.frame.DataFrame'>\n",
      "RangeIndex: 395 entries, 0 to 394\n",
      "Data columns (total 30 columns):\n",
      " #   Column               Non-Null Count  Dtype  \n",
      "---  ------               --------------  -----  \n",
      " 0   school               395 non-null    object \n",
      " 1   sex                  395 non-null    object \n",
      " 2   age                  395 non-null    int64  \n",
      " 3   address              378 non-null    object \n",
      " 4   famsize              368 non-null    object \n",
      " 5   Pstatus              350 non-null    object \n",
      " 6   Medu                 392 non-null    float64\n",
      " 7   Fedu                 371 non-null    float64\n",
      " 8   Mjob                 376 non-null    object \n",
      " 9   Fjob                 359 non-null    object \n",
      " 10  reason               378 non-null    object \n",
      " 11  guardian             364 non-null    object \n",
      " 12  traveltime           367 non-null    float64\n",
      " 13  studytime            388 non-null    float64\n",
      " 14  failures             373 non-null    float64\n",
      " 15  schoolsup            386 non-null    object \n",
      " 16  famsup               356 non-null    object \n",
      " 17  paid                 355 non-null    object \n",
      " 18  activities           381 non-null    object \n",
      " 19  nursery              379 non-null    object \n",
      " 20  studytime, granular  388 non-null    float64\n",
      " 21  higher               375 non-null    object \n",
      " 22  internet             361 non-null    object \n",
      " 23  romantic             364 non-null    object \n",
      " 24  famrel               368 non-null    float64\n",
      " 25  freetime             384 non-null    float64\n",
      " 26  goout                387 non-null    float64\n",
      " 27  health               380 non-null    float64\n",
      " 28  absences             383 non-null    float64\n",
      " 29  score                389 non-null    float64\n",
      "dtypes: float64(12), int64(1), object(17)\n",
      "memory usage: 92.7+ KB\n"
     ]
    },
    {
     "data": {
      "text/plain": [
       "Index(['school', 'sex', 'age', 'address', 'famsize', 'Pstatus', 'Medu', 'Fedu',\n",
       "       'Mjob', 'Fjob', 'reason', 'guardian', 'traveltime', 'studytime',\n",
       "       'failures', 'schoolsup', 'famsup', 'paid', 'activities', 'nursery',\n",
       "       'studytime, granular', 'higher', 'internet', 'romantic', 'famrel',\n",
       "       'freetime', 'goout', 'health', 'absences', 'score'],\n",
       "      dtype='object')"
      ]
     },
     "execution_count": 464,
     "metadata": {},
     "output_type": "execute_result"
    }
   ],
   "source": [
    "print(students.tail(10))\n",
    "students.info()\n",
    "students.columns"
   ]
  },
  {
   "cell_type": "markdown",
   "metadata": {},
   "source": [
    "Видим, что в датасете всего 395 студентов. Можно заметить, что в датасете находится столбец, 'studytime, granular', который в описании задания не фигурирует, возможно потому, что у студентов учебное время одинаковое, а уже сколько непосредственно в учебном заведении времени на учебу потратили студенты можно понять из столбца 'absences'. Поэтому удалим столбец 'studytime, granular'."
   ]
  },
  {
   "cell_type": "code",
   "execution_count": 465,
   "metadata": {},
   "outputs": [],
   "source": [
    "students.drop(['studytime, granular'], inplace=True,axis=1)"
   ]
  },
  {
   "cell_type": "code",
   "execution_count": 466,
   "metadata": {},
   "outputs": [
    {
     "data": {
      "text/plain": [
       "Index(['school', 'sex', 'age', 'address', 'famsize', 'Pstatus', 'Medu', 'Fedu',\n",
       "       'Mjob', 'Fjob', 'reason', 'guardian', 'traveltime', 'studytime',\n",
       "       'failures', 'schoolsup', 'famsup', 'paid', 'activities', 'nursery',\n",
       "       'higher', 'internet', 'romantic', 'famrel', 'freetime', 'goout',\n",
       "       'health', 'absences', 'score'],\n",
       "      dtype='object')"
      ]
     },
     "execution_count": 466,
     "metadata": {},
     "output_type": "execute_result"
    }
   ],
   "source": [
    "students.columns"
   ]
  },
  {
   "cell_type": "markdown",
   "metadata": {},
   "source": [
    "Столбец успешно удален."
   ]
  },
  {
   "cell_type": "markdown",
   "metadata": {},
   "source": [
    "Данных в датасете много. Для удобства, те операции, которые необходимо повторять для различных столбцов, будут описаны функциями. Используемые функции представлены ниже."
   ]
  },
  {
   "cell_type": "markdown",
   "metadata": {},
   "source": [
    "## Используемые функции"
   ]
  },
  {
   "cell_type": "code",
   "execution_count": 580,
   "metadata": {},
   "outputs": [],
   "source": [
    "def counts(columns):\n",
    "    print(pd.DataFrame(students[columns].value_counts()))\n",
    "    \n",
    "def histogr(columns):\n",
    "    students[columns].hist()\n",
    "    \n",
    "def describe(columns):\n",
    "    print(students[columns].describe())\n",
    "    \n",
    "def replace_None(columns):\n",
    "    students[columns]=students[columns].astype(str).apply(lambda x: None if x.strip()=='' else x)\n",
    "    \n",
    "def replace_value(columns, val1, val2):\n",
    "    students[columns] = students[columns].replace(val1, val2)\n",
    "    \n",
    "def nan_None(columns):\n",
    "    students[columns]=students[columns].apply(lambda x: None if pd.isnull(x) else None if x == 'nan' \n",
    "                      else x if '(' not in x else x[:x.find('(')].strip())\n",
    "    \n",
    "def information(columns):\n",
    "    print(students.loc[:,[columns]].info())\n",
    "    \n",
    "def del_None(columns):\n",
    "    students[columns]=students[~students[columns].isnull()]\n",
    "    \n",
    "def None_Mode(columns):\n",
    "    students[columns]=students[columns].apply(lambda x: students[columns].mode()[0] if pd.isna(x) else x)\n",
    " \n",
    "def to_numeric(columns):\n",
    "    s = pd.Series(students[columns])\n",
    "    pd.to_numeric(s)\n",
    "    students[columns] = pd.to_numeric(students[columns])\n",
    "\n",
    "def delete_columns(columns):\n",
    "    students.drop([columns], axis='columns', inplace=True)\n"
   ]
  },
  {
   "cell_type": "markdown",
   "metadata": {},
   "source": [
    "## Рассмотрим каждый столбец по отдельности"
   ]
  },
  {
   "cell_type": "markdown",
   "metadata": {},
   "source": [
    "### school"
   ]
  },
  {
   "cell_type": "markdown",
   "metadata": {},
   "source": [
    "Рассмотрим параметр 'school'. Параметр не числовой. Посмотрим, сколько школ содержит датасет."
   ]
  },
  {
   "cell_type": "code",
   "execution_count": 468,
   "metadata": {},
   "outputs": [
    {
     "name": "stdout",
     "output_type": "stream",
     "text": [
      "    school\n",
      "GP     349\n",
      "MS      46\n"
     ]
    }
   ],
   "source": [
    "for col in ['school']:\n",
    "    counts(col)"
   ]
  },
  {
   "cell_type": "markdown",
   "metadata": {},
   "source": [
    "В датасете представлено 2 школы. Пустых значений нет"
   ]
  },
  {
   "cell_type": "markdown",
   "metadata": {},
   "source": [
    "### sex"
   ]
  },
  {
   "cell_type": "markdown",
   "metadata": {},
   "source": [
    "Рассмотрим столбец 'sex' - пол студента. Это также не числовой параметр, посмотрим есть ли ошибки в данных и пропуски."
   ]
  },
  {
   "cell_type": "code",
   "execution_count": 469,
   "metadata": {},
   "outputs": [
    {
     "name": "stdout",
     "output_type": "stream",
     "text": [
      "   sex\n",
      "F  208\n",
      "M  187\n"
     ]
    }
   ],
   "source": [
    "for col in ['sex']:\n",
    "    counts(col)"
   ]
  },
  {
   "cell_type": "markdown",
   "metadata": {},
   "source": [
    "Ошибок и пустых значений в данном столбце нет"
   ]
  },
  {
   "cell_type": "markdown",
   "metadata": {},
   "source": [
    "### age"
   ]
  },
  {
   "cell_type": "markdown",
   "metadata": {},
   "source": [
    "Рассмотрим параметр 'age'. Параметр числовой, поэтому для начала рассмотрим распределение этого признака."
   ]
  },
  {
   "cell_type": "code",
   "execution_count": 470,
   "metadata": {},
   "outputs": [
    {
     "name": "stdout",
     "output_type": "stream",
     "text": [
      "count    395.000000\n",
      "mean      16.696203\n",
      "std        1.276043\n",
      "min       15.000000\n",
      "25%       16.000000\n",
      "50%       17.000000\n",
      "75%       18.000000\n",
      "max       22.000000\n",
      "Name: age, dtype: float64\n"
     ]
    },
    {
     "data": {
      "image/png": "[encoded data removed]",
      "text/plain": [
       "<Figure size 432x288 with 1 Axes>"
      ]
     },
     "metadata": {
      "needs_background": "light"
     },
     "output_type": "display_data"
    }
   ],
   "source": [
    "for col in ['age']:\n",
    "    histogr(col)\n",
    "for col in ['age']:\n",
    "    describe(col)"
   ]
  },
  {
   "cell_type": "markdown",
   "metadata": {},
   "source": [
    "Видно, что данное распределение находится в допустимых пределах, средний возраст студентов 16-17 лет. Пустых значений в столбце нет."
   ]
  },
  {
   "cell_type": "markdown",
   "metadata": {},
   "source": [
    "### address"
   ]
  },
  {
   "cell_type": "markdown",
   "metadata": {},
   "source": [
    "Теперь рассмотрим параметр 'address'."
   ]
  },
  {
   "cell_type": "code",
   "execution_count": 471,
   "metadata": {},
   "outputs": [
    {
     "name": "stdout",
     "output_type": "stream",
     "text": [
      "   address\n",
      "U      295\n",
      "R       83\n"
     ]
    }
   ],
   "source": [
    "for col in ['address']:\n",
    "    counts(col)\n"
   ]
  },
  {
   "cell_type": "markdown",
   "metadata": {},
   "source": [
    "Видно, что основная чвсть студентов живут в городе. Ошибок в данном столбце нет, но есть пустые значения. Для начала заменим все пустые значения на None."
   ]
  },
  {
   "cell_type": "code",
   "execution_count": 472,
   "metadata": {},
   "outputs": [],
   "source": [
    "for col in ['address']:\n",
    "    replace_None(col)\n",
    "    nan_None(col)"
   ]
  },
  {
   "cell_type": "markdown",
   "metadata": {},
   "source": [
    "Пока оставим пустые значения в таком виде, так как неизвестно, сколько пропущенных значений имеет данный датасет, и непонятно, стоит ли удалять эти значения, или нужно чем-то заменить."
   ]
  },
  {
   "cell_type": "markdown",
   "metadata": {},
   "source": [
    "### famsize"
   ]
  },
  {
   "cell_type": "markdown",
   "metadata": {},
   "source": [
    "Рассмотрим, имеет ли столбец ошибки или пустые значения."
   ]
  },
  {
   "cell_type": "code",
   "execution_count": 473,
   "metadata": {},
   "outputs": [
    {
     "name": "stdout",
     "output_type": "stream",
     "text": [
      "     famsize\n",
      "GT3      261\n",
      "LE3      107\n"
     ]
    }
   ],
   "source": [
    "for col in ['famsize']:\n",
    "    counts(col)"
   ]
  },
  {
   "cell_type": "markdown",
   "metadata": {},
   "source": [
    "Ошибок нет. Основная часть студентов живут в многодетных семьях. Имеются пустые значения. Заменим их на None."
   ]
  },
  {
   "cell_type": "code",
   "execution_count": 474,
   "metadata": {},
   "outputs": [],
   "source": [
    "for col in ['famsize']:\n",
    "    replace_None(col)\n",
    "    nan_None(col)"
   ]
  },
  {
   "cell_type": "markdown",
   "metadata": {},
   "source": [
    "### Pstatus"
   ]
  },
  {
   "cell_type": "markdown",
   "metadata": {},
   "source": [
    "Рассмотрим, имеет ли столбец ошибки или пустые значения."
   ]
  },
  {
   "cell_type": "code",
   "execution_count": 475,
   "metadata": {},
   "outputs": [
    {
     "name": "stdout",
     "output_type": "stream",
     "text": [
      "   Pstatus\n",
      "T      314\n",
      "A       36\n",
      "<class 'pandas.core.frame.DataFrame'>\n",
      "RangeIndex: 395 entries, 0 to 394\n",
      "Data columns (total 1 columns):\n",
      " #   Column   Non-Null Count  Dtype \n",
      "---  ------   --------------  ----- \n",
      " 0   Pstatus  350 non-null    object\n",
      "dtypes: object(1)\n",
      "memory usage: 3.2+ KB\n",
      "None\n"
     ]
    }
   ],
   "source": [
    "for col in ['Pstatus']:\n",
    "    counts(col)\n",
    "    information(col)\n"
   ]
  },
  {
   "cell_type": "markdown",
   "metadata": {},
   "source": [
    "Ошибок нет, есть пустые значения. Заменим их на None. Основная часть студентов живут в полной семье."
   ]
  },
  {
   "cell_type": "code",
   "execution_count": 476,
   "metadata": {},
   "outputs": [
    {
     "data": {
      "text/plain": [
       "0         A\n",
       "1      None\n",
       "2         T\n",
       "3         T\n",
       "4         T\n",
       "       ... \n",
       "390       A\n",
       "391       T\n",
       "392       T\n",
       "393       T\n",
       "394       T\n",
       "Name: Pstatus, Length: 395, dtype: object"
      ]
     },
     "execution_count": 476,
     "metadata": {},
     "output_type": "execute_result"
    }
   ],
   "source": [
    "for col in ['Pstatus']:\n",
    "    replace_None(col)\n",
    "    nan_None(col)\n",
    "    \n",
    "students.Pstatus"
   ]
  },
  {
   "cell_type": "markdown",
   "metadata": {},
   "source": [
    "### Medu"
   ]
  },
  {
   "cell_type": "markdown",
   "metadata": {},
   "source": [
    "Рассмотрим, имеет ли столбец ошибки или пустые значения."
   ]
  },
  {
   "cell_type": "code",
   "execution_count": 477,
   "metadata": {},
   "outputs": [
    {
     "name": "stdout",
     "output_type": "stream",
     "text": [
      "     Medu\n",
      "4.0   131\n",
      "2.0   102\n",
      "3.0    97\n",
      "1.0    59\n",
      "0.0     3\n",
      "<class 'pandas.core.frame.DataFrame'>\n",
      "RangeIndex: 395 entries, 0 to 394\n",
      "Data columns (total 1 columns):\n",
      " #   Column  Non-Null Count  Dtype  \n",
      "---  ------  --------------  -----  \n",
      " 0   Medu    392 non-null    float64\n",
      "dtypes: float64(1)\n",
      "memory usage: 3.2 KB\n",
      "None\n"
     ]
    }
   ],
   "source": [
    "for col in ['Medu']:\n",
    "    counts(col)\n",
    "    information(col)\n",
    "    "
   ]
  },
  {
   "cell_type": "markdown",
   "metadata": {},
   "source": [
    "Ошибок нет, есть пропуски. Заменим их на None. Также nan заменим на None"
   ]
  },
  {
   "cell_type": "code",
   "execution_count": 478,
   "metadata": {},
   "outputs": [
    {
     "name": "stdout",
     "output_type": "stream",
     "text": [
      "     Medu\n",
      "4.0   131\n",
      "2.0   102\n",
      "3.0    97\n",
      "1.0    59\n",
      "0.0     3\n"
     ]
    }
   ],
   "source": [
    "for col in ['Medu']:\n",
    "    replace_None(col)\n",
    "    nan_None(col)\n",
    "    counts(col)\n"
   ]
  },
  {
   "cell_type": "markdown",
   "metadata": {},
   "source": [
    "### Fedu"
   ]
  },
  {
   "cell_type": "markdown",
   "metadata": {},
   "source": [
    "Рассмотрим, имеет ли столбец ошибки или пустые значения."
   ]
  },
  {
   "cell_type": "code",
   "execution_count": 479,
   "metadata": {},
   "outputs": [
    {
     "name": "stdout",
     "output_type": "stream",
     "text": [
      "      Fedu\n",
      "2.0    106\n",
      "3.0     96\n",
      "4.0     88\n",
      "1.0     78\n",
      "0.0      2\n",
      "40.0     1\n",
      "<class 'pandas.core.frame.DataFrame'>\n",
      "RangeIndex: 395 entries, 0 to 394\n",
      "Data columns (total 1 columns):\n",
      " #   Column  Non-Null Count  Dtype  \n",
      "---  ------  --------------  -----  \n",
      " 0   Fedu    371 non-null    float64\n",
      "dtypes: float64(1)\n",
      "memory usage: 3.2 KB\n",
      "None\n"
     ]
    }
   ],
   "source": [
    "for col in ['Fedu']:\n",
    "    counts(col)\n",
    "    information(col)"
   ]
  },
  {
   "cell_type": "markdown",
   "metadata": {},
   "source": [
    "В столбце имеется ошибка.Скорее всего произошла опечатка, и значение 40 должно быть значением 4. Заменим его."
   ]
  },
  {
   "cell_type": "code",
   "execution_count": 480,
   "metadata": {},
   "outputs": [
    {
     "name": "stdout",
     "output_type": "stream",
     "text": [
      "     Fedu\n",
      "2.0   106\n",
      "3.0    96\n",
      "4.0    89\n",
      "1.0    78\n",
      "0.0     2\n"
     ]
    }
   ],
   "source": [
    "for col in ['Fedu']:\n",
    "    replace_value(col, 40.0, 4.0)\n",
    "    \n",
    "for col in ['Fedu']:\n",
    "    counts(col)"
   ]
  },
  {
   "cell_type": "markdown",
   "metadata": {},
   "source": [
    "Заменим nan на None.Также имеются пустые значения.Заменим их на None"
   ]
  },
  {
   "cell_type": "code",
   "execution_count": 481,
   "metadata": {},
   "outputs": [
    {
     "name": "stdout",
     "output_type": "stream",
     "text": [
      "     Fedu\n",
      "2.0   106\n",
      "3.0    96\n",
      "4.0    89\n",
      "1.0    78\n",
      "0.0     2\n"
     ]
    }
   ],
   "source": [
    "for col in ['Fedu']:\n",
    "    replace_None(col)\n",
    "    nan_None(col)\n",
    "    counts(col)"
   ]
  },
  {
   "cell_type": "markdown",
   "metadata": {},
   "source": [
    "### Mjob"
   ]
  },
  {
   "cell_type": "code",
   "execution_count": 482,
   "metadata": {},
   "outputs": [
    {
     "name": "stdout",
     "output_type": "stream",
     "text": [
      "count       376\n",
      "unique        5\n",
      "top       other\n",
      "freq        133\n",
      "Name: Mjob, dtype: object\n"
     ]
    },
    {
     "data": {
      "image/png": "[encoded data removed]",
      "text/plain": [
       "<Figure size 432x288 with 1 Axes>"
      ]
     },
     "metadata": {
      "needs_background": "light"
     },
     "output_type": "display_data"
    }
   ],
   "source": [
    "for col in ['Mjob']:\n",
    "    histogr(col)\n",
    "    describe(col)"
   ]
  },
  {
   "cell_type": "markdown",
   "metadata": {},
   "source": [
    "В столбце не найдено ошибок, но есть пропуски. Заменим их на None."
   ]
  },
  {
   "cell_type": "code",
   "execution_count": 483,
   "metadata": {},
   "outputs": [],
   "source": [
    "for col in ['Mjob']:\n",
    "    replace_None(col)\n",
    "    nan_None(col)"
   ]
  },
  {
   "cell_type": "markdown",
   "metadata": {},
   "source": [
    "### Fjob"
   ]
  },
  {
   "cell_type": "code",
   "execution_count": 484,
   "metadata": {},
   "outputs": [
    {
     "name": "stdout",
     "output_type": "stream",
     "text": [
      "count       359\n",
      "unique        5\n",
      "top       other\n",
      "freq        197\n",
      "Name: Fjob, dtype: object\n"
     ]
    },
    {
     "data": {
      "image/png": "[encoded data removed]",
      "text/plain": [
       "<Figure size 432x288 with 1 Axes>"
      ]
     },
     "metadata": {
      "needs_background": "light"
     },
     "output_type": "display_data"
    }
   ],
   "source": [
    "for col in ['Fjob']:\n",
    "    histogr(col)\n",
    "    describe(col)"
   ]
  },
  {
   "cell_type": "markdown",
   "metadata": {},
   "source": [
    "Ошибок нет. Есть пропуски, заменим на None."
   ]
  },
  {
   "cell_type": "code",
   "execution_count": 485,
   "metadata": {},
   "outputs": [],
   "source": [
    "for col in ['Fjob']:\n",
    "    replace_None(col)\n",
    "    nan_None(col)"
   ]
  },
  {
   "cell_type": "markdown",
   "metadata": {},
   "source": [
    "### reason"
   ]
  },
  {
   "cell_type": "code",
   "execution_count": 486,
   "metadata": {},
   "outputs": [
    {
     "name": "stdout",
     "output_type": "stream",
     "text": [
      "count        378\n",
      "unique         4\n",
      "top       course\n",
      "freq         137\n",
      "Name: reason, dtype: object\n"
     ]
    },
    {
     "data": {
      "image/png": "[encoded data removed]",
      "text/plain": [
       "<Figure size 432x288 with 1 Axes>"
      ]
     },
     "metadata": {
      "needs_background": "light"
     },
     "output_type": "display_data"
    }
   ],
   "source": [
    "for col in ['reason']:\n",
    "    histogr(col)\n",
    "    describe(col)"
   ]
  },
  {
   "cell_type": "markdown",
   "metadata": {},
   "source": [
    "Ошибок нет. Есть пропуски, заменим на None. Основная часть студентов выбрали школу из-за образовательной программы."
   ]
  },
  {
   "cell_type": "code",
   "execution_count": 487,
   "metadata": {},
   "outputs": [],
   "source": [
    "for col in ['reason']:\n",
    "    replace_None(col)\n",
    "    nan_None(col)"
   ]
  },
  {
   "cell_type": "markdown",
   "metadata": {},
   "source": [
    "### guardian"
   ]
  },
  {
   "cell_type": "code",
   "execution_count": 488,
   "metadata": {},
   "outputs": [
    {
     "name": "stdout",
     "output_type": "stream",
     "text": [
      "count        364\n",
      "unique         3\n",
      "top       mother\n",
      "freq         250\n",
      "Name: guardian, dtype: object\n",
      "        guardian\n",
      "mother       250\n",
      "father        86\n",
      "other         28\n"
     ]
    },
    {
     "data": {
      "image/png": "[encoded data removed]",
      "text/plain": [
       "<Figure size 432x288 with 1 Axes>"
      ]
     },
     "metadata": {
      "needs_background": "light"
     },
     "output_type": "display_data"
    }
   ],
   "source": [
    "for col in ['guardian']:\n",
    "    histogr(col)\n",
    "    describe(col)\n",
    "    counts(col)"
   ]
  },
  {
   "cell_type": "markdown",
   "metadata": {},
   "source": [
    "Ошибок нет, есть пропуски. Заменим на None. У основной части студентов опекун мать."
   ]
  },
  {
   "cell_type": "code",
   "execution_count": 489,
   "metadata": {},
   "outputs": [],
   "source": [
    "for col in ['guardian']:\n",
    "    replace_None(col)\n",
    "    nan_None(col)"
   ]
  },
  {
   "cell_type": "markdown",
   "metadata": {},
   "source": [
    "### traveltime"
   ]
  },
  {
   "cell_type": "code",
   "execution_count": 490,
   "metadata": {},
   "outputs": [
    {
     "name": "stdout",
     "output_type": "stream",
     "text": [
      "     traveltime\n",
      "1.0         242\n",
      "2.0          96\n",
      "3.0          22\n",
      "4.0           7\n"
     ]
    },
    {
     "data": {
      "image/png": "[encoded data removed]",
      "text/plain": [
       "<Figure size 432x288 with 1 Axes>"
      ]
     },
     "metadata": {
      "needs_background": "light"
     },
     "output_type": "display_data"
    }
   ],
   "source": [
    "for col in ['traveltime']:\n",
    "    histogr(col)\n",
    "    counts(col)\n"
   ]
  },
  {
   "cell_type": "markdown",
   "metadata": {},
   "source": [
    "Большей части студентов идти до школы меньше 15 минут. Ошибок нет, есть пустые значения. Заменим их. Также заменим nan на None."
   ]
  },
  {
   "cell_type": "code",
   "execution_count": 491,
   "metadata": {},
   "outputs": [],
   "source": [
    "for col in ['traveltime']:\n",
    "    replace_None(col)"
   ]
  },
  {
   "cell_type": "code",
   "execution_count": 492,
   "metadata": {},
   "outputs": [
    {
     "name": "stdout",
     "output_type": "stream",
     "text": [
      "     traveltime\n",
      "1.0         242\n",
      "2.0          96\n",
      "3.0          22\n",
      "4.0           7\n"
     ]
    }
   ],
   "source": [
    "for col in ['traveltime']:\n",
    "     nan_None(col)\n",
    "     counts(col)"
   ]
  },
  {
   "cell_type": "markdown",
   "metadata": {},
   "source": [
    "### studytime"
   ]
  },
  {
   "cell_type": "code",
   "execution_count": 493,
   "metadata": {},
   "outputs": [
    {
     "name": "stdout",
     "output_type": "stream",
     "text": [
      "     studytime\n",
      "2.0        194\n",
      "1.0        103\n",
      "3.0         64\n",
      "4.0         27\n"
     ]
    },
    {
     "data": {
      "image/png": "[encoded data removed]",
      "text/plain": [
       "<Figure size 432x288 with 1 Axes>"
      ]
     },
     "metadata": {
      "needs_background": "light"
     },
     "output_type": "display_data"
    }
   ],
   "source": [
    "for col in ['studytime']:\n",
    "    histogr(col)\n",
    "    counts(col)"
   ]
  },
  {
   "cell_type": "markdown",
   "metadata": {},
   "source": [
    "Ошибок нет, есть пропуски."
   ]
  },
  {
   "cell_type": "code",
   "execution_count": 494,
   "metadata": {},
   "outputs": [],
   "source": [
    "for col in ['studytime']:\n",
    "    replace_None(col)\n",
    "    nan_None(col)"
   ]
  },
  {
   "cell_type": "markdown",
   "metadata": {},
   "source": [
    "### failures"
   ]
  },
  {
   "cell_type": "code",
   "execution_count": 495,
   "metadata": {},
   "outputs": [
    {
     "name": "stdout",
     "output_type": "stream",
     "text": [
      "     failures\n",
      "0.0       293\n",
      "1.0        49\n",
      "2.0        16\n",
      "3.0        15\n"
     ]
    },
    {
     "data": {
      "image/png": "[encoded data removed]",
      "text/plain": [
       "<Figure size 432x288 with 1 Axes>"
      ]
     },
     "metadata": {
      "needs_background": "light"
     },
     "output_type": "display_data"
    }
   ],
   "source": [
    "for col in ['failures']:\n",
    "    counts(col)\n",
    "    histogr(col)"
   ]
  },
  {
   "cell_type": "markdown",
   "metadata": {},
   "source": [
    "Ощибок нет, есть пустые значения."
   ]
  },
  {
   "cell_type": "code",
   "execution_count": 496,
   "metadata": {},
   "outputs": [],
   "source": [
    "for col in ['failures']:\n",
    "    replace_None(col)\n",
    "    nan_None(col)"
   ]
  },
  {
   "cell_type": "markdown",
   "metadata": {},
   "source": [
    "### schoolsup"
   ]
  },
  {
   "cell_type": "code",
   "execution_count": 497,
   "metadata": {},
   "outputs": [
    {
     "name": "stdout",
     "output_type": "stream",
     "text": [
      "count     386\n",
      "unique      2\n",
      "top        no\n",
      "freq      335\n",
      "Name: schoolsup, dtype: object\n"
     ]
    },
    {
     "data": {
      "image/png": "[encoded data removed]",
      "text/plain": [
       "<Figure size 432x288 with 1 Axes>"
      ]
     },
     "metadata": {
      "needs_background": "light"
     },
     "output_type": "display_data"
    }
   ],
   "source": [
    "for col in ['schoolsup']:\n",
    "    histogr(col)\n",
    "    describe(col)"
   ]
  },
  {
   "cell_type": "markdown",
   "metadata": {},
   "source": [
    "Ошибок нет, есть пустые значения. В основном у учеников нет дополнительной образовательной поддержки."
   ]
  },
  {
   "cell_type": "code",
   "execution_count": 498,
   "metadata": {},
   "outputs": [],
   "source": [
    "for col in ['schoolsup']:\n",
    "    replace_None(col)\n",
    "    nan_None(col)"
   ]
  },
  {
   "cell_type": "markdown",
   "metadata": {},
   "source": [
    "### famsup"
   ]
  },
  {
   "cell_type": "code",
   "execution_count": 499,
   "metadata": {},
   "outputs": [
    {
     "name": "stdout",
     "output_type": "stream",
     "text": [
      "count     356\n",
      "unique      2\n",
      "top       yes\n",
      "freq      219\n",
      "Name: famsup, dtype: object\n"
     ]
    },
    {
     "data": {
      "image/png": "[encoded data removed]",
      "text/plain": [
       "<Figure size 432x288 with 1 Axes>"
      ]
     },
     "metadata": {
      "needs_background": "light"
     },
     "output_type": "display_data"
    }
   ],
   "source": [
    "for col in ['famsup']:\n",
    "    histogr(col)\n",
    "    describe(col)"
   ]
  },
  {
   "cell_type": "markdown",
   "metadata": {},
   "source": [
    "Ошибок нет, есть пустые значения. У большей части студентов есть семейная образовательная поддержка."
   ]
  },
  {
   "cell_type": "code",
   "execution_count": 500,
   "metadata": {},
   "outputs": [],
   "source": [
    "for col in ['famsup']:\n",
    "    replace_None(col)\n",
    "    nan_None(col)"
   ]
  },
  {
   "cell_type": "markdown",
   "metadata": {},
   "source": [
    "### paid"
   ]
  },
  {
   "cell_type": "code",
   "execution_count": 501,
   "metadata": {},
   "outputs": [
    {
     "name": "stdout",
     "output_type": "stream",
     "text": [
      "count     355\n",
      "unique      2\n",
      "top        no\n",
      "freq      200\n",
      "Name: paid, dtype: object\n"
     ]
    },
    {
     "data": {
      "image/png": "[encoded data removed]",
      "text/plain": [
       "<Figure size 432x288 with 1 Axes>"
      ]
     },
     "metadata": {
      "needs_background": "light"
     },
     "output_type": "display_data"
    }
   ],
   "source": [
    "for col in ['paid']:\n",
    "    histogr(col)\n",
    "    describe(col)"
   ]
  },
  {
   "cell_type": "markdown",
   "metadata": {},
   "source": [
    "Ошибок нет, есть множество пропущенных значений. Большая часть студентов не ходят на дополнителные платные занятия по математике."
   ]
  },
  {
   "cell_type": "code",
   "execution_count": 502,
   "metadata": {},
   "outputs": [],
   "source": [
    "for col in ['paid']:\n",
    "    replace_None(col)\n",
    "    nan_None(col)"
   ]
  },
  {
   "cell_type": "markdown",
   "metadata": {},
   "source": [
    "### activities"
   ]
  },
  {
   "cell_type": "code",
   "execution_count": 503,
   "metadata": {},
   "outputs": [
    {
     "name": "stdout",
     "output_type": "stream",
     "text": [
      "count     381\n",
      "unique      2\n",
      "top       yes\n",
      "freq      195\n",
      "Name: activities, dtype: object\n"
     ]
    },
    {
     "data": {
      "image/png": "[encoded data removed]",
      "text/plain": [
       "<Figure size 432x288 with 1 Axes>"
      ]
     },
     "metadata": {
      "needs_background": "light"
     },
     "output_type": "display_data"
    }
   ],
   "source": [
    "for col in ['activities']:\n",
    "    histogr(col)\n",
    "    describe(col)"
   ]
  },
  {
   "cell_type": "markdown",
   "metadata": {},
   "source": [
    "Ошибок нет. Есть пустые значения. Практически одинаковое количество студентов как посещают, так и не посещают дополнительные внеучебные занятия."
   ]
  },
  {
   "cell_type": "code",
   "execution_count": 504,
   "metadata": {},
   "outputs": [],
   "source": [
    "for col in ['activities']:\n",
    "    replace_None(col)\n",
    "    nan_None(col)"
   ]
  },
  {
   "cell_type": "markdown",
   "metadata": {},
   "source": [
    "### nursery"
   ]
  },
  {
   "cell_type": "code",
   "execution_count": 505,
   "metadata": {},
   "outputs": [
    {
     "name": "stdout",
     "output_type": "stream",
     "text": [
      "count     379\n",
      "unique      2\n",
      "top       yes\n",
      "freq      300\n",
      "Name: nursery, dtype: object\n"
     ]
    },
    {
     "data": {
      "image/png": "[encoded data removed]",
      "text/plain": [
       "<Figure size 432x288 with 1 Axes>"
      ]
     },
     "metadata": {
      "needs_background": "light"
     },
     "output_type": "display_data"
    }
   ],
   "source": [
    "for col in ['nursery']:\n",
    "    histogr(col)\n",
    "    describe(col)"
   ]
  },
  {
   "cell_type": "markdown",
   "metadata": {},
   "source": [
    "Основная часть студентов посещали детский сад. Ошибок нет. Есть пустые значения."
   ]
  },
  {
   "cell_type": "code",
   "execution_count": 506,
   "metadata": {},
   "outputs": [],
   "source": [
    "for col in ['nursery']:\n",
    "    replace_None(col)\n",
    "    nan_None(col)"
   ]
  },
  {
   "cell_type": "markdown",
   "metadata": {},
   "source": [
    "### higher"
   ]
  },
  {
   "cell_type": "code",
   "execution_count": 507,
   "metadata": {},
   "outputs": [
    {
     "name": "stdout",
     "output_type": "stream",
     "text": [
      "count     375\n",
      "unique      2\n",
      "top       yes\n",
      "freq      356\n",
      "Name: higher, dtype: object\n"
     ]
    },
    {
     "data": {
      "image/png": "[encoded data removed]",
      "text/plain": [
       "<Figure size 432x288 with 1 Axes>"
      ]
     },
     "metadata": {
      "needs_background": "light"
     },
     "output_type": "display_data"
    }
   ],
   "source": [
    "for col in ['higher']:\n",
    "    histogr(col)\n",
    "    describe(col)"
   ]
  },
  {
   "cell_type": "markdown",
   "metadata": {},
   "source": [
    "Основная часть студенттов хотят получить высшее образование. Ошибок нет, есть пустые значения."
   ]
  },
  {
   "cell_type": "code",
   "execution_count": 508,
   "metadata": {},
   "outputs": [],
   "source": [
    "for col in ['higher']:\n",
    "    replace_None(col)\n",
    "    nan_None(col)"
   ]
  },
  {
   "cell_type": "markdown",
   "metadata": {},
   "source": [
    "### internet"
   ]
  },
  {
   "cell_type": "code",
   "execution_count": 509,
   "metadata": {},
   "outputs": [
    {
     "name": "stdout",
     "output_type": "stream",
     "text": [
      "count     361\n",
      "unique      2\n",
      "top       yes\n",
      "freq      305\n",
      "Name: internet, dtype: object\n"
     ]
    },
    {
     "data": {
      "image/png": "[encoded data removed]",
      "text/plain": [
       "<Figure size 432x288 with 1 Axes>"
      ]
     },
     "metadata": {
      "needs_background": "light"
     },
     "output_type": "display_data"
    }
   ],
   "source": [
    "for col in ['internet']:\n",
    "    histogr(col)\n",
    "    describe(col)"
   ]
  },
  {
   "cell_type": "markdown",
   "metadata": {},
   "source": [
    "Основная часть студентов имеют интернет. Ошибок нет, есть пустые значения. "
   ]
  },
  {
   "cell_type": "code",
   "execution_count": 510,
   "metadata": {},
   "outputs": [],
   "source": [
    "for col in ['internet']:\n",
    "    replace_None(col)\n",
    "    nan_None(col)"
   ]
  },
  {
   "cell_type": "markdown",
   "metadata": {},
   "source": [
    "### romantic"
   ]
  },
  {
   "cell_type": "code",
   "execution_count": 511,
   "metadata": {},
   "outputs": [
    {
     "name": "stdout",
     "output_type": "stream",
     "text": [
      "count     364\n",
      "unique      2\n",
      "top        no\n",
      "freq      240\n",
      "Name: romantic, dtype: object\n"
     ]
    },
    {
     "data": {
      "image/png": "[encoded data removed]",
      "text/plain": [
       "<Figure size 432x288 with 1 Axes>"
      ]
     },
     "metadata": {
      "needs_background": "light"
     },
     "output_type": "display_data"
    }
   ],
   "source": [
    "for col in ['romantic']:\n",
    "    histogr(col)\n",
    "    describe(col)"
   ]
  },
  {
   "cell_type": "markdown",
   "metadata": {},
   "source": [
    "Большая часть студентов не имеют романтические отношения. Ошибок нет, есть пустые значения. "
   ]
  },
  {
   "cell_type": "code",
   "execution_count": 512,
   "metadata": {},
   "outputs": [],
   "source": [
    "for col in ['romantic']:\n",
    "    replace_None(col)\n",
    "    nan_None(col)"
   ]
  },
  {
   "cell_type": "markdown",
   "metadata": {},
   "source": [
    "### famrel"
   ]
  },
  {
   "cell_type": "code",
   "execution_count": 513,
   "metadata": {},
   "outputs": [
    {
     "name": "stdout",
     "output_type": "stream",
     "text": [
      "      famrel\n",
      " 4.0     182\n",
      " 5.0      99\n",
      " 3.0      62\n",
      " 2.0      17\n",
      " 1.0       7\n",
      "-1.0       1\n"
     ]
    },
    {
     "data": {
      "image/png": "[encoded data removed]",
      "text/plain": [
       "<Figure size 432x288 with 1 Axes>"
      ]
     },
     "metadata": {
      "needs_background": "light"
     },
     "output_type": "display_data"
    }
   ],
   "source": [
    "for col in ['famrel']:\n",
    "    histogr(col)\n",
    "    counts(col)"
   ]
  },
  {
   "cell_type": "markdown",
   "metadata": {},
   "source": [
    "Имеется одно ошибочное значение -1. Вероятнее всего это опечатка, поэтому заменим данное значение на 1."
   ]
  },
  {
   "cell_type": "code",
   "execution_count": 514,
   "metadata": {},
   "outputs": [
    {
     "name": "stdout",
     "output_type": "stream",
     "text": [
      "     famrel\n",
      "4.0     182\n",
      "5.0      99\n",
      "3.0      62\n",
      "2.0      17\n",
      "1.0       8\n"
     ]
    }
   ],
   "source": [
    "for col in ['famrel']:\n",
    "    replace_value(col, -1.0, 1.0)\n",
    "    counts(col)"
   ]
  },
  {
   "cell_type": "markdown",
   "metadata": {},
   "source": [
    "Теперь ошибок нет, но есть пропуски."
   ]
  },
  {
   "cell_type": "code",
   "execution_count": 515,
   "metadata": {},
   "outputs": [],
   "source": [
    "for col in ['famrel']:\n",
    "    replace_None(col)\n",
    "    nan_None(col)"
   ]
  },
  {
   "cell_type": "markdown",
   "metadata": {},
   "source": [
    "### freetime"
   ]
  },
  {
   "cell_type": "code",
   "execution_count": 516,
   "metadata": {},
   "outputs": [
    {
     "name": "stdout",
     "output_type": "stream",
     "text": [
      "     freetime\n",
      "3.0       153\n",
      "4.0       112\n",
      "2.0        63\n",
      "5.0        38\n",
      "1.0        18\n"
     ]
    },
    {
     "data": {
      "image/png": "[encoded data removed]",
      "text/plain": [
       "<Figure size 432x288 with 1 Axes>"
      ]
     },
     "metadata": {
      "needs_background": "light"
     },
     "output_type": "display_data"
    }
   ],
   "source": [
    "for col in ['freetime']:\n",
    "    counts(col)\n",
    "    histogr(col)"
   ]
  },
  {
   "cell_type": "markdown",
   "metadata": {},
   "source": [
    "Ошибок нет, но есть пустые значения."
   ]
  },
  {
   "cell_type": "code",
   "execution_count": 517,
   "metadata": {},
   "outputs": [],
   "source": [
    "for col in ['freetime']:\n",
    "    replace_None(col)\n",
    "    nan_None(col)"
   ]
  },
  {
   "cell_type": "markdown",
   "metadata": {},
   "source": [
    "### goout"
   ]
  },
  {
   "cell_type": "code",
   "execution_count": 518,
   "metadata": {},
   "outputs": [
    {
     "name": "stdout",
     "output_type": "stream",
     "text": [
      "     goout\n",
      "3.0    127\n",
      "2.0    101\n",
      "4.0     84\n",
      "5.0     52\n",
      "1.0     23\n"
     ]
    },
    {
     "data": {
      "image/png": "[encoded data removed]",
      "text/plain": [
       "<Figure size 432x288 with 1 Axes>"
      ]
     },
     "metadata": {
      "needs_background": "light"
     },
     "output_type": "display_data"
    }
   ],
   "source": [
    "for col in ['goout']:\n",
    "    counts(col)\n",
    "    histogr(col)"
   ]
  },
  {
   "cell_type": "markdown",
   "metadata": {},
   "source": [
    "Ошибок нет, есть пустые значения."
   ]
  },
  {
   "cell_type": "code",
   "execution_count": 519,
   "metadata": {},
   "outputs": [],
   "source": [
    "for col in ['goout']:\n",
    "    replace_None(col)\n",
    "    nan_None(col)"
   ]
  },
  {
   "cell_type": "markdown",
   "metadata": {},
   "source": [
    "### health"
   ]
  },
  {
   "cell_type": "code",
   "execution_count": 520,
   "metadata": {},
   "outputs": [
    {
     "name": "stdout",
     "output_type": "stream",
     "text": [
      "     health\n",
      "5.0     138\n",
      "3.0      89\n",
      "4.0      63\n",
      "1.0      47\n",
      "2.0      43\n"
     ]
    },
    {
     "data": {
      "image/png": "[encoded data removed]",
      "text/plain": [
       "<Figure size 432x288 with 1 Axes>"
      ]
     },
     "metadata": {
      "needs_background": "light"
     },
     "output_type": "display_data"
    }
   ],
   "source": [
    "for col in ['health']:\n",
    "    counts(col)\n",
    "    histogr(col)"
   ]
  },
  {
   "cell_type": "markdown",
   "metadata": {},
   "source": [
    "В основном у студентов очень хорошее здоровье. Ошибок нет, есть пустые значения."
   ]
  },
  {
   "cell_type": "code",
   "execution_count": 521,
   "metadata": {},
   "outputs": [],
   "source": [
    "for col in ['health']:\n",
    "    replace_None(col)\n",
    "    nan_None(col)"
   ]
  },
  {
   "cell_type": "markdown",
   "metadata": {},
   "source": [
    "### absences"
   ]
  },
  {
   "cell_type": "code",
   "execution_count": 522,
   "metadata": {},
   "outputs": [
    {
     "name": "stdout",
     "output_type": "stream",
     "text": [
      "count    383.000000\n",
      "mean       7.279373\n",
      "std       23.465197\n",
      "min        0.000000\n",
      "25%        0.000000\n",
      "50%        4.000000\n",
      "75%        8.000000\n",
      "max      385.000000\n",
      "Name: absences, dtype: float64\n"
     ]
    },
    {
     "data": {
      "image/png": "[encoded data removed]",
      "text/plain": [
       "<Figure size 432x288 with 1 Axes>"
      ]
     },
     "metadata": {
      "needs_background": "light"
     },
     "output_type": "display_data"
    }
   ],
   "source": [
    "for col in ['absences']:\n",
    "    histogr(col)\n",
    "    describe(col)"
   ]
  },
  {
   "cell_type": "markdown",
   "metadata": {},
   "source": [
    "В основном студенты не пропускают занятия, либо пропускают незначительно. Есть один студент, у которого 385 пропуском, что скорее всего является ошибкой. Отфильтруем данные. Воспользуемся формулой межквартильного размаха."
   ]
  },
  {
   "cell_type": "code",
   "execution_count": 523,
   "metadata": {},
   "outputs": [
    {
     "name": "stdout",
     "output_type": "stream",
     "text": [
      "25-й перцентиль: 0.0, 75-й перцентиль: 8.0 IQR:8.0, Границы выбросов:[-12.0, 20.0]\n"
     ]
    },
    {
     "data": {
      "image/png": "[encoded data removed]",
      "text/plain": [
       "<Figure size 432x288 with 1 Axes>"
      ]
     },
     "metadata": {
      "needs_background": "light"
     },
     "output_type": "display_data"
    }
   ],
   "source": [
    "medisn=students.absences.median()\n",
    "IQR=students.absences.quantile(0.75)-students.absences.quantile(0.25)\n",
    "perc25=students.absences.quantile(0.25)\n",
    "perc75=students.absences.quantile(0.75)\n",
    "print('25-й перцентиль: {},'.format(perc25), '75-й перцентиль: {}'.format(perc75), 'IQR:{},'.format(IQR), 'Границы выбросов:[{f}, {l}]'.format(f=perc25-1.5*IQR, l=perc75+1.5*IQR))\n",
    "students.absences.loc[students.absences.between(perc25-1.5*IQR, perc75+1.5*IQR)].hist(bins=16,range=(-20,100), label='IQR')\n",
    "students.absences.loc[students.absences<=400].hist(alpha=0.5, bins=16, range=(-20,100), label='Здравый смысл')\n",
    "plt.legend()\n",
    "plt.show()\n",
    "#отфильтруем\n",
    "students=students.loc[students.absences.between(perc25-1.5*IQR,perc75+1.5*IQR)]"
   ]
  },
  {
   "cell_type": "code",
   "execution_count": 524,
   "metadata": {},
   "outputs": [
    {
     "name": "stdout",
     "output_type": "stream",
     "text": [
      "      absences\n",
      "0.0        111\n",
      "2.0         60\n",
      "4.0         53\n",
      "6.0         31\n",
      "8.0         21\n",
      "10.0        17\n",
      "12.0        12\n",
      "14.0        12\n",
      "3.0          8\n",
      "16.0         7\n",
      "7.0          6\n",
      "18.0         5\n",
      "5.0          5\n",
      "20.0         4\n",
      "1.0          3\n",
      "9.0          3\n",
      "11.0         2\n",
      "13.0         2\n",
      "15.0         2\n",
      "19.0         1\n",
      "17.0         1\n"
     ]
    },
    {
     "data": {
      "image/png": "[encoded data removed]",
      "text/plain": [
       "<Figure size 432x288 with 1 Axes>"
      ]
     },
     "metadata": {
      "needs_background": "light"
     },
     "output_type": "display_data"
    }
   ],
   "source": [
    "for col in ['absences']:\n",
    "    histogr(col)\n",
    "    counts(col)"
   ]
  },
  {
   "cell_type": "markdown",
   "metadata": {},
   "source": [
    "Теперь данные не имеют выбросов. Но имеются пустые значения. Заполним их None."
   ]
  },
  {
   "cell_type": "code",
   "execution_count": 525,
   "metadata": {},
   "outputs": [],
   "source": [
    "for col in ['absences']:\n",
    "    replace_None(col)\n",
    "    nan_None(col)"
   ]
  },
  {
   "cell_type": "markdown",
   "metadata": {},
   "source": [
    "### score"
   ]
  },
  {
   "cell_type": "markdown",
   "metadata": {},
   "source": [
    "Теперь рассмотрим основной параметр. Так как этот параметр числовой, рассмотрим его распределение."
   ]
  },
  {
   "cell_type": "code",
   "execution_count": 526,
   "metadata": {},
   "outputs": [
    {
     "name": "stdout",
     "output_type": "stream",
     "text": [
      "       score\n",
      "50.0      53\n",
      "55.0      42\n",
      "0.0       36\n",
      "75.0      31\n",
      "65.0      30\n",
      "60.0      29\n",
      "70.0      27\n",
      "40.0      26\n",
      "45.0      23\n",
      "80.0      16\n",
      "30.0      14\n",
      "35.0       9\n",
      "90.0       9\n",
      "25.0       7\n",
      "95.0       5\n",
      "85.0       3\n",
      "100.0      1\n"
     ]
    },
    {
     "data": {
      "image/png": "[encoded data removed]",
      "text/plain": [
       "<Figure size 432x288 with 1 Axes>"
      ]
     },
     "metadata": {
      "needs_background": "light"
     },
     "output_type": "display_data"
    }
   ],
   "source": [
    "for col in ['score']:\n",
    "    #describe(col)\n",
    "    counts(col)\n",
    "    histogr(col)\n"
   ]
  },
  {
   "cell_type": "markdown",
   "metadata": {},
   "source": [
    "Как можно увидеть из данных, используется 100-бальная щкала оценивания. Небольшое количество студнтов получили от 0 до 10 баллов, что вполне возможно. Основная часть студентов получили от 50 до 60 баллов. Также есть один студент, который получил 100 баллов, что тоже вполне возможно."
   ]
  },
  {
   "cell_type": "markdown",
   "metadata": {},
   "source": [
    "В данных выбросов нет. Есть пропуски. Заменим их на None. Также nan заменим на None."
   ]
  },
  {
   "cell_type": "code",
   "execution_count": 527,
   "metadata": {},
   "outputs": [
    {
     "name": "stdout",
     "output_type": "stream",
     "text": [
      "       score\n",
      "50.0      53\n",
      "55.0      42\n",
      "0.0       36\n",
      "75.0      31\n",
      "65.0      30\n",
      "60.0      29\n",
      "70.0      27\n",
      "40.0      26\n",
      "45.0      23\n",
      "80.0      16\n",
      "30.0      14\n",
      "35.0       9\n",
      "90.0       9\n",
      "25.0       7\n",
      "95.0       5\n",
      "85.0       3\n",
      "100.0      1\n"
     ]
    }
   ],
   "source": [
    "for col in ['score']:\n",
    "    replace_None(col)\n",
    "    nan_None(col)\n",
    "    counts(col)"
   ]
  },
  {
   "cell_type": "markdown",
   "metadata": {},
   "source": [
    "## Работа с пропущенными значениями"
   ]
  },
  {
   "cell_type": "markdown",
   "metadata": {},
   "source": [
    "Как можно было заметить из анализа каждого столбца, пустых значений в датасете много. Если удалить все строки со значением None, то останется мало данных. И это может привети к тому, что будет недостаточно данных для выявления какой-либо закономерности. Если каждый пропуск заменить модой, средним или медианой, то это может привести к тому, что модель будет давать ложную информацию. В среднем пропущенных значений в каждом столбце 10%. Поэтому принято решение в столбцах, где количество пропусков менее 10%, заменять None на моду. В противном случае удалять строку."
   ]
  },
  {
   "cell_type": "markdown",
   "metadata": {},
   "source": [
    "Удалим строки со значениями None в столбцах Pstatus, paid."
   ]
  },
  {
   "cell_type": "code",
   "execution_count": 528,
   "metadata": {},
   "outputs": [
    {
     "data": {
      "text/html": [
       "<div>\n",
       "<style scoped>\n",
       "    .dataframe tbody tr th:only-of-type {\n",
       "        vertical-align: middle;\n",
       "    }\n",
       "\n",
       "    .dataframe tbody tr th {\n",
       "        vertical-align: top;\n",
       "    }\n",
       "\n",
       "    .dataframe thead th {\n",
       "        text-align: right;\n",
       "    }\n",
       "</style>\n",
       "<table border=\"1\" class=\"dataframe\">\n",
       "  <thead>\n",
       "    <tr style=\"text-align: right;\">\n",
       "      <th></th>\n",
       "      <th>school</th>\n",
       "      <th>sex</th>\n",
       "      <th>age</th>\n",
       "      <th>address</th>\n",
       "      <th>famsize</th>\n",
       "      <th>Pstatus</th>\n",
       "      <th>Medu</th>\n",
       "      <th>Fedu</th>\n",
       "      <th>Mjob</th>\n",
       "      <th>Fjob</th>\n",
       "      <th>reason</th>\n",
       "      <th>guardian</th>\n",
       "      <th>traveltime</th>\n",
       "      <th>studytime</th>\n",
       "      <th>failures</th>\n",
       "      <th>schoolsup</th>\n",
       "      <th>famsup</th>\n",
       "      <th>paid</th>\n",
       "      <th>activities</th>\n",
       "      <th>nursery</th>\n",
       "      <th>higher</th>\n",
       "      <th>internet</th>\n",
       "      <th>romantic</th>\n",
       "      <th>famrel</th>\n",
       "      <th>freetime</th>\n",
       "      <th>goout</th>\n",
       "      <th>health</th>\n",
       "      <th>absences</th>\n",
       "      <th>score</th>\n",
       "    </tr>\n",
       "  </thead>\n",
       "  <tbody>\n",
       "    <tr>\n",
       "      <th>0</th>\n",
       "      <td>GP</td>\n",
       "      <td>F</td>\n",
       "      <td>18</td>\n",
       "      <td>U</td>\n",
       "      <td>None</td>\n",
       "      <td>A</td>\n",
       "      <td>4.0</td>\n",
       "      <td>4.0</td>\n",
       "      <td>at_home</td>\n",
       "      <td>teacher</td>\n",
       "      <td>course</td>\n",
       "      <td>mother</td>\n",
       "      <td>2.0</td>\n",
       "      <td>2.0</td>\n",
       "      <td>0.0</td>\n",
       "      <td>yes</td>\n",
       "      <td>no</td>\n",
       "      <td>no</td>\n",
       "      <td>no</td>\n",
       "      <td>yes</td>\n",
       "      <td>yes</td>\n",
       "      <td>None</td>\n",
       "      <td>no</td>\n",
       "      <td>4.0</td>\n",
       "      <td>3.0</td>\n",
       "      <td>4.0</td>\n",
       "      <td>3.0</td>\n",
       "      <td>6.0</td>\n",
       "      <td>30.0</td>\n",
       "    </tr>\n",
       "    <tr>\n",
       "      <th>1</th>\n",
       "      <td>GP</td>\n",
       "      <td>F</td>\n",
       "      <td>17</td>\n",
       "      <td>U</td>\n",
       "      <td>GT3</td>\n",
       "      <td>None</td>\n",
       "      <td>1.0</td>\n",
       "      <td>1.0</td>\n",
       "      <td>at_home</td>\n",
       "      <td>other</td>\n",
       "      <td>course</td>\n",
       "      <td>father</td>\n",
       "      <td>1.0</td>\n",
       "      <td>2.0</td>\n",
       "      <td>0.0</td>\n",
       "      <td>no</td>\n",
       "      <td>yes</td>\n",
       "      <td>no</td>\n",
       "      <td>no</td>\n",
       "      <td>no</td>\n",
       "      <td>yes</td>\n",
       "      <td>yes</td>\n",
       "      <td>no</td>\n",
       "      <td>5.0</td>\n",
       "      <td>3.0</td>\n",
       "      <td>3.0</td>\n",
       "      <td>3.0</td>\n",
       "      <td>4.0</td>\n",
       "      <td>30.0</td>\n",
       "    </tr>\n",
       "    <tr>\n",
       "      <th>2</th>\n",
       "      <td>GP</td>\n",
       "      <td>F</td>\n",
       "      <td>15</td>\n",
       "      <td>U</td>\n",
       "      <td>LE3</td>\n",
       "      <td>T</td>\n",
       "      <td>1.0</td>\n",
       "      <td>1.0</td>\n",
       "      <td>at_home</td>\n",
       "      <td>other</td>\n",
       "      <td>other</td>\n",
       "      <td>mother</td>\n",
       "      <td>1.0</td>\n",
       "      <td>2.0</td>\n",
       "      <td>3.0</td>\n",
       "      <td>yes</td>\n",
       "      <td>no</td>\n",
       "      <td>None</td>\n",
       "      <td>no</td>\n",
       "      <td>yes</td>\n",
       "      <td>yes</td>\n",
       "      <td>yes</td>\n",
       "      <td>None</td>\n",
       "      <td>4.0</td>\n",
       "      <td>3.0</td>\n",
       "      <td>2.0</td>\n",
       "      <td>3.0</td>\n",
       "      <td>10.0</td>\n",
       "      <td>50.0</td>\n",
       "    </tr>\n",
       "    <tr>\n",
       "      <th>3</th>\n",
       "      <td>GP</td>\n",
       "      <td>F</td>\n",
       "      <td>15</td>\n",
       "      <td>U</td>\n",
       "      <td>GT3</td>\n",
       "      <td>T</td>\n",
       "      <td>4.0</td>\n",
       "      <td>2.0</td>\n",
       "      <td>health</td>\n",
       "      <td>None</td>\n",
       "      <td>home</td>\n",
       "      <td>mother</td>\n",
       "      <td>1.0</td>\n",
       "      <td>3.0</td>\n",
       "      <td>0.0</td>\n",
       "      <td>no</td>\n",
       "      <td>yes</td>\n",
       "      <td>yes</td>\n",
       "      <td>yes</td>\n",
       "      <td>yes</td>\n",
       "      <td>yes</td>\n",
       "      <td>yes</td>\n",
       "      <td>yes</td>\n",
       "      <td>3.0</td>\n",
       "      <td>2.0</td>\n",
       "      <td>2.0</td>\n",
       "      <td>5.0</td>\n",
       "      <td>2.0</td>\n",
       "      <td>75.0</td>\n",
       "    </tr>\n",
       "    <tr>\n",
       "      <th>4</th>\n",
       "      <td>GP</td>\n",
       "      <td>F</td>\n",
       "      <td>16</td>\n",
       "      <td>U</td>\n",
       "      <td>GT3</td>\n",
       "      <td>T</td>\n",
       "      <td>3.0</td>\n",
       "      <td>3.0</td>\n",
       "      <td>other</td>\n",
       "      <td>other</td>\n",
       "      <td>home</td>\n",
       "      <td>father</td>\n",
       "      <td>1.0</td>\n",
       "      <td>2.0</td>\n",
       "      <td>0.0</td>\n",
       "      <td>no</td>\n",
       "      <td>yes</td>\n",
       "      <td>yes</td>\n",
       "      <td>no</td>\n",
       "      <td>yes</td>\n",
       "      <td>yes</td>\n",
       "      <td>no</td>\n",
       "      <td>no</td>\n",
       "      <td>4.0</td>\n",
       "      <td>3.0</td>\n",
       "      <td>2.0</td>\n",
       "      <td>5.0</td>\n",
       "      <td>4.0</td>\n",
       "      <td>50.0</td>\n",
       "    </tr>\n",
       "    <tr>\n",
       "      <th>...</th>\n",
       "      <td>...</td>\n",
       "      <td>...</td>\n",
       "      <td>...</td>\n",
       "      <td>...</td>\n",
       "      <td>...</td>\n",
       "      <td>...</td>\n",
       "      <td>...</td>\n",
       "      <td>...</td>\n",
       "      <td>...</td>\n",
       "      <td>...</td>\n",
       "      <td>...</td>\n",
       "      <td>...</td>\n",
       "      <td>...</td>\n",
       "      <td>...</td>\n",
       "      <td>...</td>\n",
       "      <td>...</td>\n",
       "      <td>...</td>\n",
       "      <td>...</td>\n",
       "      <td>...</td>\n",
       "      <td>...</td>\n",
       "      <td>...</td>\n",
       "      <td>...</td>\n",
       "      <td>...</td>\n",
       "      <td>...</td>\n",
       "      <td>...</td>\n",
       "      <td>...</td>\n",
       "      <td>...</td>\n",
       "      <td>...</td>\n",
       "      <td>...</td>\n",
       "    </tr>\n",
       "    <tr>\n",
       "      <th>389</th>\n",
       "      <td>MS</td>\n",
       "      <td>F</td>\n",
       "      <td>18</td>\n",
       "      <td>U</td>\n",
       "      <td>GT3</td>\n",
       "      <td>T</td>\n",
       "      <td>1.0</td>\n",
       "      <td>1.0</td>\n",
       "      <td>other</td>\n",
       "      <td>other</td>\n",
       "      <td>course</td>\n",
       "      <td>mother</td>\n",
       "      <td>None</td>\n",
       "      <td>2.0</td>\n",
       "      <td>1.0</td>\n",
       "      <td>no</td>\n",
       "      <td>no</td>\n",
       "      <td>no</td>\n",
       "      <td>yes</td>\n",
       "      <td>yes</td>\n",
       "      <td>yes</td>\n",
       "      <td>None</td>\n",
       "      <td>no</td>\n",
       "      <td>1.0</td>\n",
       "      <td>1.0</td>\n",
       "      <td>1.0</td>\n",
       "      <td>5.0</td>\n",
       "      <td>0.0</td>\n",
       "      <td>0.0</td>\n",
       "    </tr>\n",
       "    <tr>\n",
       "      <th>391</th>\n",
       "      <td>MS</td>\n",
       "      <td>M</td>\n",
       "      <td>17</td>\n",
       "      <td>U</td>\n",
       "      <td>LE3</td>\n",
       "      <td>T</td>\n",
       "      <td>3.0</td>\n",
       "      <td>1.0</td>\n",
       "      <td>services</td>\n",
       "      <td>services</td>\n",
       "      <td>course</td>\n",
       "      <td>mother</td>\n",
       "      <td>2.0</td>\n",
       "      <td>1.0</td>\n",
       "      <td>0.0</td>\n",
       "      <td>no</td>\n",
       "      <td>no</td>\n",
       "      <td>no</td>\n",
       "      <td>no</td>\n",
       "      <td>no</td>\n",
       "      <td>yes</td>\n",
       "      <td>yes</td>\n",
       "      <td>no</td>\n",
       "      <td>2.0</td>\n",
       "      <td>4.0</td>\n",
       "      <td>5.0</td>\n",
       "      <td>2.0</td>\n",
       "      <td>3.0</td>\n",
       "      <td>80.0</td>\n",
       "    </tr>\n",
       "    <tr>\n",
       "      <th>392</th>\n",
       "      <td>MS</td>\n",
       "      <td>M</td>\n",
       "      <td>21</td>\n",
       "      <td>R</td>\n",
       "      <td>GT3</td>\n",
       "      <td>T</td>\n",
       "      <td>1.0</td>\n",
       "      <td>1.0</td>\n",
       "      <td>other</td>\n",
       "      <td>other</td>\n",
       "      <td>course</td>\n",
       "      <td>None</td>\n",
       "      <td>1.0</td>\n",
       "      <td>1.0</td>\n",
       "      <td>3.0</td>\n",
       "      <td>None</td>\n",
       "      <td>no</td>\n",
       "      <td>no</td>\n",
       "      <td>no</td>\n",
       "      <td>no</td>\n",
       "      <td>None</td>\n",
       "      <td>no</td>\n",
       "      <td>no</td>\n",
       "      <td>5.0</td>\n",
       "      <td>5.0</td>\n",
       "      <td>3.0</td>\n",
       "      <td>3.0</td>\n",
       "      <td>3.0</td>\n",
       "      <td>35.0</td>\n",
       "    </tr>\n",
       "    <tr>\n",
       "      <th>393</th>\n",
       "      <td>MS</td>\n",
       "      <td>M</td>\n",
       "      <td>18</td>\n",
       "      <td>R</td>\n",
       "      <td>LE3</td>\n",
       "      <td>T</td>\n",
       "      <td>3.0</td>\n",
       "      <td>2.0</td>\n",
       "      <td>services</td>\n",
       "      <td>other</td>\n",
       "      <td>course</td>\n",
       "      <td>mother</td>\n",
       "      <td>3.0</td>\n",
       "      <td>1.0</td>\n",
       "      <td>0.0</td>\n",
       "      <td>no</td>\n",
       "      <td>no</td>\n",
       "      <td>no</td>\n",
       "      <td>None</td>\n",
       "      <td>no</td>\n",
       "      <td>yes</td>\n",
       "      <td>yes</td>\n",
       "      <td>no</td>\n",
       "      <td>4.0</td>\n",
       "      <td>4.0</td>\n",
       "      <td>1.0</td>\n",
       "      <td>5.0</td>\n",
       "      <td>0.0</td>\n",
       "      <td>50.0</td>\n",
       "    </tr>\n",
       "    <tr>\n",
       "      <th>394</th>\n",
       "      <td>MS</td>\n",
       "      <td>M</td>\n",
       "      <td>19</td>\n",
       "      <td>U</td>\n",
       "      <td>LE3</td>\n",
       "      <td>T</td>\n",
       "      <td>1.0</td>\n",
       "      <td>1.0</td>\n",
       "      <td>other</td>\n",
       "      <td>at_home</td>\n",
       "      <td>None</td>\n",
       "      <td>father</td>\n",
       "      <td>1.0</td>\n",
       "      <td>1.0</td>\n",
       "      <td>0.0</td>\n",
       "      <td>None</td>\n",
       "      <td>no</td>\n",
       "      <td>no</td>\n",
       "      <td>no</td>\n",
       "      <td>yes</td>\n",
       "      <td>yes</td>\n",
       "      <td>yes</td>\n",
       "      <td>no</td>\n",
       "      <td>3.0</td>\n",
       "      <td>2.0</td>\n",
       "      <td>3.0</td>\n",
       "      <td>5.0</td>\n",
       "      <td>5.0</td>\n",
       "      <td>45.0</td>\n",
       "    </tr>\n",
       "  </tbody>\n",
       "</table>\n",
       "<p>366 rows × 29 columns</p>\n",
       "</div>"
      ],
      "text/plain": [
       "    school sex  age address famsize Pstatus Medu Fedu      Mjob      Fjob  \\\n",
       "0       GP   F   18       U    None       A  4.0  4.0   at_home   teacher   \n",
       "1       GP   F   17       U     GT3    None  1.0  1.0   at_home     other   \n",
       "2       GP   F   15       U     LE3       T  1.0  1.0   at_home     other   \n",
       "3       GP   F   15       U     GT3       T  4.0  2.0    health      None   \n",
       "4       GP   F   16       U     GT3       T  3.0  3.0     other     other   \n",
       "..     ...  ..  ...     ...     ...     ...  ...  ...       ...       ...   \n",
       "389     MS   F   18       U     GT3       T  1.0  1.0     other     other   \n",
       "391     MS   M   17       U     LE3       T  3.0  1.0  services  services   \n",
       "392     MS   M   21       R     GT3       T  1.0  1.0     other     other   \n",
       "393     MS   M   18       R     LE3       T  3.0  2.0  services     other   \n",
       "394     MS   M   19       U     LE3       T  1.0  1.0     other   at_home   \n",
       "\n",
       "     reason guardian traveltime studytime failures schoolsup famsup  paid  \\\n",
       "0    course   mother        2.0       2.0      0.0       yes     no    no   \n",
       "1    course   father        1.0       2.0      0.0        no    yes    no   \n",
       "2     other   mother        1.0       2.0      3.0       yes     no  None   \n",
       "3      home   mother        1.0       3.0      0.0        no    yes   yes   \n",
       "4      home   father        1.0       2.0      0.0        no    yes   yes   \n",
       "..      ...      ...        ...       ...      ...       ...    ...   ...   \n",
       "389  course   mother       None       2.0      1.0        no     no    no   \n",
       "391  course   mother        2.0       1.0      0.0        no     no    no   \n",
       "392  course     None        1.0       1.0      3.0      None     no    no   \n",
       "393  course   mother        3.0       1.0      0.0        no     no    no   \n",
       "394    None   father        1.0       1.0      0.0      None     no    no   \n",
       "\n",
       "    activities nursery higher internet romantic famrel freetime goout health  \\\n",
       "0           no     yes    yes     None       no    4.0      3.0   4.0    3.0   \n",
       "1           no      no    yes      yes       no    5.0      3.0   3.0    3.0   \n",
       "2           no     yes    yes      yes     None    4.0      3.0   2.0    3.0   \n",
       "3          yes     yes    yes      yes      yes    3.0      2.0   2.0    5.0   \n",
       "4           no     yes    yes       no       no    4.0      3.0   2.0    5.0   \n",
       "..         ...     ...    ...      ...      ...    ...      ...   ...    ...   \n",
       "389        yes     yes    yes     None       no    1.0      1.0   1.0    5.0   \n",
       "391         no      no    yes      yes       no    2.0      4.0   5.0    2.0   \n",
       "392         no      no   None       no       no    5.0      5.0   3.0    3.0   \n",
       "393       None      no    yes      yes       no    4.0      4.0   1.0    5.0   \n",
       "394         no     yes    yes      yes       no    3.0      2.0   3.0    5.0   \n",
       "\n",
       "    absences score  \n",
       "0        6.0  30.0  \n",
       "1        4.0  30.0  \n",
       "2       10.0  50.0  \n",
       "3        2.0  75.0  \n",
       "4        4.0  50.0  \n",
       "..       ...   ...  \n",
       "389      0.0   0.0  \n",
       "391      3.0  80.0  \n",
       "392      3.0  35.0  \n",
       "393      0.0  50.0  \n",
       "394      5.0  45.0  \n",
       "\n",
       "[366 rows x 29 columns]"
      ]
     },
     "metadata": {},
     "output_type": "display_data"
    }
   ],
   "source": [
    "display(students)"
   ]
  },
  {
   "cell_type": "code",
   "execution_count": 529,
   "metadata": {},
   "outputs": [
    {
     "data": {
      "text/html": [
       "<div>\n",
       "<style scoped>\n",
       "    .dataframe tbody tr th:only-of-type {\n",
       "        vertical-align: middle;\n",
       "    }\n",
       "\n",
       "    .dataframe tbody tr th {\n",
       "        vertical-align: top;\n",
       "    }\n",
       "\n",
       "    .dataframe thead th {\n",
       "        text-align: right;\n",
       "    }\n",
       "</style>\n",
       "<table border=\"1\" class=\"dataframe\">\n",
       "  <thead>\n",
       "    <tr style=\"text-align: right;\">\n",
       "      <th></th>\n",
       "      <th>school</th>\n",
       "      <th>sex</th>\n",
       "      <th>age</th>\n",
       "      <th>address</th>\n",
       "      <th>famsize</th>\n",
       "      <th>Pstatus</th>\n",
       "      <th>Medu</th>\n",
       "      <th>Fedu</th>\n",
       "      <th>Mjob</th>\n",
       "      <th>Fjob</th>\n",
       "      <th>reason</th>\n",
       "      <th>guardian</th>\n",
       "      <th>traveltime</th>\n",
       "      <th>studytime</th>\n",
       "      <th>failures</th>\n",
       "      <th>schoolsup</th>\n",
       "      <th>famsup</th>\n",
       "      <th>paid</th>\n",
       "      <th>activities</th>\n",
       "      <th>nursery</th>\n",
       "      <th>higher</th>\n",
       "      <th>internet</th>\n",
       "      <th>romantic</th>\n",
       "      <th>famrel</th>\n",
       "      <th>freetime</th>\n",
       "      <th>goout</th>\n",
       "      <th>health</th>\n",
       "      <th>absences</th>\n",
       "      <th>score</th>\n",
       "    </tr>\n",
       "  </thead>\n",
       "  <tbody>\n",
       "    <tr>\n",
       "      <th>0</th>\n",
       "      <td>GP</td>\n",
       "      <td>F</td>\n",
       "      <td>18</td>\n",
       "      <td>U</td>\n",
       "      <td>None</td>\n",
       "      <td>A</td>\n",
       "      <td>4.0</td>\n",
       "      <td>4.0</td>\n",
       "      <td>at_home</td>\n",
       "      <td>teacher</td>\n",
       "      <td>course</td>\n",
       "      <td>mother</td>\n",
       "      <td>2.0</td>\n",
       "      <td>2.0</td>\n",
       "      <td>0.0</td>\n",
       "      <td>yes</td>\n",
       "      <td>no</td>\n",
       "      <td>no</td>\n",
       "      <td>no</td>\n",
       "      <td>yes</td>\n",
       "      <td>yes</td>\n",
       "      <td>None</td>\n",
       "      <td>no</td>\n",
       "      <td>4.0</td>\n",
       "      <td>3.0</td>\n",
       "      <td>4.0</td>\n",
       "      <td>3.0</td>\n",
       "      <td>6.0</td>\n",
       "      <td>30.0</td>\n",
       "    </tr>\n",
       "    <tr>\n",
       "      <th>3</th>\n",
       "      <td>GP</td>\n",
       "      <td>F</td>\n",
       "      <td>15</td>\n",
       "      <td>U</td>\n",
       "      <td>GT3</td>\n",
       "      <td>T</td>\n",
       "      <td>4.0</td>\n",
       "      <td>2.0</td>\n",
       "      <td>health</td>\n",
       "      <td>None</td>\n",
       "      <td>home</td>\n",
       "      <td>mother</td>\n",
       "      <td>1.0</td>\n",
       "      <td>3.0</td>\n",
       "      <td>0.0</td>\n",
       "      <td>no</td>\n",
       "      <td>yes</td>\n",
       "      <td>yes</td>\n",
       "      <td>yes</td>\n",
       "      <td>yes</td>\n",
       "      <td>yes</td>\n",
       "      <td>yes</td>\n",
       "      <td>yes</td>\n",
       "      <td>3.0</td>\n",
       "      <td>2.0</td>\n",
       "      <td>2.0</td>\n",
       "      <td>5.0</td>\n",
       "      <td>2.0</td>\n",
       "      <td>75.0</td>\n",
       "    </tr>\n",
       "    <tr>\n",
       "      <th>4</th>\n",
       "      <td>GP</td>\n",
       "      <td>F</td>\n",
       "      <td>16</td>\n",
       "      <td>U</td>\n",
       "      <td>GT3</td>\n",
       "      <td>T</td>\n",
       "      <td>3.0</td>\n",
       "      <td>3.0</td>\n",
       "      <td>other</td>\n",
       "      <td>other</td>\n",
       "      <td>home</td>\n",
       "      <td>father</td>\n",
       "      <td>1.0</td>\n",
       "      <td>2.0</td>\n",
       "      <td>0.0</td>\n",
       "      <td>no</td>\n",
       "      <td>yes</td>\n",
       "      <td>yes</td>\n",
       "      <td>no</td>\n",
       "      <td>yes</td>\n",
       "      <td>yes</td>\n",
       "      <td>no</td>\n",
       "      <td>no</td>\n",
       "      <td>4.0</td>\n",
       "      <td>3.0</td>\n",
       "      <td>2.0</td>\n",
       "      <td>5.0</td>\n",
       "      <td>4.0</td>\n",
       "      <td>50.0</td>\n",
       "    </tr>\n",
       "    <tr>\n",
       "      <th>5</th>\n",
       "      <td>GP</td>\n",
       "      <td>M</td>\n",
       "      <td>16</td>\n",
       "      <td>U</td>\n",
       "      <td>LE3</td>\n",
       "      <td>T</td>\n",
       "      <td>4.0</td>\n",
       "      <td>3.0</td>\n",
       "      <td>services</td>\n",
       "      <td>other</td>\n",
       "      <td>reputation</td>\n",
       "      <td>mother</td>\n",
       "      <td>1.0</td>\n",
       "      <td>2.0</td>\n",
       "      <td>0.0</td>\n",
       "      <td>no</td>\n",
       "      <td>yes</td>\n",
       "      <td>yes</td>\n",
       "      <td>yes</td>\n",
       "      <td>yes</td>\n",
       "      <td>yes</td>\n",
       "      <td>yes</td>\n",
       "      <td>no</td>\n",
       "      <td>5.0</td>\n",
       "      <td>4.0</td>\n",
       "      <td>2.0</td>\n",
       "      <td>5.0</td>\n",
       "      <td>10.0</td>\n",
       "      <td>75.0</td>\n",
       "    </tr>\n",
       "    <tr>\n",
       "      <th>6</th>\n",
       "      <td>GP</td>\n",
       "      <td>M</td>\n",
       "      <td>16</td>\n",
       "      <td>None</td>\n",
       "      <td>LE3</td>\n",
       "      <td>T</td>\n",
       "      <td>2.0</td>\n",
       "      <td>2.0</td>\n",
       "      <td>other</td>\n",
       "      <td>other</td>\n",
       "      <td>home</td>\n",
       "      <td>mother</td>\n",
       "      <td>1.0</td>\n",
       "      <td>2.0</td>\n",
       "      <td>0.0</td>\n",
       "      <td>no</td>\n",
       "      <td>no</td>\n",
       "      <td>no</td>\n",
       "      <td>no</td>\n",
       "      <td>yes</td>\n",
       "      <td>yes</td>\n",
       "      <td>yes</td>\n",
       "      <td>no</td>\n",
       "      <td>4.0</td>\n",
       "      <td>4.0</td>\n",
       "      <td>4.0</td>\n",
       "      <td>3.0</td>\n",
       "      <td>0.0</td>\n",
       "      <td>55.0</td>\n",
       "    </tr>\n",
       "    <tr>\n",
       "      <th>...</th>\n",
       "      <td>...</td>\n",
       "      <td>...</td>\n",
       "      <td>...</td>\n",
       "      <td>...</td>\n",
       "      <td>...</td>\n",
       "      <td>...</td>\n",
       "      <td>...</td>\n",
       "      <td>...</td>\n",
       "      <td>...</td>\n",
       "      <td>...</td>\n",
       "      <td>...</td>\n",
       "      <td>...</td>\n",
       "      <td>...</td>\n",
       "      <td>...</td>\n",
       "      <td>...</td>\n",
       "      <td>...</td>\n",
       "      <td>...</td>\n",
       "      <td>...</td>\n",
       "      <td>...</td>\n",
       "      <td>...</td>\n",
       "      <td>...</td>\n",
       "      <td>...</td>\n",
       "      <td>...</td>\n",
       "      <td>...</td>\n",
       "      <td>...</td>\n",
       "      <td>...</td>\n",
       "      <td>...</td>\n",
       "      <td>...</td>\n",
       "      <td>...</td>\n",
       "    </tr>\n",
       "    <tr>\n",
       "      <th>389</th>\n",
       "      <td>MS</td>\n",
       "      <td>F</td>\n",
       "      <td>18</td>\n",
       "      <td>U</td>\n",
       "      <td>GT3</td>\n",
       "      <td>T</td>\n",
       "      <td>1.0</td>\n",
       "      <td>1.0</td>\n",
       "      <td>other</td>\n",
       "      <td>other</td>\n",
       "      <td>course</td>\n",
       "      <td>mother</td>\n",
       "      <td>None</td>\n",
       "      <td>2.0</td>\n",
       "      <td>1.0</td>\n",
       "      <td>no</td>\n",
       "      <td>no</td>\n",
       "      <td>no</td>\n",
       "      <td>yes</td>\n",
       "      <td>yes</td>\n",
       "      <td>yes</td>\n",
       "      <td>None</td>\n",
       "      <td>no</td>\n",
       "      <td>1.0</td>\n",
       "      <td>1.0</td>\n",
       "      <td>1.0</td>\n",
       "      <td>5.0</td>\n",
       "      <td>0.0</td>\n",
       "      <td>0.0</td>\n",
       "    </tr>\n",
       "    <tr>\n",
       "      <th>391</th>\n",
       "      <td>MS</td>\n",
       "      <td>M</td>\n",
       "      <td>17</td>\n",
       "      <td>U</td>\n",
       "      <td>LE3</td>\n",
       "      <td>T</td>\n",
       "      <td>3.0</td>\n",
       "      <td>1.0</td>\n",
       "      <td>services</td>\n",
       "      <td>services</td>\n",
       "      <td>course</td>\n",
       "      <td>mother</td>\n",
       "      <td>2.0</td>\n",
       "      <td>1.0</td>\n",
       "      <td>0.0</td>\n",
       "      <td>no</td>\n",
       "      <td>no</td>\n",
       "      <td>no</td>\n",
       "      <td>no</td>\n",
       "      <td>no</td>\n",
       "      <td>yes</td>\n",
       "      <td>yes</td>\n",
       "      <td>no</td>\n",
       "      <td>2.0</td>\n",
       "      <td>4.0</td>\n",
       "      <td>5.0</td>\n",
       "      <td>2.0</td>\n",
       "      <td>3.0</td>\n",
       "      <td>80.0</td>\n",
       "    </tr>\n",
       "    <tr>\n",
       "      <th>392</th>\n",
       "      <td>MS</td>\n",
       "      <td>M</td>\n",
       "      <td>21</td>\n",
       "      <td>R</td>\n",
       "      <td>GT3</td>\n",
       "      <td>T</td>\n",
       "      <td>1.0</td>\n",
       "      <td>1.0</td>\n",
       "      <td>other</td>\n",
       "      <td>other</td>\n",
       "      <td>course</td>\n",
       "      <td>None</td>\n",
       "      <td>1.0</td>\n",
       "      <td>1.0</td>\n",
       "      <td>3.0</td>\n",
       "      <td>None</td>\n",
       "      <td>no</td>\n",
       "      <td>no</td>\n",
       "      <td>no</td>\n",
       "      <td>no</td>\n",
       "      <td>None</td>\n",
       "      <td>no</td>\n",
       "      <td>no</td>\n",
       "      <td>5.0</td>\n",
       "      <td>5.0</td>\n",
       "      <td>3.0</td>\n",
       "      <td>3.0</td>\n",
       "      <td>3.0</td>\n",
       "      <td>35.0</td>\n",
       "    </tr>\n",
       "    <tr>\n",
       "      <th>393</th>\n",
       "      <td>MS</td>\n",
       "      <td>M</td>\n",
       "      <td>18</td>\n",
       "      <td>R</td>\n",
       "      <td>LE3</td>\n",
       "      <td>T</td>\n",
       "      <td>3.0</td>\n",
       "      <td>2.0</td>\n",
       "      <td>services</td>\n",
       "      <td>other</td>\n",
       "      <td>course</td>\n",
       "      <td>mother</td>\n",
       "      <td>3.0</td>\n",
       "      <td>1.0</td>\n",
       "      <td>0.0</td>\n",
       "      <td>no</td>\n",
       "      <td>no</td>\n",
       "      <td>no</td>\n",
       "      <td>None</td>\n",
       "      <td>no</td>\n",
       "      <td>yes</td>\n",
       "      <td>yes</td>\n",
       "      <td>no</td>\n",
       "      <td>4.0</td>\n",
       "      <td>4.0</td>\n",
       "      <td>1.0</td>\n",
       "      <td>5.0</td>\n",
       "      <td>0.0</td>\n",
       "      <td>50.0</td>\n",
       "    </tr>\n",
       "    <tr>\n",
       "      <th>394</th>\n",
       "      <td>MS</td>\n",
       "      <td>M</td>\n",
       "      <td>19</td>\n",
       "      <td>U</td>\n",
       "      <td>LE3</td>\n",
       "      <td>T</td>\n",
       "      <td>1.0</td>\n",
       "      <td>1.0</td>\n",
       "      <td>other</td>\n",
       "      <td>at_home</td>\n",
       "      <td>None</td>\n",
       "      <td>father</td>\n",
       "      <td>1.0</td>\n",
       "      <td>1.0</td>\n",
       "      <td>0.0</td>\n",
       "      <td>None</td>\n",
       "      <td>no</td>\n",
       "      <td>no</td>\n",
       "      <td>no</td>\n",
       "      <td>yes</td>\n",
       "      <td>yes</td>\n",
       "      <td>yes</td>\n",
       "      <td>no</td>\n",
       "      <td>3.0</td>\n",
       "      <td>2.0</td>\n",
       "      <td>3.0</td>\n",
       "      <td>5.0</td>\n",
       "      <td>5.0</td>\n",
       "      <td>45.0</td>\n",
       "    </tr>\n",
       "  </tbody>\n",
       "</table>\n",
       "<p>292 rows × 29 columns</p>\n",
       "</div>"
      ],
      "text/plain": [
       "    school sex  age address famsize Pstatus Medu Fedu      Mjob      Fjob  \\\n",
       "0       GP   F   18       U    None       A  4.0  4.0   at_home   teacher   \n",
       "3       GP   F   15       U     GT3       T  4.0  2.0    health      None   \n",
       "4       GP   F   16       U     GT3       T  3.0  3.0     other     other   \n",
       "5       GP   M   16       U     LE3       T  4.0  3.0  services     other   \n",
       "6       GP   M   16    None     LE3       T  2.0  2.0     other     other   \n",
       "..     ...  ..  ...     ...     ...     ...  ...  ...       ...       ...   \n",
       "389     MS   F   18       U     GT3       T  1.0  1.0     other     other   \n",
       "391     MS   M   17       U     LE3       T  3.0  1.0  services  services   \n",
       "392     MS   M   21       R     GT3       T  1.0  1.0     other     other   \n",
       "393     MS   M   18       R     LE3       T  3.0  2.0  services     other   \n",
       "394     MS   M   19       U     LE3       T  1.0  1.0     other   at_home   \n",
       "\n",
       "         reason guardian traveltime studytime failures schoolsup famsup paid  \\\n",
       "0        course   mother        2.0       2.0      0.0       yes     no   no   \n",
       "3          home   mother        1.0       3.0      0.0        no    yes  yes   \n",
       "4          home   father        1.0       2.0      0.0        no    yes  yes   \n",
       "5    reputation   mother        1.0       2.0      0.0        no    yes  yes   \n",
       "6          home   mother        1.0       2.0      0.0        no     no   no   \n",
       "..          ...      ...        ...       ...      ...       ...    ...  ...   \n",
       "389      course   mother       None       2.0      1.0        no     no   no   \n",
       "391      course   mother        2.0       1.0      0.0        no     no   no   \n",
       "392      course     None        1.0       1.0      3.0      None     no   no   \n",
       "393      course   mother        3.0       1.0      0.0        no     no   no   \n",
       "394        None   father        1.0       1.0      0.0      None     no   no   \n",
       "\n",
       "    activities nursery higher internet romantic famrel freetime goout health  \\\n",
       "0           no     yes    yes     None       no    4.0      3.0   4.0    3.0   \n",
       "3          yes     yes    yes      yes      yes    3.0      2.0   2.0    5.0   \n",
       "4           no     yes    yes       no       no    4.0      3.0   2.0    5.0   \n",
       "5          yes     yes    yes      yes       no    5.0      4.0   2.0    5.0   \n",
       "6           no     yes    yes      yes       no    4.0      4.0   4.0    3.0   \n",
       "..         ...     ...    ...      ...      ...    ...      ...   ...    ...   \n",
       "389        yes     yes    yes     None       no    1.0      1.0   1.0    5.0   \n",
       "391         no      no    yes      yes       no    2.0      4.0   5.0    2.0   \n",
       "392         no      no   None       no       no    5.0      5.0   3.0    3.0   \n",
       "393       None      no    yes      yes       no    4.0      4.0   1.0    5.0   \n",
       "394         no     yes    yes      yes       no    3.0      2.0   3.0    5.0   \n",
       "\n",
       "    absences score  \n",
       "0        6.0  30.0  \n",
       "3        2.0  75.0  \n",
       "4        4.0  50.0  \n",
       "5       10.0  75.0  \n",
       "6        0.0  55.0  \n",
       "..       ...   ...  \n",
       "389      0.0   0.0  \n",
       "391      3.0  80.0  \n",
       "392      3.0  35.0  \n",
       "393      0.0  50.0  \n",
       "394      5.0  45.0  \n",
       "\n",
       "[292 rows x 29 columns]"
      ]
     },
     "metadata": {},
     "output_type": "display_data"
    }
   ],
   "source": [
    "students=students[~students['Pstatus'].isnull()]\n",
    "students=students[~students['paid'].isnull()]\n",
    "display(students)\n"
   ]
  },
  {
   "cell_type": "markdown",
   "metadata": {},
   "source": [
    "Остальные значения None заменим на моду."
   ]
  },
  {
   "cell_type": "code",
   "execution_count": 530,
   "metadata": {},
   "outputs": [
    {
     "data": {
      "text/html": [
       "<div>\n",
       "<style scoped>\n",
       "    .dataframe tbody tr th:only-of-type {\n",
       "        vertical-align: middle;\n",
       "    }\n",
       "\n",
       "    .dataframe tbody tr th {\n",
       "        vertical-align: top;\n",
       "    }\n",
       "\n",
       "    .dataframe thead th {\n",
       "        text-align: right;\n",
       "    }\n",
       "</style>\n",
       "<table border=\"1\" class=\"dataframe\">\n",
       "  <thead>\n",
       "    <tr style=\"text-align: right;\">\n",
       "      <th></th>\n",
       "      <th>school</th>\n",
       "      <th>sex</th>\n",
       "      <th>age</th>\n",
       "      <th>address</th>\n",
       "      <th>famsize</th>\n",
       "      <th>Pstatus</th>\n",
       "      <th>Medu</th>\n",
       "      <th>Fedu</th>\n",
       "      <th>Mjob</th>\n",
       "      <th>Fjob</th>\n",
       "      <th>reason</th>\n",
       "      <th>guardian</th>\n",
       "      <th>traveltime</th>\n",
       "      <th>studytime</th>\n",
       "      <th>failures</th>\n",
       "      <th>schoolsup</th>\n",
       "      <th>famsup</th>\n",
       "      <th>paid</th>\n",
       "      <th>activities</th>\n",
       "      <th>nursery</th>\n",
       "      <th>higher</th>\n",
       "      <th>internet</th>\n",
       "      <th>romantic</th>\n",
       "      <th>famrel</th>\n",
       "      <th>freetime</th>\n",
       "      <th>goout</th>\n",
       "      <th>health</th>\n",
       "      <th>absences</th>\n",
       "      <th>score</th>\n",
       "    </tr>\n",
       "  </thead>\n",
       "  <tbody>\n",
       "    <tr>\n",
       "      <th>0</th>\n",
       "      <td>GP</td>\n",
       "      <td>F</td>\n",
       "      <td>18</td>\n",
       "      <td>U</td>\n",
       "      <td>GT3</td>\n",
       "      <td>A</td>\n",
       "      <td>4.0</td>\n",
       "      <td>4.0</td>\n",
       "      <td>at_home</td>\n",
       "      <td>teacher</td>\n",
       "      <td>course</td>\n",
       "      <td>mother</td>\n",
       "      <td>2.0</td>\n",
       "      <td>2.0</td>\n",
       "      <td>0.0</td>\n",
       "      <td>yes</td>\n",
       "      <td>no</td>\n",
       "      <td>no</td>\n",
       "      <td>no</td>\n",
       "      <td>yes</td>\n",
       "      <td>yes</td>\n",
       "      <td>yes</td>\n",
       "      <td>no</td>\n",
       "      <td>4.0</td>\n",
       "      <td>3.0</td>\n",
       "      <td>4.0</td>\n",
       "      <td>3.0</td>\n",
       "      <td>6.0</td>\n",
       "      <td>30.0</td>\n",
       "    </tr>\n",
       "    <tr>\n",
       "      <th>3</th>\n",
       "      <td>GP</td>\n",
       "      <td>F</td>\n",
       "      <td>15</td>\n",
       "      <td>U</td>\n",
       "      <td>GT3</td>\n",
       "      <td>T</td>\n",
       "      <td>4.0</td>\n",
       "      <td>2.0</td>\n",
       "      <td>health</td>\n",
       "      <td>other</td>\n",
       "      <td>home</td>\n",
       "      <td>mother</td>\n",
       "      <td>1.0</td>\n",
       "      <td>3.0</td>\n",
       "      <td>0.0</td>\n",
       "      <td>no</td>\n",
       "      <td>yes</td>\n",
       "      <td>yes</td>\n",
       "      <td>yes</td>\n",
       "      <td>yes</td>\n",
       "      <td>yes</td>\n",
       "      <td>yes</td>\n",
       "      <td>yes</td>\n",
       "      <td>3.0</td>\n",
       "      <td>2.0</td>\n",
       "      <td>2.0</td>\n",
       "      <td>5.0</td>\n",
       "      <td>2.0</td>\n",
       "      <td>75.0</td>\n",
       "    </tr>\n",
       "    <tr>\n",
       "      <th>4</th>\n",
       "      <td>GP</td>\n",
       "      <td>F</td>\n",
       "      <td>16</td>\n",
       "      <td>U</td>\n",
       "      <td>GT3</td>\n",
       "      <td>T</td>\n",
       "      <td>3.0</td>\n",
       "      <td>3.0</td>\n",
       "      <td>other</td>\n",
       "      <td>other</td>\n",
       "      <td>home</td>\n",
       "      <td>father</td>\n",
       "      <td>1.0</td>\n",
       "      <td>2.0</td>\n",
       "      <td>0.0</td>\n",
       "      <td>no</td>\n",
       "      <td>yes</td>\n",
       "      <td>yes</td>\n",
       "      <td>no</td>\n",
       "      <td>yes</td>\n",
       "      <td>yes</td>\n",
       "      <td>no</td>\n",
       "      <td>no</td>\n",
       "      <td>4.0</td>\n",
       "      <td>3.0</td>\n",
       "      <td>2.0</td>\n",
       "      <td>5.0</td>\n",
       "      <td>4.0</td>\n",
       "      <td>50.0</td>\n",
       "    </tr>\n",
       "    <tr>\n",
       "      <th>5</th>\n",
       "      <td>GP</td>\n",
       "      <td>M</td>\n",
       "      <td>16</td>\n",
       "      <td>U</td>\n",
       "      <td>LE3</td>\n",
       "      <td>T</td>\n",
       "      <td>4.0</td>\n",
       "      <td>3.0</td>\n",
       "      <td>services</td>\n",
       "      <td>other</td>\n",
       "      <td>reputation</td>\n",
       "      <td>mother</td>\n",
       "      <td>1.0</td>\n",
       "      <td>2.0</td>\n",
       "      <td>0.0</td>\n",
       "      <td>no</td>\n",
       "      <td>yes</td>\n",
       "      <td>yes</td>\n",
       "      <td>yes</td>\n",
       "      <td>yes</td>\n",
       "      <td>yes</td>\n",
       "      <td>yes</td>\n",
       "      <td>no</td>\n",
       "      <td>5.0</td>\n",
       "      <td>4.0</td>\n",
       "      <td>2.0</td>\n",
       "      <td>5.0</td>\n",
       "      <td>10.0</td>\n",
       "      <td>75.0</td>\n",
       "    </tr>\n",
       "    <tr>\n",
       "      <th>6</th>\n",
       "      <td>GP</td>\n",
       "      <td>M</td>\n",
       "      <td>16</td>\n",
       "      <td>U</td>\n",
       "      <td>LE3</td>\n",
       "      <td>T</td>\n",
       "      <td>2.0</td>\n",
       "      <td>2.0</td>\n",
       "      <td>other</td>\n",
       "      <td>other</td>\n",
       "      <td>home</td>\n",
       "      <td>mother</td>\n",
       "      <td>1.0</td>\n",
       "      <td>2.0</td>\n",
       "      <td>0.0</td>\n",
       "      <td>no</td>\n",
       "      <td>no</td>\n",
       "      <td>no</td>\n",
       "      <td>no</td>\n",
       "      <td>yes</td>\n",
       "      <td>yes</td>\n",
       "      <td>yes</td>\n",
       "      <td>no</td>\n",
       "      <td>4.0</td>\n",
       "      <td>4.0</td>\n",
       "      <td>4.0</td>\n",
       "      <td>3.0</td>\n",
       "      <td>0.0</td>\n",
       "      <td>55.0</td>\n",
       "    </tr>\n",
       "    <tr>\n",
       "      <th>...</th>\n",
       "      <td>...</td>\n",
       "      <td>...</td>\n",
       "      <td>...</td>\n",
       "      <td>...</td>\n",
       "      <td>...</td>\n",
       "      <td>...</td>\n",
       "      <td>...</td>\n",
       "      <td>...</td>\n",
       "      <td>...</td>\n",
       "      <td>...</td>\n",
       "      <td>...</td>\n",
       "      <td>...</td>\n",
       "      <td>...</td>\n",
       "      <td>...</td>\n",
       "      <td>...</td>\n",
       "      <td>...</td>\n",
       "      <td>...</td>\n",
       "      <td>...</td>\n",
       "      <td>...</td>\n",
       "      <td>...</td>\n",
       "      <td>...</td>\n",
       "      <td>...</td>\n",
       "      <td>...</td>\n",
       "      <td>...</td>\n",
       "      <td>...</td>\n",
       "      <td>...</td>\n",
       "      <td>...</td>\n",
       "      <td>...</td>\n",
       "      <td>...</td>\n",
       "    </tr>\n",
       "    <tr>\n",
       "      <th>389</th>\n",
       "      <td>MS</td>\n",
       "      <td>F</td>\n",
       "      <td>18</td>\n",
       "      <td>U</td>\n",
       "      <td>GT3</td>\n",
       "      <td>T</td>\n",
       "      <td>1.0</td>\n",
       "      <td>1.0</td>\n",
       "      <td>other</td>\n",
       "      <td>other</td>\n",
       "      <td>course</td>\n",
       "      <td>mother</td>\n",
       "      <td>1.0</td>\n",
       "      <td>2.0</td>\n",
       "      <td>1.0</td>\n",
       "      <td>no</td>\n",
       "      <td>no</td>\n",
       "      <td>no</td>\n",
       "      <td>yes</td>\n",
       "      <td>yes</td>\n",
       "      <td>yes</td>\n",
       "      <td>yes</td>\n",
       "      <td>no</td>\n",
       "      <td>1.0</td>\n",
       "      <td>1.0</td>\n",
       "      <td>1.0</td>\n",
       "      <td>5.0</td>\n",
       "      <td>0.0</td>\n",
       "      <td>0.0</td>\n",
       "    </tr>\n",
       "    <tr>\n",
       "      <th>391</th>\n",
       "      <td>MS</td>\n",
       "      <td>M</td>\n",
       "      <td>17</td>\n",
       "      <td>U</td>\n",
       "      <td>LE3</td>\n",
       "      <td>T</td>\n",
       "      <td>3.0</td>\n",
       "      <td>1.0</td>\n",
       "      <td>services</td>\n",
       "      <td>services</td>\n",
       "      <td>course</td>\n",
       "      <td>mother</td>\n",
       "      <td>2.0</td>\n",
       "      <td>1.0</td>\n",
       "      <td>0.0</td>\n",
       "      <td>no</td>\n",
       "      <td>no</td>\n",
       "      <td>no</td>\n",
       "      <td>no</td>\n",
       "      <td>no</td>\n",
       "      <td>yes</td>\n",
       "      <td>yes</td>\n",
       "      <td>no</td>\n",
       "      <td>2.0</td>\n",
       "      <td>4.0</td>\n",
       "      <td>5.0</td>\n",
       "      <td>2.0</td>\n",
       "      <td>3.0</td>\n",
       "      <td>80.0</td>\n",
       "    </tr>\n",
       "    <tr>\n",
       "      <th>392</th>\n",
       "      <td>MS</td>\n",
       "      <td>M</td>\n",
       "      <td>21</td>\n",
       "      <td>R</td>\n",
       "      <td>GT3</td>\n",
       "      <td>T</td>\n",
       "      <td>1.0</td>\n",
       "      <td>1.0</td>\n",
       "      <td>other</td>\n",
       "      <td>other</td>\n",
       "      <td>course</td>\n",
       "      <td>mother</td>\n",
       "      <td>1.0</td>\n",
       "      <td>1.0</td>\n",
       "      <td>3.0</td>\n",
       "      <td>no</td>\n",
       "      <td>no</td>\n",
       "      <td>no</td>\n",
       "      <td>no</td>\n",
       "      <td>no</td>\n",
       "      <td>yes</td>\n",
       "      <td>no</td>\n",
       "      <td>no</td>\n",
       "      <td>5.0</td>\n",
       "      <td>5.0</td>\n",
       "      <td>3.0</td>\n",
       "      <td>3.0</td>\n",
       "      <td>3.0</td>\n",
       "      <td>35.0</td>\n",
       "    </tr>\n",
       "    <tr>\n",
       "      <th>393</th>\n",
       "      <td>MS</td>\n",
       "      <td>M</td>\n",
       "      <td>18</td>\n",
       "      <td>R</td>\n",
       "      <td>LE3</td>\n",
       "      <td>T</td>\n",
       "      <td>3.0</td>\n",
       "      <td>2.0</td>\n",
       "      <td>services</td>\n",
       "      <td>other</td>\n",
       "      <td>course</td>\n",
       "      <td>mother</td>\n",
       "      <td>3.0</td>\n",
       "      <td>1.0</td>\n",
       "      <td>0.0</td>\n",
       "      <td>no</td>\n",
       "      <td>no</td>\n",
       "      <td>no</td>\n",
       "      <td>yes</td>\n",
       "      <td>no</td>\n",
       "      <td>yes</td>\n",
       "      <td>yes</td>\n",
       "      <td>no</td>\n",
       "      <td>4.0</td>\n",
       "      <td>4.0</td>\n",
       "      <td>1.0</td>\n",
       "      <td>5.0</td>\n",
       "      <td>0.0</td>\n",
       "      <td>50.0</td>\n",
       "    </tr>\n",
       "    <tr>\n",
       "      <th>394</th>\n",
       "      <td>MS</td>\n",
       "      <td>M</td>\n",
       "      <td>19</td>\n",
       "      <td>U</td>\n",
       "      <td>LE3</td>\n",
       "      <td>T</td>\n",
       "      <td>1.0</td>\n",
       "      <td>1.0</td>\n",
       "      <td>other</td>\n",
       "      <td>at_home</td>\n",
       "      <td>course</td>\n",
       "      <td>father</td>\n",
       "      <td>1.0</td>\n",
       "      <td>1.0</td>\n",
       "      <td>0.0</td>\n",
       "      <td>no</td>\n",
       "      <td>no</td>\n",
       "      <td>no</td>\n",
       "      <td>no</td>\n",
       "      <td>yes</td>\n",
       "      <td>yes</td>\n",
       "      <td>yes</td>\n",
       "      <td>no</td>\n",
       "      <td>3.0</td>\n",
       "      <td>2.0</td>\n",
       "      <td>3.0</td>\n",
       "      <td>5.0</td>\n",
       "      <td>5.0</td>\n",
       "      <td>45.0</td>\n",
       "    </tr>\n",
       "  </tbody>\n",
       "</table>\n",
       "<p>292 rows × 29 columns</p>\n",
       "</div>"
      ],
      "text/plain": [
       "    school sex  age address famsize Pstatus Medu Fedu      Mjob      Fjob  \\\n",
       "0       GP   F   18       U     GT3       A  4.0  4.0   at_home   teacher   \n",
       "3       GP   F   15       U     GT3       T  4.0  2.0    health     other   \n",
       "4       GP   F   16       U     GT3       T  3.0  3.0     other     other   \n",
       "5       GP   M   16       U     LE3       T  4.0  3.0  services     other   \n",
       "6       GP   M   16       U     LE3       T  2.0  2.0     other     other   \n",
       "..     ...  ..  ...     ...     ...     ...  ...  ...       ...       ...   \n",
       "389     MS   F   18       U     GT3       T  1.0  1.0     other     other   \n",
       "391     MS   M   17       U     LE3       T  3.0  1.0  services  services   \n",
       "392     MS   M   21       R     GT3       T  1.0  1.0     other     other   \n",
       "393     MS   M   18       R     LE3       T  3.0  2.0  services     other   \n",
       "394     MS   M   19       U     LE3       T  1.0  1.0     other   at_home   \n",
       "\n",
       "         reason guardian traveltime studytime failures schoolsup famsup paid  \\\n",
       "0        course   mother        2.0       2.0      0.0       yes     no   no   \n",
       "3          home   mother        1.0       3.0      0.0        no    yes  yes   \n",
       "4          home   father        1.0       2.0      0.0        no    yes  yes   \n",
       "5    reputation   mother        1.0       2.0      0.0        no    yes  yes   \n",
       "6          home   mother        1.0       2.0      0.0        no     no   no   \n",
       "..          ...      ...        ...       ...      ...       ...    ...  ...   \n",
       "389      course   mother        1.0       2.0      1.0        no     no   no   \n",
       "391      course   mother        2.0       1.0      0.0        no     no   no   \n",
       "392      course   mother        1.0       1.0      3.0        no     no   no   \n",
       "393      course   mother        3.0       1.0      0.0        no     no   no   \n",
       "394      course   father        1.0       1.0      0.0        no     no   no   \n",
       "\n",
       "    activities nursery higher internet romantic famrel freetime goout health  \\\n",
       "0           no     yes    yes      yes       no    4.0      3.0   4.0    3.0   \n",
       "3          yes     yes    yes      yes      yes    3.0      2.0   2.0    5.0   \n",
       "4           no     yes    yes       no       no    4.0      3.0   2.0    5.0   \n",
       "5          yes     yes    yes      yes       no    5.0      4.0   2.0    5.0   \n",
       "6           no     yes    yes      yes       no    4.0      4.0   4.0    3.0   \n",
       "..         ...     ...    ...      ...      ...    ...      ...   ...    ...   \n",
       "389        yes     yes    yes      yes       no    1.0      1.0   1.0    5.0   \n",
       "391         no      no    yes      yes       no    2.0      4.0   5.0    2.0   \n",
       "392         no      no    yes       no       no    5.0      5.0   3.0    3.0   \n",
       "393        yes      no    yes      yes       no    4.0      4.0   1.0    5.0   \n",
       "394         no     yes    yes      yes       no    3.0      2.0   3.0    5.0   \n",
       "\n",
       "    absences score  \n",
       "0        6.0  30.0  \n",
       "3        2.0  75.0  \n",
       "4        4.0  50.0  \n",
       "5       10.0  75.0  \n",
       "6        0.0  55.0  \n",
       "..       ...   ...  \n",
       "389      0.0   0.0  \n",
       "391      3.0  80.0  \n",
       "392      3.0  35.0  \n",
       "393      0.0  50.0  \n",
       "394      5.0  45.0  \n",
       "\n",
       "[292 rows x 29 columns]"
      ]
     },
     "metadata": {},
     "output_type": "display_data"
    }
   ],
   "source": [
    "None_Mode('address')\n",
    "None_Mode('famsize')\n",
    "None_Mode('Medu')\n",
    "None_Mode('Fedu')\n",
    "None_Mode('Mjob')\n",
    "None_Mode('Fjob')\n",
    "None_Mode('reason')\n",
    "None_Mode('guardian')\n",
    "None_Mode('traveltime')\n",
    "None_Mode('studytime')\n",
    "None_Mode('failures')\n",
    "None_Mode('schoolsup')\n",
    "None_Mode('famsup')\n",
    "None_Mode('activities')\n",
    "None_Mode('nursery')\n",
    "None_Mode('higher')\n",
    "None_Mode('internet')\n",
    "None_Mode('romantic')\n",
    "None_Mode('famrel')\n",
    "None_Mode('freetime')\n",
    "None_Mode('goout')\n",
    "None_Mode('health')\n",
    "None_Mode('absences')\n",
    "None_Mode('score')\n",
    "display(students)"
   ]
  },
  {
   "cell_type": "code",
   "execution_count": 531,
   "metadata": {},
   "outputs": [
    {
     "name": "stdout",
     "output_type": "stream",
     "text": [
      "<class 'pandas.core.frame.DataFrame'>\n",
      "Int64Index: 292 entries, 0 to 394\n",
      "Data columns (total 29 columns):\n",
      " #   Column      Non-Null Count  Dtype \n",
      "---  ------      --------------  ----- \n",
      " 0   school      292 non-null    object\n",
      " 1   sex         292 non-null    object\n",
      " 2   age         292 non-null    int64 \n",
      " 3   address     292 non-null    object\n",
      " 4   famsize     292 non-null    object\n",
      " 5   Pstatus     292 non-null    object\n",
      " 6   Medu        292 non-null    object\n",
      " 7   Fedu        292 non-null    object\n",
      " 8   Mjob        292 non-null    object\n",
      " 9   Fjob        292 non-null    object\n",
      " 10  reason      292 non-null    object\n",
      " 11  guardian    292 non-null    object\n",
      " 12  traveltime  292 non-null    object\n",
      " 13  studytime   292 non-null    object\n",
      " 14  failures    292 non-null    object\n",
      " 15  schoolsup   292 non-null    object\n",
      " 16  famsup      292 non-null    object\n",
      " 17  paid        292 non-null    object\n",
      " 18  activities  292 non-null    object\n",
      " 19  nursery     292 non-null    object\n",
      " 20  higher      292 non-null    object\n",
      " 21  internet    292 non-null    object\n",
      " 22  romantic    292 non-null    object\n",
      " 23  famrel      292 non-null    object\n",
      " 24  freetime    292 non-null    object\n",
      " 25  goout       292 non-null    object\n",
      " 26  health      292 non-null    object\n",
      " 27  absences    292 non-null    object\n",
      " 28  score       292 non-null    object\n",
      "dtypes: int64(1), object(28)\n",
      "memory usage: 68.4+ KB\n"
     ]
    }
   ],
   "source": [
    "students.info()"
   ]
  },
  {
   "cell_type": "markdown",
   "metadata": {},
   "source": [
    "Данные очищены. Пропуски либо заменены на моду, либо удалены."
   ]
  },
  {
   "cell_type": "markdown",
   "metadata": {},
   "source": [
    "## Часть 2. Корреляционный анализ"
   ]
  },
  {
   "cell_type": "markdown",
   "metadata": {},
   "source": [
    "Поменяем тип некоторых числовых значений"
   ]
  },
  {
   "cell_type": "code",
   "execution_count": 547,
   "metadata": {},
   "outputs": [
    {
     "name": "stdout",
     "output_type": "stream",
     "text": [
      "<class 'pandas.core.frame.DataFrame'>\n",
      "Int64Index: 292 entries, 0 to 394\n",
      "Data columns (total 29 columns):\n",
      " #   Column      Non-Null Count  Dtype  \n",
      "---  ------      --------------  -----  \n",
      " 0   school      292 non-null    object \n",
      " 1   sex         292 non-null    object \n",
      " 2   age         292 non-null    int64  \n",
      " 3   address     292 non-null    object \n",
      " 4   famsize     292 non-null    object \n",
      " 5   Pstatus     292 non-null    object \n",
      " 6   Medu        292 non-null    float64\n",
      " 7   Fedu        292 non-null    float64\n",
      " 8   Mjob        292 non-null    object \n",
      " 9   Fjob        292 non-null    object \n",
      " 10  reason      292 non-null    object \n",
      " 11  guardian    292 non-null    object \n",
      " 12  traveltime  292 non-null    float64\n",
      " 13  studytime   292 non-null    float64\n",
      " 14  failures    292 non-null    float64\n",
      " 15  schoolsup   292 non-null    object \n",
      " 16  famsup      292 non-null    object \n",
      " 17  paid        292 non-null    object \n",
      " 18  activities  292 non-null    object \n",
      " 19  nursery     292 non-null    object \n",
      " 20  higher      292 non-null    object \n",
      " 21  internet    292 non-null    object \n",
      " 22  romantic    292 non-null    object \n",
      " 23  famrel      292 non-null    float64\n",
      " 24  freetime    292 non-null    float64\n",
      " 25  goout       292 non-null    float64\n",
      " 26  health      292 non-null    float64\n",
      " 27  absences    292 non-null    float64\n",
      " 28  score       292 non-null    float64\n",
      "dtypes: float64(11), int64(1), object(17)\n",
      "memory usage: 68.4+ KB\n"
     ]
    }
   ],
   "source": [
    "#students = students.apply(pd.to_numeric)\n",
    "#students[['absences', 'score']] = students[['absences', 'score']].apply(pd.to_numeric)\n",
    "\n",
    "for col in ['absences']:\n",
    "    to_numeric(col)\n",
    "    \n",
    "for col in ['score']:\n",
    "    to_numeric(col)\n",
    "    \n",
    "for col in ['Fedu']:\n",
    "    to_numeric(col)\n",
    "\n",
    "for col in ['Medu']:\n",
    "    to_numeric(col)\n",
    "\n",
    "for col in ['traveltime']:\n",
    "    to_numeric(col)\n",
    "    \n",
    "for col in ['studytime']:\n",
    "    to_numeric(col)\n",
    "    \n",
    "for col in ['failures']:\n",
    "    to_numeric(col)\n",
    "    \n",
    "for col in ['famrel']:\n",
    "    to_numeric(col)\n",
    "    \n",
    "for col in ['freetime']:\n",
    "    to_numeric(col)\n",
    "    \n",
    "for col in ['goout']:\n",
    "    to_numeric(col)\n",
    "    \n",
    "for col in ['health']:\n",
    "    to_numeric(col)\n",
    "    \n",
    "students.info()"
   ]
  },
  {
   "cell_type": "markdown",
   "metadata": {},
   "source": [
    "Исследуем матрицу корреляции"
   ]
  },
  {
   "cell_type": "code",
   "execution_count": 548,
   "metadata": {},
   "outputs": [
    {
     "data": {
      "text/html": [
       "<div>\n",
       "<style scoped>\n",
       "    .dataframe tbody tr th:only-of-type {\n",
       "        vertical-align: middle;\n",
       "    }\n",
       "\n",
       "    .dataframe tbody tr th {\n",
       "        vertical-align: top;\n",
       "    }\n",
       "\n",
       "    .dataframe thead th {\n",
       "        text-align: right;\n",
       "    }\n",
       "</style>\n",
       "<table border=\"1\" class=\"dataframe\">\n",
       "  <thead>\n",
       "    <tr style=\"text-align: right;\">\n",
       "      <th></th>\n",
       "      <th>age</th>\n",
       "      <th>Medu</th>\n",
       "      <th>Fedu</th>\n",
       "      <th>traveltime</th>\n",
       "      <th>studytime</th>\n",
       "      <th>failures</th>\n",
       "      <th>famrel</th>\n",
       "      <th>freetime</th>\n",
       "      <th>goout</th>\n",
       "      <th>health</th>\n",
       "      <th>absences</th>\n",
       "      <th>score</th>\n",
       "    </tr>\n",
       "  </thead>\n",
       "  <tbody>\n",
       "    <tr>\n",
       "      <th>age</th>\n",
       "      <td>1.000000</td>\n",
       "      <td>-0.214276</td>\n",
       "      <td>-0.201643</td>\n",
       "      <td>0.162157</td>\n",
       "      <td>-0.045360</td>\n",
       "      <td>0.237376</td>\n",
       "      <td>0.046203</td>\n",
       "      <td>0.025926</td>\n",
       "      <td>0.103904</td>\n",
       "      <td>-0.034563</td>\n",
       "      <td>0.146781</td>\n",
       "      <td>-0.131347</td>\n",
       "    </tr>\n",
       "    <tr>\n",
       "      <th>Medu</th>\n",
       "      <td>-0.214276</td>\n",
       "      <td>1.000000</td>\n",
       "      <td>0.607480</td>\n",
       "      <td>-0.174829</td>\n",
       "      <td>0.098780</td>\n",
       "      <td>-0.249502</td>\n",
       "      <td>-0.020784</td>\n",
       "      <td>0.017665</td>\n",
       "      <td>0.040895</td>\n",
       "      <td>-0.088110</td>\n",
       "      <td>0.097984</td>\n",
       "      <td>0.223000</td>\n",
       "    </tr>\n",
       "    <tr>\n",
       "      <th>Fedu</th>\n",
       "      <td>-0.201643</td>\n",
       "      <td>0.607480</td>\n",
       "      <td>1.000000</td>\n",
       "      <td>-0.135166</td>\n",
       "      <td>-0.026818</td>\n",
       "      <td>-0.262333</td>\n",
       "      <td>-0.048782</td>\n",
       "      <td>-0.046857</td>\n",
       "      <td>0.053399</td>\n",
       "      <td>0.006322</td>\n",
       "      <td>0.014428</td>\n",
       "      <td>0.082589</td>\n",
       "    </tr>\n",
       "    <tr>\n",
       "      <th>traveltime</th>\n",
       "      <td>0.162157</td>\n",
       "      <td>-0.174829</td>\n",
       "      <td>-0.135166</td>\n",
       "      <td>1.000000</td>\n",
       "      <td>-0.077488</td>\n",
       "      <td>0.033861</td>\n",
       "      <td>0.016911</td>\n",
       "      <td>0.027772</td>\n",
       "      <td>-0.008662</td>\n",
       "      <td>-0.029324</td>\n",
       "      <td>0.014148</td>\n",
       "      <td>-0.088538</td>\n",
       "    </tr>\n",
       "    <tr>\n",
       "      <th>studytime</th>\n",
       "      <td>-0.045360</td>\n",
       "      <td>0.098780</td>\n",
       "      <td>-0.026818</td>\n",
       "      <td>-0.077488</td>\n",
       "      <td>1.000000</td>\n",
       "      <td>-0.168929</td>\n",
       "      <td>0.031819</td>\n",
       "      <td>-0.180051</td>\n",
       "      <td>-0.073524</td>\n",
       "      <td>-0.074847</td>\n",
       "      <td>-0.082829</td>\n",
       "      <td>0.112304</td>\n",
       "    </tr>\n",
       "    <tr>\n",
       "      <th>failures</th>\n",
       "      <td>0.237376</td>\n",
       "      <td>-0.249502</td>\n",
       "      <td>-0.262333</td>\n",
       "      <td>0.033861</td>\n",
       "      <td>-0.168929</td>\n",
       "      <td>1.000000</td>\n",
       "      <td>-0.010394</td>\n",
       "      <td>0.070294</td>\n",
       "      <td>0.034030</td>\n",
       "      <td>0.076289</td>\n",
       "      <td>0.049943</td>\n",
       "      <td>-0.343581</td>\n",
       "    </tr>\n",
       "    <tr>\n",
       "      <th>famrel</th>\n",
       "      <td>0.046203</td>\n",
       "      <td>-0.020784</td>\n",
       "      <td>-0.048782</td>\n",
       "      <td>0.016911</td>\n",
       "      <td>0.031819</td>\n",
       "      <td>-0.010394</td>\n",
       "      <td>1.000000</td>\n",
       "      <td>0.115477</td>\n",
       "      <td>0.104006</td>\n",
       "      <td>0.096648</td>\n",
       "      <td>-0.070531</td>\n",
       "      <td>0.068117</td>\n",
       "    </tr>\n",
       "    <tr>\n",
       "      <th>freetime</th>\n",
       "      <td>0.025926</td>\n",
       "      <td>0.017665</td>\n",
       "      <td>-0.046857</td>\n",
       "      <td>0.027772</td>\n",
       "      <td>-0.180051</td>\n",
       "      <td>0.070294</td>\n",
       "      <td>0.115477</td>\n",
       "      <td>1.000000</td>\n",
       "      <td>0.259408</td>\n",
       "      <td>0.050806</td>\n",
       "      <td>0.111074</td>\n",
       "      <td>0.078501</td>\n",
       "    </tr>\n",
       "    <tr>\n",
       "      <th>goout</th>\n",
       "      <td>0.103904</td>\n",
       "      <td>0.040895</td>\n",
       "      <td>0.053399</td>\n",
       "      <td>-0.008662</td>\n",
       "      <td>-0.073524</td>\n",
       "      <td>0.034030</td>\n",
       "      <td>0.104006</td>\n",
       "      <td>0.259408</td>\n",
       "      <td>1.000000</td>\n",
       "      <td>0.022982</td>\n",
       "      <td>0.132755</td>\n",
       "      <td>-0.087294</td>\n",
       "    </tr>\n",
       "    <tr>\n",
       "      <th>health</th>\n",
       "      <td>-0.034563</td>\n",
       "      <td>-0.088110</td>\n",
       "      <td>0.006322</td>\n",
       "      <td>-0.029324</td>\n",
       "      <td>-0.074847</td>\n",
       "      <td>0.076289</td>\n",
       "      <td>0.096648</td>\n",
       "      <td>0.050806</td>\n",
       "      <td>0.022982</td>\n",
       "      <td>1.000000</td>\n",
       "      <td>-0.012818</td>\n",
       "      <td>-0.070370</td>\n",
       "    </tr>\n",
       "    <tr>\n",
       "      <th>absences</th>\n",
       "      <td>0.146781</td>\n",
       "      <td>0.097984</td>\n",
       "      <td>0.014428</td>\n",
       "      <td>0.014148</td>\n",
       "      <td>-0.082829</td>\n",
       "      <td>0.049943</td>\n",
       "      <td>-0.070531</td>\n",
       "      <td>0.111074</td>\n",
       "      <td>0.132755</td>\n",
       "      <td>-0.012818</td>\n",
       "      <td>1.000000</td>\n",
       "      <td>0.109492</td>\n",
       "    </tr>\n",
       "    <tr>\n",
       "      <th>score</th>\n",
       "      <td>-0.131347</td>\n",
       "      <td>0.223000</td>\n",
       "      <td>0.082589</td>\n",
       "      <td>-0.088538</td>\n",
       "      <td>0.112304</td>\n",
       "      <td>-0.343581</td>\n",
       "      <td>0.068117</td>\n",
       "      <td>0.078501</td>\n",
       "      <td>-0.087294</td>\n",
       "      <td>-0.070370</td>\n",
       "      <td>0.109492</td>\n",
       "      <td>1.000000</td>\n",
       "    </tr>\n",
       "  </tbody>\n",
       "</table>\n",
       "</div>"
      ],
      "text/plain": [
       "                 age      Medu      Fedu  traveltime  studytime  failures  \\\n",
       "age         1.000000 -0.214276 -0.201643    0.162157  -0.045360  0.237376   \n",
       "Medu       -0.214276  1.000000  0.607480   -0.174829   0.098780 -0.249502   \n",
       "Fedu       -0.201643  0.607480  1.000000   -0.135166  -0.026818 -0.262333   \n",
       "traveltime  0.162157 -0.174829 -0.135166    1.000000  -0.077488  0.033861   \n",
       "studytime  -0.045360  0.098780 -0.026818   -0.077488   1.000000 -0.168929   \n",
       "failures    0.237376 -0.249502 -0.262333    0.033861  -0.168929  1.000000   \n",
       "famrel      0.046203 -0.020784 -0.048782    0.016911   0.031819 -0.010394   \n",
       "freetime    0.025926  0.017665 -0.046857    0.027772  -0.180051  0.070294   \n",
       "goout       0.103904  0.040895  0.053399   -0.008662  -0.073524  0.034030   \n",
       "health     -0.034563 -0.088110  0.006322   -0.029324  -0.074847  0.076289   \n",
       "absences    0.146781  0.097984  0.014428    0.014148  -0.082829  0.049943   \n",
       "score      -0.131347  0.223000  0.082589   -0.088538   0.112304 -0.343581   \n",
       "\n",
       "              famrel  freetime     goout    health  absences     score  \n",
       "age         0.046203  0.025926  0.103904 -0.034563  0.146781 -0.131347  \n",
       "Medu       -0.020784  0.017665  0.040895 -0.088110  0.097984  0.223000  \n",
       "Fedu       -0.048782 -0.046857  0.053399  0.006322  0.014428  0.082589  \n",
       "traveltime  0.016911  0.027772 -0.008662 -0.029324  0.014148 -0.088538  \n",
       "studytime   0.031819 -0.180051 -0.073524 -0.074847 -0.082829  0.112304  \n",
       "failures   -0.010394  0.070294  0.034030  0.076289  0.049943 -0.343581  \n",
       "famrel      1.000000  0.115477  0.104006  0.096648 -0.070531  0.068117  \n",
       "freetime    0.115477  1.000000  0.259408  0.050806  0.111074  0.078501  \n",
       "goout       0.104006  0.259408  1.000000  0.022982  0.132755 -0.087294  \n",
       "health      0.096648  0.050806  0.022982  1.000000 -0.012818 -0.070370  \n",
       "absences   -0.070531  0.111074  0.132755 -0.012818  1.000000  0.109492  \n",
       "score       0.068117  0.078501 -0.087294 -0.070370  0.109492  1.000000  "
      ]
     },
     "execution_count": 548,
     "metadata": {},
     "output_type": "execute_result"
    }
   ],
   "source": [
    "students.corr()"
   ]
  },
  {
   "cell_type": "markdown",
   "metadata": {},
   "source": [
    "Полностью скоррелированных значений в таблице не найдено, но всеже наиболее скоррелированы параметры Fedu и Medu, что говорит о том, что в основном у студентов мать и отец имеют практический одинаковый уровень образования, поэтому удалим столбец Fedu, так как он наименее скоррелирован со значением score.\n",
    "\n"
   ]
  },
  {
   "cell_type": "code",
   "execution_count": 549,
   "metadata": {},
   "outputs": [],
   "source": [
    "for col in ['Fedu']:\n",
    "    delete_columns(col)"
   ]
  },
  {
   "cell_type": "code",
   "execution_count": 551,
   "metadata": {},
   "outputs": [
    {
     "data": {
      "text/html": [
       "<div>\n",
       "<style scoped>\n",
       "    .dataframe tbody tr th:only-of-type {\n",
       "        vertical-align: middle;\n",
       "    }\n",
       "\n",
       "    .dataframe tbody tr th {\n",
       "        vertical-align: top;\n",
       "    }\n",
       "\n",
       "    .dataframe thead th {\n",
       "        text-align: right;\n",
       "    }\n",
       "</style>\n",
       "<table border=\"1\" class=\"dataframe\">\n",
       "  <thead>\n",
       "    <tr style=\"text-align: right;\">\n",
       "      <th></th>\n",
       "      <th>age</th>\n",
       "      <th>Medu</th>\n",
       "      <th>traveltime</th>\n",
       "      <th>studytime</th>\n",
       "      <th>failures</th>\n",
       "      <th>famrel</th>\n",
       "      <th>freetime</th>\n",
       "      <th>goout</th>\n",
       "      <th>health</th>\n",
       "      <th>absences</th>\n",
       "      <th>score</th>\n",
       "    </tr>\n",
       "  </thead>\n",
       "  <tbody>\n",
       "    <tr>\n",
       "      <th>age</th>\n",
       "      <td>1.000000</td>\n",
       "      <td>-0.214276</td>\n",
       "      <td>0.162157</td>\n",
       "      <td>-0.045360</td>\n",
       "      <td>0.237376</td>\n",
       "      <td>0.046203</td>\n",
       "      <td>0.025926</td>\n",
       "      <td>0.103904</td>\n",
       "      <td>-0.034563</td>\n",
       "      <td>0.146781</td>\n",
       "      <td>-0.131347</td>\n",
       "    </tr>\n",
       "    <tr>\n",
       "      <th>Medu</th>\n",
       "      <td>-0.214276</td>\n",
       "      <td>1.000000</td>\n",
       "      <td>-0.174829</td>\n",
       "      <td>0.098780</td>\n",
       "      <td>-0.249502</td>\n",
       "      <td>-0.020784</td>\n",
       "      <td>0.017665</td>\n",
       "      <td>0.040895</td>\n",
       "      <td>-0.088110</td>\n",
       "      <td>0.097984</td>\n",
       "      <td>0.223000</td>\n",
       "    </tr>\n",
       "    <tr>\n",
       "      <th>traveltime</th>\n",
       "      <td>0.162157</td>\n",
       "      <td>-0.174829</td>\n",
       "      <td>1.000000</td>\n",
       "      <td>-0.077488</td>\n",
       "      <td>0.033861</td>\n",
       "      <td>0.016911</td>\n",
       "      <td>0.027772</td>\n",
       "      <td>-0.008662</td>\n",
       "      <td>-0.029324</td>\n",
       "      <td>0.014148</td>\n",
       "      <td>-0.088538</td>\n",
       "    </tr>\n",
       "    <tr>\n",
       "      <th>studytime</th>\n",
       "      <td>-0.045360</td>\n",
       "      <td>0.098780</td>\n",
       "      <td>-0.077488</td>\n",
       "      <td>1.000000</td>\n",
       "      <td>-0.168929</td>\n",
       "      <td>0.031819</td>\n",
       "      <td>-0.180051</td>\n",
       "      <td>-0.073524</td>\n",
       "      <td>-0.074847</td>\n",
       "      <td>-0.082829</td>\n",
       "      <td>0.112304</td>\n",
       "    </tr>\n",
       "    <tr>\n",
       "      <th>failures</th>\n",
       "      <td>0.237376</td>\n",
       "      <td>-0.249502</td>\n",
       "      <td>0.033861</td>\n",
       "      <td>-0.168929</td>\n",
       "      <td>1.000000</td>\n",
       "      <td>-0.010394</td>\n",
       "      <td>0.070294</td>\n",
       "      <td>0.034030</td>\n",
       "      <td>0.076289</td>\n",
       "      <td>0.049943</td>\n",
       "      <td>-0.343581</td>\n",
       "    </tr>\n",
       "    <tr>\n",
       "      <th>famrel</th>\n",
       "      <td>0.046203</td>\n",
       "      <td>-0.020784</td>\n",
       "      <td>0.016911</td>\n",
       "      <td>0.031819</td>\n",
       "      <td>-0.010394</td>\n",
       "      <td>1.000000</td>\n",
       "      <td>0.115477</td>\n",
       "      <td>0.104006</td>\n",
       "      <td>0.096648</td>\n",
       "      <td>-0.070531</td>\n",
       "      <td>0.068117</td>\n",
       "    </tr>\n",
       "    <tr>\n",
       "      <th>freetime</th>\n",
       "      <td>0.025926</td>\n",
       "      <td>0.017665</td>\n",
       "      <td>0.027772</td>\n",
       "      <td>-0.180051</td>\n",
       "      <td>0.070294</td>\n",
       "      <td>0.115477</td>\n",
       "      <td>1.000000</td>\n",
       "      <td>0.259408</td>\n",
       "      <td>0.050806</td>\n",
       "      <td>0.111074</td>\n",
       "      <td>0.078501</td>\n",
       "    </tr>\n",
       "    <tr>\n",
       "      <th>goout</th>\n",
       "      <td>0.103904</td>\n",
       "      <td>0.040895</td>\n",
       "      <td>-0.008662</td>\n",
       "      <td>-0.073524</td>\n",
       "      <td>0.034030</td>\n",
       "      <td>0.104006</td>\n",
       "      <td>0.259408</td>\n",
       "      <td>1.000000</td>\n",
       "      <td>0.022982</td>\n",
       "      <td>0.132755</td>\n",
       "      <td>-0.087294</td>\n",
       "    </tr>\n",
       "    <tr>\n",
       "      <th>health</th>\n",
       "      <td>-0.034563</td>\n",
       "      <td>-0.088110</td>\n",
       "      <td>-0.029324</td>\n",
       "      <td>-0.074847</td>\n",
       "      <td>0.076289</td>\n",
       "      <td>0.096648</td>\n",
       "      <td>0.050806</td>\n",
       "      <td>0.022982</td>\n",
       "      <td>1.000000</td>\n",
       "      <td>-0.012818</td>\n",
       "      <td>-0.070370</td>\n",
       "    </tr>\n",
       "    <tr>\n",
       "      <th>absences</th>\n",
       "      <td>0.146781</td>\n",
       "      <td>0.097984</td>\n",
       "      <td>0.014148</td>\n",
       "      <td>-0.082829</td>\n",
       "      <td>0.049943</td>\n",
       "      <td>-0.070531</td>\n",
       "      <td>0.111074</td>\n",
       "      <td>0.132755</td>\n",
       "      <td>-0.012818</td>\n",
       "      <td>1.000000</td>\n",
       "      <td>0.109492</td>\n",
       "    </tr>\n",
       "    <tr>\n",
       "      <th>score</th>\n",
       "      <td>-0.131347</td>\n",
       "      <td>0.223000</td>\n",
       "      <td>-0.088538</td>\n",
       "      <td>0.112304</td>\n",
       "      <td>-0.343581</td>\n",
       "      <td>0.068117</td>\n",
       "      <td>0.078501</td>\n",
       "      <td>-0.087294</td>\n",
       "      <td>-0.070370</td>\n",
       "      <td>0.109492</td>\n",
       "      <td>1.000000</td>\n",
       "    </tr>\n",
       "  </tbody>\n",
       "</table>\n",
       "</div>"
      ],
      "text/plain": [
       "                 age      Medu  traveltime  studytime  failures    famrel  \\\n",
       "age         1.000000 -0.214276    0.162157  -0.045360  0.237376  0.046203   \n",
       "Medu       -0.214276  1.000000   -0.174829   0.098780 -0.249502 -0.020784   \n",
       "traveltime  0.162157 -0.174829    1.000000  -0.077488  0.033861  0.016911   \n",
       "studytime  -0.045360  0.098780   -0.077488   1.000000 -0.168929  0.031819   \n",
       "failures    0.237376 -0.249502    0.033861  -0.168929  1.000000 -0.010394   \n",
       "famrel      0.046203 -0.020784    0.016911   0.031819 -0.010394  1.000000   \n",
       "freetime    0.025926  0.017665    0.027772  -0.180051  0.070294  0.115477   \n",
       "goout       0.103904  0.040895   -0.008662  -0.073524  0.034030  0.104006   \n",
       "health     -0.034563 -0.088110   -0.029324  -0.074847  0.076289  0.096648   \n",
       "absences    0.146781  0.097984    0.014148  -0.082829  0.049943 -0.070531   \n",
       "score      -0.131347  0.223000   -0.088538   0.112304 -0.343581  0.068117   \n",
       "\n",
       "            freetime     goout    health  absences     score  \n",
       "age         0.025926  0.103904 -0.034563  0.146781 -0.131347  \n",
       "Medu        0.017665  0.040895 -0.088110  0.097984  0.223000  \n",
       "traveltime  0.027772 -0.008662 -0.029324  0.014148 -0.088538  \n",
       "studytime  -0.180051 -0.073524 -0.074847 -0.082829  0.112304  \n",
       "failures    0.070294  0.034030  0.076289  0.049943 -0.343581  \n",
       "famrel      0.115477  0.104006  0.096648 -0.070531  0.068117  \n",
       "freetime    1.000000  0.259408  0.050806  0.111074  0.078501  \n",
       "goout       0.259408  1.000000  0.022982  0.132755 -0.087294  \n",
       "health      0.050806  0.022982  1.000000 -0.012818 -0.070370  \n",
       "absences    0.111074  0.132755 -0.012818  1.000000  0.109492  \n",
       "score       0.078501 -0.087294 -0.070370  0.109492  1.000000  "
      ]
     },
     "execution_count": 551,
     "metadata": {},
     "output_type": "execute_result"
    }
   ],
   "source": [
    "students.corr()"
   ]
  },
  {
   "cell_type": "markdown",
   "metadata": {},
   "source": [
    "Теперь рассмотрим, как влияют различные параметры на баллы по экзамену. \n",
    "\n",
    "score имеет положительную корреляцию с Medu. Скорее всего у более умных и образованных родителей более умные дети.\n",
    "\n",
    "Также score положительно скоррелирован со столбцом studytime. Он показывает, сколько времени студент уделяет на учебу школы. Соответственно, чем больше уделяет времени, тем лучше оценка.\n",
    "\n",
    "Семейные отношения famrel также влияют на оценку, но меньше чем другие факторы. Чем лучше отношения в семье, тем лучше оценка.\n",
    "\n",
    "Студенты, которые имеют больше свободного времени после школы, также хорошо сдают экзамен. Возможно потому, что имеют возможность отдохнуть от учебы.\n",
    "\n",
    "Вызывает вопрос только то, что чем больше студент пропускает занятий, тем лучше оценка. Либо потому, что в датасете в данном столбце недостоверные данные. Либо в школе плохо учат математике, и студенты предпочитают ходить на какие-то дополнительные занятия, а не в школу.\n",
    "\n",
    "Отрицательно скоррелированно количество баллов с возрастом школьников, что говорит о том, что возможно более молодые студенты имеют более гибкий ум. Либо в младших классах лучше преподают математику, чем в старших. Либо у более взрослых студентов появляютя романтические отношения, которые отрицательно влияют на учебу.\n",
    "\n",
    "Также студенты, которым дольше идти до школы, хуже сдают экзамен. Но данный параметр влияет незначительно.\n",
    "\n",
    "Также студенты, у которых больше веучебных неудач сдают экзамен хуже. И этот параметр достаточно сильно влияет. \n",
    "\n",
    "Время, проведенное с друзьями также отрицательно влияет на результат по экзамену.\n",
    "\n",
    "И здоровье студента также влияет на оценку по экзамену.\n",
    "\n",
    "Соответственно, наибольшее влияние на результат по экзамену оказывает возраст студента, образование родителей, время на учебу помимо школы, количество внеучебных неудач (данный параметр положительно коррелирует с возрастом) и количество пропущенных занятий. Столбцы, которые наименее коррелируемые удалим.\n"
   ]
  },
  {
   "cell_type": "code",
   "execution_count": null,
   "metadata": {},
   "outputs": [],
   "source": [
    "for col in ['traveltime']:\n",
    "    delete_columns(col)\n",
    "\n",
    "for col in ['famrel']:\n",
    "    delete_columns(col)\n",
    "    \n",
    "for col in ['freetime']:\n",
    "    delete_columns(col)\n",
    "    \n",
    "for col in ['goout']:\n",
    "    delete_columns(col)\n",
    "    \n",
    "for col in ['health']:\n",
    "    delete_columns(col)"
   ]
  },
  {
   "cell_type": "code",
   "execution_count": 570,
   "metadata": {},
   "outputs": [
    {
     "data": {
      "text/html": [
       "<div>\n",
       "<style scoped>\n",
       "    .dataframe tbody tr th:only-of-type {\n",
       "        vertical-align: middle;\n",
       "    }\n",
       "\n",
       "    .dataframe tbody tr th {\n",
       "        vertical-align: top;\n",
       "    }\n",
       "\n",
       "    .dataframe thead th {\n",
       "        text-align: right;\n",
       "    }\n",
       "</style>\n",
       "<table border=\"1\" class=\"dataframe\">\n",
       "  <thead>\n",
       "    <tr style=\"text-align: right;\">\n",
       "      <th></th>\n",
       "      <th>age</th>\n",
       "      <th>Medu</th>\n",
       "      <th>studytime</th>\n",
       "      <th>failures</th>\n",
       "      <th>absences</th>\n",
       "      <th>score</th>\n",
       "    </tr>\n",
       "  </thead>\n",
       "  <tbody>\n",
       "    <tr>\n",
       "      <th>age</th>\n",
       "      <td>1.000000</td>\n",
       "      <td>-0.214276</td>\n",
       "      <td>-0.045360</td>\n",
       "      <td>0.237376</td>\n",
       "      <td>0.146781</td>\n",
       "      <td>-0.131347</td>\n",
       "    </tr>\n",
       "    <tr>\n",
       "      <th>Medu</th>\n",
       "      <td>-0.214276</td>\n",
       "      <td>1.000000</td>\n",
       "      <td>0.098780</td>\n",
       "      <td>-0.249502</td>\n",
       "      <td>0.097984</td>\n",
       "      <td>0.223000</td>\n",
       "    </tr>\n",
       "    <tr>\n",
       "      <th>studytime</th>\n",
       "      <td>-0.045360</td>\n",
       "      <td>0.098780</td>\n",
       "      <td>1.000000</td>\n",
       "      <td>-0.168929</td>\n",
       "      <td>-0.082829</td>\n",
       "      <td>0.112304</td>\n",
       "    </tr>\n",
       "    <tr>\n",
       "      <th>failures</th>\n",
       "      <td>0.237376</td>\n",
       "      <td>-0.249502</td>\n",
       "      <td>-0.168929</td>\n",
       "      <td>1.000000</td>\n",
       "      <td>0.049943</td>\n",
       "      <td>-0.343581</td>\n",
       "    </tr>\n",
       "    <tr>\n",
       "      <th>absences</th>\n",
       "      <td>0.146781</td>\n",
       "      <td>0.097984</td>\n",
       "      <td>-0.082829</td>\n",
       "      <td>0.049943</td>\n",
       "      <td>1.000000</td>\n",
       "      <td>0.109492</td>\n",
       "    </tr>\n",
       "    <tr>\n",
       "      <th>score</th>\n",
       "      <td>-0.131347</td>\n",
       "      <td>0.223000</td>\n",
       "      <td>0.112304</td>\n",
       "      <td>-0.343581</td>\n",
       "      <td>0.109492</td>\n",
       "      <td>1.000000</td>\n",
       "    </tr>\n",
       "  </tbody>\n",
       "</table>\n",
       "</div>"
      ],
      "text/plain": [
       "                age      Medu  studytime  failures  absences     score\n",
       "age        1.000000 -0.214276  -0.045360  0.237376  0.146781 -0.131347\n",
       "Medu      -0.214276  1.000000   0.098780 -0.249502  0.097984  0.223000\n",
       "studytime -0.045360  0.098780   1.000000 -0.168929 -0.082829  0.112304\n",
       "failures   0.237376 -0.249502  -0.168929  1.000000  0.049943 -0.343581\n",
       "absences   0.146781  0.097984  -0.082829  0.049943  1.000000  0.109492\n",
       "score     -0.131347  0.223000   0.112304 -0.343581  0.109492  1.000000"
      ]
     },
     "execution_count": 570,
     "metadata": {},
     "output_type": "execute_result"
    }
   ],
   "source": [
    "students.corr()\n"
   ]
  },
  {
   "cell_type": "code",
   "execution_count": 571,
   "metadata": {},
   "outputs": [
    {
     "data": {
      "text/plain": [
       "<seaborn.axisgrid.PairGrid at 0x189e46adf48>"
      ]
     },
     "execution_count": 571,
     "metadata": {},
     "output_type": "execute_result"
    },
    {
     "data": {
      "image/png": "[encoded data removed]",
      "text/plain": [
       "<Figure size 1080x1080 with 42 Axes>"
      ]
     },
     "metadata": {
      "needs_background": "light"
     },
     "output_type": "display_data"
    }
   ],
   "source": [
    "sns.pairplot(students, kind = 'reg')"
   ]
  },
  {
   "cell_type": "markdown",
   "metadata": {},
   "source": [
    "## Анализ номинативных переменных"
   ]
  },
  {
   "cell_type": "markdown",
   "metadata": {},
   "source": [
    "Для номинативных переменных использование корреляционного анализа нецелесообразно. Посмотрим, различается ли распределение рейтинга в зависимости от значений этих переменных. Параметны, которые осталось рассмотреть:\n",
    "\n",
    "school\n",
    "sex\n",
    "address\n",
    "famsize\n",
    "Pstatus\n",
    "Mjob\n",
    "Fjob\n",
    "reason\n",
    "guardian\n",
    "schoolsup\n",
    "famsup\n",
    "paid\n",
    "activities\n",
    "nursery\n",
    "higher\n",
    "internet\n",
    "romantic"
   ]
  },
  {
   "cell_type": "code",
   "execution_count": 573,
   "metadata": {},
   "outputs": [
    {
     "data": {
      "image/png": "[encoded data removed]",
      "text/plain": [
       "<Figure size 1008x288 with 1 Axes>"
      ]
     },
     "metadata": {
      "needs_background": "light"
     },
     "output_type": "display_data"
    },
    {
     "data": {
      "image/png": "[encoded data removed]",
      "text/plain": [
       "<Figure size 1008x288 with 1 Axes>"
      ]
     },
     "metadata": {
      "needs_background": "light"
     },
     "output_type": "display_data"
    },
    {
     "data": {
      "image/png": "[encoded data removed]",
      "text/plain": [
       "<Figure size 1008x288 with 1 Axes>"
      ]
     },
     "metadata": {
      "needs_background": "light"
     },
     "output_type": "display_data"
    },
    {
     "data": {
      "image/png": "[encoded data removed]",
      "text/plain": [
       "<Figure size 1008x288 with 1 Axes>"
      ]
     },
     "metadata": {
      "needs_background": "light"
     },
     "output_type": "display_data"
    },
    {
     "data": {
      "image/png": "[encoded data removed]",
      "text/plain": [
       "<Figure size 1008x288 with 1 Axes>"
      ]
     },
     "metadata": {
      "needs_background": "light"
     },
     "output_type": "display_data"
    },
    {
     "data": {
      "image/png": "[encoded data removed]",
      "text/plain": [
       "<Figure size 1008x288 with 1 Axes>"
      ]
     },
     "metadata": {
      "needs_background": "light"
     },
     "output_type": "display_data"
    },
    {
     "data": {
      "image/png": "[encoded data removed]",
      "text/plain": [
       "<Figure size 1008x288 with 1 Axes>"
      ]
     },
     "metadata": {
      "needs_background": "light"
     },
     "output_type": "display_data"
    },
    {
     "data": {
      "image/png": "[encoded data removed]",
      "text/plain": [
       "<Figure size 1008x288 with 1 Axes>"
      ]
     },
     "metadata": {
      "needs_background": "light"
     },
     "output_type": "display_data"
    },
    {
     "data": {
      "image/png": "[encoded data removed]",
      "text/plain": [
       "<Figure size 1008x288 with 1 Axes>"
      ]
     },
     "metadata": {
      "needs_background": "light"
     },
     "output_type": "display_data"
    },
    {
     "data": {
      "image/png": "[encoded data removed]",
      "text/plain": [
       "<Figure size 1008x288 with 1 Axes>"
      ]
     },
     "metadata": {
      "needs_background": "light"
     },
     "output_type": "display_data"
    },
    {
     "data": {
      "image/png": "[encoded data removed]",
      "text/plain": [
       "<Figure size 1008x288 with 1 Axes>"
      ]
     },
     "metadata": {
      "needs_background": "light"
     },
     "output_type": "display_data"
    },
    {
     "data": {
      "image/png": "[encoded data removed]",
      "text/plain": [
       "<Figure size 1008x288 with 1 Axes>"
      ]
     },
     "metadata": {
      "needs_background": "light"
     },
     "output_type": "display_data"
    },
    {
     "data": {
      "image/png": "[encoded data removed]",
      "text/plain": [
       "<Figure size 1008x288 with 1 Axes>"
      ]
     },
     "metadata": {
      "needs_background": "light"
     },
     "output_type": "display_data"
    },
    {
     "data": {
      "image/png": "[encoded data removed]",
      "text/plain": [
       "<Figure size 1008x288 with 1 Axes>"
      ]
     },
     "metadata": {
      "needs_background": "light"
     },
     "output_type": "display_data"
    },
    {
     "data": {
      "image/png": "[encoded data removed]",
      "text/plain": [
       "<Figure size 1008x288 with 1 Axes>"
      ]
     },
     "metadata": {
      "needs_background": "light"
     },
     "output_type": "display_data"
    },
    {
     "data": {
      "image/png": "[encoded data removed]",
      "text/plain": [
       "<Figure size 1008x288 with 1 Axes>"
      ]
     },
     "metadata": {
      "needs_background": "light"
     },
     "output_type": "display_data"
    },
    {
     "data": {
      "image/png": "[encoded data removed]",
      "text/plain": [
       "<Figure size 1008x288 with 1 Axes>"
      ]
     },
     "metadata": {
      "needs_background": "light"
     },
     "output_type": "display_data"
    }
   ],
   "source": [
    "def get_boxplot(column):\n",
    "    fig, ax = plt.subplots(figsize = (14, 4))\n",
    "    sns.boxplot(x=column, y='score', \n",
    "                data=students.loc[students.loc[:, column].isin(students.loc[:, column].value_counts().index[:10])],\n",
    "               ax=ax)\n",
    "    plt.xticks(rotation=45)\n",
    "    ax.set_title('Boxplot for ' + column)\n",
    "    plt.show()\n",
    "    \n",
    "for col in ['school', 'sex', 'address', 'famsize', 'Pstatus', 'Mjob', 'Fjob', 'reason', 'guardian', 'schoolsup', 'famsup', 'paid', 'activities', 'nursery', 'higher', 'internet', 'romantic']:\n",
    "    get_boxplot(col)"
   ]
  },
  {
   "cell_type": "markdown",
   "metadata": {},
   "source": [
    "Итак, из построенных графиков boxplot можно увидеть, что школа, в которой учится ученик влияет лишь немного. Удалим этот столбец.\n",
    "\n",
    "Пол влияет на результат. Парни лучше сдают экзамен по математике, чнм девушки. Этот признак оставляем.\n",
    "\n",
    "Немного хуже сдают студенты, которые живут за городом. Данный признак не будем удалять.\n",
    "\n",
    "Студенты из многодетных семей немного хуже сдают экзамен. Оставим этот признак.\n",
    "\n",
    "Студенты, у которых родители живут вместе, экзамен сдают немного лучше, но в целом на результат это особо не влияет. Удалим этот столбец.\n",
    "\n",
    "Работа матери достаточно сильно влияет на то, как сдают студенты экзамен. Лучшие результаты показывают дети врачей, а худшие - дети домохозяек.\n",
    "\n",
    "Работа отца влияет лишь только тогда, когда отец работает учителем. В остальных случаях практически не влияет. Удалим этот столбец.\n",
    "\n",
    "Причина выбора школы особо не влияет, поэтому удалим этот столбец.\n",
    "\n",
    "Также опекун не оказывает особого влияния на результат. Удалим столбец.\n",
    "\n",
    "Студенты с дополнительной образовательной поддержкой хуже сдают экзамен, что вызывает вопросы.\n",
    "\n",
    "Семейная образовательная поддержка практически не влияет на результат.Удалим столбец.\n",
    "\n",
    "Студенты, которые ходят на дополнительные платные занятия по математике, сдают экзамен лучше.\n",
    "\n",
    "Дополнительные внеучебные занятия также не сильно влияют на результат, по\n",
    "тому удалим этот столбнц.\n",
    "\n",
    "Факт, посещал ли студент детский сад, также практически не влияет на результаты по экзамену. Удалим столбец.\n",
    "\n",
    "Студенты, которые хотят поступить в высшее учебное заведение, лучше сдают экзамен, видимо потому, что есть мотивация.\n",
    "\n",
    "Студенты, у которых есть интернет, также намного лучше сдают экзамен.\n",
    "\n",
    "Студенты, у которых имеются романтические отношения, сдают экзамен немного хуже, но особо это не влияет на результаты. Удалим этот столбец.\n",
    "\n",
    "\n"
   ]
  },
  {
   "cell_type": "markdown",
   "metadata": {},
   "source": [
    "Прежде чем удалять столбцы, проверим, есть ли статистическая разница в распределении оценок по наминативным признакам, с помощью теста Стьюдента."
   ]
  },
  {
   "cell_type": "code",
   "execution_count": 575,
   "metadata": {},
   "outputs": [],
   "source": [
    "def get_stat_dif(column):\n",
    "    cols = students.loc[:, column].value_counts().index[:10]\n",
    "    combinations_all = list(combinations(cols, 2))\n",
    "    for comb in combinations_all:\n",
    "        if ttest_ind(students.loc[students.loc[:, column] == comb[0], 'score'], \n",
    "                        students.loc[students.loc[:, column] == comb[1], 'score']).pvalue \\\n",
    "            <= 0.05/len(combinations_all): # Учли поправку Бонферони\n",
    "            print('Найдены статистически значимые различия для колонки', column)\n",
    "            break"
   ]
  },
  {
   "cell_type": "code",
   "execution_count": 576,
   "metadata": {},
   "outputs": [
    {
     "name": "stdout",
     "output_type": "stream",
     "text": [
      "Найдены статистически значимые различия для колонки sex\n",
      "Найдены статистически значимые различия для колонки address\n",
      "Найдены статистически значимые различия для колонки paid\n"
     ]
    }
   ],
   "source": [
    "for col in ['school', 'sex', 'address', 'famsize', 'Pstatus', 'Mjob', 'Fjob', 'reason', 'guardian', 'schoolsup', 'famsup', 'paid', 'activities', 'nursery', 'higher', 'internet', 'romantic']:\n",
    "    get_stat_dif(col)"
   ]
  },
  {
   "cell_type": "markdown",
   "metadata": {},
   "source": [
    "Как видно, сильно различаются 3 параметра: sex, address, paid. Оставим эти переменные в датасете для дальнейшего построения модели. Удалим столбцы (по анализу boxplot) school, Pstatus, Fjob, reason, guardian, famsup, activities, nursery, romantic"
   ]
  },
  {
   "cell_type": "code",
   "execution_count": 577,
   "metadata": {},
   "outputs": [],
   "source": [
    "for col in ['school']:\n",
    "    delete_columns(col)\n",
    "\n",
    "for col in ['Pstatus']:\n",
    "    delete_columns(col)\n",
    "    \n",
    "for col in ['Fjob']:\n",
    "    delete_columns(col)\n",
    "    \n",
    "for col in ['reason']:\n",
    "    delete_columns(col)\n",
    "    \n",
    "for col in ['guardian']:\n",
    "    delete_columns(col)\n",
    "    \n",
    "for col in ['famsup']:\n",
    "    delete_columns(col)\n",
    "\n",
    "for col in ['activities']:\n",
    "    delete_columns(col)\n",
    "    \n",
    "for col in ['nursery']:\n",
    "    delete_columns(col)\n",
    "    \n",
    "for col in ['romantic']:\n",
    "    delete_columns(col)\n",
    "\n"
   ]
  },
  {
   "cell_type": "code",
   "execution_count": 578,
   "metadata": {},
   "outputs": [
    {
     "name": "stdout",
     "output_type": "stream",
     "text": [
      "<class 'pandas.core.frame.DataFrame'>\n",
      "Int64Index: 292 entries, 0 to 394\n",
      "Data columns (total 14 columns):\n",
      " #   Column     Non-Null Count  Dtype  \n",
      "---  ------     --------------  -----  \n",
      " 0   sex        292 non-null    object \n",
      " 1   age        292 non-null    int64  \n",
      " 2   address    292 non-null    object \n",
      " 3   famsize    292 non-null    object \n",
      " 4   Medu       292 non-null    float64\n",
      " 5   Mjob       292 non-null    object \n",
      " 6   studytime  292 non-null    float64\n",
      " 7   failures   292 non-null    float64\n",
      " 8   schoolsup  292 non-null    object \n",
      " 9   paid       292 non-null    object \n",
      " 10  higher     292 non-null    object \n",
      " 11  internet   292 non-null    object \n",
      " 12  absences   292 non-null    float64\n",
      " 13  score      292 non-null    float64\n",
      "dtypes: float64(5), int64(1), object(8)\n",
      "memory usage: 44.2+ KB\n"
     ]
    }
   ],
   "source": [
    "students.info()"
   ]
  },
  {
   "cell_type": "markdown",
   "metadata": {},
   "source": [
    "В итоге имеем датасет с 14 колонками."
   ]
  },
  {
   "cell_type": "markdown",
   "metadata": {},
   "source": [
    "## Выводы"
   ]
  },
  {
   "cell_type": "markdown",
   "metadata": {},
   "source": [
    "1) В данном датасете было достаточно много пустых значений. Некоторые строки с пустыми значениями были удалены, некоторые заменены на моду.\n",
    "\n",
    "2) Выбросы были замечены лишь только в столбце absences. Также были замечены некоторые ошибочные значения в датасете, которые были либо удалены, либо исправлены.\n",
    "\n",
    "3) Было замечено, что у более образованных родителей дети лучше сдают экзамен по математике. Также из анализа видно, что более молодые ученики сдают лучше экзамен. Возможно это связано с тем, что более взрослые студенты больше сталкиваютя с внеучебными неудачами. А это влияет на результат. Вызывает вопросы столбец о количестве пропущенных занятий. Возможно, он имеет недостоверные результаты.Замечено, что парни лучше сдают экзамен по математике, чем днвушки. Студенты, которые живут в городе также лучше сдают экзамен. И положитльно влияют на оценку дополнительные платные занятия по математике.\n",
    "\n",
    "4) Самые важные параметры, которые будем использовать в дальнейшем:"
   ]
  },
  {
   "cell_type": "code",
   "execution_count": 579,
   "metadata": {},
   "outputs": [
    {
     "name": "stdout",
     "output_type": "stream",
     "text": [
      "<class 'pandas.core.frame.DataFrame'>\n",
      "Int64Index: 292 entries, 0 to 394\n",
      "Data columns (total 14 columns):\n",
      " #   Column     Non-Null Count  Dtype  \n",
      "---  ------     --------------  -----  \n",
      " 0   sex        292 non-null    object \n",
      " 1   age        292 non-null    int64  \n",
      " 2   address    292 non-null    object \n",
      " 3   famsize    292 non-null    object \n",
      " 4   Medu       292 non-null    float64\n",
      " 5   Mjob       292 non-null    object \n",
      " 6   studytime  292 non-null    float64\n",
      " 7   failures   292 non-null    float64\n",
      " 8   schoolsup  292 non-null    object \n",
      " 9   paid       292 non-null    object \n",
      " 10  higher     292 non-null    object \n",
      " 11  internet   292 non-null    object \n",
      " 12  absences   292 non-null    float64\n",
      " 13  score      292 non-null    float64\n",
      "dtypes: float64(5), int64(1), object(8)\n",
      "memory usage: 44.2+ KB\n"
     ]
    }
   ],
   "source": [
    "students.info()"
   ]
  },
  {
   "cell_type": "code",
   "execution_count": null,
   "metadata": {},
   "outputs": [],
   "source": []
  }
 ],
 "metadata": {
  "kernelspec": {
   "display_name": "Python 3",
   "language": "python",
   "name": "python3"
  },
  "language_info": {
   "codemirror_mode": {
    "name": "ipython",
    "version": 3
   },
   "file_extension": ".py",
   "mimetype": "text/x-python",
   "name": "python",
   "nbconvert_exporter": "python",
   "pygments_lexer": "ipython3",
   "version": "3.7.6"
  }
 },
 "nbformat": 4,
 "nbformat_minor": 4
}
